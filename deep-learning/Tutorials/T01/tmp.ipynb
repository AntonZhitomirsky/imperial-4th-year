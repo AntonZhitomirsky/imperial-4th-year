{
 "cells": [
  {
   "cell_type": "code",
   "execution_count": 6,
   "metadata": {},
   "outputs": [
    {
     "name": "stdout",
     "output_type": "stream",
     "text": [
      "Convolution Output:\n",
      "tensor([[ 3.,  4.,  8.],\n",
      "        [-3.,  6.,  5.],\n",
      "        [ 0.,  2.,  2.]])\n"
     ]
    }
   ],
   "source": [
    "import torch\n",
    "import torch.nn.functional as F\n",
    "\n",
    "# Predefined input image\n",
    "input_image = torch.tensor([[1, 1, 2, 3, 2, 1, 1],\n",
    "                            [1, 2, 6, 6, 5, 2, 1],\n",
    "                            [1, 5, 6, 7, 7, 6, 2],\n",
    "                            [1, 5, 6, 6, 6, 4, 2],\n",
    "                            [1, 1, 4, 5, 4, 1, 1],\n",
    "                            [1, 1, 3, 4, 3, 1, 0],\n",
    "                            [0, 0, 1, 2, 1, 0, 1]], dtype=torch.float32)\n",
    "\n",
    "# Predefined kernel\n",
    "kernel = torch.tensor([[0, 1, 1],\n",
    "                       [1, -2, 0],\n",
    "                       [0, 1, 0]], dtype=torch.float32)\n",
    "\n",
    "# Convert input image and kernel to 4D tensors\n",
    "input_image = input_image.unsqueeze(0).unsqueeze(0)\n",
    "kernel = kernel.unsqueeze(0).unsqueeze(0)\n",
    "\n",
    "# Convolve input image with kernel\n",
    "# Correlation is what python does by default!\n",
    "output_image = F.conv2d(input_image, kernel, padding=0, stride=2)\n",
    "\n",
    "print(output_image.squeeze())\n"
   ]
  }
 ],
 "metadata": {
  "kernelspec": {
   "display_name": "Python 3 (ipykernel)",
   "language": "python",
   "name": "python3"
  }
 },
 "nbformat": 4,
 "nbformat_minor": 2
}
