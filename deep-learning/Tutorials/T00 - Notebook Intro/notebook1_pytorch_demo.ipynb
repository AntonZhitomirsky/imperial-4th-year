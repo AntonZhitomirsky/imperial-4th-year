{
  "cells": [
    {
      "cell_type": "markdown",
      "metadata": {
        "id": "Igb2TlfTOBn3"
      },
      "source": [
        "# Implementing and training a one hidden layer fully-connected network to classify MNIST digits using PyTorch.\n",
        "\n",
        "Video: https://imperial.cloud.panopto.eu/Panopto/Pages/Viewer.aspx?id=6cbf15bb-ff0e-450d-bc81-b079011c40ec"
      ]
    },
    {
      "cell_type": "markdown",
      "metadata": {
        "id": "2kiLr6UMOBn6"
      },
      "source": [
        "This notebook illustrates how we would iterate through the following workflow in PyTorch:\n",
        "* Defining a model\n",
        "* Fetching batches of training data\n",
        "* Obtaining model predictions\n",
        "* Computing the loss\n",
        "* Computing gradient of the loss wrt model parameters\n",
        "* Updating the model parameters using some gradient-based optimization method.\n",
        "\n",
        "Acknowledgments: based on official PyTorch tutorials."
      ]
    },
    {
      "cell_type": "code",
      "execution_count": 1,
      "metadata": {
        "id": "NQoMwXaDOBn8"
      },
      "outputs": [
        {
          "name": "stdout",
          "output_type": "stream",
          "text": [
            "Using GPU: True\n"
          ]
        }
      ],
      "source": [
        "import numpy as np\n",
        "import matplotlib.pyplot as plt\n",
        "\n",
        "import torch\n",
        "import torch.nn as nn\n",
        "import torch.nn.functional as F\n",
        "import torch.optim as optim\n",
        "from torch.utils.data import Dataset, DataLoader\n",
        "from torchvision import datasets, transforms\n",
        "\n",
        "# You should set a random seed to ensure that your results are reproducible.\n",
        "torch.manual_seed(0)\n",
        "use_cuda = torch.cuda.is_available()\n",
        "device = torch.device('cuda' if use_cuda else 'cpu')\n",
        "    \n",
        "print(\"Using GPU: {}\".format(use_cuda))"
      ]
    },
    {
      "cell_type": "markdown",
      "metadata": {
        "id": "SK29LbIJOBoD"
      },
      "source": [
        "### Defining a model\n",
        "\n",
        "It's usually a good idea to define your model as classes which inherit from `nn.Module`. The parameters of any submodules of the `torch.nn` module that you declare attributes of the class (e.g. `nn.Linear` below) will automatically be registered as parameters of your model, which will prove to be convenient when constructing an optimizer, as we shall see below."
      ]
    },
    {
      "cell_type": "code",
      "execution_count": 3,
      "metadata": {
        "id": "I-HrY-lyOBoF"
      },
      "outputs": [],
      "source": [
        "class OneHiddenLayerMNISTClassifier(nn.Module):\n",
        "    # Define entities containing model weights in the constructor.\n",
        "    def __init__(self, n_hidden):\n",
        "        super().__init__() # super-class constructor\n",
        "        # going from 784 to n_hidden features.\n",
        "        self.linear1 = nn.Linear(\n",
        "            in_features=784, out_features=n_hidden, bias=True\n",
        "        )\n",
        "        # going from n_hidden to 10 features\n",
        "        self.linear2 = nn.Linear(\n",
        "            in_features=n_hidden, out_features=10, bias=True\n",
        "        )\n",
        "\n",
        "    # Then, all you need to do is implement a `forward` method to define the\n",
        "    # computation that takes place on the forward pass. A corresponding\n",
        "    # `backward` method, which computes gradients, is automatically defined!\n",
        "    def forward(self, inputs):\n",
        "        h = self.linear1(inputs.view(-1, 784)) # says, leave the batch dimension alone, and collapse all the remaining dimensions into one of size 784. (comes from multiplying all 3 values together.) \n",
        "        h = F.relu(h)\n",
        "        h = self.linear2(h)\n",
        "        return F.log_softmax(h, dim=1)"
      ]
    },
    {
      "cell_type": "code",
      "execution_count": null,
      "metadata": {
        "id": "361GWOfQGCaB"
      },
      "outputs": [],
      "source": [
        "# (B, 1, 28, 28) -> (B, 784)\n",
        "# batch is the leading dimension."
      ]
    },
    {
      "cell_type": "markdown",
      "metadata": {
        "id": "RSNXYF4uOBoL"
      },
      "source": [
        "We'll also define some utility functions that perform a single iteration of training and evalution:"
      ]
    },
    {
      "cell_type": "code",
      "execution_count": 4,
      "metadata": {
        "id": "2RrgdRSWOBoM"
      },
      "outputs": [],
      "source": [
        "def train(model, train_loader, optimizer, epoch, log_interval=100):\n",
        "    \"\"\"\n",
        "    A utility function that performs a basic training loop.\n",
        "\n",
        "    For each batch in the training set, fetched using `train_loader`:\n",
        "        - Zeroes the gradient used by `optimizer`\n",
        "        - Performs forward pass through `model` on the given batch\n",
        "        - Computes loss on batch\n",
        "        - Performs backward pass\n",
        "        - `optimizer` updates model parameters using computed gradient\n",
        "\n",
        "    Prints the training loss on the current batch every `log_interval` batches.\n",
        "    \"\"\"\n",
        "    for batch_idx, (inputs, targets) in enumerate(train_loader):\n",
        "        # We need to send our batch to the device we are using. If this is not\n",
        "        # it will default to using the CPU.\n",
        "        inputs = inputs.to(device)\n",
        "        targets = targets.to(device)\n",
        "        \n",
        "        # Zeroes the gradient used by `optimizer`; NOTE: if this is not done,\n",
        "        # then gradients will be accumulated across batches!\n",
        "        optimizer.zero_grad()\n",
        "\n",
        "        # Performs forward pass through `model` on the given batch; equivalent\n",
        "        # to `model.forward(inputs)`. Any information needed to compute\n",
        "        # gradients is automatically thanks to autograd running under the hood.\n",
        "        outputs = model(inputs)\n",
        "\n",
        "        # Computes loss on batch; `F.nll_loss` computes the mean negative log-\n",
        "        # likelihood on the batch.\n",
        "        loss = F.nll_loss(outputs, targets)\n",
        "\n",
        "        # Performs backward pass; steps backward through the computation graph,\n",
        "        # computing the gradient of the loss wrt model parameters.\n",
        "        loss.backward()\n",
        "\n",
        "        # `optimizer` updates model parameters using computed gradient.\n",
        "        optimizer.step()\n",
        "\n",
        "        # Prints the training loss on the current batch every `log_interval`\n",
        "        # batches.\n",
        "        if batch_idx % log_interval == 0:\n",
        "            print(\n",
        "                \"Train Epoch: {:02d} -- Batch: {:03d} -- Loss: {:.4f}\".format(\n",
        "                    epoch,\n",
        "                    batch_idx,\n",
        "                    # Calling `loss.item()` returns the scalar loss as a Python\n",
        "                    # number.\n",
        "                    loss.item(),\n",
        "                )\n",
        "            )\n",
        "\n",
        "\n",
        "def test(model, test_loader):\n",
        "    \"\"\"\n",
        "    A utility function to compute the loss and accuracy on a test set by\n",
        "    iterating through the test set using the provided `test_loader` and\n",
        "    accumulating the loss and accuracy on each batch.\n",
        "    \"\"\"\n",
        "    test_loss = 0.0\n",
        "    correct = 0\n",
        "\n",
        "    # You should use the `torch.no_grad()` context when you want to perform a\n",
        "    # forward pass but do not need gradients. This effectively disables\n",
        "    # autograd and results in fewer resources being used to perform the forward\n",
        "    # pass (since information needed to compute gradients is not logged).\n",
        "    with torch.no_grad():\n",
        "        for inputs, targets in test_loader:\n",
        "            inputs = inputs.to(device)\n",
        "            targets = targets.to(device)\n",
        "            outputs = model(inputs)\n",
        "            # We use `reduction=\"sum\"` to aggregate losses across batches using\n",
        "            # summation instead of taking the mean - we will take the mean at\n",
        "            # the end once we have accumulated all the losses.\n",
        "            test_loss += F.nll_loss(outputs, targets, reduction=\"sum\").item()\n",
        "            pred = outputs.argmax(dim=1, keepdim=True)\n",
        "            correct += pred.eq(targets.view_as(pred)).sum().item()\n",
        "\n",
        "    test_loss /= len(test_loader.dataset)\n",
        "\n",
        "    print(\n",
        "        \"\\nTest set: Average loss: {:.4f}, Accuracy: {:.4f}\\n\".format(\n",
        "            test_loss, correct / len(test_loader.dataset)\n",
        "        )\n",
        "    )"
      ]
    },
    {
      "cell_type": "markdown",
      "metadata": {
        "id": "D3RAlOr4OBoR"
      },
      "source": [
        "### Fetching data\n",
        "\n",
        "* https://pytorch.org/docs/stable/data.html\n",
        "* https://pytorch.org/tutorials/beginner/data_loading_tutorial.html"
      ]
    },
    {
      "cell_type": "code",
      "execution_count": 5,
      "metadata": {
        "id": "1oyUl62SOBoT"
      },
      "outputs": [
        {
          "name": "stderr",
          "output_type": "stream",
          "text": [
            "1.0%"
          ]
        },
        {
          "name": "stdout",
          "output_type": "stream",
          "text": [
            "Downloading http://yann.lecun.com/exdb/mnist/train-images-idx3-ubyte.gz\n",
            "Downloading http://yann.lecun.com/exdb/mnist/train-images-idx3-ubyte.gz to data/MNIST/raw/train-images-idx3-ubyte.gz\n"
          ]
        },
        {
          "name": "stderr",
          "output_type": "stream",
          "text": [
            "100.0%\n"
          ]
        },
        {
          "name": "stdout",
          "output_type": "stream",
          "text": [
            "Extracting data/MNIST/raw/train-images-idx3-ubyte.gz to data/MNIST/raw\n"
          ]
        },
        {
          "name": "stderr",
          "output_type": "stream",
          "text": [
            "100.0%"
          ]
        },
        {
          "name": "stdout",
          "output_type": "stream",
          "text": [
            "\n",
            "Downloading http://yann.lecun.com/exdb/mnist/train-labels-idx1-ubyte.gz\n",
            "Downloading http://yann.lecun.com/exdb/mnist/train-labels-idx1-ubyte.gz to data/MNIST/raw/train-labels-idx1-ubyte.gz\n",
            "Extracting data/MNIST/raw/train-labels-idx1-ubyte.gz to data/MNIST/raw\n",
            "\n",
            "Downloading http://yann.lecun.com/exdb/mnist/t10k-images-idx3-ubyte.gz\n"
          ]
        },
        {
          "name": "stderr",
          "output_type": "stream",
          "text": [
            "\n",
            "73.5%"
          ]
        },
        {
          "name": "stdout",
          "output_type": "stream",
          "text": [
            "Downloading http://yann.lecun.com/exdb/mnist/t10k-images-idx3-ubyte.gz to data/MNIST/raw/t10k-images-idx3-ubyte.gz\n"
          ]
        },
        {
          "name": "stderr",
          "output_type": "stream",
          "text": [
            "100.0%\n"
          ]
        },
        {
          "name": "stdout",
          "output_type": "stream",
          "text": [
            "Extracting data/MNIST/raw/t10k-images-idx3-ubyte.gz to data/MNIST/raw\n",
            "\n",
            "Downloading http://yann.lecun.com/exdb/mnist/t10k-labels-idx1-ubyte.gz\n"
          ]
        },
        {
          "name": "stderr",
          "output_type": "stream",
          "text": [
            "100.0%"
          ]
        },
        {
          "name": "stdout",
          "output_type": "stream",
          "text": [
            "Downloading http://yann.lecun.com/exdb/mnist/t10k-labels-idx1-ubyte.gz to data/MNIST/raw/t10k-labels-idx1-ubyte.gz\n",
            "Extracting data/MNIST/raw/t10k-labels-idx1-ubyte.gz to data/MNIST/raw\n",
            "\n",
            "5\n"
          ]
        },
        {
          "name": "stderr",
          "output_type": "stream",
          "text": [
            "\n"
          ]
        },
        {
          "name": "stdout",
          "output_type": "stream",
          "text": [
            "torch.Size([1, 28, 28])\n"
          ]
        },
        {
          "data": {
            "image/png": "[encoded data removed]",
            "text/plain": [
              "<Figure size 640x480 with 1 Axes>"
            ]
          },
          "metadata": {},
          "output_type": "display_data"
        }
      ],
      "source": [
        "transform = transforms.Compose(\n",
        "    [transforms.ToTensor(), transforms.Normalize((0.1307,), (0.3081,))]\n",
        ")\n",
        "\n",
        "train_dat = datasets.MNIST(\n",
        "    \"data/\", train=True, download=True, transform=transform\n",
        ")\n",
        "test_dat = datasets.MNIST(\"data/\", train=False, transform=transform)\n",
        "\n",
        "sample_image, sample_target = train_dat[0]\n",
        "\n",
        "print(sample_target)\n",
        "plt.imshow(sample_image.squeeze(), cmap='gray')\n",
        "\n",
        "print(sample_image.shape)"
      ]
    },
    {
      "cell_type": "markdown",
      "metadata": {},
      "source": [
        "Data loader. \n",
        "- Combines a dataset and a sampler, and provides an iterable over the given dataset.\n",
        "- Remember to shuffle for training dataset"
      ]
    },
    {
      "cell_type": "code",
      "execution_count": 6,
      "metadata": {
        "id": "rFFQ-iUeOBoX"
      },
      "outputs": [
        {
          "name": "stdout",
          "output_type": "stream",
          "text": [
            "torch.Size([64, 1, 28, 28]) torch.Size([64]) \n",
            "\n",
            "tensor([[[[-0.4242, -0.4242, -0.4242,  ..., -0.4242, -0.4242, -0.4242],\n",
            "          [-0.4242, -0.4242, -0.4242,  ..., -0.4242, -0.4242, -0.4242],\n",
            "          [-0.4242, -0.4242, -0.4242,  ..., -0.4242, -0.4242, -0.4242],\n",
            "          ...,\n",
            "          [-0.4242, -0.4242, -0.4242,  ..., -0.4242, -0.4242, -0.4242],\n",
            "          [-0.4242, -0.4242, -0.4242,  ..., -0.4242, -0.4242, -0.4242],\n",
            "          [-0.4242, -0.4242, -0.4242,  ..., -0.4242, -0.4242, -0.4242]]],\n",
            "\n",
            "\n",
            "        [[[-0.4242, -0.4242, -0.4242,  ..., -0.4242, -0.4242, -0.4242],\n",
            "          [-0.4242, -0.4242, -0.4242,  ..., -0.4242, -0.4242, -0.4242],\n",
            "          [-0.4242, -0.4242, -0.4242,  ..., -0.4242, -0.4242, -0.4242],\n",
            "          ...,\n",
            "          [-0.4242, -0.4242, -0.4242,  ..., -0.4242, -0.4242, -0.4242],\n",
            "          [-0.4242, -0.4242, -0.4242,  ..., -0.4242, -0.4242, -0.4242],\n",
            "          [-0.4242, -0.4242, -0.4242,  ..., -0.4242, -0.4242, -0.4242]]],\n",
            "\n",
            "\n",
            "        [[[-0.4242, -0.4242, -0.4242,  ..., -0.4242, -0.4242, -0.4242],\n",
            "          [-0.4242, -0.4242, -0.4242,  ..., -0.4242, -0.4242, -0.4242],\n",
            "          [-0.4242, -0.4242, -0.4242,  ..., -0.4242, -0.4242, -0.4242],\n",
            "          ...,\n",
            "          [-0.4242, -0.4242, -0.4242,  ..., -0.4242, -0.4242, -0.4242],\n",
            "          [-0.4242, -0.4242, -0.4242,  ..., -0.4242, -0.4242, -0.4242],\n",
            "          [-0.4242, -0.4242, -0.4242,  ..., -0.4242, -0.4242, -0.4242]]],\n",
            "\n",
            "\n",
            "        ...,\n",
            "\n",
            "\n",
            "        [[[-0.4242, -0.4242, -0.4242,  ..., -0.4242, -0.4242, -0.4242],\n",
            "          [-0.4242, -0.4242, -0.4242,  ..., -0.4242, -0.4242, -0.4242],\n",
            "          [-0.4242, -0.4242, -0.4242,  ..., -0.4242, -0.4242, -0.4242],\n",
            "          ...,\n",
            "          [-0.4242, -0.4242, -0.4242,  ..., -0.4242, -0.4242, -0.4242],\n",
            "          [-0.4242, -0.4242, -0.4242,  ..., -0.4242, -0.4242, -0.4242],\n",
            "          [-0.4242, -0.4242, -0.4242,  ..., -0.4242, -0.4242, -0.4242]]],\n",
            "\n",
            "\n",
            "        [[[-0.4242, -0.4242, -0.4242,  ..., -0.4242, -0.4242, -0.4242],\n",
            "          [-0.4242, -0.4242, -0.4242,  ..., -0.4242, -0.4242, -0.4242],\n",
            "          [-0.4242, -0.4242, -0.4242,  ..., -0.4242, -0.4242, -0.4242],\n",
            "          ...,\n",
            "          [-0.4242, -0.4242, -0.4242,  ..., -0.4242, -0.4242, -0.4242],\n",
            "          [-0.4242, -0.4242, -0.4242,  ..., -0.4242, -0.4242, -0.4242],\n",
            "          [-0.4242, -0.4242, -0.4242,  ..., -0.4242, -0.4242, -0.4242]]],\n",
            "\n",
            "\n",
            "        [[[-0.4242, -0.4242, -0.4242,  ..., -0.4242, -0.4242, -0.4242],\n",
            "          [-0.4242, -0.4242, -0.4242,  ..., -0.4242, -0.4242, -0.4242],\n",
            "          [-0.4242, -0.4242, -0.4242,  ..., -0.4242, -0.4242, -0.4242],\n",
            "          ...,\n",
            "          [-0.4242, -0.4242, -0.4242,  ..., -0.4242, -0.4242, -0.4242],\n",
            "          [-0.4242, -0.4242, -0.4242,  ..., -0.4242, -0.4242, -0.4242],\n",
            "          [-0.4242, -0.4242, -0.4242,  ..., -0.4242, -0.4242, -0.4242]]]])\n",
            "tensor([6, 8, 8, 7, 8, 0, 0, 5, 6, 0, 0, 3, 5, 8, 1, 6, 2, 4, 1, 4, 9, 4, 3, 4,\n",
            "        1, 4, 8, 7, 6, 3, 1, 8, 4, 4, 6, 2, 4, 2, 9, 5, 7, 8, 0, 7, 5, 5, 9, 3,\n",
            "        6, 6, 4, 6, 7, 8, 3, 6, 2, 2, 7, 7, 2, 4, 4, 9])\n"
          ]
        }
      ],
      "source": [
        "# Create dataloaders\n",
        "train_loader = DataLoader(train_dat, batch_size=64, shuffle=True)\n",
        "test_loader = DataLoader(test_dat, batch_size=1024, shuffle=False)\n",
        "\n",
        "it = iter(train_loader)\n",
        "sample_inputs, sample_targets = next(it)\n",
        "\n",
        "print(sample_inputs.shape, sample_targets.shape, '\\n')\n",
        "print(sample_inputs)\n",
        "print(sample_targets)"
      ]
    },
    {
      "cell_type": "markdown",
      "metadata": {
        "id": "UQSpdPWsOBoa"
      },
      "source": [
        "### Running the training loop"
      ]
    },
    {
      "cell_type": "code",
      "execution_count": 9,
      "metadata": {
        "id": "Kz-c759yOBoc"
      },
      "outputs": [
        {
          "name": "stdout",
          "output_type": "stream",
          "text": [
            "Train Epoch: 00 -- Batch: 000 -- Loss: 2.3424\n",
            "Train Epoch: 00 -- Batch: 100 -- Loss: 0.6192\n",
            "Train Epoch: 00 -- Batch: 200 -- Loss: 0.3809\n",
            "Train Epoch: 00 -- Batch: 300 -- Loss: 0.3105\n",
            "Train Epoch: 00 -- Batch: 400 -- Loss: 0.3055\n",
            "Train Epoch: 00 -- Batch: 500 -- Loss: 0.5533\n",
            "Train Epoch: 00 -- Batch: 600 -- Loss: 0.1809\n",
            "Train Epoch: 00 -- Batch: 700 -- Loss: 0.6401\n",
            "Train Epoch: 00 -- Batch: 800 -- Loss: 0.2589\n",
            "Train Epoch: 00 -- Batch: 900 -- Loss: 0.1650\n",
            "\n",
            "Test set: Average loss: 0.2996, Accuracy: 0.9132\n",
            "\n",
            "Train Epoch: 01 -- Batch: 000 -- Loss: 0.1318\n",
            "Train Epoch: 01 -- Batch: 100 -- Loss: 0.3415\n",
            "Train Epoch: 01 -- Batch: 200 -- Loss: 0.2406\n",
            "Train Epoch: 01 -- Batch: 300 -- Loss: 0.2065\n",
            "Train Epoch: 01 -- Batch: 400 -- Loss: 0.1071\n",
            "Train Epoch: 01 -- Batch: 500 -- Loss: 0.2596\n",
            "Train Epoch: 01 -- Batch: 600 -- Loss: 0.2664\n",
            "Train Epoch: 01 -- Batch: 700 -- Loss: 0.2449\n",
            "Train Epoch: 01 -- Batch: 800 -- Loss: 0.1861\n",
            "Train Epoch: 01 -- Batch: 900 -- Loss: 0.1772\n",
            "\n",
            "Test set: Average loss: 0.2318, Accuracy: 0.9333\n",
            "\n",
            "Train Epoch: 02 -- Batch: 000 -- Loss: 0.1607\n",
            "Train Epoch: 02 -- Batch: 100 -- Loss: 0.2540\n",
            "Train Epoch: 02 -- Batch: 200 -- Loss: 0.2589\n",
            "Train Epoch: 02 -- Batch: 300 -- Loss: 0.2289\n",
            "Train Epoch: 02 -- Batch: 400 -- Loss: 0.2961\n",
            "Train Epoch: 02 -- Batch: 500 -- Loss: 0.1586\n",
            "Train Epoch: 02 -- Batch: 600 -- Loss: 0.3420\n",
            "Train Epoch: 02 -- Batch: 700 -- Loss: 0.1172\n",
            "Train Epoch: 02 -- Batch: 800 -- Loss: 0.1657\n",
            "Train Epoch: 02 -- Batch: 900 -- Loss: 0.4434\n",
            "\n",
            "Test set: Average loss: 0.2027, Accuracy: 0.9415\n",
            "\n"
          ]
        }
      ],
      "source": [
        "# Create instance of model; we also need to call `.to(device)` to\n",
        "# indicate the device we would like to use. This defaults to CPU if\n",
        "# not specified.\n",
        "model = OneHiddenLayerMNISTClassifier(n_hidden=32).to(device)\n",
        "\n",
        "# Create instance of optimizer\n",
        "optimizer = optim.SGD(model.parameters(), lr=0.01, momentum=0.5)\n",
        "\n",
        "# Train-test loop\n",
        "for epoch in range(3):\n",
        "    train(model, train_loader, optimizer, epoch)\n",
        "    test(model, test_loader)"
      ]
    },
    {
      "cell_type": "markdown",
      "metadata": {
        "id": "CRKB7H3LOBoh"
      },
      "source": [
        "### Saving and loading model weights"
      ]
    },
    {
      "cell_type": "code",
      "execution_count": 8,
      "metadata": {
        "id": "o85pY_3ZOBoi"
      },
      "outputs": [
        {
          "data": {
            "text/plain": [
              "<All keys matched successfully>"
            ]
          },
          "execution_count": 8,
          "metadata": {},
          "output_type": "execute_result"
        }
      ],
      "source": [
        "# Saving / restoring model weights\n",
        "torch.save(model.state_dict(), \"mnist_fc_model.pt\")\n",
        "model.load_state_dict(torch.load(\"mnist_fc_model.pt\"))"
      ]
    }
  ],
  "metadata": {
    "accelerator": "GPU",
    "colab": {
      "collapsed_sections": [],
      "name": "notebook1_pytorch_demo.ipynb",
      "provenance": []
    },
    "kernelspec": {
      "display_name": "Python 3",
      "name": "python3"
    },
    "language_info": {
      "codemirror_mode": {
        "name": "ipython",
        "version": 3
      },
      "file_extension": ".py",
      "mimetype": "text/x-python",
      "name": "python",
      "nbconvert_exporter": "python",
      "pygments_lexer": "ipython3",
      "version": "3.10.12"
    }
  },
  "nbformat": 4,
  "nbformat_minor": 0
}
