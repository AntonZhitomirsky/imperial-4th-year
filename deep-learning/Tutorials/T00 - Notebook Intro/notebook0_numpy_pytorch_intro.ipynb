{
  "cells": [
    {
      "cell_type": "markdown",
      "metadata": {
        "id": "47vQbATHNoPV"
      },
      "source": [
        "# Introduction to NumPy and PyTorch\n",
        "\n",
        "Video: https://imperial.cloud.panopto.eu/Panopto/Pages/Viewer.aspx?id=61ec89fb-6db3-494d-bbd3-b079011c4109"
      ]
    },
    {
      "cell_type": "markdown",
      "metadata": {
        "id": "0ezJ5PikNoPY"
      },
      "source": [
        "Numpy is a widely used Python library for scientific computing with\n",
        "multidimensional arrays."
      ]
    },
    {
      "cell_type": "markdown",
      "metadata": {},
      "source": []
    },
    {
      "cell_type": "markdown",
      "metadata": {
        "id": "HFavUXRENoPb"
      },
      "source": [
        "PyTorch is a popular library used for Deep Learning research and applications. It is similar to numpy in that it is built around the manipulation of multidimensional arrays, but with a few additional features:\n",
        "* GPU support\n",
        "* Automatic differentiation\n",
        "* Other utilities to facilitate building and training neural network"
      ]
    },
    {
      "cell_type": "markdown",
      "metadata": {
        "id": "blojpu_0NoPc"
      },
      "source": [
        "This notebook contains examples some of the essential features of NumPy and PyTorch. Examples from each framework will be presented side-by-side to highlight the similarities (and occasional differences) between their APIs.\n",
        "\n",
        "In particular, we will first explore some of the core operations involving the central data structures in each library, the NumPy `ndarray` and the PyTorch `Tensor`.\n",
        "\n",
        "Finally, we will look at the basics of automatic differentiation in PyTorch.\n",
        "\n",
        "The official documentation is a good place to learn more:\n",
        "* https://docs.scipy.org/doc/numpy/user/index.html\n",
        "* https://pytorch.org/docs/stable/index.html\n",
        "* https://pytorch.org/tutorials/"
      ]
    },
    {
      "cell_type": "markdown",
      "metadata": {
        "id": "_1T-SkUvNoPe"
      },
      "source": [
        "To start, it is typically a good idea to set a random seed to facilitate reproducibility of experiments. So we first import our libraries and set the random seed in both:"
      ]
    },
    {
      "cell_type": "code",
      "execution_count": 6,
      "metadata": {
        "id": "Bh3MLTaUNoPn"
      },
      "outputs": [
        {
          "data": {
            "text/plain": [
              "(True, device(type='cuda'))"
            ]
          },
          "execution_count": 6,
          "metadata": {},
          "output_type": "execute_result"
        }
      ],
      "source": [
        "import numpy as np\n",
        "import torch as torch\n",
        "\n",
        "np.random.seed(0)\n",
        "torch.manual_seed(0)\n",
        "\n",
        "use_cuda = torch.cuda.is_available()\n",
        "device = torch.device('cuda' if use_cuda else 'cpu')\n",
        "use_cuda, device"
      ]
    },
    {
      "cell_type": "markdown",
      "metadata": {
        "id": "iZGaGFi9NoPy"
      },
      "source": [
        "### Creating arrays\n",
        "\n",
        "We can create arrays from lists of values, or alternatively use a number of helper functions to create specific types of arrays. In the latter case, we typically pass in the desired size of the array as the first argument (see examples below - should be fairly self-explanatory)."
      ]
    },
    {
      "cell_type": "markdown",
      "metadata": {
        "id": "PIzWnQJ6NoP1"
      },
      "source": [
        "##### From list"
      ]
    },
    {
      "cell_type": "code",
      "execution_count": 3,
      "metadata": {
        "id": "vjHpp9CCNoP2"
      },
      "outputs": [
        {
          "data": {
            "text/plain": [
              "array([1, 2, 3])"
            ]
          },
          "execution_count": 3,
          "metadata": {},
          "output_type": "execute_result"
        }
      ],
      "source": [
        "a = np.array([1, 2, 3]) # in numpy\n",
        "a"
      ]
    },
    {
      "cell_type": "code",
      "execution_count": 7,
      "metadata": {
        "id": "e-N2svCDNoP6"
      },
      "outputs": [
        {
          "data": {
            "text/plain": [
              "tensor([1., 2., 3.])"
            ]
          },
          "execution_count": 7,
          "metadata": {},
          "output_type": "execute_result"
        }
      ],
      "source": [
        "a_ = torch.Tensor([1, 2, 3]) # in pytorch equivalently\n",
        "a_"
      ]
    },
    {
      "cell_type": "code",
      "execution_count": 8,
      "metadata": {
        "id": "4wcdIWbTNoP-"
      },
      "outputs": [
        {
          "data": {
            "text/plain": [
              "tensor([1, 2, 3])"
            ]
          },
          "execution_count": 8,
          "metadata": {},
          "output_type": "execute_result"
        }
      ],
      "source": [
        "a_long = torch.LongTensor([1, 2, 3]) # explicitly construct an integer array\n",
        "a_long"
      ]
    },
    {
      "cell_type": "markdown",
      "metadata": {
        "id": "N7meswjYNoQC"
      },
      "source": [
        "#### Empty array"
      ]
    },
    {
      "cell_type": "code",
      "execution_count": 11,
      "metadata": {
        "id": "O6Mn791GNoQD"
      },
      "outputs": [
        {
          "data": {
            "text/plain": [
              "array([[4.66006948e-310, 0.00000000e+000],\n",
              "       [2.84809454e-306, 4.66108410e-310],\n",
              "       [5.30498948e-315, 6.91097160e-310]])"
            ]
          },
          "execution_count": 11,
          "metadata": {},
          "output_type": "execute_result"
        }
      ],
      "source": [
        "b = np.empty((3, 2)) # 3 x 2 array\n",
        "b"
      ]
    },
    {
      "cell_type": "code",
      "execution_count": 13,
      "metadata": {
        "id": "IPI-PHzcNoQH"
      },
      "outputs": [
        {
          "data": {
            "text/plain": [
              "tensor([[-1.0101e-25,  3.0780e-41],\n",
              "        [-9.6388e-26,  3.0780e-41],\n",
              "        [ 0.0000e+00,  0.0000e+00]])"
            ]
          },
          "execution_count": 13,
          "metadata": {},
          "output_type": "execute_result"
        }
      ],
      "source": [
        "b_ = torch.empty((3, 2))\n",
        "b_"
      ]
    },
    {
      "cell_type": "markdown",
      "metadata": {
        "id": "cv3E-G1kNoQL"
      },
      "source": [
        "#### Zeroes"
      ]
    },
    {
      "cell_type": "code",
      "execution_count": 14,
      "metadata": {
        "id": "ZoJiTYheNoQM"
      },
      "outputs": [
        {
          "data": {
            "text/plain": [
              "array([[0., 0., 0.],\n",
              "       [0., 0., 0.]])"
            ]
          },
          "execution_count": 14,
          "metadata": {},
          "output_type": "execute_result"
        }
      ],
      "source": [
        "c = np.zeros((2, 3))\n",
        "c"
      ]
    },
    {
      "cell_type": "code",
      "execution_count": 15,
      "metadata": {
        "id": "7jDofBcuNoQQ"
      },
      "outputs": [
        {
          "data": {
            "text/plain": [
              "tensor([[0., 0., 0.],\n",
              "        [0., 0., 0.]])"
            ]
          },
          "execution_count": 15,
          "metadata": {},
          "output_type": "execute_result"
        }
      ],
      "source": [
        "c_ = torch.zeros((2, 3))\n",
        "c_"
      ]
    },
    {
      "cell_type": "markdown",
      "metadata": {
        "id": "p3HcanX9NoQT"
      },
      "source": [
        "#### Ones"
      ]
    },
    {
      "cell_type": "code",
      "execution_count": 16,
      "metadata": {
        "id": "4-w7RhWFNoQU"
      },
      "outputs": [
        {
          "data": {
            "text/plain": [
              "array([1., 1., 1.])"
            ]
          },
          "execution_count": 16,
          "metadata": {},
          "output_type": "execute_result"
        }
      ],
      "source": [
        "d = np.ones(3)\n",
        "d"
      ]
    },
    {
      "cell_type": "code",
      "execution_count": 17,
      "metadata": {
        "id": "_ksEHq8yNoQY"
      },
      "outputs": [
        {
          "data": {
            "text/plain": [
              "tensor([1., 1., 1.])"
            ]
          },
          "execution_count": 17,
          "metadata": {},
          "output_type": "execute_result"
        }
      ],
      "source": [
        "d_ = torch.ones(3)\n",
        "d_"
      ]
    },
    {
      "cell_type": "markdown",
      "metadata": {
        "id": "rgGOtkJINoQc"
      },
      "source": [
        "#### Samples from Uniform[0, 1]"
      ]
    },
    {
      "cell_type": "code",
      "execution_count": 18,
      "metadata": {
        "id": "eQMUG3mQNoQe"
      },
      "outputs": [
        {
          "data": {
            "text/plain": [
              "array([[0.5488135 , 0.71518937, 0.60276338],\n",
              "       [0.54488318, 0.4236548 , 0.64589411]])"
            ]
          },
          "execution_count": 18,
          "metadata": {},
          "output_type": "execute_result"
        }
      ],
      "source": [
        "e = np.random.random((2, 3))\n",
        "e"
      ]
    },
    {
      "cell_type": "code",
      "execution_count": 19,
      "metadata": {
        "id": "twRYL6Y-NoQg"
      },
      "outputs": [
        {
          "data": {
            "text/plain": [
              "tensor([[0.4963, 0.7682, 0.0885],\n",
              "        [0.1320, 0.3074, 0.6341]])"
            ]
          },
          "execution_count": 19,
          "metadata": {},
          "output_type": "execute_result"
        }
      ],
      "source": [
        "e_ = torch.rand((2, 3))\n",
        "e_"
      ]
    },
    {
      "cell_type": "markdown",
      "metadata": {
        "id": "IT6tqpBdNoQk"
      },
      "source": [
        "### Basic properties of arrays"
      ]
    },
    {
      "cell_type": "markdown",
      "metadata": {
        "id": "hp91uxDGNoQl"
      },
      "source": [
        "#### Shape\n",
        "\n",
        "Shape: https://numpy.org/doc/stable/reference/generated/numpy.ndarray.shape.html\n",
        "\n",
        "shape seems to be in vector-wise notation, so we begin with a vector, i.e. we go up to down to index it. This has a shape of (n,) because it is so far a 1-dimensional array. Once we add a second dimension, like (n,1) the array may look the same but it is constructed differently, e.g. `[1,2,3].shape => (3,)` but `[[1,2,3]].shape => (3,)` "
      ]
    },
    {
      "cell_type": "code",
      "execution_count": 20,
      "metadata": {
        "id": "v-fp0J2cNoQm"
      },
      "outputs": [
        {
          "name": "stdout",
          "output_type": "stream",
          "text": [
            "[[4.66006948e-310 0.00000000e+000]\n",
            " [2.84809454e-306 4.66108410e-310]\n",
            " [5.30498948e-315 6.91097160e-310]]\n"
          ]
        },
        {
          "data": {
            "text/plain": [
              "(3, 2)"
            ]
          },
          "execution_count": 20,
          "metadata": {},
          "output_type": "execute_result"
        }
      ],
      "source": [
        "print(b)\n",
        "b.shape"
      ]
    },
    {
      "cell_type": "code",
      "execution_count": 21,
      "metadata": {
        "id": "h-DbxHgPNoQq"
      },
      "outputs": [
        {
          "name": "stdout",
          "output_type": "stream",
          "text": [
            "tensor([[-1.0101e-25,  3.0780e-41],\n",
            "        [-9.6388e-26,  3.0780e-41],\n",
            "        [ 0.0000e+00,  0.0000e+00]])\n"
          ]
        },
        {
          "data": {
            "text/plain": [
              "torch.Size([3, 2])"
            ]
          },
          "execution_count": 21,
          "metadata": {},
          "output_type": "execute_result"
        }
      ],
      "source": [
        "print(b_)\n",
        "b_.shape"
      ]
    },
    {
      "cell_type": "markdown",
      "metadata": {
        "id": "OyL9SyUeNoQs"
      },
      "source": [
        "#### dtype\n",
        "\n",
        "What data-type it is"
      ]
    },
    {
      "cell_type": "code",
      "execution_count": 22,
      "metadata": {
        "id": "M5rufy7BNoQt"
      },
      "outputs": [
        {
          "name": "stdout",
          "output_type": "stream",
          "text": [
            "int64\n",
            "float64\n"
          ]
        }
      ],
      "source": [
        "print(a.dtype)\n",
        "print(e.dtype)"
      ]
    },
    {
      "cell_type": "code",
      "execution_count": 24,
      "metadata": {
        "id": "ThpXztgTNoQw"
      },
      "outputs": [
        {
          "name": "stdout",
          "output_type": "stream",
          "text": [
            "torch.float32\n",
            "torch.int64\n",
            "torch.float32\n"
          ]
        }
      ],
      "source": [
        "print(a_.dtype)\n",
        "print(a_long.dtype)\n",
        "print(e_.dtype)"
      ]
    },
    {
      "cell_type": "markdown",
      "metadata": {
        "id": "TGDVMwWPNoQz"
      },
      "source": [
        "### Indexing"
      ]
    },
    {
      "cell_type": "markdown",
      "metadata": {
        "id": "KbaYOCL_NoQ0"
      },
      "source": [
        "#### Integer indexing"
      ]
    },
    {
      "cell_type": "code",
      "execution_count": 27,
      "metadata": {
        "id": "VXrvNwFBNoQ1"
      },
      "outputs": [
        {
          "name": "stdout",
          "output_type": "stream",
          "text": [
            "[[4.66006948e-310 0.00000000e+000]\n",
            " [2.84809454e-306 4.66108410e-310]\n",
            " [5.30498948e-315 6.91097160e-310]]\n",
            "---\n",
            "[4.66006948e-310 0.00000000e+000]\n",
            "---\n",
            "4.6600694849782e-310\n"
          ]
        }
      ],
      "source": [
        "print(b)\n",
        "print('---')\n",
        "print(b[0])\n",
        "print('---')\n",
        "print(b[0, 0])"
      ]
    },
    {
      "cell_type": "code",
      "execution_count": 28,
      "metadata": {
        "id": "LBJ4dAtPNoQ4"
      },
      "outputs": [
        {
          "name": "stdout",
          "output_type": "stream",
          "text": [
            "tensor([[-1.0101e-25,  3.0780e-41],\n",
            "        [-9.6388e-26,  3.0780e-41],\n",
            "        [ 0.0000e+00,  0.0000e+00]])\n",
            "---\n",
            "tensor([-1.0101e-25,  3.0780e-41])\n",
            "---\n",
            "tensor([-9.6388e-26,  3.0780e-41])\n",
            "---\n",
            "tensor(-1.0101e-25)\n"
          ]
        }
      ],
      "source": [
        "print(b_)\n",
        "print('---')\n",
        "print(b_[0])\n",
        "print('---')\n",
        "print(b_[1])\n",
        "print('---')\n",
        "print(b_[0, 0])"
      ]
    },
    {
      "cell_type": "markdown",
      "metadata": {
        "id": "3RMLqrgQNoQ6"
      },
      "source": [
        "#### Slicing"
      ]
    },
    {
      "cell_type": "code",
      "execution_count": 29,
      "metadata": {
        "id": "L_hJb1qvNoQ6"
      },
      "outputs": [
        {
          "name": "stdout",
          "output_type": "stream",
          "text": [
            "[[4.66006948e-310 0.00000000e+000]\n",
            " [2.84809454e-306 4.66108410e-310]\n",
            " [5.30498948e-315 6.91097160e-310]]\n",
            "\n",
            "[[4.66006948e-310 0.00000000e+000]\n",
            " [2.84809454e-306 4.66108410e-310]]\n",
            "[[5.30498948e-315 6.91097160e-310]]\n",
            "[[2.84809454e-306 4.66108410e-310]\n",
            " [5.30498948e-315 6.91097160e-310]]\n",
            "[[4.66006948e-310]\n",
            " [2.84809454e-306]\n",
            " [5.30498948e-315]]\n",
            "[[4.66006948e-310 0.00000000e+000]\n",
            " [2.84809454e-306 4.66108410e-310]]\n"
          ]
        }
      ],
      "source": [
        "print(b)\n",
        "print()\n",
        "print(b[:2])\n",
        "print(b[2:])\n",
        "print(b[1:3])\n",
        "print(b[:, :1]) # give me all elements along the first axis, give me all elements up to but not including index 1, i.e. all items of the first column.\n",
        "print(b[:2, :2])"
      ]
    },
    {
      "cell_type": "code",
      "execution_count": 30,
      "metadata": {
        "id": "qIRo5w2RNoQ-"
      },
      "outputs": [
        {
          "name": "stdout",
          "output_type": "stream",
          "text": [
            "tensor([[-1.0101e-25,  3.0780e-41],\n",
            "        [-9.6388e-26,  3.0780e-41]])\n",
            "tensor([[-9.6388e-26,  3.0780e-41],\n",
            "        [ 0.0000e+00,  0.0000e+00]])\n",
            "tensor([[-1.0101e-25],\n",
            "        [-9.6388e-26],\n",
            "        [ 0.0000e+00]])\n",
            "tensor([[-1.0101e-25,  3.0780e-41],\n",
            "        [-9.6388e-26,  3.0780e-41]])\n"
          ]
        }
      ],
      "source": [
        "print(b_[:2])\n",
        "print(b_[1:3])\n",
        "print(b_[:, :1])\n",
        "print(b_[:2, :2])"
      ]
    },
    {
      "cell_type": "markdown",
      "metadata": {
        "id": "aGUeZ09kNoRD"
      },
      "source": [
        "#### Boolean indexing"
      ]
    },
    {
      "cell_type": "code",
      "execution_count": 31,
      "metadata": {
        "id": "CpTnLRo1NoRE"
      },
      "outputs": [
        {
          "name": "stdout",
          "output_type": "stream",
          "text": [
            "[1 2 3]\n",
            "\n",
            "[False  True  True]\n",
            "[2 3]\n"
          ]
        }
      ],
      "source": [
        "print(a)\n",
        "print()\n",
        "idx = a >= 2\n",
        "print(idx)\n",
        "print(a[idx])"
      ]
    },
    {
      "cell_type": "code",
      "execution_count": 32,
      "metadata": {
        "id": "9kIPJMvsNoRJ"
      },
      "outputs": [
        {
          "name": "stdout",
          "output_type": "stream",
          "text": [
            "tensor([False,  True,  True])\n",
            "tensor([2., 3.])\n"
          ]
        }
      ],
      "source": [
        "idx_ = a_ >= 2\n",
        "print(idx_)\n",
        "print(a_[idx_])"
      ]
    },
    {
      "cell_type": "markdown",
      "metadata": {
        "id": "QJjEmTraNoRM"
      },
      "source": [
        "### Mathematical operations"
      ]
    },
    {
      "cell_type": "markdown",
      "metadata": {
        "id": "TWVS8OFJNoRM"
      },
      "source": [
        "#### Sum"
      ]
    },
    {
      "cell_type": "code",
      "execution_count": 33,
      "metadata": {
        "id": "O1O85R6zNoRO"
      },
      "outputs": [
        {
          "name": "stdout",
          "output_type": "stream",
          "text": [
            "[[0.5488135  0.71518937 0.60276338]\n",
            " [0.54488318 0.4236548  0.64589411]]\n",
            "\n",
            "3.481198341773846\n",
            "3.481198341773846\n",
            "[1.09369669 1.13884417 1.24865749]\n",
            "[1.86676625 1.6144321 ]\n"
          ]
        }
      ],
      "source": [
        "print(e)\n",
        "print()\n",
        "print(e.sum())\n",
        "print(np.sum(e))\n",
        "print(e.sum(axis=0)) # numpy uses axis\n",
        "print(e.sum(axis=1))"
      ]
    },
    {
      "cell_type": "code",
      "execution_count": 34,
      "metadata": {
        "id": "2MyuWb1HNoRP"
      },
      "outputs": [
        {
          "name": "stdout",
          "output_type": "stream",
          "text": [
            "tensor([[0.4963, 0.7682, 0.0885],\n",
            "        [0.1320, 0.3074, 0.6341]])\n",
            "\n",
            "tensor(2.4265)\n",
            "tensor(2.4265)\n",
            "tensor([0.6283, 1.0756, 0.7226])\n",
            "tensor([1.3530, 1.0735])\n"
          ]
        }
      ],
      "source": [
        "print(e_)\n",
        "print()\n",
        "print(e_.sum())\n",
        "print(torch.sum(e_))\n",
        "print(e_.sum(dim=0)) # pytorch uses dim\n",
        "print(e_.sum(dim=1))"
      ]
    },
    {
      "cell_type": "markdown",
      "metadata": {
        "id": "zGju50FlNoRR"
      },
      "source": [
        "#### Elementwise sum"
      ]
    },
    {
      "cell_type": "code",
      "execution_count": 35,
      "metadata": {
        "id": "NhWol32INoRT"
      },
      "outputs": [
        {
          "name": "stdout",
          "output_type": "stream",
          "text": [
            "[1 2 3]\n",
            "[1. 1. 1.]\n",
            "\n",
            "[2. 3. 4.]\n"
          ]
        }
      ],
      "source": [
        "print(a)\n",
        "print(d)\n",
        "print()\n",
        "print(a + d)"
      ]
    },
    {
      "cell_type": "code",
      "execution_count": 36,
      "metadata": {
        "id": "DdptaCWnNoRV"
      },
      "outputs": [
        {
          "name": "stdout",
          "output_type": "stream",
          "text": [
            "tensor([1., 2., 3.])\n",
            "tensor([1., 1., 1.])\n",
            "\n",
            "tensor([2., 3., 4.])\n"
          ]
        }
      ],
      "source": [
        "print(a_)\n",
        "print(d_)\n",
        "print()\n",
        "print(a_ + d_)"
      ]
    },
    {
      "cell_type": "markdown",
      "metadata": {
        "id": "R99jJOwGNoRX"
      },
      "source": [
        "#### Elementwise multiplication"
      ]
    },
    {
      "cell_type": "code",
      "execution_count": 38,
      "metadata": {
        "id": "PFPbJdfgNoRY"
      },
      "outputs": [
        {
          "name": "stdout",
          "output_type": "stream",
          "text": [
            "[1 2 3]\n",
            "[1. 1. 1.]\n",
            "\n",
            "[1. 2. 3.]\n"
          ]
        }
      ],
      "source": [
        "print(a)\n",
        "print(d)\n",
        "print()\n",
        "print(a * d)"
      ]
    },
    {
      "cell_type": "code",
      "execution_count": 39,
      "metadata": {
        "id": "Nx-fJcOgNoRZ"
      },
      "outputs": [
        {
          "name": "stdout",
          "output_type": "stream",
          "text": [
            "tensor([1., 2., 3.])\n",
            "tensor([1., 1., 1.])\n",
            "\n",
            "tensor([1., 2., 3.])\n"
          ]
        }
      ],
      "source": [
        "print(a_)\n",
        "print(d_)\n",
        "print()\n",
        "print(a_ * d_)"
      ]
    },
    {
      "cell_type": "markdown",
      "metadata": {
        "id": "sZCthYVhNoRc"
      },
      "source": [
        "#### Dot product"
      ]
    },
    {
      "cell_type": "code",
      "execution_count": 37,
      "metadata": {
        "id": "t2WSLosnNoRc"
      },
      "outputs": [
        {
          "name": "stdout",
          "output_type": "stream",
          "text": [
            "[1 2 3]\n",
            "[1. 1. 1.]\n",
            "\n",
            "6.0\n",
            "6.0\n"
          ]
        }
      ],
      "source": [
        "print(a)\n",
        "print(d)\n",
        "print()\n",
        "print(np.dot(a, d))\n",
        "print(a.dot(d))"
      ]
    },
    {
      "cell_type": "code",
      "execution_count": 40,
      "metadata": {
        "id": "Tp0zhvNQNoRe"
      },
      "outputs": [
        {
          "name": "stdout",
          "output_type": "stream",
          "text": [
            "tensor([1., 2., 3.])\n",
            "tensor([1., 1., 1.])\n",
            "\n",
            "tensor(6.)\n",
            "tensor(6.)\n"
          ]
        }
      ],
      "source": [
        "print(a_)\n",
        "print(d_)\n",
        "print()\n",
        "print(torch.dot(a_, d_))\n",
        "print(a_.dot(d_))"
      ]
    },
    {
      "cell_type": "markdown",
      "metadata": {
        "id": "urKJVOFHNoRg"
      },
      "source": [
        "#### Matrix multiplication"
      ]
    },
    {
      "cell_type": "code",
      "execution_count": 41,
      "metadata": {
        "id": "m92t7na4NoRh"
      },
      "outputs": [
        {
          "name": "stdout",
          "output_type": "stream",
          "text": [
            "[1 2 3]\n",
            "[[4.66006948e-310 0.00000000e+000]\n",
            " [2.84809454e-306 4.66108410e-310]\n",
            " [5.30498948e-315 6.91097160e-310]]\n",
            "\n",
            "[5.6966551e-306 3.0055083e-309]\n",
            "[5.6966551e-306 3.0055083e-309]\n"
          ]
        }
      ],
      "source": [
        "print(a)\n",
        "print(b)\n",
        "print()\n",
        "print(np.matmul(a, b))\n",
        "print(a @ b)"
      ]
    },
    {
      "cell_type": "code",
      "execution_count": 42,
      "metadata": {
        "id": "3gHYSMlwNoRi"
      },
      "outputs": [
        {
          "name": "stdout",
          "output_type": "stream",
          "text": [
            "tensor([1., 2., 3.])\n",
            "tensor([[-1.0101e-25,  3.0780e-41],\n",
            "        [-9.6388e-26,  3.0780e-41],\n",
            "        [ 0.0000e+00,  0.0000e+00]])\n",
            "\n",
            "tensor([-2.9379e-25,  9.2339e-41])\n",
            "tensor([-2.9379e-25,  9.2339e-41])\n"
          ]
        }
      ],
      "source": [
        "print(a_)\n",
        "print(b_)\n",
        "print()\n",
        "print(torch.matmul(a_, b_))\n",
        "print(a_ @ b_)"
      ]
    },
    {
      "cell_type": "markdown",
      "metadata": {
        "id": "0tK24UceNoRl"
      },
      "source": [
        "### Broadcasting\n",
        "\n",
        "https://numpy.org/doc/stable/user/basics.broadcasting.html#broadcasting\n",
        "\n",
        "Subject to certain constraints, the smaller array is “broadcast” across the larger array so that they have compatible shapes\n",
        "\n",
        "Rules:\n",
        "\n",
        "- they are equal, or\n",
        "- one of them is 1.\n",
        "\n",
        "```\n",
        "A      (4d array):  8 x 1 x 6 x 1\n",
        "B      (3d array):      7 x 1 x 5\n",
        "Result (4d array):  8 x 7 x 6 x 5\n",
        "```\n",
        "\n",
        "both the A and B arrays have axes with length one that are expanded to a larger size during the broadcast operation:\n"
      ]
    },
    {
      "cell_type": "markdown",
      "metadata": {
        "id": "Na3ky9YANoRm"
      },
      "source": [
        "#### Compatible shapes"
      ]
    },
    {
      "cell_type": "code",
      "execution_count": 43,
      "metadata": {
        "id": "59bi9SpQNoRm"
      },
      "outputs": [
        {
          "name": "stdout",
          "output_type": "stream",
          "text": [
            "tensor([[[0.4901, 0.8964, 0.4556]],\n",
            "\n",
            "        [[0.6323, 0.3489, 0.4017]]])\n",
            "tensor([[1., 1., 1.],\n",
            "        [1., 1., 1.],\n",
            "        [1., 1., 1.]])\n"
          ]
        }
      ],
      "source": [
        "f = torch.rand((2, 1, 3))\n",
        "g = torch.ones((3, 3))\n",
        "print(f)\n",
        "print(g)"
      ]
    },
    {
      "cell_type": "code",
      "execution_count": 44,
      "metadata": {
        "id": "Ymeo3SGQNoRo"
      },
      "outputs": [
        {
          "name": "stdout",
          "output_type": "stream",
          "text": [
            "tensor([[[0.4901, 0.8964, 0.4556]],\n",
            "\n",
            "        [[0.6323, 0.3489, 0.4017]]])\n",
            "tensor([[1., 1., 1.],\n",
            "        [1., 1., 1.],\n",
            "        [1., 1., 1.]])\n",
            "torch.Size([2, 1, 3])\n",
            "torch.Size([3, 3])\n",
            "\n",
            "tensor([[[1.4901, 1.8964, 1.4556],\n",
            "         [1.4901, 1.8964, 1.4556],\n",
            "         [1.4901, 1.8964, 1.4556]],\n",
            "\n",
            "        [[1.6323, 1.3489, 1.4017],\n",
            "         [1.6323, 1.3489, 1.4017],\n",
            "         [1.6323, 1.3489, 1.4017]]])\n",
            "tensor([[[0.4901, 0.8964, 0.4556],\n",
            "         [0.4901, 0.8964, 0.4556],\n",
            "         [0.4901, 0.8964, 0.4556]],\n",
            "\n",
            "        [[0.6323, 0.3489, 0.4017],\n",
            "         [0.6323, 0.3489, 0.4017],\n",
            "         [0.6323, 0.3489, 0.4017]]])\n",
            "torch.Size([2, 3, 3])\n",
            "torch.Size([2, 3, 3])\n"
          ]
        }
      ],
      "source": [
        "print(f)\n",
        "print(g)\n",
        "print(f.shape)\n",
        "print(g.shape)\n",
        "print()\n",
        "print(f + g)\n",
        "print(f * g)\n",
        "\n",
        "print((f + g).shape)\n",
        "print((f * g).shape)"
      ]
    },
    {
      "cell_type": "markdown",
      "metadata": {
        "id": "BUsGZUFPNoRv"
      },
      "source": [
        "#### Incompatible shapes"
      ]
    },
    {
      "cell_type": "code",
      "execution_count": 45,
      "metadata": {
        "id": "pUo4_wORNoRv"
      },
      "outputs": [
        {
          "name": "stdout",
          "output_type": "stream",
          "text": [
            "(2, 3)\n",
            "(2, 2)\n"
          ]
        },
        {
          "ename": "ValueError",
          "evalue": "operands could not be broadcast together with shapes (2,3) (2,2) ",
          "output_type": "error",
          "traceback": [
            "\u001b[0;31m---------------------------------------------------------------------------\u001b[0m",
            "\u001b[0;31mValueError\u001b[0m                                Traceback (most recent call last)",
            "Cell \u001b[0;32mIn[45], line 7\u001b[0m\n\u001b[1;32m      4\u001b[0m \u001b[38;5;28mprint\u001b[39m(i\u001b[38;5;241m.\u001b[39mshape)\n\u001b[1;32m      6\u001b[0m \u001b[38;5;66;03m# Raises error\u001b[39;00m\n\u001b[0;32m----> 7\u001b[0m \u001b[43mh\u001b[49m\u001b[43m \u001b[49m\u001b[38;5;241;43m+\u001b[39;49m\u001b[43m \u001b[49m\u001b[43mi\u001b[49m\n",
            "\u001b[0;31mValueError\u001b[0m: operands could not be broadcast together with shapes (2,3) (2,2) "
          ]
        }
      ],
      "source": [
        "h = np.random.random((2, 3))\n",
        "i = np.random.random((2, 2))\n",
        "print(h.shape)\n",
        "print(i.shape)\n",
        "\n",
        "# Raises error\n",
        "h + i"
      ]
    },
    {
      "cell_type": "markdown",
      "metadata": {
        "id": "BxUQM7LpNoRy"
      },
      "source": [
        "### Converting between NumPy and PyTorch"
      ]
    },
    {
      "cell_type": "code",
      "execution_count": 46,
      "metadata": {
        "id": "MkWCR4k-NoRy"
      },
      "outputs": [
        {
          "name": "stdout",
          "output_type": "stream",
          "text": [
            "tensor([[0.0202, 0.8326, 0.7782, 0.8700, 0.9786],\n",
            "        [0.7992, 0.4615, 0.7805, 0.1183, 0.6399],\n",
            "        [0.1434, 0.9447, 0.5218, 0.4147, 0.2646],\n",
            "        [0.7742, 0.4562, 0.5684, 0.0188, 0.6176],\n",
            "        [0.6121, 0.6169, 0.9437, 0.6818, 0.3595]], dtype=torch.float64)\n",
            "\n",
            "[[0.02232575 0.16885895 0.29388845 0.5185218  0.6976676 ]\n",
            " [0.8000114  0.16102946 0.28226858 0.68160856 0.915194  ]\n",
            " [0.3970999  0.8741559  0.41940832 0.55290705 0.9527381 ]\n",
            " [0.03616482 0.18523103 0.37341738 0.30510002 0.9320004 ]\n",
            " [0.17591017 0.26983356 0.15067977 0.03171951 0.20812976]]\n"
          ]
        }
      ],
      "source": [
        "arr_np = np.random.random((5, 5))\n",
        "arr_th = torch.rand((5, 5))\n",
        "\n",
        "# From numpy\n",
        "torch.Tensor(arr_np)\n",
        "print(torch.from_numpy(arr_np))\n",
        "\n",
        "# To numpy\n",
        "print()\n",
        "print(arr_th.numpy())\n"
      ]
    },
    {
      "cell_type": "markdown",
      "metadata": {
        "id": "r95RBNtpNoRz"
      },
      "source": [
        "### Autograd basics\n",
        "\n",
        "https://pytorch.org/docs/stable/autograd.html#module-torch.autograd\n",
        "\n",
        "provides classes and functions implementing automatic differentiation of arbitrary scalar valued functions\n",
        "\n",
        "- `backward` Computes the sum of gradients of given tensors with respect to graph leaves.\n",
        "- `grad` Computes and returns the sum of gradients of outputs with respect to the inputs."
      ]
    },
    {
      "cell_type": "code",
      "execution_count": 53,
      "metadata": {
        "id": "prNyiAYxNoR1"
      },
      "outputs": [
        {
          "name": "stdout",
          "output_type": "stream",
          "text": [
            "tensor([[-0.5918,  0.1508, -1.0411, -0.7205, -2.2148],\n",
            "        [-0.6837,  0.5164,  0.5588,  0.0832,  0.4228],\n",
            "        [-1.8687, -1.1057,  0.1437,  0.5836,  1.3482],\n",
            "        [-0.8137,  0.3609, -1.3533, -0.2071,  0.4201],\n",
            "        [ 1.1290,  0.4264, -1.1361, -0.1292, -0.0546],\n",
            "        [ 0.4083,  1.1264, -0.6079, -0.3625, -1.5072],\n",
            "        [-0.5087, -1.2426,  1.2846,  0.2438,  0.5304]], requires_grad=True)\n",
            "tensor([ 0.7308, -0.0440,  1.1634,  0.1520,  0.7091])\n",
            "tensor(-5.4794, grad_fn=<SumBackward0>)\n"
          ]
        }
      ],
      "source": [
        "W = torch.randn((7, 5), requires_grad=True) # flag indicates that we are interested in taking the gradient of something with respect to this matrix\n",
        "x = torch.randn(5)\n",
        "y = torch.matmul(W, x)\n",
        "z = y.sum()\n",
        "print(W)\n",
        "print(x)\n",
        "print(z)"
      ]
    },
    {
      "cell_type": "code",
      "execution_count": 54,
      "metadata": {
        "id": "G2NBAPIGNoR3"
      },
      "outputs": [],
      "source": [
        "z.backward() # suppose z is the loss function. "
      ]
    },
    {
      "cell_type": "code",
      "execution_count": 55,
      "metadata": {
        "id": "cmIO3O2UNoR5"
      },
      "outputs": [
        {
          "data": {
            "text/plain": [
              "tensor([[ 0.7308, -0.0440,  1.1634,  0.1520,  0.7091],\n",
              "        [ 0.7308, -0.0440,  1.1634,  0.1520,  0.7091],\n",
              "        [ 0.7308, -0.0440,  1.1634,  0.1520,  0.7091],\n",
              "        [ 0.7308, -0.0440,  1.1634,  0.1520,  0.7091],\n",
              "        [ 0.7308, -0.0440,  1.1634,  0.1520,  0.7091],\n",
              "        [ 0.7308, -0.0440,  1.1634,  0.1520,  0.7091],\n",
              "        [ 0.7308, -0.0440,  1.1634,  0.1520,  0.7091]])"
            ]
          },
          "execution_count": 55,
          "metadata": {},
          "output_type": "execute_result"
        }
      ],
      "source": [
        "W.grad"
      ]
    },
    {
      "cell_type": "code",
      "execution_count": 56,
      "metadata": {
        "id": "Pk-TpbXEHmY7"
      },
      "outputs": [
        {
          "data": {
            "text/plain": [
              "True"
            ]
          },
          "execution_count": 56,
          "metadata": {},
          "output_type": "execute_result"
        }
      ],
      "source": [
        "x.grad is None # didn't set the flag"
      ]
    },
    {
      "cell_type": "code",
      "execution_count": 57,
      "metadata": {
        "id": "hvRJUyWaNoR6"
      },
      "outputs": [
        {
          "name": "stdout",
          "output_type": "stream",
          "text": [
            "tensor([[-3.0717, -3.9963,  2.0815, -3.6594, -0.5872],\n",
            "        [-4.6441, -7.1057,  2.6748, -4.7311,  0.0932],\n",
            "        [ 1.3500, -5.7245, -3.9111, -0.2535, -3.3786],\n",
            "        [ 0.8487,  0.8296, -0.6063, -0.8777, -2.5289],\n",
            "        [ 4.1824,  4.8271, -2.9358,  1.4917, -4.1890]])\n"
          ]
        }
      ],
      "source": [
        "# Another example involving differentiating through a for-loop\n",
        "W = torch.randn((5, 5), requires_grad=True)\n",
        "x = torch.randn(5)\n",
        "for i in range(3):\n",
        "    x = torch.matmul(W, x)\n",
        "z = x.sum()\n",
        "z.backward()\n",
        "print(W.grad)"
      ]
    },
    {
      "cell_type": "code",
      "execution_count": null,
      "metadata": {
        "id": "OizNOSFiIIs9"
      },
      "outputs": [],
      "source": []
    }
  ],
  "metadata": {
    "accelerator": "GPU",
    "colab": {
      "collapsed_sections": [
        "cv3E-G1kNoQL",
        "p3HcanX9NoQT",
        "rgGOtkJINoQc",
        "hp91uxDGNoQl",
        "OyL9SyUeNoQs",
        "KbaYOCL_NoQ0",
        "3RMLqrgQNoQ6",
        "aGUeZ09kNoRD",
        "TWVS8OFJNoRM",
        "zGju50FlNoRR",
        "R99jJOwGNoRX",
        "sZCthYVhNoRc",
        "urKJVOFHNoRg",
        "Na3ky9YANoRm",
        "BUsGZUFPNoRv"
      ],
      "name": "notebook0_numpy_pytorch_intro.ipynb",
      "provenance": []
    },
    "kernelspec": {
      "display_name": "Python 3",
      "name": "python3"
    },
    "language_info": {
      "codemirror_mode": {
        "name": "ipython",
        "version": 3
      },
      "file_extension": ".py",
      "mimetype": "text/x-python",
      "name": "python",
      "nbconvert_exporter": "python",
      "pygments_lexer": "ipython3",
      "version": "3.10.12"
    }
  },
  "nbformat": 4,
  "nbformat_minor": 0
}
