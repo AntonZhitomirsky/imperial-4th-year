{
 "cells": [
  {
   "cell_type": "code",
   "execution_count": 1,
   "metadata": {},
   "outputs": [],
   "source": [
    "from scipy.ndimage import generate_binary_structure, binary_erosion\n",
    "import SimpleITK as sitk\n",
    "import numpy as np"
   ]
  },
  {
   "cell_type": "markdown",
   "metadata": {},
   "source": [
    "# define metrics"
   ]
  },
  {
   "cell_type": "code",
   "execution_count": 2,
   "metadata": {},
   "outputs": [],
   "source": [
    "def get_accuracy(ground_truth, predicted):\n",
    "\n",
    "    true_positives = np.sum(np.logical_and(ground_truth, predicted))\n",
    "    true_negatives = np.sum(np.logical_and(1-ground_truth, 1-predicted))\n",
    "    false_positives = np.sum(np.logical_and(1-ground_truth, predicted))\n",
    "    false_nagatives = np.sum(np.logical_and(ground_truth, 1-predicted))\n",
    "\n",
    "    return (true_positives + true_negatives) / (true_positives + true_negatives + false_positives + false_nagatives)"
   ]
  },
  {
   "cell_type": "code",
   "execution_count": 3,
   "metadata": {},
   "outputs": [],
   "source": [
    "def get_precision(ground_truth, predicted):\n",
    "\n",
    "    true_positives = np.sum(np.logical_and(ground_truth, predicted))\n",
    "    false_positives = np.sum(np.logical_and(1-ground_truth, predicted))\n",
    "\n",
    "    return (true_positives) / (true_positives + false_positives)"
   ]
  },
  {
   "cell_type": "code",
   "execution_count": 4,
   "metadata": {},
   "outputs": [],
   "source": [
    "def get_recall(ground_truth, predicted):\n",
    "\n",
    "    true_positives = np.sum(np.logical_and(ground_truth, predicted))\n",
    "    false_nagatives = np.sum(np.logical_and(ground_truth, 1-predicted))\n",
    "\n",
    "    return (true_positives) / (true_positives + false_nagatives)"
   ]
  },
  {
   "cell_type": "code",
   "execution_count": 5,
   "metadata": {},
   "outputs": [],
   "source": [
    "def get_specificity(ground_truth, predicted):\n",
    "    true_negatives = np.sum(np.logical_and(1-ground_truth, 1-predicted))\n",
    "    false_positives = np.sum(np.logical_and(1-ground_truth, predicted))\n",
    "\n",
    "    return (true_negatives) / (true_negatives + false_positives)"
   ]
  },
  {
   "cell_type": "code",
   "execution_count": 6,
   "metadata": {},
   "outputs": [],
   "source": [
    "def get_f1_score(ground_truth, predicted):\n",
    "\n",
    "    precision = get_precision(ground_truth, predicted)\n",
    "    recall = get_recall(ground_truth, predicted)\n",
    "\n",
    "    return 2 * (precision * recall) / (precision + recall)"
   ]
  },
  {
   "cell_type": "code",
   "execution_count": 7,
   "metadata": {},
   "outputs": [],
   "source": [
    "def get_Jaccard(ground_truth, predicted):\n",
    "    overlap_measures_filter = sitk.LabelOverlapMeasuresImageFilter()\n",
    "    overlap_measures_filter.Execute(sitk.GetImageFromArray(ground_truth), sitk.GetImageFromArray(predicted))\n",
    "\n",
    "    return overlap_measures_filter.GetJaccardCoefficient()\n",
    "\n",
    "# # Overwritten with equally valid computation 'by hand' (not using black-box function from SimpleITK library)\n",
    "# def get_Jaccard1(ground_truth, predicted):\n",
    "#     true_positives = np.sum(np.logical_and(ground_truth, predicted))\n",
    "#     false_positives = np.sum(np.logical_and(1-ground_truth, predicted))\n",
    "#     false_nagatives = np.sum(np.logical_and(ground_truth, 1-predicted))\n",
    "\n",
    "#     return 1 - abs(false_nagatives - false_positives) / (2 * true_positives + false_positives + false_nagatives)\n",
    "\n",
    "# print(get_Jaccard(ground_truth, predictions[0]))\n",
    "# print(get_Jaccard1(ground_truth, predictions[0]))\n",
    "\n",
    "# print(get_Jaccard(ground_truth, predictions[1]))\n",
    "# print(get_Jaccard1(ground_truth, predictions[1]))"
   ]
  },
  {
   "cell_type": "code",
   "execution_count": 8,
   "metadata": {},
   "outputs": [],
   "source": [
    "def get_DSC(ground_truth, predicted):\n",
    "    return get_f1_score(ground_truth, predicted)"
   ]
  },
  {
   "cell_type": "code",
   "execution_count": 9,
   "metadata": {},
   "outputs": [],
   "source": [
    "def get_volume_similarity(ground_truth, predicted):\n",
    "    overlap_measures_filter = sitk.LabelOverlapMeasuresImageFilter()\n",
    "    overlap_measures_filter.Execute(sitk.GetImageFromArray(ground_truth), sitk.GetImageFromArray(predicted))\n",
    "    \n",
    "    return overlap_measures_filter.GetVolumeSimilarity()\n",
    "\n",
    "def get_volume_similarity(ground_truth, predicted):\n",
    "    overlap_measures_filter = sitk.LabelOverlapMeasuresImageFilter()\n",
    "    overlap_measures_filter.Execute(sitk.GetImageFromArray(ground_truth), sitk.GetImageFromArray(predicted))\n",
    "    \n",
    "    return overlap_measures_filter.GetVolumeSimilarity()"
   ]
  },
  {
   "cell_type": "code",
   "execution_count": 10,
   "metadata": {},
   "outputs": [],
   "source": [
    "def get_HD(ground_truth, predicted):\n",
    "    hausdorff_distance_filter = sitk.HausdorffDistanceImageFilter()\n",
    "    hausdorff_distance_filter.Execute(sitk.GetImageFromArray(ground_truth), sitk.GetImageFromArray(predicted))\n",
    "    \n",
    "    return hausdorff_distance_filter.GetHausdorffDistance()\n",
    "\n",
    "def get_HD(ground_truth, predicted):\n",
    "    conn = generate_binary_structure(ground_truth.ndim, connectivity=1)\n",
    "\n",
    "    S = ground_truth - binary_erosion(ground_truth, conn)\n",
    "    Sprime = predicted - binary_erosion(predicted, conn)\n",
    "\n",
    "    # Get coordinates of nonzero elements\n",
    "    A_coords = np.transpose(np.nonzero(S))\n",
    "    B_coords = np.transpose(np.nonzero(Sprime))\n",
    "\n",
    "    # Compute the max min distance from each point\n",
    "    h_AB = np.max([np.min(np.linalg.norm(a - B_coords, axis=1)) for a in A_coords])\n",
    "    h_BA = np.max([np.min(np.linalg.norm(b - A_coords, axis=1)) for b in B_coords])\n",
    "\n",
    "    return max(h_AB, h_BA)"
   ]
  },
  {
   "cell_type": "code",
   "execution_count": 34,
   "metadata": {},
   "outputs": [
    {
     "data": {
      "text/plain": [
       "'\\\\begin{array}{} 0 & 0 & 0 & 0 & 0 & 0 & 0 & 0 & 0 & 0 & 0 & 0 & 0 & 0 \\\\\\\\ 0 & 0 & 0 & 0 & 0 & 0 & 0 & 0 & 0 & 0 & 0 & 0 & 0 & 0 \\\\\\\\ 0 & 0 & 0 & 0 & 0 & 0 & 0 & 0 & 0 & 0 & 0 & 0 & 0 & 0 \\\\\\\\ 0 & 0 & 0 & 1 & 1 & 1 & 1 & 1 & 1 & 1 & 0 & 0 & 0 & 0 \\\\\\\\ 0 & 0 & 0 & 1 & 0 & 1 & 0 & 1 & 0 & 1 & 0 & 0 & 0 & 0 \\\\\\\\ 0 & 0 & 0 & 1 & 1 & 0 & 1 & 0 & 1 & 1 & 0 & 0 & 0 & 0 \\\\\\\\ 0 & 0 & 0 & 1 & 0 & 1 & 0 & 1 & 0 & 1 & 0 & 0 & 0 & 0 \\\\\\\\ 0 & 0 & 0 & 1 & 1 & 0 & 1 & 0 & 1 & 1 & 0 & 0 & 0 & 0 \\\\\\\\ 0 & 0 & 0 & 1 & 0 & 1 & 0 & 1 & 0 & 1 & 0 & 0 & 0 & 0 \\\\\\\\ 0 & 0 & 0 & 1 & 1 & 1 & 1 & 1 & 1 & 1 & 0 & 0 & 0 & 0 \\\\\\\\ 0 & 0 & 0 & 0 & 0 & 0 & 0 & 0 & 0 & 0 & 0 & 0 & 0 & 0 \\\\\\\\ 0 & 0 & 0 & 0 & 0 & 0 & 0 & 0 & 0 & 0 & 0 & 0 & 0 & 0 \\\\\\\\ 0 & 0 & 0 & 0 & 0 & 0 & 0 & 0 & 0 & 0 & 0 & 0 & 0 & 0 \\\\\\\\ 0 & 0 & 0 & 0 & 0 & 0 & 0 & 0 & 0 & 0 & 0 & 0 & 0 & 0 \\\\\\\\ \\\\end{array}'"
      ]
     },
     "execution_count": 34,
     "metadata": {},
     "output_type": "execute_result"
    }
   ],
   "source": [
    "import numpy as np\n",
    "\n",
    "def numpy_to_latex_array(array):\n",
    "    latex_array = \"\\\\begin{array}{\"\n",
    "    # latex_array += \" \".join([\"c\"] * array.shape[1])\n",
    "    latex_array += \"} \"\n",
    "    \n",
    "    for row in array:\n",
    "        latex_array += \" & \".join([str(cell) for cell in row])\n",
    "        latex_array += \" \\\\\\\\ \"\n",
    "    \n",
    "    latex_array += \"\\\\end{array}\"\n",
    "    \n",
    "    return latex_array\n",
    "\n",
    "numpy_to_latex_array(predictions[0])"
   ]
  },
  {
   "cell_type": "code",
   "execution_count": 11,
   "metadata": {},
   "outputs": [],
   "source": [
    "def get_SSASD(input1, input2):\n",
    "\n",
    "    conn = generate_binary_structure(input1.ndim, connectivity=1)\n",
    "\n",
    "    S = input1 - binary_erosion(input1, conn)\n",
    "    Sprime = input2 - binary_erosion(input2, conn)\n",
    "\n",
    "    # Get coordinates of nonzero elements\n",
    "    A_coords = np.transpose(np.nonzero(S))\n",
    "    B_coords = np.transpose(np.nonzero(Sprime))\n",
    "\n",
    "    # Compute the average of minimum distances from A to B\n",
    "    d_AB = np.mean([np.min(np.linalg.norm(a - B_coords, axis=1)) for a in A_coords])\n",
    "\n",
    "    # Compute the average of minimum distances from B to A\n",
    "    d_BA = np.mean([np.min(np.linalg.norm(b - A_coords, axis=1)) for b in B_coords])\n",
    "\n",
    "    # Compute the surface symmetric average surface distance\n",
    "    SSASD = (d_AB + d_BA) / 2\n",
    "\n",
    "    return SSASD"
   ]
  },
  {
   "cell_type": "markdown",
   "metadata": {},
   "source": [
    "# Execute metrics on examples"
   ]
  },
  {
   "cell_type": "code",
   "execution_count": 23,
   "metadata": {},
   "outputs": [
    {
     "name": "stdout",
     "output_type": "stream",
     "text": [
      "true positives: 36\n",
      "true negatives: 147\n",
      "false_positives: 0\n",
      "false_nagatives: 13\n"
     ]
    }
   ],
   "source": [
    "# ground_truth = np.array([[0,0,0,0,0,0,0,0,0,0,0],\n",
    "#                          [0,0,0,0,0,0,0,0,0,0,0],\n",
    "#                          [0,0,1,1,1,1,1,1,1,0,0],\n",
    "#                          [0,0,1,1,1,1,1,1,1,0,0],\n",
    "#                          [0,0,1,1,1,1,1,1,1,0,0],\n",
    "#                          [0,0,1,1,1,1,0,0,0,0,0],\n",
    "#                          [0,0,1,1,1,1,0,0,0,0,0],\n",
    "#                          [0,0,1,1,1,1,0,0,0,0,0],\n",
    "#                          [0,0,1,1,1,1,0,0,0,0,0],\n",
    "#                          [0,0,0,0,0,0,0,0,0,0,0],\n",
    "#                          [0,0,0,0,0,0,0,0,0,0,0]])\n",
    "\n",
    "# predictions = [\n",
    "#     np.array([[0,0,0,0,0,0,0,0,0,0,0],\n",
    "#               [0,0,0,0,0,0,0,0,0,0,0],\n",
    "#               [0,0,1,1,1,1,1,1,1,0,0],\n",
    "#               [0,0,1,1,1,1,1,1,1,0,0],\n",
    "#               [0,0,1,1,1,1,1,1,1,0,0],\n",
    "#               [0,0,1,1,1,1,0,0,0,0,0],\n",
    "#               [0,0,1,1,1,1,0,0,0,0,0],\n",
    "#               [0,0,1,1,1,1,0,0,0,0,0],\n",
    "#               [0,0,0,1,1,1,0,0,0,0,0],\n",
    "#               [0,0,0,0,0,0,0,0,0,0,0],\n",
    "#               [0,0,0,0,0,0,0,0,0,0,0]]),\n",
    "\n",
    "#     np.array([[0,0,0,0,0,0,0,0,0,0,0],\n",
    "#               [0,0,0,0,0,0,0,0,0,0,0],\n",
    "#               [0,0,1,1,1,1,1,1,1,0,0],\n",
    "#               [0,0,1,1,1,1,1,1,1,0,0],\n",
    "#               [0,0,1,1,1,1,1,1,1,0,0],\n",
    "#               [0,0,1,1,1,1,0,0,0,0,0],\n",
    "#               [0,0,1,1,1,1,0,0,0,0,0],\n",
    "#               [0,0,0,1,1,1,0,0,0,0,0],\n",
    "#               [0,0,0,1,1,1,0,0,0,0,0],\n",
    "#               [0,0,0,0,0,0,0,0,0,0,0],\n",
    "#               [0,0,0,0,0,0,0,0,0,0,0]]),\n",
    "# ]\n",
    "\n",
    "ground_truth = np.array([[0,0,0,0,0,0,0,0,0,0,0,0,0,0],\n",
    "                         [0,0,0,0,0,0,0,0,0,0,0,0,0,0],\n",
    "                         [0,0,0,0,0,0,0,0,0,0,0,0,0,0],\n",
    "                         [0,0,0,1,1,1,1,1,1,1,0,0,0,0],\n",
    "                         [0,0,0,1,1,1,1,1,1,1,0,0,0,0],\n",
    "                         [0,0,0,1,1,1,1,1,1,1,0,0,0,0],\n",
    "                         [0,0,0,1,1,1,1,1,1,1,0,0,0,0],\n",
    "                         [0,0,0,1,1,1,1,1,1,1,0,0,0,0],\n",
    "                         [0,0,0,1,1,1,1,1,1,1,0,0,0,0],\n",
    "                         [0,0,0,1,1,1,1,1,1,1,0,0,0,0],\n",
    "                         [0,0,0,0,0,0,0,0,0,0,0,0,0,0],\n",
    "                         [0,0,0,0,0,0,0,0,0,0,0,0,0,0],\n",
    "                         [0,0,0,0,0,0,0,0,0,0,0,0,0,0],\n",
    "                         [0,0,0,0,0,0,0,0,0,0,0,0,0,0],])\n",
    "\n",
    "predictions = [np.array([[0,0,0,0,0,0,0,0,0,0,0,0,0,0],\n",
    "                         [0,0,0,0,0,0,0,0,0,0,0,0,0,0],\n",
    "                         [0,0,0,0,0,0,0,0,0,0,0,0,0,0],\n",
    "                         [0,0,0,1,1,1,1,1,1,1,0,0,0,0],\n",
    "                         [0,0,0,1,0,1,0,1,0,1,0,0,0,0],\n",
    "                         [0,0,0,1,1,0,1,0,1,1,0,0,0,0],\n",
    "                         [0,0,0,1,0,1,0,1,0,1,0,0,0,0],\n",
    "                         [0,0,0,1,1,0,1,0,1,1,0,0,0,0],\n",
    "                         [0,0,0,1,0,1,0,1,0,1,0,0,0,0],\n",
    "                         [0,0,0,1,1,1,1,1,1,1,0,0,0,0],\n",
    "                         [0,0,0,0,0,0,0,0,0,0,0,0,0,0],\n",
    "                         [0,0,0,0,0,0,0,0,0,0,0,0,0,0],\n",
    "                         [0,0,0,0,0,0,0,0,0,0,0,0,0,0],\n",
    "                         [0,0,0,0,0,0,0,0,0,0,0,0,0,0],])]\n",
    "\n",
    "print(f'true positives: {np.sum(np.logical_and(ground_truth, predictions[0]))}')\n",
    "print(f'true negatives: {np.sum(np.logical_and(1-ground_truth, 1-predictions[0]))}')\n",
    "print(f'false_positives: {np.sum(np.logical_and(1-ground_truth, predictions[0]))}')\n",
    "print(f'false_nagatives: {np.sum(np.logical_and(ground_truth, 1-predictions[0]))}')"
   ]
  },
  {
   "cell_type": "code",
   "execution_count": 35,
   "metadata": {},
   "outputs": [
    {
     "name": "stdout",
     "output_type": "stream",
     "text": [
      "Accuracy                           : 0.9336734693877551\n",
      "Precision                          : 1.0\n",
      "Recall                             : 0.7346938775510204\n",
      "Specificity                        : 1.0\n",
      "F1 Score/DSC                       : 0.8470588235294119\n",
      "Jaccard                            : 0.7346938775510204\n",
      "Volume Similarity                  : 0.3058823529411765\n",
      "\\begin{array}{} 0 & 0 & 0 & 0 & 0 & 0 & 0 & 0 & 0 & 0 & 0 & 0 & 0 & 0 \\\\ 0 & 0 & 0 & 0 & 0 & 0 & 0 & 0 & 0 & 0 & 0 & 0 & 0 & 0 \\\\ 0 & 0 & 0 & 0 & 0 & 0 & 0 & 0 & 0 & 0 & 0 & 0 & 0 & 0 \\\\ 0 & 0 & 0 & 1 & 1 & 1 & 1 & 1 & 1 & 1 & 0 & 0 & 0 & 0 \\\\ 0 & 0 & 0 & 1 & 0 & 0 & 0 & 0 & 0 & 1 & 0 & 0 & 0 & 0 \\\\ 0 & 0 & 0 & 1 & 0 & 0 & 0 & 0 & 0 & 1 & 0 & 0 & 0 & 0 \\\\ 0 & 0 & 0 & 1 & 0 & 0 & 0 & 0 & 0 & 1 & 0 & 0 & 0 & 0 \\\\ 0 & 0 & 0 & 1 & 0 & 0 & 0 & 0 & 0 & 1 & 0 & 0 & 0 & 0 \\\\ 0 & 0 & 0 & 1 & 0 & 0 & 0 & 0 & 0 & 1 & 0 & 0 & 0 & 0 \\\\ 0 & 0 & 0 & 1 & 1 & 1 & 1 & 1 & 1 & 1 & 0 & 0 & 0 & 0 \\\\ 0 & 0 & 0 & 0 & 0 & 0 & 0 & 0 & 0 & 0 & 0 & 0 & 0 & 0 \\\\ 0 & 0 & 0 & 0 & 0 & 0 & 0 & 0 & 0 & 0 & 0 & 0 & 0 & 0 \\\\ 0 & 0 & 0 & 0 & 0 & 0 & 0 & 0 & 0 & 0 & 0 & 0 & 0 & 0 \\\\ 0 & 0 & 0 & 0 & 0 & 0 & 0 & 0 & 0 & 0 & 0 & 0 & 0 & 0 \\\\ \\end{array}\n"
     ]
    }
   ],
   "source": [
    "for prediction in predictions:\n",
    "    print(f'Accuracy                           : {get_accuracy(ground_truth, prediction)}')\n",
    "    print(f'Precision                          : {get_precision(ground_truth, prediction)}')\n",
    "    print(f'Recall                             : {get_recall(ground_truth, prediction)}')\n",
    "    print(f'Specificity                        : {get_specificity(ground_truth, prediction)}')\n",
    "    print(f'F1 Score/DSC                       : {get_f1_score(ground_truth, prediction)}')\n",
    "    print(f'Jaccard                            : {get_Jaccard(ground_truth, prediction)}')\n",
    "    print(f'Volume Similarity                  : {get_volume_similarity(ground_truth, prediction)}')\n",
    "    print(f'Hausdorff Distance                 : {get_HD(ground_truth, prediction)}')\n",
    "    print(f'Average Symmetric Surface Distance : {get_SSASD(ground_truth, prediction)}')\n",
    "    print(\"\\n\")"
   ]
  },
  {
   "cell_type": "code",
   "execution_count": null,
   "metadata": {},
   "outputs": [],
   "source": []
  }
 ],
 "metadata": {
  "kernelspec": {
   "display_name": ".venv",
   "language": "python",
   "name": "python3"
  },
  "language_info": {
   "codemirror_mode": {
    "name": "ipython",
    "version": 3
   },
   "file_extension": ".py",
   "mimetype": "text/x-python",
   "name": "python",
   "nbconvert_exporter": "python",
   "pygments_lexer": "ipython3",
   "version": "3.10.12"
  }
 },
 "nbformat": 4,
 "nbformat_minor": 2
}
