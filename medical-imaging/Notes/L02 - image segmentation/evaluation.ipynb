{
 "cells": [
  {
   "cell_type": "code",
   "execution_count": 15,
   "metadata": {},
   "outputs": [],
   "source": [
    "from scipy.ndimage import generate_binary_structure, binary_erosion\n",
    "import SimpleITK as sitk\n",
    "import numpy as np"
   ]
  },
  {
   "cell_type": "markdown",
   "metadata": {},
   "source": [
    "# define metrics"
   ]
  },
  {
   "cell_type": "code",
   "execution_count": 2,
   "metadata": {},
   "outputs": [],
   "source": [
    "def get_accuracy(ground_truth, predicted):\n",
    "\n",
    "    true_positives = np.sum(np.logical_and(ground_truth, predicted))\n",
    "    true_negatives = np.sum(np.logical_and(1-ground_truth, 1-predicted))\n",
    "    false_positives = np.sum(np.logical_and(1-ground_truth, predicted))\n",
    "    false_nagatives = np.sum(np.logical_and(ground_truth, 1-predicted))\n",
    "\n",
    "    return (true_positives + true_negatives) / (true_positives + true_negatives + false_positives + false_nagatives)"
   ]
  },
  {
   "cell_type": "code",
   "execution_count": 3,
   "metadata": {},
   "outputs": [],
   "source": [
    "def get_precision(ground_truth, predicted):\n",
    "\n",
    "    true_positives = np.sum(np.logical_and(ground_truth, predicted))\n",
    "    false_positives = np.sum(np.logical_and(1-ground_truth, predicted))\n",
    "\n",
    "    return (true_positives) / (true_positives + false_positives)"
   ]
  },
  {
   "cell_type": "code",
   "execution_count": 4,
   "metadata": {},
   "outputs": [],
   "source": [
    "def get_recall(ground_truth, predicted):\n",
    "\n",
    "    true_positives = np.sum(np.logical_and(ground_truth, predicted))\n",
    "    false_nagatives = np.sum(np.logical_and(ground_truth, 1-predicted))\n",
    "\n",
    "    return (true_positives) / (true_positives + false_nagatives)"
   ]
  },
  {
   "cell_type": "code",
   "execution_count": 5,
   "metadata": {},
   "outputs": [],
   "source": [
    "def get_specificity(ground_truth, predicted):\n",
    "    true_negatives = np.sum(np.logical_and(1-ground_truth, 1-predicted))\n",
    "    false_positives = np.sum(np.logical_and(1-ground_truth, predicted))\n",
    "\n",
    "    return (true_negatives) / (true_negatives + false_positives)"
   ]
  },
  {
   "cell_type": "code",
   "execution_count": 6,
   "metadata": {},
   "outputs": [],
   "source": [
    "def get_f1_score(ground_truth, predicted):\n",
    "\n",
    "    precision = get_precision(ground_truth, predicted)\n",
    "    recall = get_recall(ground_truth, predicted)\n",
    "\n",
    "    return 2 * (precision * recall) / (precision + recall)"
   ]
  },
  {
   "cell_type": "code",
   "execution_count": 35,
   "metadata": {},
   "outputs": [
    {
     "name": "stdout",
     "output_type": "stream",
     "text": [
      "0.972972972972973\n",
      "0.9863013698630136\n",
      "0.9459459459459459\n",
      "0.9722222222222222\n"
     ]
    }
   ],
   "source": [
    "def get_Jaccard(ground_truth, predicted):\n",
    "    overlap_measures_filter = sitk.LabelOverlapMeasuresImageFilter()\n",
    "    overlap_measures_filter.Execute(sitk.GetImageFromArray(ground_truth), sitk.GetImageFromArray(predicted))\n",
    "\n",
    "    return overlap_measures_filter.GetJaccardCoefficient()\n",
    "\n",
    "# # Overwritten with equally valid computation 'by hand' (not using black-box function from SimpleITK library)\n",
    "# def get_Jaccard1(ground_truth, predicted):\n",
    "#     true_positives = np.sum(np.logical_and(ground_truth, predicted))\n",
    "#     false_positives = np.sum(np.logical_and(1-ground_truth, predicted))\n",
    "#     false_nagatives = np.sum(np.logical_and(ground_truth, 1-predicted))\n",
    "\n",
    "#     return 1 - abs(false_nagatives - false_positives) / (2 * true_positives + false_positives + false_nagatives)\n",
    "\n",
    "# print(get_Jaccard(ground_truth, predictions[0]))\n",
    "# print(get_Jaccard1(ground_truth, predictions[0]))\n",
    "\n",
    "# print(get_Jaccard(ground_truth, predictions[1]))\n",
    "# print(get_Jaccard1(ground_truth, predictions[1]))"
   ]
  },
  {
   "cell_type": "code",
   "execution_count": 8,
   "metadata": {},
   "outputs": [],
   "source": [
    "def get_DSC(ground_truth, predicted):\n",
    "    return get_f1_score(ground_truth, predicted)"
   ]
  },
  {
   "cell_type": "code",
   "execution_count": 9,
   "metadata": {},
   "outputs": [],
   "source": [
    "def get_volume_similarity(ground_truth, predicted):\n",
    "    overlap_measures_filter = sitk.LabelOverlapMeasuresImageFilter()\n",
    "    overlap_measures_filter.Execute(sitk.GetImageFromArray(ground_truth), sitk.GetImageFromArray(predicted))\n",
    "    \n",
    "    return overlap_measures_filter.GetVolumeSimilarity()\n",
    "\n",
    "def get_volume_similarity(ground_truth, predicted):\n",
    "    overlap_measures_filter = sitk.LabelOverlapMeasuresImageFilter()\n",
    "    overlap_measures_filter.Execute(sitk.GetImageFromArray(ground_truth), sitk.GetImageFromArray(predicted))\n",
    "    \n",
    "    return overlap_measures_filter.GetVolumeSimilarity()"
   ]
  },
  {
   "cell_type": "code",
   "execution_count": 31,
   "metadata": {},
   "outputs": [],
   "source": [
    "def get_HD(ground_truth, predicted):\n",
    "    hausdorff_distance_filter = sitk.HausdorffDistanceImageFilter()\n",
    "    hausdorff_distance_filter.Execute(sitk.GetImageFromArray(ground_truth), sitk.GetImageFromArray(predicted))\n",
    "    \n",
    "    return hausdorff_distance_filter.GetHausdorffDistance()\n",
    "\n",
    "def get_HD(ground_truth, predicted):\n",
    "    conn = generate_binary_structure(ground_truth.ndim, connectivity=1)\n",
    "\n",
    "    S = ground_truth - binary_erosion(ground_truth, conn)\n",
    "    Sprime = predicted - binary_erosion(predicted, conn)\n",
    "\n",
    "    # Get coordinates of nonzero elements\n",
    "    A_coords = np.transpose(np.nonzero(S))\n",
    "    B_coords = np.transpose(np.nonzero(Sprime))\n",
    "\n",
    "    # Compute the max min distance from each point\n",
    "    h_AB = np.max([np.min(np.linalg.norm(a - B_coords, axis=1)) for a in A_coords])\n",
    "    h_BA = np.max([np.min(np.linalg.norm(b - A_coords, axis=1)) for b in B_coords])\n",
    "\n",
    "    return max(h_AB, h_BA)"
   ]
  },
  {
   "cell_type": "code",
   "execution_count": 11,
   "metadata": {},
   "outputs": [],
   "source": [
    "def get_SSASD(input1, input2):\n",
    "\n",
    "    conn = generate_binary_structure(input1.ndim, connectivity=1)\n",
    "\n",
    "    S = input1 - binary_erosion(input1, conn)\n",
    "    Sprime = input2 - binary_erosion(input2, conn)\n",
    "\n",
    "    # Get coordinates of nonzero elements\n",
    "    A_coords = np.transpose(np.nonzero(S))\n",
    "    B_coords = np.transpose(np.nonzero(Sprime))\n",
    "\n",
    "    # Compute the average of minimum distances from A to B\n",
    "    d_AB = np.mean([np.min(np.linalg.norm(a - B_coords, axis=1)) for a in A_coords])\n",
    "\n",
    "    # Compute the average of minimum distances from B to A\n",
    "    d_BA = np.mean([np.min(np.linalg.norm(b - A_coords, axis=1)) for b in B_coords])\n",
    "\n",
    "    # Compute the surface symmetric average surface distance\n",
    "    SSASD = (d_AB + d_BA) / 2\n",
    "\n",
    "    return SSASD"
   ]
  },
  {
   "cell_type": "markdown",
   "metadata": {},
   "source": [
    "# Execute metrics on examples"
   ]
  },
  {
   "cell_type": "code",
   "execution_count": 17,
   "metadata": {},
   "outputs": [],
   "source": [
    "ground_truth = np.array([[0,0,0,0,0,0,0,0,0,0,0],\n",
    "                         [0,0,0,0,0,0,0,0,0,0,0],\n",
    "                         [0,0,1,1,1,1,1,1,1,0,0],\n",
    "                         [0,0,1,1,1,1,1,1,1,0,0],\n",
    "                         [0,0,1,1,1,1,1,1,1,0,0],\n",
    "                         [0,0,1,1,1,1,0,0,0,0,0],\n",
    "                         [0,0,1,1,1,1,0,0,0,0,0],\n",
    "                         [0,0,1,1,1,1,0,0,0,0,0],\n",
    "                         [0,0,1,1,1,1,0,0,0,0,0],\n",
    "                         [0,0,0,0,0,0,0,0,0,0,0],\n",
    "                         [0,0,0,0,0,0,0,0,0,0,0]])\n",
    "\n",
    "predictions = [\n",
    "    np.array([[0,0,0,0,0,0,0,0,0,0,0],\n",
    "              [0,0,0,0,0,0,0,0,0,0,0],\n",
    "              [0,0,1,1,1,1,1,1,1,0,0],\n",
    "              [0,0,1,1,1,1,1,1,1,0,0],\n",
    "              [0,0,1,1,1,1,1,1,1,0,0],\n",
    "              [0,0,1,1,1,1,0,0,0,0,0],\n",
    "              [0,0,1,1,1,1,0,0,0,0,0],\n",
    "              [0,0,1,1,1,1,0,0,0,0,0],\n",
    "              [0,0,0,1,1,1,0,0,0,0,0],\n",
    "              [0,0,0,0,0,0,0,0,0,0,0],\n",
    "              [0,0,0,0,0,0,0,0,0,0,0]]),\n",
    "\n",
    "    np.array([[0,0,0,0,0,0,0,0,0,0,0],\n",
    "              [0,0,0,0,0,0,0,0,0,0,0],\n",
    "              [0,0,1,1,1,1,1,1,1,0,0],\n",
    "              [0,0,1,1,1,1,1,1,1,0,0],\n",
    "              [0,0,1,1,1,1,1,1,1,0,0],\n",
    "              [0,0,1,1,1,1,0,0,0,0,0],\n",
    "              [0,0,1,1,1,1,0,0,0,0,0],\n",
    "              [0,0,0,1,1,1,0,0,0,0,0],\n",
    "              [0,0,0,1,1,1,0,0,0,0,0],\n",
    "              [0,0,0,0,0,0,0,0,0,0,0],\n",
    "              [0,0,0,0,0,0,0,0,0,0,0]]),\n",
    "]\n",
    "                       "
   ]
  },
  {
   "cell_type": "code",
   "execution_count": 14,
   "metadata": {},
   "outputs": [
    {
     "name": "stdout",
     "output_type": "stream",
     "text": [
      "Accuracy:  0.9917355371900827\n",
      "Precision:  1.0\n",
      "Recall:  0.972972972972973\n",
      "Specificity:  1.0\n",
      "F1 Score:  0.9863013698630138\n",
      "Jaccard:  0.972972972972973\n",
      "DSC:  0.9863013698630138\n",
      "Volume Similarity:  0.0273972602739726\n",
      "Hausdorff Distance:  1.0\n",
      "Average Symmetric Surface Distance:  0.021739130434782608\n",
      "\n",
      "\n",
      "Accuracy:  0.9834710743801653\n",
      "Precision:  1.0\n",
      "Recall:  0.9459459459459459\n",
      "Specificity:  1.0\n",
      "F1 Score:  0.9722222222222222\n",
      "Jaccard:  0.9459459459459459\n",
      "DSC:  0.9722222222222222\n",
      "Volume Similarity:  0.05555555555555555\n",
      "Hausdorff Distance:  1.0\n",
      "Average Symmetric Surface Distance:  0.06620553359683795\n",
      "\n",
      "\n"
     ]
    }
   ],
   "source": [
    "for prediction in predictions:\n",
    "    print(\"Accuracy: \", get_accuracy(ground_truth, prediction))\n",
    "    print(\"Precision: \", get_precision(ground_truth, prediction))\n",
    "    print(\"Recall: \", get_recall(ground_truth, prediction))\n",
    "    print(\"Specificity: \", get_specificity(ground_truth, prediction))\n",
    "    print(\"F1 Score: \", get_f1_score(ground_truth, prediction))\n",
    "    print(\"Jaccard: \", get_Jaccard(ground_truth, prediction))\n",
    "    print(\"DSC: \", get_DSC(ground_truth, prediction))\n",
    "    print(\"Volume Similarity: \", get_volume_similarity(ground_truth, prediction))\n",
    "    print(\"Hausdorff Distance: \", get_HD(ground_truth, prediction))\n",
    "    print(\"Average Symmetric Surface Distance: \", get_SSASD(ground_truth, prediction))\n",
    "    print(\"\\n\")"
   ]
  },
  {
   "cell_type": "code",
   "execution_count": null,
   "metadata": {},
   "outputs": [],
   "source": []
  }
 ],
 "metadata": {
  "kernelspec": {
   "display_name": ".venv",
   "language": "python",
   "name": "python3"
  },
  "language_info": {
   "codemirror_mode": {
    "name": "ipython",
    "version": 3
   },
   "file_extension": ".py",
   "mimetype": "text/x-python",
   "name": "python",
   "nbconvert_exporter": "python",
   "pygments_lexer": "ipython3",
   "version": "3.10.12"
  }
 },
 "nbformat": 4,
 "nbformat_minor": 2
}
