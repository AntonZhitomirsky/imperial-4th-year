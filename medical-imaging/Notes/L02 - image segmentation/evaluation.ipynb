{
 "cells": [
  {
   "cell_type": "code",
   "execution_count": 93,
   "metadata": {},
   "outputs": [],
   "source": [
    "import SimpleITK as sitk\n",
    "import numpy as np"
   ]
  },
  {
   "cell_type": "markdown",
   "metadata": {},
   "source": [
    "# define metrics"
   ]
  },
  {
   "cell_type": "code",
   "execution_count": 94,
   "metadata": {},
   "outputs": [],
   "source": [
    "def get_accuracy(ground_truth, predicted):\n",
    "\n",
    "    true_positives = np.sum(np.logical_and(ground_truth, predicted))\n",
    "    true_negatives = np.sum(np.logical_and(1-ground_truth, 1-predicted))\n",
    "    false_positives = np.sum(np.logical_and(1-ground_truth, predicted))\n",
    "    false_nagatives = np.sum(np.logical_and(ground_truth, 1-predicted))\n",
    "\n",
    "    return (true_positives + true_negatives) / (true_positives + true_negatives + false_positives + false_nagatives)"
   ]
  },
  {
   "cell_type": "code",
   "execution_count": 95,
   "metadata": {},
   "outputs": [],
   "source": [
    "def get_precision(ground_truth, predicted):\n",
    "\n",
    "    true_positives = np.sum(np.logical_and(ground_truth, predicted))\n",
    "    false_positives = np.sum(np.logical_and(1-ground_truth, predicted))\n",
    "\n",
    "    return (true_positives) / (true_positives + false_positives)"
   ]
  },
  {
   "cell_type": "code",
   "execution_count": 96,
   "metadata": {},
   "outputs": [],
   "source": [
    "def get_recall(ground_truth, predicted):\n",
    "\n",
    "    true_positives = np.sum(np.logical_and(ground_truth, predicted))\n",
    "    false_nagatives = np.sum(np.logical_and(ground_truth, 1-predicted))\n",
    "\n",
    "    return (true_positives) / (true_positives + false_nagatives)"
   ]
  },
  {
   "cell_type": "code",
   "execution_count": 97,
   "metadata": {},
   "outputs": [],
   "source": [
    "def get_specificity(ground_truth, predicted):\n",
    "    true_negatives = np.sum(np.logical_and(1-ground_truth, 1-predicted))\n",
    "    false_positives = np.sum(np.logical_and(1-ground_truth, predicted))\n",
    "\n",
    "    return (true_negatives) / (true_negatives + false_positives)"
   ]
  },
  {
   "cell_type": "code",
   "execution_count": 98,
   "metadata": {},
   "outputs": [],
   "source": [
    "def get_f1_score(ground_truth, predicted):\n",
    "\n",
    "    precision = get_precision(ground_truth, predicted)\n",
    "    recall = get_recall(ground_truth, predicted)\n",
    "\n",
    "    return 2 * (precision * recall) / (precision + recall)"
   ]
  },
  {
   "cell_type": "code",
   "execution_count": 99,
   "metadata": {},
   "outputs": [],
   "source": [
    "# def get_Jaccard(ground_truth, predicted):\n",
    "#     intersection = np.sum(np.logical_and(ground_truth, predicted))\n",
    "#     union = np.sum(np.logical_or(ground_truth, predicted))\n",
    "\n",
    "#     return intersection / union\n",
    "\n",
    "def get_Jaccard(ground_truth, predicted):\n",
    "    overlap_measures_filter = sitk.LabelOverlapMeasuresImageFilter()\n",
    "    overlap_measures_filter.Execute(sitk.GetImageFromArray(ground_truth), sitk.GetImageFromArray(predicted))\n",
    "    \n",
    "    return overlap_measures_filter.GetJaccardCoefficient()"
   ]
  },
  {
   "cell_type": "code",
   "execution_count": 100,
   "metadata": {},
   "outputs": [],
   "source": [
    "def get_DSC(ground_truth, predicted):\n",
    "    return get_f1_score(ground_truth, predicted)"
   ]
  },
  {
   "cell_type": "code",
   "execution_count": 101,
   "metadata": {},
   "outputs": [],
   "source": [
    "def get_volume_similarity(ground_truth, predicted):\n",
    "    overlap_measures_filter = sitk.LabelOverlapMeasuresImageFilter()\n",
    "    overlap_measures_filter.Execute(sitk.GetImageFromArray(ground_truth), sitk.GetImageFromArray(predicted))\n",
    "    \n",
    "    return overlap_measures_filter.GetVolumeSimilarity()"
   ]
  },
  {
   "cell_type": "code",
   "execution_count": 102,
   "metadata": {},
   "outputs": [],
   "source": [
    "def get_HD(ground_truth, predicted):\n",
    "    hausdorff_distance_filter = sitk.HausdorffDistanceImageFilter()\n",
    "    hausdorff_distance_filter.Execute(sitk.GetImageFromArray(ground_truth), sitk.GetImageFromArray(predicted))\n",
    "    \n",
    "    return hausdorff_distance_filter.GetHausdorffDistance()"
   ]
  },
  {
   "cell_type": "code",
   "execution_count": 110,
   "metadata": {},
   "outputs": [],
   "source": [
    "import numpy as np\n",
    "from scipy.ndimage import morphology\n",
    "\n",
    "def get_ASSD(input1, input2, sampling=1, connectivity=1):\n",
    "    input_1 = input1.copy()\n",
    "    input_2 = input2.copy() \n",
    "\n",
    "    conn = morphology.generate_binary_structure(input_1.ndim, connectivity)\n",
    "\n",
    "    S = input_1 - morphology.binary_erosion(input_1, conn)\n",
    "    Sprime = input_2 - morphology.binary_erosion(input_2, conn)\n",
    "\n",
    "    dta = morphology.distance_transform_edt(~S,sampling)\n",
    "    dtb = morphology.distance_transform_edt(~Sprime,sampling)\n",
    "    \n",
    "    sds = np.concatenate([np.ravel(dta[Sprime!=0]), np.ravel(dtb[S!=0])])\n",
    "       \n",
    "    return sds.mean()"
   ]
  },
  {
   "cell_type": "markdown",
   "metadata": {},
   "source": [
    "# Execute metrics on examples"
   ]
  },
  {
   "cell_type": "code",
   "execution_count": 104,
   "metadata": {},
   "outputs": [],
   "source": [
    "ground_truth = np.array([[0,0,0,0,0,0],\n",
    "                         [0,0,1,1,0,0],\n",
    "                         [0,1,1,1,1,0],\n",
    "                         [0,1,1,1,1,0],\n",
    "                         [0,0,0,0,0,0],\n",
    "                         [0,0,0,0,0,0]], dtype=np.int32)\n",
    "\n",
    "# Predicted segmentation\n",
    "predicted1 = np.array([[0,0,0,0,0,0],\n",
    "                       [0,1,1,1,1,0],\n",
    "                       [0,1,1,1,0,0],\n",
    "                       [0,1,1,1,0,0],\n",
    "                       [0,0,0,0,0,0],\n",
    "                       [0,0,0,0,0,0]], dtype=np.int32)\n",
    "\n",
    "predicted2 = np.array([[0,0,0,0,0,0],\n",
    "                       [0,0,0,1,0,0],\n",
    "                       [0,1,1,1,0,0],\n",
    "                       [0,1,1,1,1,0],\n",
    "                       [0,0,0,1,0,0],\n",
    "                       [0,0,0,1,0,0]], dtype=np.int32)\n",
    "\n",
    "predicted3 = np.array([[0,0,0,0,0,0],\n",
    "                       [0,0,0,0,1,0],\n",
    "                       [0,0,1,1,1,0],\n",
    "                       [0,1,1,1,1,0],\n",
    "                       [0,0,0,0,0,0],\n",
    "                       [0,0,0,0,0,0]], dtype=np.int32)\n",
    "                       "
   ]
  },
  {
   "cell_type": "code",
   "execution_count": 111,
   "metadata": {},
   "outputs": [
    {
     "name": "stdout",
     "output_type": "stream",
     "text": [
      "Accuracy:  0.8888888888888888\n",
      "Precision:  0.8\n",
      "Recall:  0.8\n",
      "Specificity:  0.9230769230769231\n",
      "F1 Score:  0.8000000000000002\n",
      "Jaccard:  0.6666666666666666\n",
      "DSC:  0.8000000000000002\n",
      "Volume Similarity:  0.0\n",
      "Hausdorff Distance:  1.0\n",
      "Average Symmetric Surface Distance:  3.999452597123684\n",
      "\n",
      "\n",
      "Accuracy:  0.8888888888888888\n",
      "Precision:  0.8\n",
      "Recall:  0.8\n",
      "Specificity:  0.9230769230769231\n",
      "F1 Score:  0.8000000000000002\n",
      "Jaccard:  0.6666666666666666\n",
      "DSC:  0.8000000000000002\n",
      "Volume Similarity:  0.0\n",
      "Hausdorff Distance:  2.0\n",
      "Average Symmetric Surface Distance:  4.426801438009301\n",
      "\n",
      "\n",
      "Accuracy:  0.8888888888888888\n",
      "Precision:  0.875\n",
      "Recall:  0.7\n",
      "Specificity:  0.9615384615384616\n",
      "F1 Score:  0.7777777777777777\n",
      "Jaccard:  0.6363636363636364\n",
      "DSC:  0.7777777777777777\n",
      "Volume Similarity:  0.2222222222222222\n",
      "Hausdorff Distance:  1.0\n",
      "Average Symmetric Surface Distance:  4.401298477386291\n",
      "\n",
      "\n"
     ]
    },
    {
     "name": "stderr",
     "output_type": "stream",
     "text": [
      "/tmp/ipykernel_167891/352518071.py:8: DeprecationWarning: Please import `generate_binary_structure` from the `scipy.ndimage` namespace; the `scipy.ndimage.morphology` namespace is deprecated and will be removed in SciPy 2.0.0.\n",
      "  conn = morphology.generate_binary_structure(input_1.ndim, connectivity)\n",
      "/tmp/ipykernel_167891/352518071.py:10: DeprecationWarning: Please import `binary_erosion` from the `scipy.ndimage` namespace; the `scipy.ndimage.morphology` namespace is deprecated and will be removed in SciPy 2.0.0.\n",
      "  S = input_1 - morphology.binary_erosion(input_1, conn)\n",
      "/tmp/ipykernel_167891/352518071.py:11: DeprecationWarning: Please import `binary_erosion` from the `scipy.ndimage` namespace; the `scipy.ndimage.morphology` namespace is deprecated and will be removed in SciPy 2.0.0.\n",
      "  Sprime = input_2 - morphology.binary_erosion(input_2, conn)\n",
      "/tmp/ipykernel_167891/352518071.py:14: DeprecationWarning: Please import `distance_transform_edt` from the `scipy.ndimage` namespace; the `scipy.ndimage.morphology` namespace is deprecated and will be removed in SciPy 2.0.0.\n",
      "  dta = morphology.distance_transform_edt(~S,sampling)\n",
      "/tmp/ipykernel_167891/352518071.py:15: DeprecationWarning: Please import `distance_transform_edt` from the `scipy.ndimage` namespace; the `scipy.ndimage.morphology` namespace is deprecated and will be removed in SciPy 2.0.0.\n",
      "  dtb = morphology.distance_transform_edt(~Sprime,sampling)\n"
     ]
    }
   ],
   "source": [
    "for prediction in [predicted1, predicted2, predicted3]:\n",
    "    print(\"Accuracy: \", get_accuracy(ground_truth, prediction))\n",
    "    print(\"Precision: \", get_precision(ground_truth, prediction))\n",
    "    print(\"Recall: \", get_recall(ground_truth, prediction))\n",
    "    print(\"Specificity: \", get_specificity(ground_truth, prediction))\n",
    "    print(\"F1 Score: \", get_f1_score(ground_truth, prediction))\n",
    "    print(\"Jaccard: \", get_Jaccard(ground_truth, prediction))\n",
    "    print(\"DSC: \", get_DSC(ground_truth, prediction))\n",
    "    print(\"Volume Similarity: \", get_volume_similarity(ground_truth, prediction))\n",
    "    print(\"Hausdorff Distance: \", get_HD(ground_truth, prediction))\n",
    "    print(\"Average Symmetric Surface Distance: \", get_ASSD(ground_truth, prediction))\n",
    "    print(\"\\n\")"
   ]
  }
 ],
 "metadata": {
  "kernelspec": {
   "display_name": ".venv",
   "language": "python",
   "name": "python3"
  },
  "language_info": {
   "codemirror_mode": {
    "name": "ipython",
    "version": 3
   },
   "file_extension": ".py",
   "mimetype": "text/x-python",
   "name": "python",
   "nbconvert_exporter": "python",
   "pygments_lexer": "ipython3",
   "version": "3.10.12"
  }
 },
 "nbformat": 4,
 "nbformat_minor": 2
}
