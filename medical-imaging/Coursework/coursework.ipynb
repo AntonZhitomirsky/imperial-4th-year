{
  "cells": [
    {
      "cell_type": "markdown",
      "metadata": {
        "id": "RGlp4sb-8i3i"
      },
      "source": [
        "# Coursework: Self-supervised learning\n",
        "\n",
        "**Submission:** You are asked to submit two versions of your notebook:\n",
        "1. You should submit the raw notebook in `.ipynb` format with *all outputs cleared*. Please name your file `coursework.ipynb`.\n",
        "2. Additionally, you will be asked to submit an exported version of your notebook in `.pdf` format, with *all outputs included*. We will primarily use this version for marking, but we will use the raw notebook to check for correct implementations. Please name this file `coursework_export.pdf`."
      ]
    },
    {
      "cell_type": "markdown",
      "metadata": {
        "id": "zxpFCs1SSOGF"
      },
      "source": [
        "## Your details\n",
        "\n",
        "Authors: **Anton Zhitomirsky**\n",
        "\n",
        "DoC alias: **az620**"
      ]
    },
    {
      "cell_type": "markdown",
      "metadata": {
        "id": "y4nr-pFhSOGF"
      },
      "source": [
        "## Setup"
      ]
    },
    {
      "cell_type": "code",
      "execution_count": 29,
      "metadata": {},
      "outputs": [
        {
          "name": "stderr",
          "output_type": "stream",
          "text": [
            "44236.10s - pydevd: Sending message related to process being replaced timed-out after 5 seconds\n"
          ]
        },
        {
          "name": "stdout",
          "output_type": "stream",
          "text": [
            "Requirement already satisfied: lightning in /home/avzh1/Documents/imperial/year4/lectures/.venv/lib/python3.10/site-packages (2.2.0.post0)\n",
            "Requirement already satisfied: medmnist in /home/avzh1/Documents/imperial/year4/lectures/.venv/lib/python3.10/site-packages (3.0.1)\n",
            "Requirement already satisfied: PyYAML<8.0,>=5.4 in /home/avzh1/Documents/imperial/year4/lectures/.venv/lib/python3.10/site-packages (from lightning) (6.0.1)\n",
            "Requirement already satisfied: fsspec<2025.0,>=2022.5.0 in /home/avzh1/Documents/imperial/year4/lectures/.venv/lib/python3.10/site-packages (from fsspec[http]<2025.0,>=2022.5.0->lightning) (2024.2.0)\n",
            "Requirement already satisfied: lightning-utilities<2.0,>=0.8.0 in /home/avzh1/Documents/imperial/year4/lectures/.venv/lib/python3.10/site-packages (from lightning) (0.10.1)\n",
            "Requirement already satisfied: numpy<3.0,>=1.17.2 in /home/avzh1/Documents/imperial/year4/lectures/.venv/lib/python3.10/site-packages (from lightning) (1.26.4)\n",
            "Requirement already satisfied: packaging<25.0,>=20.0 in /home/avzh1/Documents/imperial/year4/lectures/.venv/lib/python3.10/site-packages (from lightning) (23.2)\n",
            "Requirement already satisfied: torch<4.0,>=1.13.0 in /home/avzh1/Documents/imperial/year4/lectures/.venv/lib/python3.10/site-packages (from lightning) (2.2.0)\n",
            "Requirement already satisfied: torchmetrics<3.0,>=0.7.0 in /home/avzh1/Documents/imperial/year4/lectures/.venv/lib/python3.10/site-packages (from lightning) (1.3.1)\n",
            "Requirement already satisfied: tqdm<6.0,>=4.57.0 in /home/avzh1/Documents/imperial/year4/lectures/.venv/lib/python3.10/site-packages (from lightning) (4.66.2)\n",
            "Requirement already satisfied: typing-extensions<6.0,>=4.4.0 in /home/avzh1/Documents/imperial/year4/lectures/.venv/lib/python3.10/site-packages (from lightning) (4.9.0)\n",
            "Requirement already satisfied: pytorch-lightning in /home/avzh1/Documents/imperial/year4/lectures/.venv/lib/python3.10/site-packages (from lightning) (2.2.0)\n",
            "Requirement already satisfied: pandas in /home/avzh1/Documents/imperial/year4/lectures/.venv/lib/python3.10/site-packages (from medmnist) (2.2.0)\n",
            "Requirement already satisfied: scikit-learn in /home/avzh1/Documents/imperial/year4/lectures/.venv/lib/python3.10/site-packages (from medmnist) (1.4.0)\n",
            "Requirement already satisfied: scikit-image in /home/avzh1/Documents/imperial/year4/lectures/.venv/lib/python3.10/site-packages (from medmnist) (0.22.0)\n",
            "Requirement already satisfied: Pillow in /home/avzh1/Documents/imperial/year4/lectures/.venv/lib/python3.10/site-packages (from medmnist) (10.2.0)\n",
            "Requirement already satisfied: fire in /home/avzh1/Documents/imperial/year4/lectures/.venv/lib/python3.10/site-packages (from medmnist) (0.5.0)\n",
            "Requirement already satisfied: torchvision in /home/avzh1/Documents/imperial/year4/lectures/.venv/lib/python3.10/site-packages (from medmnist) (0.17.0)\n",
            "Requirement already satisfied: aiohttp!=4.0.0a0,!=4.0.0a1 in /home/avzh1/Documents/imperial/year4/lectures/.venv/lib/python3.10/site-packages (from fsspec[http]<2025.0,>=2022.5.0->lightning) (3.9.3)\n",
            "Requirement already satisfied: setuptools in /home/avzh1/Documents/imperial/year4/lectures/.venv/lib/python3.10/site-packages (from lightning-utilities<2.0,>=0.8.0->lightning) (69.1.0)\n",
            "Requirement already satisfied: filelock in /home/avzh1/Documents/imperial/year4/lectures/.venv/lib/python3.10/site-packages (from torch<4.0,>=1.13.0->lightning) (3.13.1)\n",
            "Requirement already satisfied: sympy in /home/avzh1/Documents/imperial/year4/lectures/.venv/lib/python3.10/site-packages (from torch<4.0,>=1.13.0->lightning) (1.12)\n",
            "Requirement already satisfied: networkx in /home/avzh1/Documents/imperial/year4/lectures/.venv/lib/python3.10/site-packages (from torch<4.0,>=1.13.0->lightning) (3.2.1)\n",
            "Requirement already satisfied: jinja2 in /home/avzh1/Documents/imperial/year4/lectures/.venv/lib/python3.10/site-packages (from torch<4.0,>=1.13.0->lightning) (3.1.3)\n",
            "Requirement already satisfied: nvidia-cuda-nvrtc-cu12==12.1.105 in /home/avzh1/Documents/imperial/year4/lectures/.venv/lib/python3.10/site-packages (from torch<4.0,>=1.13.0->lightning) (12.1.105)\n",
            "Requirement already satisfied: nvidia-cuda-runtime-cu12==12.1.105 in /home/avzh1/Documents/imperial/year4/lectures/.venv/lib/python3.10/site-packages (from torch<4.0,>=1.13.0->lightning) (12.1.105)\n",
            "Requirement already satisfied: nvidia-cuda-cupti-cu12==12.1.105 in /home/avzh1/Documents/imperial/year4/lectures/.venv/lib/python3.10/site-packages (from torch<4.0,>=1.13.0->lightning) (12.1.105)\n",
            "Requirement already satisfied: nvidia-cudnn-cu12==8.9.2.26 in /home/avzh1/Documents/imperial/year4/lectures/.venv/lib/python3.10/site-packages (from torch<4.0,>=1.13.0->lightning) (8.9.2.26)\n",
            "Requirement already satisfied: nvidia-cublas-cu12==12.1.3.1 in /home/avzh1/Documents/imperial/year4/lectures/.venv/lib/python3.10/site-packages (from torch<4.0,>=1.13.0->lightning) (12.1.3.1)\n",
            "Requirement already satisfied: nvidia-cufft-cu12==11.0.2.54 in /home/avzh1/Documents/imperial/year4/lectures/.venv/lib/python3.10/site-packages (from torch<4.0,>=1.13.0->lightning) (11.0.2.54)\n",
            "Requirement already satisfied: nvidia-curand-cu12==10.3.2.106 in /home/avzh1/Documents/imperial/year4/lectures/.venv/lib/python3.10/site-packages (from torch<4.0,>=1.13.0->lightning) (10.3.2.106)\n",
            "Requirement already satisfied: nvidia-cusolver-cu12==11.4.5.107 in /home/avzh1/Documents/imperial/year4/lectures/.venv/lib/python3.10/site-packages (from torch<4.0,>=1.13.0->lightning) (11.4.5.107)\n",
            "Requirement already satisfied: nvidia-cusparse-cu12==12.1.0.106 in /home/avzh1/Documents/imperial/year4/lectures/.venv/lib/python3.10/site-packages (from torch<4.0,>=1.13.0->lightning) (12.1.0.106)\n",
            "Requirement already satisfied: nvidia-nccl-cu12==2.19.3 in /home/avzh1/Documents/imperial/year4/lectures/.venv/lib/python3.10/site-packages (from torch<4.0,>=1.13.0->lightning) (2.19.3)\n",
            "Requirement already satisfied: nvidia-nvtx-cu12==12.1.105 in /home/avzh1/Documents/imperial/year4/lectures/.venv/lib/python3.10/site-packages (from torch<4.0,>=1.13.0->lightning) (12.1.105)\n",
            "Requirement already satisfied: triton==2.2.0 in /home/avzh1/Documents/imperial/year4/lectures/.venv/lib/python3.10/site-packages (from torch<4.0,>=1.13.0->lightning) (2.2.0)\n",
            "Requirement already satisfied: nvidia-nvjitlink-cu12 in /home/avzh1/Documents/imperial/year4/lectures/.venv/lib/python3.10/site-packages (from nvidia-cusolver-cu12==11.4.5.107->torch<4.0,>=1.13.0->lightning) (12.3.101)\n",
            "Requirement already satisfied: six in /home/avzh1/Documents/imperial/year4/lectures/.venv/lib/python3.10/site-packages (from fire->medmnist) (1.16.0)\n",
            "Requirement already satisfied: termcolor in /home/avzh1/Documents/imperial/year4/lectures/.venv/lib/python3.10/site-packages (from fire->medmnist) (2.4.0)\n",
            "Requirement already satisfied: python-dateutil>=2.8.2 in /home/avzh1/Documents/imperial/year4/lectures/.venv/lib/python3.10/site-packages (from pandas->medmnist) (2.8.2)\n",
            "Requirement already satisfied: pytz>=2020.1 in /home/avzh1/Documents/imperial/year4/lectures/.venv/lib/python3.10/site-packages (from pandas->medmnist) (2024.1)\n",
            "Requirement already satisfied: tzdata>=2022.7 in /home/avzh1/Documents/imperial/year4/lectures/.venv/lib/python3.10/site-packages (from pandas->medmnist) (2024.1)\n",
            "Requirement already satisfied: scipy>=1.8 in /home/avzh1/Documents/imperial/year4/lectures/.venv/lib/python3.10/site-packages (from scikit-image->medmnist) (1.12.0)\n",
            "Requirement already satisfied: imageio>=2.27 in /home/avzh1/Documents/imperial/year4/lectures/.venv/lib/python3.10/site-packages (from scikit-image->medmnist) (2.34.0)\n",
            "Requirement already satisfied: tifffile>=2022.8.12 in /home/avzh1/Documents/imperial/year4/lectures/.venv/lib/python3.10/site-packages (from scikit-image->medmnist) (2024.2.12)\n",
            "Requirement already satisfied: lazy_loader>=0.3 in /home/avzh1/Documents/imperial/year4/lectures/.venv/lib/python3.10/site-packages (from scikit-image->medmnist) (0.3)\n",
            "Requirement already satisfied: joblib>=1.2.0 in /home/avzh1/Documents/imperial/year4/lectures/.venv/lib/python3.10/site-packages (from scikit-learn->medmnist) (1.3.2)\n",
            "Requirement already satisfied: threadpoolctl>=2.0.0 in /home/avzh1/Documents/imperial/year4/lectures/.venv/lib/python3.10/site-packages (from scikit-learn->medmnist) (3.2.0)\n",
            "Requirement already satisfied: requests in /home/avzh1/Documents/imperial/year4/lectures/.venv/lib/python3.10/site-packages (from torchvision->medmnist) (2.31.0)\n",
            "Requirement already satisfied: aiosignal>=1.1.2 in /home/avzh1/Documents/imperial/year4/lectures/.venv/lib/python3.10/site-packages (from aiohttp!=4.0.0a0,!=4.0.0a1->fsspec[http]<2025.0,>=2022.5.0->lightning) (1.3.1)\n",
            "Requirement already satisfied: attrs>=17.3.0 in /home/avzh1/Documents/imperial/year4/lectures/.venv/lib/python3.10/site-packages (from aiohttp!=4.0.0a0,!=4.0.0a1->fsspec[http]<2025.0,>=2022.5.0->lightning) (23.2.0)\n",
            "Requirement already satisfied: frozenlist>=1.1.1 in /home/avzh1/Documents/imperial/year4/lectures/.venv/lib/python3.10/site-packages (from aiohttp!=4.0.0a0,!=4.0.0a1->fsspec[http]<2025.0,>=2022.5.0->lightning) (1.4.1)\n",
            "Requirement already satisfied: multidict<7.0,>=4.5 in /home/avzh1/Documents/imperial/year4/lectures/.venv/lib/python3.10/site-packages (from aiohttp!=4.0.0a0,!=4.0.0a1->fsspec[http]<2025.0,>=2022.5.0->lightning) (6.0.5)\n",
            "Requirement already satisfied: yarl<2.0,>=1.0 in /home/avzh1/Documents/imperial/year4/lectures/.venv/lib/python3.10/site-packages (from aiohttp!=4.0.0a0,!=4.0.0a1->fsspec[http]<2025.0,>=2022.5.0->lightning) (1.9.4)\n",
            "Requirement already satisfied: async-timeout<5.0,>=4.0 in /home/avzh1/Documents/imperial/year4/lectures/.venv/lib/python3.10/site-packages (from aiohttp!=4.0.0a0,!=4.0.0a1->fsspec[http]<2025.0,>=2022.5.0->lightning) (4.0.3)\n",
            "Requirement already satisfied: MarkupSafe>=2.0 in /home/avzh1/Documents/imperial/year4/lectures/.venv/lib/python3.10/site-packages (from jinja2->torch<4.0,>=1.13.0->lightning) (2.1.5)\n",
            "Requirement already satisfied: charset-normalizer<4,>=2 in /home/avzh1/Documents/imperial/year4/lectures/.venv/lib/python3.10/site-packages (from requests->torchvision->medmnist) (3.3.2)\n",
            "Requirement already satisfied: idna<4,>=2.5 in /home/avzh1/Documents/imperial/year4/lectures/.venv/lib/python3.10/site-packages (from requests->torchvision->medmnist) (3.6)\n",
            "Requirement already satisfied: urllib3<3,>=1.21.1 in /home/avzh1/Documents/imperial/year4/lectures/.venv/lib/python3.10/site-packages (from requests->torchvision->medmnist) (2.2.0)\n",
            "Requirement already satisfied: certifi>=2017.4.17 in /home/avzh1/Documents/imperial/year4/lectures/.venv/lib/python3.10/site-packages (from requests->torchvision->medmnist) (2024.2.2)\n",
            "Requirement already satisfied: mpmath>=0.19 in /home/avzh1/Documents/imperial/year4/lectures/.venv/lib/python3.10/site-packages (from sympy->torch<4.0,>=1.13.0->lightning) (1.3.0)\n"
          ]
        }
      ],
      "source": [
        "! pip install lightning medmnist"
      ]
    },
    {
      "cell_type": "code",
      "execution_count": 30,
      "metadata": {
        "id": "DJAj8P5r8i3m"
      },
      "outputs": [],
      "source": [
        "import os\n",
        "import numpy as np\n",
        "import torch\n",
        "import torch.nn as nn\n",
        "import torch.nn.functional as F\n",
        "import torchvision\n",
        "import matplotlib.pyplot as plt\n",
        "\n",
        "from torch.utils.data import DataLoader\n",
        "from torchvision import models\n",
        "# from torchvision import transforms\n",
        "from torchvision.transforms import v2\n",
        "from pytorch_lightning import LightningModule, LightningDataModule, Trainer, seed_everything\n",
        "from pytorch_lightning.loggers import TensorBoardLogger\n",
        "from pytorch_lightning.callbacks import ModelCheckpoint, TQDMProgressBar\n",
        "from torchmetrics.functional import auroc\n",
        "from PIL import Image\n",
        "from medmnist.info import INFO\n",
        "from medmnist.dataset import MedMNIST\n",
        "\n",
        "# Set a random seed for reproducibility\n",
        "torch.manual_seed(42)\n",
        "np.random.seed(42)"
      ]
    },
    {
      "cell_type": "markdown",
      "metadata": {
        "id": "AL7v3hY78i3n"
      },
      "source": [
        "## **Part A:** Implement a dataset suitable for contrastive learning.\n",
        "\n",
        "Dataset: [MedMNIST Pneumonia](https://medmnist.com/) (chest X-ray images downsampled to 28 $\\times$ 28 pixels), with binary labels indicating the presence of Pneumonia."
      ]
    },
    {
      "cell_type": "markdown",
      "metadata": {
        "id": "J2EAXIOzSOGJ"
      },
      "source": [
        "### **Task A-1:** Complete the dataset implementation.\n",
        "\n",
        "- implement a dataset class `SimCLRPneumoniaMNISTDataset`\n",
        "- suitable for training a self-supervised model with a contrastive objective\n",
        "- For each sample, your dataset class should return two 'views' of the corresponding image, forming the positive pairs for contrastive learning.\n",
        "- It is up to you to design suitable augmentation pipeline for generating these views\n",
        "- provide a short description\n",
        "\n",
        "Once you have implemented your dataset class, you are asked to run the provided visualisation code to visualise one batch of your training dataloader.\n",
        "\n",
        "*Note:* You can use the same data augmentation pipeline for training, validation, and testing."
      ]
    },
    {
      "cell_type": "code",
      "execution_count": 31,
      "metadata": {
        "id": "_WpnXKjrm0bL"
      },
      "outputs": [],
      "source": [
        "from typing import Any\n",
        "\n",
        "\n",
        "class SimCLRPneumoniaMNISTDataset(MedMNIST):\n",
        "    def __init__(self, split = 'train'):\n",
        "        \"\"\"Dataset class for PneumoniaMNIST.\n",
        "        \n",
        "        The provided init function will automatically download the necessary\n",
        "        files at the first class initialization.\n",
        "\n",
        "        Args:\n",
        "            split (str, optional): select subset of the data: 'train', 'val' or 'test'. Defaults to 'train'.\n",
        "        \"\"\"\n",
        "\n",
        "        self.flag = \"pneumoniamnist\"\n",
        "        self.size = 28\n",
        "        self.size_flag = \"\"\n",
        "        self.root = './data/coursework/'\n",
        "        self.info = INFO[self.flag]\n",
        "        self.download()\n",
        "\n",
        "        npz_file = np.load(os.path.join(self.root, \"pneumoniamnist.npz\"))\n",
        "\n",
        "        self.split = split\n",
        "\n",
        "        # Load all the images\n",
        "        assert self.split in ['train','val','test']\n",
        "\n",
        "        self.imgs = npz_file[f'{self.split}_images']\n",
        "        self.labels = npz_file[f'{self.split}_labels']\n",
        "\n",
        "        \"\"\"\n",
        "        The data augmentation follows a similar style as in the original paper's default settings with some minor adjustments for the training dataset that was given. The steps for the data augmentation are provided below with reasoning:\n",
        "\n",
        "            - random crop and resize: \n",
        "                The original paper uses images from the ImageNet, with avg size of approx 400x400. They performed aggressive random crops (from 0.08 <= x <= 1 of original) in area and a random aspect ratio (3/4 <= x <= 4/3) of the original aspect ratio made. Additionally a random crop + resize is followed by a random horizontal flip with 50\\% probability.\n",
        "\n",
        "                For this coursework, we have pneumonia images that have been scaled down to a 28x28 resolution. I am inspired by the paper to perform a random aggressive crop of 1/16 <= x <= 1 of the original area (at the extreme, this gives a 7x7 area to process which BY EYE seems aggressive enough without loosing too much detail). Further default parameters have been kept as is.\n",
        "\n",
        "            - random color-discoloration:\n",
        "                The original paper uses random distortion composed by color jittering and color dropping. However, our images come in black-and-white. Therefore, for this coursework we only utilize certain aspects of the color jittering with their suggested strength parameter 0.8*s. For our purpose, hue is irrelevant as we want to keep the model to learn only grey-scale features.\n",
        "\n",
        "            - gaussian blur:\n",
        "                In the paper, they blur the image 50% of the time using a Gaussian kernel. We randomly sample \\sigma ∈ [0.1, 2.0], and the kernel size is set to be 10% of the image height/width.\n",
        "        \"\"\"\n",
        "        \n",
        "        # Documentation: https://pytorch.org/vision/main/generated/torchvision.transforms.RandomResizedCrop.html\n",
        "\n",
        "        random_crop = v2.RandomResizedCrop(size=self.size, scale=(0.0625, 1), ratio=(3/4, 4/3))\n",
        "        \n",
        "        # Documentation: http://pytorch.org/vision/master/generated/torchvision.transforms.RandomHorizontalFlip.html\n",
        "\n",
        "        random_h_flip = v2.RandomHorizontalFlip(0.5)\n",
        "\n",
        "        # Documentation: https://pytorch.org/vision/main/generated/torchvision.transforms.ColorJitter.html\n",
        "        # Why no hue: We want to keep the model strictly learning about black-and-white features from the black-and-white scan. https://color-wheel-artist.com/hue/\n",
        "        # Why no saturation: Increasing or decreasing saturation on a black and white image typically has no effect https://www.imaginated.com/blog/what-is-saturation/#What_is_Color_Saturation\n",
        "\n",
        "        strength = 1\n",
        "        color_jitter = v2.ColorJitter(brightness=0.8*strength, contrast=0.8*strength)\n",
        "\n",
        "        # Documentation: https://pytorch.org/vision/master/generated/torchvision.transforms.GaussianBlur.html\n",
        "        # Custom Transforms: https://pytorch.org/tutorials/beginner/data_loading_tutorial.html#transforms\n",
        "\n",
        "        class RandomGaussianBlur(object):\n",
        "            def __init__(self, size, p=0.5):\n",
        "                \"\"\"Performs a GaussianBlur with a 50% chance. The unsuccessful times, the image is left as is.\n",
        "\n",
        "                Args:\n",
        "                    p (float, optional): Probability of performing a gaussian blur. Defaults to 0.5.\n",
        "                \"\"\"\n",
        "\n",
        "                self.size = size\n",
        "                self.p = 0.5\n",
        "\n",
        "            def __call__(self, x):\n",
        "                \"\"\"Stochastically performs a gaussian blur on the input defined by probability self.p\n",
        "\n",
        "                Args:\n",
        "                    x (_type_): _description_\n",
        "                \"\"\"\n",
        "                \n",
        "                if (torch.rand(1).item() < self.p):\n",
        "                    # Gaussian filter size should be odd and positive\n",
        "                    kernel_size = int(0.1*self.size)\n",
        "                    kernel_size = kernel_size + 1 if kernel_size % 2 == 0 else kernel_size\n",
        "                    gaussian_blur = v2.GaussianBlur(kernel_size=kernel_size, sigma=(0.1, 2.0))\n",
        "                    return gaussian_blur(x)\n",
        "                else:\n",
        "                    return x        \n",
        "\n",
        "        gaussian_blur = RandomGaussianBlur(size=self.size, p=0.5)\n",
        "\n",
        "        # Define the data augmentation pipeline.\n",
        "\n",
        "        self.augmentation_pipeline = v2.Compose([\n",
        "            random_crop,\n",
        "            random_h_flip,\n",
        "            color_jitter,\n",
        "            gaussian_blur\n",
        "        ])\n",
        "\n",
        "    def __len__(self):\n",
        "        return self.imgs.shape[0]\n",
        "\n",
        "    def __getitem__(self, index):\n",
        "        # TASK: Fill in the blanks such that you return two tensors\n",
        "        # of shape [1, 28, 28], img_view1 and img_view2, representing two augmented view of the images.\n",
        "        \n",
        "        # Get the image at the indexed position\n",
        "        x = np.expand_dims(self.imgs[index], axis=0)\n",
        "\n",
        "        x = torch.from_numpy(x)\n",
        "\n",
        "        return self.augmentation_pipeline(x), self.augmentation_pipeline(x)"
      ]
    },
    {
      "cell_type": "markdown",
      "metadata": {
        "id": "LwqYUOutSOGK"
      },
      "source": [
        "We use a [LightningDataModule](https://lightning.ai/docs/pytorch/stable/data/datamodule.html) for handling your PneumoniaMNIST dataset. You do not need to make any modifications to the code below."
      ]
    },
    {
      "cell_type": "code",
      "execution_count": 32,
      "metadata": {
        "id": "WQTVOXwESOGL"
      },
      "outputs": [],
      "source": [
        "class SimCLRPneumoniaMNISTDataModule(LightningDataModule):\n",
        "    def __init__(self, batch_size: int = 8):\n",
        "        super().__init__()\n",
        "        self.batch_size = batch_size\n",
        "        self.train_set = SimCLRPneumoniaMNISTDataset(split='train')\n",
        "        self.val_set = SimCLRPneumoniaMNISTDataset(split='val')\n",
        "        self.test_set = SimCLRPneumoniaMNISTDataset(split='test')\n",
        "\n",
        "    def train_dataloader(self):\n",
        "        return DataLoader(dataset=self.train_set, batch_size=self.batch_size, shuffle=True)\n",
        "\n",
        "    def val_dataloader(self):\n",
        "        return DataLoader(dataset=self.val_set, batch_size=self.batch_size, shuffle=False)\n",
        "\n",
        "    def test_dataloader(self):\n",
        "        return DataLoader(dataset=self.test_set, batch_size=self.batch_size, shuffle=False)"
      ]
    },
    {
      "cell_type": "markdown",
      "metadata": {
        "id": "TxDF8J8CSOGL"
      },
      "source": [
        "#### **Check** dataset implementation.\n",
        "\n",
        "Run the below cell to visualise a batch of your training dataloader."
      ]
    },
    {
      "cell_type": "code",
      "execution_count": 33,
      "metadata": {
        "id": "PbV-xhDitmrR"
      },
      "outputs": [
        {
          "name": "stdout",
          "output_type": "stream",
          "text": [
            "Using downloaded and verified file: ./data/coursework/pneumoniamnist.npz\n"
          ]
        },
        {
          "name": "stdout",
          "output_type": "stream",
          "text": [
            "Using downloaded and verified file: ./data/coursework/pneumoniamnist.npz\n",
            "Using downloaded and verified file: ./data/coursework/pneumoniamnist.npz\n"
          ]
        },
        {
          "data": {
            "image/png": "[encoded data removed]",
            "text/plain": [
              "<Figure size 1200x400 with 16 Axes>"
            ]
          },
          "metadata": {},
          "output_type": "display_data"
        }
      ],
      "source": [
        "# DO NOT MODIFY THIS CELL! IT IS FOR CHECKING THE IMPLEMENTATION ONLY.\n",
        "\n",
        "# Initialise data module\n",
        "datamodule = SimCLRPneumoniaMNISTDataModule()\n",
        "# Get train dataloader\n",
        "train_dataloader = datamodule.train_dataloader()\n",
        "# Get first batch\n",
        "batch = next(iter(train_dataloader))\n",
        "# Visualise the images\n",
        "view1, view2 = batch\n",
        "f, ax = plt.subplots(2, 8, figsize=(12,4))\n",
        "for i in range(8):\n",
        "  ax[0,i].imshow(view1[i, 0], cmap='gray')\n",
        "  ax[1,i].imshow(view2[i, 0], cmap='gray')\n",
        "  ax[0,i].set_title('view 1')\n",
        "  ax[1,i].set_title('view 2')\n",
        "  ax[0, i].axis(\"off\")\n",
        "  ax[1, i].axis(\"off\")"
      ]
    },
    {
      "cell_type": "markdown",
      "metadata": {
        "id": "z9dmJ2CV8i3o"
      },
      "source": [
        "## **Part B:** Implement the SimCLR loss and training step.\n",
        "\n",
        "In this part, we ask you to:\n",
        "1. Implement the SimCLR loss function, as per the equation in the lecture notes (and the [original paper](https://arxiv.org/abs/2002.05709)).\n",
        "2. Once you have implemented the loss, implement the training step function in the provided LightningModule."
      ]
    },
    {
      "cell_type": "markdown",
      "metadata": {
        "id": "sg3W4Mh8anKn"
      },
      "source": [
        "### **Task B-1:** SimCLR loss function.\n",
        "\n",
        "For the implementation of the SimCLR loss, you should follow the 'recipe' from the lecture slides. We provide a code skeleton to get you started. Fill in all the blanks.\n",
        "\n",
        "*Hint:* In PyTorch, to compute scalar products (also called dot products) between many elements efficiently, note that for two batches of $d$-dimensional feature vectors $v1$ and $v2$ of size $[N, d]$ (with $N$ being the batch size) computing the matrix multiplication `torch.mm(v1, v2.t())` returns a matrix $S$ of size $[N, N]$ where each element $S[i, j]$ is the scalar product of $v1_i$ and $v2_j$."
      ]
    },
    {
      "cell_type": "code",
      "execution_count": 44,
      "metadata": {
        "id": "PjS5kMqsFPZg"
      },
      "outputs": [],
      "source": [
        "def simclr_loss(embedding_view1, embedding_view2, tau = 1.0):\n",
        "  \"\"\"This function implements the SimCLR loss function as described in the original paper.\n",
        "  See lecture notes for formulas.\n",
        "\n",
        "  It takes as input the embeddings from both views and returns the loss value for that batch.\n",
        "\n",
        "  Args:\n",
        "      embedding_view1 (torch.tensor): shape [batch_size, embedding_dimension]\n",
        "      embedding_view2 (torch.tensor): shape [batch_size, embedding_dimension]\n",
        "      tau (float, optional): temperature parameter. Defaults to 1.0.\n",
        "\n",
        "  Returns:\n",
        "      torch.tensor: shape 1\n",
        "  \"\"\"\n",
        "  \n",
        "  # Step 1: normalize the embeddings with L_2 normalization over the embedding_dimension\n",
        "  embedding_view1 = F.normalize(embedding_view1, dim=-1)\n",
        "  embedding_view2 = F.normalize(embedding_view2, dim=-1)\n",
        "\n",
        "  # Step 2: gather all embeddings into one big vector of size [2*N , feature_dim]\n",
        "  embedding_combined = torch.cat((embedding_view1, embedding_view2), dim=0)\n",
        "\n",
        "  # Step 3: compute all possible similarities, should be a matrix of size [2 * N, 2 * N]\n",
        "  # all_similarities[i,j] will be the similarity between z_all_views[i] and z_all_views[j].\n",
        "  # We don't need any further division by ||i|| * ||j|| because they are already normalized. \n",
        "  all_similarities = torch.mm(embedding_combined, embedding_combined.T)\n",
        "\n",
        "  # Step 4: Here we want to return a mask of size[2 * N, 2 * N] for which mask[i,j] = 1 if\n",
        "  # z_all_views[i] and z_all_views[j] form a positive pair.\n",
        "  # There should be exactly 2 * N non-zeros elements in this matrix.\n",
        "  mask_self = torch.eye(all_similarities.size(0))\n",
        "  mask_positive_pair = torch.roll(mask_self, shifts=embedding_view1.size(0), dims=1)\n",
        "\n",
        "  # Step 5: self-mask. For computing the denominator term in the loss function,\n",
        "  # we need to sum over all possible similarities except the self-similarity.\n",
        "  # Create a mask of shape [2*N, 2*N] that is 1 for all valid pairs and 0 for all self-pairs (i = j).\n",
        "  mask_negative = 1 - mask_self\n",
        "  \n",
        "  # Step 6: Computing all numerators for the loss function.\n",
        "  # Should be vector of size [2 * N],\n",
        "  # where element is exp(sim(i, j) / t) for each positive pair (i, j).\n",
        "  # Re-use the computed quantities above.\n",
        "  numerator = torch.exp(torch.sum(mask_positive_pair * all_similarities, dim=1)/tau)\n",
        "\n",
        "  # Step 7: Computing all denominators for the loss function.\n",
        "  # Should be a vector of size [2 * N].\n",
        "  # Where each element should be the sum of exp(sim(i,k)/tau) for all k != i.\n",
        "  denominator = torch.sum(mask_negative * torch.exp(all_similarities/tau), dim=1)\n",
        "\n",
        "  # Step 8: Return the final loss values, using the previously computing numerators and denominators.\n",
        "  batch_loss = - torch.log(numerator / denominator)\n",
        "\n",
        "  return torch.mean(batch_loss)"
      ]
    },
    {
      "cell_type": "markdown",
      "metadata": {
        "id": "wHkOZiucO3-D"
      },
      "source": [
        "#### **Check** SimCLR loss function.\n",
        "\n",
        "To check your implementation, please run the following tests. Note that we will also use other tests on different inputs to test your code."
      ]
    },
    {
      "cell_type": "code",
      "execution_count": 45,
      "metadata": {
        "id": "orohu5xQO3KA"
      },
      "outputs": [
        {
          "name": "stderr",
          "output_type": "stream",
          "text": [
            "Seed set to 33\n"
          ]
        }
      ],
      "source": [
        "# DO NOT MODIFY THIS CELL! IT IS FOR CHECKING THE IMPLEMENTATION ONLY.\n",
        "\n",
        "seed_everything(33)\n",
        "\n",
        "expected_results = [torch.tensor(1.7518), torch.tensor(1.6376), torch.tensor(4.194),  torch.tensor(4.1754)]\n",
        "for i, (N, feature_dim) in enumerate(zip([3, 3, 33, 33], [5, 125, 5, 125])):\n",
        "  embedding_view1 = torch.rand((N, feature_dim))\n",
        "  embedding_view2 = torch.rand((N, feature_dim))\n",
        "  loss = simclr_loss(embedding_view1.clone(), embedding_view2.clone(), tau=0.5)\n",
        "  print(f\"Expected loss: {expected_results[i]}, Computed loss: {loss}\")\n",
        "  assert torch.isclose(loss, expected_results[i], rtol=1e-3)\n",
        "print(\"Passed all tests successfully !\")"
      ]
    },
    {
      "cell_type": "markdown",
      "metadata": {
        "id": "ir0Myj1n-q_G"
      },
      "source": [
        "### **Task B-2:** SimCLR training step.\n",
        "\n",
        "In this next task you are asked to complete the blanks in the provided [LightningModule](https://lightning.ai/docs/pytorch/stable/common/lightning_module.html).\n",
        "\n",
        "We provide the implementation of an image encoder (the CNN backbone that will act as feature extractor). No changes are needed for this part."
      ]
    },
    {
      "cell_type": "code",
      "execution_count": null,
      "metadata": {
        "id": "u77dpCujSOGO"
      },
      "outputs": [],
      "source": [
        "class ImageEncoder(torch.nn.Module):\n",
        "    def __init__(self) -> None:\n",
        "        super().__init__()\n",
        "        self.net = models.resnet50(weights=None)\n",
        "        del self.net.fc\n",
        "        self.net.conv1 = torch.nn.Conv2d(1, 64, kernel_size=7, stride=2, padding=3, bias=False)\n",
        "\n",
        "    def forward(self, x: torch.Tensor) -> torch.Tensor:\n",
        "        x = self.net.conv1(x)\n",
        "        x = self.net.bn1(x)\n",
        "        x = self.net.relu(x)\n",
        "        x0 = self.net.maxpool(x)\n",
        "        x1 = self.net.layer1(x0)\n",
        "        x2 = self.net.layer2(x1)\n",
        "        x3 = self.net.layer3(x2)\n",
        "        x4 = self.net.layer4(x3)\n",
        "        x4 = self.net.avgpool(x4)\n",
        "        x4 = torch.flatten(x4, 1)\n",
        "        return x4"
      ]
    },
    {
      "cell_type": "markdown",
      "metadata": {
        "id": "6Ih6SONfSOGO"
      },
      "source": [
        "Next, you will need to complete the implementation of the SimCLR model. In order to make the training step work correctly, you will need to implement the `process_batch` function."
      ]
    },
    {
      "cell_type": "code",
      "execution_count": null,
      "metadata": {
        "id": "7sizIiNm8i3o"
      },
      "outputs": [],
      "source": [
        "class SimCLRModel(LightningModule):\n",
        "    def __init__(self, learning_rate: float = 0.001):\n",
        "        super().__init__()\n",
        "        self.learning_rate = learning_rate\n",
        "\n",
        "        self.encoder = ImageEncoder()\n",
        "\n",
        "        self.projector = torch.nn.Sequential(\n",
        "            torch.nn.Linear(2048, 1024),\n",
        "            torch.nn.ReLU(),\n",
        "            torch.nn.Linear(1024, 128),\n",
        "        )\n",
        "\n",
        "    def configure_optimizers(self):\n",
        "        optimizer = torch.optim.Adam(self.parameters(), lr=self.learning_rate)\n",
        "        return optimizer\n",
        "\n",
        "    def process_batch(self, batch):\n",
        "        # TASK: Implement the process_batch function\n",
        "        ...\n",
        "        loss = simclr_loss(...)\n",
        "        return loss\n",
        "\n",
        "    def training_step(self, batch, batch_idx):\n",
        "        loss = self.process_batch(batch)\n",
        "        self.log('train_loss', loss, prog_bar=True)\n",
        "        if batch_idx == 0:\n",
        "            grid = torchvision.utils.make_grid(torch.cat((batch[0][0:4, ...], batch[1][0:4, ...]), dim=0), nrow=4, normalize=True)\n",
        "            self.logger.experiment.add_image('train_images', grid, self.global_step)\n",
        "        return loss\n",
        "\n",
        "    def validation_step(self, batch, batch_idx):\n",
        "        loss = self.process_batch(batch)\n",
        "        self.log('val_loss', loss, prog_bar=True)"
      ]
    },
    {
      "cell_type": "markdown",
      "metadata": {
        "id": "tgSl_FnT_H0B"
      },
      "source": [
        "#### **Check** SimCLR training step.\n",
        "\n",
        "Here you can test that your code runs fine by training the model for 5 epochs using the cell below.\n",
        "\n",
        "Report the training and validation loss at the end of 5 epochs."
      ]
    },
    {
      "cell_type": "code",
      "execution_count": null,
      "metadata": {
        "id": "sXksBOrR8i3p"
      },
      "outputs": [],
      "source": [
        "# DO NOT MODIFY THIS CELL! IT IS FOR CHECKING THE IMPLEMENTATION ONLY.\n",
        "\n",
        "seed_everything(33, workers=True)\n",
        "\n",
        "data = SimCLRPneumoniaMNISTDataModule(batch_size=32)\n",
        "\n",
        "model = SimCLRModel()\n",
        "\n",
        "trainer = Trainer(\n",
        "    max_epochs=5,\n",
        "    accelerator='auto',\n",
        "    devices=1,\n",
        "    logger=TensorBoardLogger(save_dir='./lightning_logs/coursework/', name='simclr'),\n",
        "    callbacks=[ModelCheckpoint(monitor='val_loss', mode='min'), TQDMProgressBar(refresh_rate=10)],\n",
        ")\n",
        "trainer.fit(model=model, datamodule=data)"
      ]
    },
    {
      "cell_type": "markdown",
      "metadata": {
        "id": "QRUmT50C8i3p"
      },
      "source": [
        "## **Part C:** Linear probing and model finetuning.\n",
        "\n",
        "Implementation of transfer learning strategies (linear probing and finetuning) for model evaluation.\n",
        "\n",
        "In this part, you are given two different image encoders that were pre-trained with different datasets and training strategies. The objective for this task is to assess the performance of these two encoders in a downstream classification task. This this end, you are asked to implement evaluation routines seen in the lecture: linear probing and model finetuning. The downstream task is the prediction of Pneumonia in the (small) chest X-ray images from the PneumoniaMNIST dataset.\n",
        "\n",
        "This part can be broken down into the following tasks:\n",
        "1. Adapt your PneunomiaMNIST dataset for the image classification task.\n",
        "2. Implement a classification model with a linear layer attached to a pre-trained image encoder.\n",
        "3. For both pre-trained encoders:\n",
        "    - a) Train the classifier on top of the frozen encoder (linear probing)\n",
        "    - b) Finetune the entire model (including the encoder).\n",
        "4. Evaluate all models on the test set, and provide a brief summary (no more than 300 words) with an analysis of your findings."
      ]
    },
    {
      "cell_type": "markdown",
      "metadata": {
        "id": "S8eiyVBc_429"
      },
      "source": [
        "### **Task C-1:** Adapt your PneunomiaMNIST dataset for the image classification task.\n",
        "\n",
        "We can base our implementation largely on the `SimCLRPneumoniaMNISTDataset` and adapt it to make it suitable for image classification. Think about a suitable data augmentation pipeline. Check previous tutorials for inspiration."
      ]
    },
    {
      "cell_type": "code",
      "execution_count": null,
      "metadata": {
        "id": "_5WXLUOtBpw_"
      },
      "outputs": [],
      "source": [
        "class PneumoniaMNISTDataset(MedMNIST):\n",
        "    def __init__(self, split = 'train', augmentation: bool = False):\n",
        "        ''' Dataset class for Pneumonia MNST.\n",
        "        The provided init function will automatically download the necessary\n",
        "        files at the first class initialistion.\n",
        "\n",
        "        :param split: 'train', 'val' or 'test', select subset\n",
        "\n",
        "        '''\n",
        "        self.flag = \"pneumoniamnist\"\n",
        "        self.size = 28\n",
        "        self.size_flag = \"\"\n",
        "        self.root = './data/coursework/'\n",
        "        self.info = INFO[self.flag]\n",
        "        self.download()\n",
        "\n",
        "        npz_file = np.load(os.path.join(self.root, \"pneumoniamnist.npz\"))\n",
        "\n",
        "        self.split = split\n",
        "\n",
        "        # Load all the images\n",
        "        assert self.split in ['train','val','test']\n",
        "\n",
        "        self.imgs = npz_file[f'{self.split}_images']\n",
        "        self.labels = npz_file[f'{self.split}_labels']\n",
        "\n",
        "        self.do_augment = augmentation\n",
        "\n",
        "        # TASK: Define here your data augmentation pipeline suitable for classification.\n",
        "        # Check previous tutorials for inspiration.\n",
        "        ...\n",
        "\n",
        "    def __len__(self):\n",
        "        return self.imgs.shape[0]\n",
        "\n",
        "    def __getitem__(self, index):\n",
        "        # TASK: Implement the __getitem__ function to return the image and its class label.\n",
        "        ...\n",
        "        return None, None"
      ]
    },
    {
      "cell_type": "markdown",
      "metadata": {
        "id": "pVd7l4PiSOGQ"
      },
      "source": [
        "Again, we use a [LightningDataModule](https://lightning.ai/docs/pytorch/stable/data/datamodule.html) for handling your PneumoniaMNIST dataset. No changes needed for this part."
      ]
    },
    {
      "cell_type": "code",
      "execution_count": null,
      "metadata": {
        "id": "i_5yidccSOGQ"
      },
      "outputs": [],
      "source": [
        "class PneumoniaMNISTDataModule(LightningDataModule):\n",
        "    def __init__(self, batch_size: int = 32):\n",
        "        super().__init__()\n",
        "        self.batch_size = batch_size\n",
        "        self.train_set = PneumoniaMNISTDataset(split='train', augmentation=True)\n",
        "        self.val_set = PneumoniaMNISTDataset(split='val', augmentation=False)\n",
        "        self.test_set = PneumoniaMNISTDataset(split='test', augmentation=False)\n",
        "\n",
        "    def train_dataloader(self):\n",
        "        return DataLoader(dataset=self.train_set, batch_size=self.batch_size, shuffle=True)\n",
        "\n",
        "    def val_dataloader(self):\n",
        "        return DataLoader(dataset=self.val_set, batch_size=self.batch_size, shuffle=False)\n",
        "\n",
        "    def test_dataloader(self):\n",
        "        return DataLoader(dataset=self.test_set, batch_size=self.batch_size, shuffle=False)"
      ]
    },
    {
      "cell_type": "markdown",
      "metadata": {},
      "source": [
        "#### **Check** dataset implementation.\n",
        "\n",
        "Run the below cell to visualise a batch of your training dataloader."
      ]
    },
    {
      "cell_type": "code",
      "execution_count": null,
      "metadata": {},
      "outputs": [],
      "source": [
        "# DO NOT MODIFY THIS CELL! IT IS FOR CHECKING THE IMPLEMENTATION ONLY.\n",
        "\n",
        "# Initialise data module\n",
        "datamodule = PneumoniaMNISTDataModule()\n",
        "# Get train dataloader\n",
        "train_dataloader = datamodule.train_dataloader()\n",
        "# Get first batch\n",
        "batch = next(iter(train_dataloader))\n",
        "# Visualise the images\n",
        "images, labels = batch\n",
        "f, ax = plt.subplots(1, 8, figsize=(12,4))\n",
        "for i in range(8):\n",
        "  ax[i].imshow(images[i, 0], cmap='gray')\n",
        "  ax[i].set_title('label: ' + str(labels[i].item()))\n",
        "  ax[i].axis(\"off\")"
      ]
    },
    {
      "cell_type": "markdown",
      "metadata": {
        "id": "UU2tN86DChgL"
      },
      "source": [
        "### **Task C-2:** Implement a classification model with a linear layer attached to a pre-trained image encoder.\n",
        "\n",
        "We first download the weights of the two pre-trained image encoders. One of them has been trained with the self-supervised SimCLR objective on a large publicly available chest X-ray dataset (different from PneunomiaMNIST). The other encoder is a standard ImageNet backbone that has been trained with a supervised classification objective on the ImageNet dataset."
      ]
    },
    {
      "cell_type": "code",
      "execution_count": null,
      "metadata": {
        "id": "-gX9NTQqSOGR"
      },
      "outputs": [],
      "source": [
        "! wget https://www.doc.ic.ac.uk/~bglocker/teaching/mli/coursework.zip\n",
        "! unzip coursework.zip"
      ]
    },
    {
      "cell_type": "markdown",
      "metadata": {
        "id": "9KCcuk9ISOGR"
      },
      "source": [
        "We provide the function for loading the encoders. No changes needed here."
      ]
    },
    {
      "cell_type": "code",
      "execution_count": null,
      "metadata": {
        "id": "0iHkCTqLETVr"
      },
      "outputs": [],
      "source": [
        "def load_encoder_from_checkpoint(checkpoint_path):\n",
        "  ckpt = torch.load(checkpoint_path, map_location='cpu')\n",
        "  simclr_module = SimCLRModel()\n",
        "  print(simclr_module.load_state_dict(state_dict=ckpt))\n",
        "  return simclr_module.encoder.eval()\n",
        "\n",
        "imagenet_model = './data/coursework/model_imagenet.ckpt'\n",
        "chestxray_model = './data/coursework/model_chestxray.ckpt'"
      ]
    },
    {
      "cell_type": "markdown",
      "metadata": {
        "id": "otccmykgSOGS"
      },
      "source": [
        "Now, implement a classification model as a LightningModule for image classification using a pre-trained image encoder.\n",
        "\n",
        "The model should have a flag in the init function `freeze_encoder` that if set to true freezes all the weights in the encoder (used for linear probing), and if set to false all weights are trainable (used for model finetuning).\n",
        "\n",
        "*Hint:* Check out previous tutorials for inspiration on how to implement a classification model as LightningModule. For the coursework, we recommend using the Area Under the Receiver Operating Characteristic Curve (ROC-AUC) performance metric (instead of accuracy). ROC-AUC is measure of the overall discriminative power of a classification model. You can use the readily available implementation in [torchmetrics](https://lightning.ai/docs/torchmetrics/stable/classification/auroc.html#functional-interface). You should log the ROC-AUC similar to how we logged accuracy in previous tutorials."
      ]
    },
    {
      "cell_type": "code",
      "execution_count": null,
      "metadata": {
        "id": "h_lHEp69DVqt"
      },
      "outputs": [],
      "source": [
        "# TASK: Implement the ImageClassifier class\n",
        "# Check previous tutorials for insipration how to implement an `ImageClassifier`\n",
        "\n",
        "class ImageClassifier(LightningModule):\n",
        "    def __init__(self, pretrained_encoder: torch.nn.Module, freeze_encoder: bool = True, output_dim: int = 2, learning_rate: float = 0.001):\n",
        "        super().__init__()\n",
        "        ..."
      ]
    },
    {
      "cell_type": "markdown",
      "metadata": {
        "id": "CTN7khmEFVba"
      },
      "source": [
        "### **Task C-3a:** Implement training and testing for linear probing.\n",
        "\n",
        "Train two classification models using linear probing, one for each of the two provided image encoders. Evaluate on both the validation and test sets.\n",
        "\n",
        "*Note:* Training for 25 epochs should be sufficient."
      ]
    },
    {
      "cell_type": "code",
      "execution_count": null,
      "metadata": {
        "id": "vvjW7rGZFU1m"
      },
      "outputs": [],
      "source": [
        "seed_everything(33, workers=True)\n",
        "\n",
        "data = PneumoniaMNISTDataModule(batch_size=32)\n",
        "\n",
        "# TASK: Implement the linear probing training and testing routines.\n",
        "..."
      ]
    },
    {
      "cell_type": "markdown",
      "metadata": {
        "id": "gDa5-HnyHoRh"
      },
      "source": [
        "### **Task C-3b:** Implement training and testing for model finetuning.\n",
        "\n",
        "Repeat the experiments, but this time using model finetuning instead of linear probing. Evaluate on both the validation and test sets."
      ]
    },
    {
      "cell_type": "code",
      "execution_count": null,
      "metadata": {
        "id": "qF2RYgemHdf-"
      },
      "outputs": [],
      "source": [
        "seed_everything(33, workers=True)\n",
        "\n",
        "data = PneumoniaMNISTDataModule(batch_size=32)\n",
        "\n",
        "# TASK: Implement the model finetuning training and testing routines.\n",
        "..."
      ]
    },
    {
      "cell_type": "markdown",
      "metadata": {
        "id": "u9vluYnwSOGT"
      },
      "source": [
        "### **Task C-4:** Your evaluation report.\n",
        "\n",
        "Provide a brief summary (no more than 300 words) with an analysis of your findings. Try explaining the observed performance."
      ]
    },
    {
      "cell_type": "markdown",
      "metadata": {},
      "source": [
        "*Placeholder text with 300 words:*\n",
        "\n",
        "Lorem ipsum dolor sit amet, consectetur adipiscing elit. Sed id enim ut nibh pretium egestas. Maecenas at felis vel justo viverra ornare. Ut elit erat, sagittis in augue vel, ultrices pulvinar orci. Mauris posuere consequat lorem, non sodales purus convallis sed. Fusce ut purus eu risus pellentesque imperdiet quis a felis. Ut neque mi, porta vulputate metus in, ultrices consectetur mi. Ut eu fringilla turpis, vel accumsan felis.\n",
        "\n",
        "Morbi maximus, nunc quis accumsan euismod, sem urna eleifend lorem, non consequat mauris diam eget elit. Praesent at massa ante. Nulla semper, turpis eget elementum iaculis, felis ex ultricies mauris, ac lobortis odio dui ut massa. Morbi luctus varius turpis, sed maximus erat ullamcorper nec. Etiam quis magna in neque commodo pretium ac nec lacus. Etiam ornare euismod pharetra. Etiam pellentesque est at lectus iaculis, et semper tellus cursus. Integer blandit tellus lacus, ac cursus nisi aliquam quis. Donec ut aliquam erat. Duis at quam at velit malesuada sagittis. Aliquam vestibulum tellus vitae nibh finibus ullamcorper. Lorem ipsum dolor sit amet, consectetur adipiscing elit. In pretium eros et est auctor ultricies. Curabitur lectus velit, vulputate blandit turpis eget, maximus interdum nunc.\n",
        "\n",
        "Sed tincidunt scelerisque magna ut congue. Nulla porttitor a ante ac pellentesque. Nam porttitor velit vehicula, euismod ligula vitae, sagittis tortor. Mauris ut cursus augue. Morbi nec rhoncus sem. Fusce id dolor in elit faucibus laoreet. Quisque tempus odio non nisl elementum volutpat. Donec facilisis, urna sit amet congue pretium, metus ex vulputate magna, ut vulputate quam erat eu est. Aliquam diam magna, volutpat porta orci posuere, varius ornare odio. Nullam interdum faucibus sodales. Maecenas hendrerit sollicitudin erat, ut vestibulum neque interdum ac. Sed molestie suscipit rutrum. Aenean vitae ante purus. Sed sed maximus nibh. Nulla facilisi. Sed sit amet turpis vitae libero sagittis molestie a in ante. Sed ultricies interdum."
      ]
    },
    {
      "cell_type": "markdown",
      "metadata": {},
      "source": [
        "## Logging"
      ]
    },
    {
      "cell_type": "code",
      "execution_count": null,
      "metadata": {},
      "outputs": [],
      "source": [
        "%load_ext tensorboard\n",
        "%tensorboard --logdir './lightning_logs/coursework/'"
      ]
    }
  ],
  "metadata": {
    "accelerator": "GPU",
    "colab": {
      "gpuType": "T4",
      "provenance": []
    },
    "kernelspec": {
      "display_name": "Python 3 (ipykernel)",
      "language": "python",
      "name": "python3"
    },
    "language_info": {
      "codemirror_mode": {
        "name": "ipython",
        "version": 3
      },
      "file_extension": ".py",
      "mimetype": "text/x-python",
      "name": "python",
      "nbconvert_exporter": "python",
      "pygments_lexer": "ipython3",
      "version": "3.10.12"
    }
  },
  "nbformat": 4,
  "nbformat_minor": 0
}
