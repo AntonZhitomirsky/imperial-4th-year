{
  "cells": [
    {
      "cell_type": "markdown",
      "id": "military-character",
      "metadata": {
        "id": "military-character"
      },
      "source": [
        "# Lab 6: BERT for hate speech detection"
      ]
    },
    {
      "cell_type": "markdown",
      "id": "EslAmsE-tWMB",
      "metadata": {
        "id": "EslAmsE-tWMB"
      },
      "source": [
        "In this lab, we will take you through a practical use of Transformers. This notebook shows you how to use [Hugging face](https://huggingface.co/)'s package to import and train pretrained models for the tasks of hate speech classification and machine translation.\n",
        "\n",
        "We first show you all necessay components to use the ``transformers`` package before asking you to implement some code in the later sections.\n",
        "\n",
        "\n",
        "**Note:** The training of models will take quite some time so make sure to run this session with the GPU enabled.\n"
      ]
    },
    {
      "cell_type": "markdown",
      "id": "rwXjbNUJHzZ0",
      "metadata": {
        "id": "rwXjbNUJHzZ0"
      },
      "source": [
        "## Setting up the Environment"
      ]
    },
    {
      "cell_type": "markdown",
      "id": "Vina6dhaHz1N",
      "metadata": {
        "id": "Vina6dhaHz1N"
      },
      "source": [
        "First, we need to install Hugging Face [transformers](https://huggingface.co/transformers/index.html) and [Sentence piece Tokenizers](https://github.com/google/sentencepiece) with the following commands"
      ]
    },
    {
      "cell_type": "code",
      "execution_count": null,
      "id": "other-scottish",
      "metadata": {
        "id": "other-scottish"
      },
      "outputs": [],
      "source": [
        "#! pip install torch"
      ]
    },
    {
      "cell_type": "code",
      "execution_count": 1,
      "id": "modern-olympus",
      "metadata": {
        "id": "modern-olympus"
      },
      "outputs": [
        {
          "name": "stdout",
          "output_type": "stream",
          "text": [
            "Requirement already satisfied: transformers in /home/avzh1/Documents/imperial/year4/lectures/.venv/lib/python3.10/site-packages (4.38.1)\n",
            "Requirement already satisfied: filelock in /home/avzh1/Documents/imperial/year4/lectures/.venv/lib/python3.10/site-packages (from transformers) (3.13.1)\n",
            "Requirement already satisfied: huggingface-hub<1.0,>=0.19.3 in /home/avzh1/Documents/imperial/year4/lectures/.venv/lib/python3.10/site-packages (from transformers) (0.20.3)\n",
            "Requirement already satisfied: numpy>=1.17 in /home/avzh1/Documents/imperial/year4/lectures/.venv/lib/python3.10/site-packages (from transformers) (1.26.4)\n",
            "Requirement already satisfied: packaging>=20.0 in /home/avzh1/Documents/imperial/year4/lectures/.venv/lib/python3.10/site-packages (from transformers) (23.2)\n",
            "Requirement already satisfied: pyyaml>=5.1 in /home/avzh1/Documents/imperial/year4/lectures/.venv/lib/python3.10/site-packages (from transformers) (6.0.1)\n",
            "Requirement already satisfied: regex!=2019.12.17 in /home/avzh1/Documents/imperial/year4/lectures/.venv/lib/python3.10/site-packages (from transformers) (2023.12.25)\n",
            "Requirement already satisfied: requests in /home/avzh1/Documents/imperial/year4/lectures/.venv/lib/python3.10/site-packages (from transformers) (2.31.0)\n",
            "Requirement already satisfied: tokenizers<0.19,>=0.14 in /home/avzh1/Documents/imperial/year4/lectures/.venv/lib/python3.10/site-packages (from transformers) (0.15.2)\n",
            "Requirement already satisfied: safetensors>=0.4.1 in /home/avzh1/Documents/imperial/year4/lectures/.venv/lib/python3.10/site-packages (from transformers) (0.4.2)\n",
            "Requirement already satisfied: tqdm>=4.27 in /home/avzh1/Documents/imperial/year4/lectures/.venv/lib/python3.10/site-packages (from transformers) (4.66.2)\n",
            "Requirement already satisfied: fsspec>=2023.5.0 in /home/avzh1/Documents/imperial/year4/lectures/.venv/lib/python3.10/site-packages (from huggingface-hub<1.0,>=0.19.3->transformers) (2023.10.0)\n",
            "Requirement already satisfied: typing-extensions>=3.7.4.3 in /home/avzh1/Documents/imperial/year4/lectures/.venv/lib/python3.10/site-packages (from huggingface-hub<1.0,>=0.19.3->transformers) (4.9.0)\n",
            "Requirement already satisfied: charset-normalizer<4,>=2 in /home/avzh1/Documents/imperial/year4/lectures/.venv/lib/python3.10/site-packages (from requests->transformers) (3.3.2)\n",
            "Requirement already satisfied: idna<4,>=2.5 in /home/avzh1/Documents/imperial/year4/lectures/.venv/lib/python3.10/site-packages (from requests->transformers) (3.6)\n",
            "Requirement already satisfied: urllib3<3,>=1.21.1 in /home/avzh1/Documents/imperial/year4/lectures/.venv/lib/python3.10/site-packages (from requests->transformers) (2.2.1)\n",
            "Requirement already satisfied: certifi>=2017.4.17 in /home/avzh1/Documents/imperial/year4/lectures/.venv/lib/python3.10/site-packages (from requests->transformers) (2024.2.2)\n",
            "Requirement already satisfied: sentencepiece in /home/avzh1/Documents/imperial/year4/lectures/.venv/lib/python3.10/site-packages (0.2.0)\n",
            "Requirement already satisfied: ipywidgets in /home/avzh1/Documents/imperial/year4/lectures/.venv/lib/python3.10/site-packages (8.1.2)\n",
            "Requirement already satisfied: comm>=0.1.3 in /home/avzh1/Documents/imperial/year4/lectures/.venv/lib/python3.10/site-packages (from ipywidgets) (0.2.1)\n",
            "Requirement already satisfied: ipython>=6.1.0 in /home/avzh1/Documents/imperial/year4/lectures/.venv/lib/python3.10/site-packages (from ipywidgets) (8.21.0)\n",
            "Requirement already satisfied: traitlets>=4.3.1 in /home/avzh1/Documents/imperial/year4/lectures/.venv/lib/python3.10/site-packages (from ipywidgets) (5.14.1)\n",
            "Requirement already satisfied: widgetsnbextension~=4.0.10 in /home/avzh1/Documents/imperial/year4/lectures/.venv/lib/python3.10/site-packages (from ipywidgets) (4.0.10)\n",
            "Requirement already satisfied: jupyterlab-widgets~=3.0.10 in /home/avzh1/Documents/imperial/year4/lectures/.venv/lib/python3.10/site-packages (from ipywidgets) (3.0.10)\n",
            "Requirement already satisfied: decorator in /home/avzh1/Documents/imperial/year4/lectures/.venv/lib/python3.10/site-packages (from ipython>=6.1.0->ipywidgets) (5.1.1)\n",
            "Requirement already satisfied: jedi>=0.16 in /home/avzh1/Documents/imperial/year4/lectures/.venv/lib/python3.10/site-packages (from ipython>=6.1.0->ipywidgets) (0.19.1)\n",
            "Requirement already satisfied: matplotlib-inline in /home/avzh1/Documents/imperial/year4/lectures/.venv/lib/python3.10/site-packages (from ipython>=6.1.0->ipywidgets) (0.1.6)\n",
            "Requirement already satisfied: prompt-toolkit<3.1.0,>=3.0.41 in /home/avzh1/Documents/imperial/year4/lectures/.venv/lib/python3.10/site-packages (from ipython>=6.1.0->ipywidgets) (3.0.43)\n",
            "Requirement already satisfied: pygments>=2.4.0 in /home/avzh1/Documents/imperial/year4/lectures/.venv/lib/python3.10/site-packages (from ipython>=6.1.0->ipywidgets) (2.17.2)\n",
            "Requirement already satisfied: stack-data in /home/avzh1/Documents/imperial/year4/lectures/.venv/lib/python3.10/site-packages (from ipython>=6.1.0->ipywidgets) (0.6.3)\n",
            "Requirement already satisfied: exceptiongroup in /home/avzh1/Documents/imperial/year4/lectures/.venv/lib/python3.10/site-packages (from ipython>=6.1.0->ipywidgets) (1.2.0)\n",
            "Requirement already satisfied: pexpect>4.3 in /home/avzh1/Documents/imperial/year4/lectures/.venv/lib/python3.10/site-packages (from ipython>=6.1.0->ipywidgets) (4.9.0)\n",
            "Requirement already satisfied: parso<0.9.0,>=0.8.3 in /home/avzh1/Documents/imperial/year4/lectures/.venv/lib/python3.10/site-packages (from jedi>=0.16->ipython>=6.1.0->ipywidgets) (0.8.3)\n",
            "Requirement already satisfied: ptyprocess>=0.5 in /home/avzh1/Documents/imperial/year4/lectures/.venv/lib/python3.10/site-packages (from pexpect>4.3->ipython>=6.1.0->ipywidgets) (0.7.0)\n",
            "Requirement already satisfied: wcwidth in /home/avzh1/Documents/imperial/year4/lectures/.venv/lib/python3.10/site-packages (from prompt-toolkit<3.1.0,>=3.0.41->ipython>=6.1.0->ipywidgets) (0.2.13)\n",
            "Requirement already satisfied: executing>=1.2.0 in /home/avzh1/Documents/imperial/year4/lectures/.venv/lib/python3.10/site-packages (from stack-data->ipython>=6.1.0->ipywidgets) (2.0.1)\n",
            "Requirement already satisfied: asttokens>=2.1.0 in /home/avzh1/Documents/imperial/year4/lectures/.venv/lib/python3.10/site-packages (from stack-data->ipython>=6.1.0->ipywidgets) (2.4.1)\n",
            "Requirement already satisfied: pure-eval in /home/avzh1/Documents/imperial/year4/lectures/.venv/lib/python3.10/site-packages (from stack-data->ipython>=6.1.0->ipywidgets) (0.2.2)\n",
            "Requirement already satisfied: six>=1.12.0 in /home/avzh1/Documents/imperial/year4/lectures/.venv/lib/python3.10/site-packages (from asttokens>=2.1.0->stack-data->ipython>=6.1.0->ipywidgets) (1.16.0)\n",
            "usage: jupyter [-h] [--version] [--config-dir] [--data-dir] [--runtime-dir]\n",
            "               [--paths] [--json] [--debug]\n",
            "               [subcommand]\n",
            "\n",
            "Jupyter: Interactive Computing\n",
            "\n",
            "positional arguments:\n",
            "  subcommand     the subcommand to launch\n",
            "\n",
            "options:\n",
            "  -h, --help     show this help message and exit\n",
            "  --version      show the versions of core jupyter packages and exit\n",
            "  --config-dir   show Jupyter config dir\n",
            "  --data-dir     show Jupyter data dir\n",
            "  --runtime-dir  show Jupyter runtime dir\n",
            "  --paths        show all Jupyter paths. Add --json for machine-readable\n",
            "                 format.\n",
            "  --json         output paths as machine-readable json\n",
            "  --debug        output debug information about paths\n",
            "\n",
            "Available subcommands: console dejavu events execute kernel kernelspec lab\n",
            "labextension labhub migrate nbconvert notebook qtconsole run server\n",
            "troubleshoot trust\n",
            "\n",
            "Jupyter command `jupyter-nbextension` not found.\n"
          ]
        }
      ],
      "source": [
        "!pip install transformers\n",
        "!pip install sentencepiece\n",
        "!pip install ipywidgets\n",
        "!jupyter nbextension enable --py widgetsnbextension"
      ]
    },
    {
      "cell_type": "code",
      "execution_count": 2,
      "id": "developing-france",
      "metadata": {
        "id": "developing-france"
      },
      "outputs": [
        {
          "name": "stderr",
          "output_type": "stream",
          "text": [
            "2024-02-29 14:30:16.054210: I tensorflow/core/util/port.cc:113] oneDNN custom operations are on. You may see slightly different numerical results due to floating-point round-off errors from different computation orders. To turn them off, set the environment variable `TF_ENABLE_ONEDNN_OPTS=0`.\n",
            "2024-02-29 14:30:16.255539: E external/local_xla/xla/stream_executor/cuda/cuda_dnn.cc:9261] Unable to register cuDNN factory: Attempting to register factory for plugin cuDNN when one has already been registered\n",
            "2024-02-29 14:30:16.255632: E external/local_xla/xla/stream_executor/cuda/cuda_fft.cc:607] Unable to register cuFFT factory: Attempting to register factory for plugin cuFFT when one has already been registered\n",
            "2024-02-29 14:30:16.288195: E external/local_xla/xla/stream_executor/cuda/cuda_blas.cc:1515] Unable to register cuBLAS factory: Attempting to register factory for plugin cuBLAS when one has already been registered\n",
            "2024-02-29 14:30:16.365988: I tensorflow/core/platform/cpu_feature_guard.cc:182] This TensorFlow binary is optimized to use available CPU instructions in performance-critical operations.\n",
            "To enable the following instructions: AVX2 AVX_VNNI FMA, in other operations, rebuild TensorFlow with the appropriate compiler flags.\n",
            "2024-02-29 14:30:17.078345: W tensorflow/compiler/tf2tensorrt/utils/py_utils.cc:38] TF-TRT Warning: Could not find TensorRT\n"
          ]
        }
      ],
      "source": [
        "import torch\n",
        "import transformers\n",
        "import torch.nn as nn\n",
        "from torch.utils.data import DataLoader\n",
        "from tqdm.notebook import tqdm\n",
        "\n",
        "from transformers import Trainer, TrainingArguments\n",
        "from transformers import BertTokenizer\n",
        "from transformers import BertPreTrainedModel, BertModel\n",
        "\n",
        "import pandas as pd\n",
        "import numpy as np\n",
        "import os\n",
        "\n",
        "from sklearn.metrics import classification_report\n",
        "\n",
        "if not torch.cuda.is_available():\n",
        "  print('WARNING: You may want to change the runtime to GPU for faster training!')\n",
        "  DEVICE = 'cpu'\n",
        "else:\n",
        "  DEVICE = 'cuda:0'"
      ]
    },
    {
      "cell_type": "markdown",
      "id": "58jPlYaWk7fh",
      "metadata": {
        "id": "58jPlYaWk7fh"
      },
      "source": [
        "If you work in Colab, mount your google drive to save models and training checkpoints. Run the following code to connect your google drive to colab. Click on the link and copy and past the code you saw into the input box."
      ]
    },
    {
      "cell_type": "code",
      "execution_count": 3,
      "id": "qjdWhQHBk6RW",
      "metadata": {
        "id": "qjdWhQHBk6RW"
      },
      "outputs": [
        {
          "ename": "ModuleNotFoundError",
          "evalue": "No module named 'google.colab'",
          "output_type": "error",
          "traceback": [
            "\u001b[0;31m---------------------------------------------------------------------------\u001b[0m",
            "\u001b[0;31mModuleNotFoundError\u001b[0m                       Traceback (most recent call last)",
            "Cell \u001b[0;32mIn[3], line 1\u001b[0m\n\u001b[0;32m----> 1\u001b[0m \u001b[38;5;28;01mfrom\u001b[39;00m \u001b[38;5;21;01mgoogle\u001b[39;00m\u001b[38;5;21;01m.\u001b[39;00m\u001b[38;5;21;01mcolab\u001b[39;00m \u001b[38;5;28;01mimport\u001b[39;00m drive\n\u001b[1;32m      2\u001b[0m drive\u001b[38;5;241m.\u001b[39mmount(\u001b[38;5;124m'\u001b[39m\u001b[38;5;124m/content/drive\u001b[39m\u001b[38;5;124m'\u001b[39m)\n\u001b[1;32m      4\u001b[0m get_ipython()\u001b[38;5;241m.\u001b[39mrun_line_magic(\u001b[38;5;124m'\u001b[39m\u001b[38;5;124mcd\u001b[39m\u001b[38;5;124m'\u001b[39m, \u001b[38;5;124m\"\u001b[39m\u001b[38;5;124m'\u001b[39m\u001b[38;5;124m/content/drive/MyDrive/Colab Notebooks/\u001b[39m\u001b[38;5;124m'\u001b[39m\u001b[38;5;124m\"\u001b[39m)\n",
            "\u001b[0;31mModuleNotFoundError\u001b[0m: No module named 'google.colab'"
          ]
        }
      ],
      "source": [
        "from google.colab import drive\n",
        "drive.mount('/content/drive')\n",
        "\n",
        "%cd '/content/drive/MyDrive/Colab Notebooks/'\n",
        "%mkdir './Lab 6'\n",
        "%cd './Lab 6'"
      ]
    },
    {
      "cell_type": "markdown",
      "id": "qJ-jH0JoVG1v",
      "metadata": {
        "id": "qJ-jH0JoVG1v"
      },
      "source": [
        "## Hate Speech Classification"
      ]
    },
    {
      "cell_type": "markdown",
      "id": "cognitive-syndicate",
      "metadata": {
        "id": "cognitive-syndicate"
      },
      "source": [
        "### Downloading the dataset\n",
        "\n",
        "For the task of hate speech classification, we will work with the [Offensive Language Identification Dataset - OLID ](https://scholar.harvard.edu/malmasi/olid). It is a dataset of tweets hierarchically annotated on three levels:\n",
        "\n",
        "* Level A: Offensive Language Detection\n",
        "* Level B: Categorization of Offensive Language\n",
        "* Level C: Offensive Language Target Identification\n",
        "\n",
        "\n",
        "Let's download it first."
      ]
    },
    {
      "cell_type": "code",
      "execution_count": null,
      "id": "eISPHZ-7HwBk",
      "metadata": {
        "id": "eISPHZ-7HwBk"
      },
      "outputs": [],
      "source": [
        "%mkdir ./data\n",
        "%cd ./data\n",
        "\n",
        "if not os.path.isfile('pretrain.txt'):\n",
        "  !wget -O pretrain.txt https://www.dropbox.com/s/bavjtyx0ndty7xt/pretrain.txt?dl=0\n",
        "\n",
        "if not os.path.isfile('OLIDv1.0.zip'):\n",
        "  !wget -O OLIDv1.0.zip https://sites.google.com/site/offensevalsharedtask/olid/OLIDv1.0.zip\n",
        "  ! unzip OLIDv1.0.zip\n",
        "\n",
        "%cd ..\n"
      ]
    },
    {
      "cell_type": "markdown",
      "id": "TsIt3OVmNnRY",
      "metadata": {
        "id": "TsIt3OVmNnRY"
      },
      "source": [
        "Let's have a look at the data we downloaded.\n",
        "\n",
        "As mentioned above, the ``OLID`` dataset has been labeled for three subtask, therefore we have three different labels sets per tweet:\n",
        "* Task A: Not Offensive (``NOT``) and Offensive (``OFF``).\n",
        "* Task B: Targeted Insult (``TIN``), Untargeted (``UNT``) and ``NULL`` for not offensive tweets.\n",
        "* Task C: Individual (``IND``), Group (``GRP``), Other (``OTH``) and ``NULL`` for not offensive and non targeted tweets."
      ]
    },
    {
      "cell_type": "code",
      "execution_count": 4,
      "id": "rFwKBesVNmmr",
      "metadata": {
        "id": "rFwKBesVNmmr"
      },
      "outputs": [
        {
          "name": "stdout",
          "output_type": "stream",
          "text": [
            "Number of training samples: 13240\n"
          ]
        },
        {
          "data": {
            "text/html": [
              "<div>\n",
              "<style scoped>\n",
              "    .dataframe tbody tr th:only-of-type {\n",
              "        vertical-align: middle;\n",
              "    }\n",
              "\n",
              "    .dataframe tbody tr th {\n",
              "        vertical-align: top;\n",
              "    }\n",
              "\n",
              "    .dataframe thead th {\n",
              "        text-align: right;\n",
              "    }\n",
              "</style>\n",
              "<table border=\"1\" class=\"dataframe\">\n",
              "  <thead>\n",
              "    <tr style=\"text-align: right;\">\n",
              "      <th></th>\n",
              "      <th>id</th>\n",
              "      <th>tweet</th>\n",
              "      <th>subtask_a</th>\n",
              "      <th>subtask_b</th>\n",
              "      <th>subtask_c</th>\n",
              "    </tr>\n",
              "  </thead>\n",
              "  <tbody>\n",
              "    <tr>\n",
              "      <th>0</th>\n",
              "      <td>86426</td>\n",
              "      <td>@USER She should ask a few native Americans wh...</td>\n",
              "      <td>OFF</td>\n",
              "      <td>UNT</td>\n",
              "      <td>NaN</td>\n",
              "    </tr>\n",
              "    <tr>\n",
              "      <th>1</th>\n",
              "      <td>90194</td>\n",
              "      <td>@USER @USER Go home you’re drunk!!! @USER #MAG...</td>\n",
              "      <td>OFF</td>\n",
              "      <td>TIN</td>\n",
              "      <td>IND</td>\n",
              "    </tr>\n",
              "    <tr>\n",
              "      <th>2</th>\n",
              "      <td>16820</td>\n",
              "      <td>Amazon is investigating Chinese employees who ...</td>\n",
              "      <td>NOT</td>\n",
              "      <td>NaN</td>\n",
              "      <td>NaN</td>\n",
              "    </tr>\n",
              "    <tr>\n",
              "      <th>3</th>\n",
              "      <td>62688</td>\n",
              "      <td>@USER Someone should'veTaken\" this piece of sh...</td>\n",
              "      <td>OFF</td>\n",
              "      <td>UNT</td>\n",
              "      <td>NaN</td>\n",
              "    </tr>\n",
              "    <tr>\n",
              "      <th>4</th>\n",
              "      <td>43605</td>\n",
              "      <td>@USER @USER Obama wanted liberals &amp;amp; illega...</td>\n",
              "      <td>NOT</td>\n",
              "      <td>NaN</td>\n",
              "      <td>NaN</td>\n",
              "    </tr>\n",
              "  </tbody>\n",
              "</table>\n",
              "</div>"
            ],
            "text/plain": [
              "      id                                              tweet subtask_a  \\\n",
              "0  86426  @USER She should ask a few native Americans wh...       OFF   \n",
              "1  90194  @USER @USER Go home you’re drunk!!! @USER #MAG...       OFF   \n",
              "2  16820  Amazon is investigating Chinese employees who ...       NOT   \n",
              "3  62688  @USER Someone should'veTaken\" this piece of sh...       OFF   \n",
              "4  43605  @USER @USER Obama wanted liberals &amp; illega...       NOT   \n",
              "\n",
              "  subtask_b subtask_c  \n",
              "0       UNT       NaN  \n",
              "1       TIN       IND  \n",
              "2       NaN       NaN  \n",
              "3       UNT       NaN  \n",
              "4       NaN       NaN  "
            ]
          },
          "execution_count": 4,
          "metadata": {},
          "output_type": "execute_result"
        }
      ],
      "source": [
        "df = pd.read_csv('./data/olid-training-v1.0.tsv',delimiter=\"\\t\")\n",
        "\n",
        "print(f'Number of training samples: {len(df)}')\n",
        "\n",
        "df.head()"
      ]
    },
    {
      "cell_type": "markdown",
      "id": "published-southeast",
      "metadata": {
        "id": "published-southeast"
      },
      "source": [
        "### Loading and preprocessing the corpus\n"
      ]
    },
    {
      "cell_type": "markdown",
      "id": "nw6m7B6rEL6E",
      "metadata": {
        "id": "nw6m7B6rEL6E"
      },
      "source": [
        "Let's define ``reader_train`` and ``reader_test`` that will prepare our data corpus and labels for both train and test set."
      ]
    },
    {
      "cell_type": "code",
      "execution_count": 5,
      "id": "correct-tuner",
      "metadata": {
        "id": "correct-tuner"
      },
      "outputs": [],
      "source": [
        "def reader_train(file_name):\n",
        "    texts = []\n",
        "    labels = []\n",
        "    fin = open(file_name)\n",
        "    title = fin.readline()\n",
        "    set_a = ['NOT' , 'OFF']\n",
        "    set_b = ['NULL', 'TIN', 'UNT']\n",
        "    set_c = ['NULL', 'IND', 'GRP', 'OTH']\n",
        "    while True:\n",
        "        line = fin.readline()\n",
        "        if not line:\n",
        "            break\n",
        "        items = line.split('\\t')\n",
        "        text = items[1]\n",
        "        label_a = set_a.index(items[2].strip())\n",
        "        label_b = set_b.index(items[3].strip())\n",
        "        label_c = set_c.index(items[4].strip())\n",
        "\n",
        "        if len(text) > 0:\n",
        "            texts.append(text)\n",
        "            labels.append([label_a, label_b, label_c])\n",
        "\n",
        "    return {'texts':texts, 'labels':labels}"
      ]
    },
    {
      "cell_type": "code",
      "execution_count": 6,
      "id": "designed-screening",
      "metadata": {
        "id": "designed-screening"
      },
      "outputs": [],
      "source": [
        "def reader_test(test_textlist, test_labellist):\n",
        "    texts = []\n",
        "    labels = []\n",
        "    text_dict = {}\n",
        "\n",
        "    # build text_dict\n",
        "    for file_text in test_textlist:\n",
        "        fin = open(file_text)\n",
        "        title = fin.readline()\n",
        "        while True:\n",
        "            line = fin.readline()\n",
        "            if not line:\n",
        "                break\n",
        "            items = line.split('\\t')\n",
        "            if items[0] not in text_dict:\n",
        "                text_dict[items[0]] = items[1]\n",
        "        fin.close()\n",
        "    label_dict_list = []\n",
        "\n",
        "    # build label_dict\n",
        "    for i, file_label in enumerate(test_labellist):\n",
        "        label_dict_list.append({})\n",
        "        fin = open(file_label)\n",
        "        title = fin.readline()\n",
        "        while True:\n",
        "            line = fin.readline()\n",
        "            if not line:\n",
        "                break\n",
        "            items = line.split(',')\n",
        "            label_dict_list[i][items[0]] = items[1]\n",
        "        fin.close()\n",
        "\n",
        "    set_a = ['NOT' , 'OFF']\n",
        "    set_b = ['NULL', 'TIN', 'UNT']\n",
        "    set_c = ['NULL', 'IND', 'GRP', 'OTH']\n",
        "\n",
        "    for idx, text in text_dict.items():\n",
        "        if len(text) > 0:\n",
        "            texts.append(text)\n",
        "            if idx in label_dict_list[0]:\n",
        "                label_a = label_dict_list[0][idx]\n",
        "            else:\n",
        "                label_a = 'OFF'\n",
        "            if idx in label_dict_list[1]:\n",
        "                label_b = label_dict_list[1][idx]\n",
        "            else:\n",
        "                label_b = 'NULL'\n",
        "            if idx in label_dict_list[2]:\n",
        "                label_c = label_dict_list[2][idx]\n",
        "            else:\n",
        "                label_c = 'NULL'\n",
        "\n",
        "            label_a = set_a.index(label_a.strip())\n",
        "            label_b = set_b.index(label_b.strip())\n",
        "            label_c = set_c.index(label_c.strip())\n",
        "\n",
        "            labels.append([label_a, label_b, label_c])\n",
        "\n",
        "    return {'texts':texts, 'labels':labels}\n"
      ]
    },
    {
      "cell_type": "markdown",
      "id": "T4kLz8nca7ix",
      "metadata": {
        "id": "T4kLz8nca7ix"
      },
      "source": [
        "We also define our custom ``OlidDataset`` class which allows us to control how we handle the iteration and batches.\n",
        "\n",
        "At each iteration over the dataset object, the function ``__get_item__`` is called and returns a list of dictionnaries with the tweets and their 3 labels.\n",
        "Then, the ``collate_fn`` function will process the list of samples into their encodings and return a batch when called by the iterator during training."
      ]
    },
    {
      "cell_type": "code",
      "execution_count": 25,
      "id": "amber-exposure",
      "metadata": {
        "id": "amber-exposure"
      },
      "outputs": [],
      "source": [
        "class OlidDataset(torch.utils.data.Dataset):\n",
        "\n",
        "    def __init__(self, tokenizer, input_set):\n",
        "\n",
        "        self.tokenizer = tokenizer\n",
        "        self.texts = input_set['texts']\n",
        "        self.labels = input_set['labels']\n",
        "\n",
        "    def collate_fn(self, batch):\n",
        "\n",
        "        texts = []\n",
        "        labels_a = []\n",
        "        labels_b = []\n",
        "        labels_c = []\n",
        "        for b in batch:\n",
        "            texts.append(b['text'])\n",
        "            labels_a.append(b['label_a'])\n",
        "            labels_b.append(b['label_b'])\n",
        "            labels_c.append(b['label_c'])\n",
        "\n",
        "        # The maximum sequence size for BERT is 512 but here the tokenizer truncate sentences longer than 128 tokens.\n",
        "        # We also pad shorter sentences to a length of 128 tokens\n",
        "        encodings = self.tokenizer(texts, return_tensors='pt', padding=True, truncation=True, max_length=128)\n",
        "\n",
        "        labels = {}\n",
        "        encodings['label_a'] =  torch.tensor(labels_a)\n",
        "        encodings['label_b'] =  torch.tensor(labels_b)\n",
        "        encodings['label_c'] =  torch.tensor(labels_c)\n",
        "\n",
        "        return encodings\n",
        "\n",
        "    def __len__(self):\n",
        "        return len(self.texts)\n",
        "\n",
        "    def __getitem__(self, idx):\n",
        "\n",
        "        item = {'text': self.texts[idx],\n",
        "                'label_a': self.labels[idx][0],\n",
        "                'label_b': self.labels[idx][1],\n",
        "                'label_c': self.labels[idx][2]}\n",
        "        return item"
      ]
    },
    {
      "cell_type": "markdown",
      "id": "66CvfwkHbXO_",
      "metadata": {
        "id": "66CvfwkHbXO_"
      },
      "source": [
        "\n",
        "Now let's put it all together and load our data. Here we use a pre-made tokenizer that was used for our BERT model. Here we pick the pre-trained model ``bert-base-cased``. There are several other models of various sizes (base, large).\n",
        "\n",
        "**Note:** ``bert-base-cased`` is case-sensitive and it differenciates English from english. An non case-sensitive variant is ``bert-base-uncased``.\n",
        "\n",
        "You can always use another [tokenizer](https://huggingface.co/transformers/main_classes/tokenizer.html), but we will get better results using the same tokenizer as the one used to pre-train the model.\n"
      ]
    },
    {
      "cell_type": "code",
      "execution_count": 18,
      "id": "nHzy19X9TUqc",
      "metadata": {
        "id": "nHzy19X9TUqc"
      },
      "outputs": [
        {
          "data": {
            "text/plain": [
              "BertTokenizer(name_or_path='bert-base-cased', vocab_size=28996, model_max_length=512, is_fast=False, padding_side='right', truncation_side='right', special_tokens={'unk_token': '[UNK]', 'sep_token': '[SEP]', 'pad_token': '[PAD]', 'cls_token': '[CLS]', 'mask_token': '[MASK]'}, clean_up_tokenization_spaces=True),  added_tokens_decoder={\n",
              "\t0: AddedToken(\"[PAD]\", rstrip=False, lstrip=False, single_word=False, normalized=False, special=True),\n",
              "\t100: AddedToken(\"[UNK]\", rstrip=False, lstrip=False, single_word=False, normalized=False, special=True),\n",
              "\t101: AddedToken(\"[CLS]\", rstrip=False, lstrip=False, single_word=False, normalized=False, special=True),\n",
              "\t102: AddedToken(\"[SEP]\", rstrip=False, lstrip=False, single_word=False, normalized=False, special=True),\n",
              "\t103: AddedToken(\"[MASK]\", rstrip=False, lstrip=False, single_word=False, normalized=False, special=True),\n",
              "}"
            ]
          },
          "execution_count": 18,
          "metadata": {},
          "output_type": "execute_result"
        }
      ],
      "source": [
        "tokenizer = BertTokenizer.from_pretrained('bert-base-cased')\n",
        "\n",
        "# we can check the parameters of this tokenizer\n",
        "tokenizer"
      ]
    },
    {
      "cell_type": "code",
      "execution_count": 22,
      "id": "deluxe-biography",
      "metadata": {
        "id": "deluxe-biography"
      },
      "outputs": [],
      "source": [
        "trainset = reader_train('./data/olid-training-v1.0.tsv')\n",
        "testset = reader_test(['./data/testset-levela.tsv','./data/testset-levelb.tsv','./data/testset-levelc.tsv'],\n",
        "                      ['./data/labels-levela.csv','./data/labels-levelb.csv','./data/labels-levelc.csv'])\n",
        "\n",
        "train_dataset = OlidDataset(tokenizer, trainset)\n",
        "test_dataset = OlidDataset(tokenizer, testset)"
      ]
    },
    {
      "cell_type": "code",
      "execution_count": 26,
      "id": "5c9c15d7",
      "metadata": {},
      "outputs": [
        {
          "name": "stdout",
          "output_type": "stream",
          "text": [
            "{'text': ['#WhoIsQ #WheresTheServer #DumpNike #DECLASFISA Democrats Support Antifa, Muslim Brotherhood, MS13, ISIS, Pedophilia, Child Trafficking, Taxpayer Funded Abortion’s, Election Fraud, Sedition And Treason!!! #LockThemAllUp #WWG1WGA #QAnon \\u2066@USER URL\\n', '#ConstitutionDay is revered by Conservatives, hated by Progressives/Socialist/Democrats that want to change it.\\n'], 'label_a': tensor([1, 0]), 'label_b': tensor([0, 0]), 'label_c': tensor([0, 0])}\n",
            "{'text': ['#FOXNews #NRA #MAGA #POTUS #TRUMP #2ndAmendment #RNC #USMC #veterans @USER    @USER @USER @USER @USER   #fakereporting #THESWAMP #dnc #liberals @USER @USER #fakeoutrage @USER  First, it reduces the ca URL\\n', '#Watching #Boomer getting the news that she is still up for parole always makes me smile. #Wentworth Finale...@USER is such a treasure. URL\\n'], 'label_a': tensor([0, 0]), 'label_b': tensor([0, 0]), 'label_c': tensor([0, 0])}\n",
            "{'text': ['#NoPasaran: Unity demo to oppose the far-right in #London – #antifa #Oct13 — Enough is Enough! URL\\n', '. . . What the fuck did he do this time?\\n'], 'label_a': tensor([1, 1]), 'label_b': tensor([1, 1]), 'label_c': tensor([2, 1])}\n",
            "{'text': ['#RAP is a form of ART! Used to express yourself freely. It does not gv the green light or excuse the behavior of acting like an animal! She is not in the streets of the BX where violence is a way of living. Elevate yourself boo and get on @USER level for longevity! #QUEEN👑\\n', '@USER Do you get the feeling he is kissing @USER behind so he can humiliate him later?\\n'], 'label_a': tensor([0, 1]), 'label_b': tensor([0, 1]), 'label_c': tensor([0, 3])}\n",
            "{'text': ['5 Tips to Enhance Audience Connection on Facebook URL @USER #socialmedia #smm URL\\n', '#BiggBossTamil janani won the task. She is going to first final list👏👏👏👏\\n'], 'label_a': tensor([0, 0]), 'label_b': tensor([0, 0]), 'label_c': tensor([0, 0])}\n",
            "{'text': ['#Conservatives - the party of low taxation 😂 #Tories #Tory URL\\n', '𝓒-𝓒𝓮𝓭𝓻𝓪𝓷..  The Nord cannot make a single move, but he is fully aware of what is happening. A chill comes down his spine as a ghostly, rather. . . calm female voice called for him from a corner of the room.  Before he even has time to /attempt/ a response, +\\n'], 'label_a': tensor([0, 0]), 'label_b': tensor([0, 0]), 'label_c': tensor([0, 0])}\n",
            "{'text': ['#ConsTOO THE PLACE FOR FED UP CONSERVATIVES !!!\\n', '#GreatAwakening #QAnon #PatriotsUnited #WWG1WGA #AreYouAwake  WHEN YOU ARE AWAKE YOU SEE CLEARLY ❤️🧡💛💚  Check out this video URL URL\\n'], 'label_a': tensor([0, 0]), 'label_b': tensor([0, 0]), 'label_c': tensor([0, 0])}\n",
            "{'text': ['@USER Nigga ware da hits at\\n', '#StopKavanaugh he is liar like the rest of the #GOP URL\\n'], 'label_a': tensor([1, 1]), 'label_b': tensor([2, 1]), 'label_c': tensor([0, 1])}\n",
            "{'text': ['#Dayspromo week of September 17th #days #dool  A coma does things to a gal . Sami: You are going to be ok. Hattie: No thanks to you.  Get her out of here. Before she finishes me off.  Hattie pretends to be Marlena.  The look on Kayla face is priceless. URL\\n', '#BiggBossTelugu2 Let’s all include @USER in all our tweets...he is the business head of Star Maa network..don’t know if he knows about biggboss team and host hurting audience emotions  #BiggBossTelugu2\\n'], 'label_a': tensor([0, 0]), 'label_b': tensor([0, 0]), 'label_c': tensor([0, 0])}\n",
            "{'text': ['\"#Dallas#Policewoman kills neighbor in HIS own apartment? WHAT went wrong?? See:Officer who shot man in his own apartment was involved in 2017 shooting of a suspect. “She is devastated,said a Dallas police officer, adds she is \"\"so so sorry for his family?\"\" URL\"\\n', 'Always smack URL\\n'], 'label_a': tensor([0, 0]), 'label_b': tensor([0, 0]), 'label_c': tensor([0, 0])}\n",
            "{'text': ['#BREAKING: After a week-long trial, a Linn County jury convicted Gregory Davis of First-Degree Murder in connection with the Carrie Davis homicide that took place almost a year ago. URL URL\\n', '#Kavanaugh so a wild claim from 36 years ago of groping has evolved into A Rape A Violent Sexual Event by Move URL a Soros based Org. that supports BLM Antifa etc. Unbeievable!\\n'], 'label_a': tensor([0, 0]), 'label_b': tensor([0, 0]), 'label_c': tensor([0, 0])}\n",
            "{'text': [\"#kznlt Enjouji really is the prototype of my character brand, he is nothing but things that I love all rolled into one horrible package and fed directly into baby me's subconscious.\\n\", '#SilsilaBadallteRishtonKa tag is filled with appreciation of @USER only....   Never watched this serial but I always wanted appreciation for Aditi... She is underrated since starting of the show... She is worth of all this appreciation.. 👏👏👏\\n'], 'label_a': tensor([0, 0]), 'label_b': tensor([0, 0]), 'label_c': tensor([0, 0])}\n",
            "{'text': ['#Beto #BetoForSenate #BetoORourke #BetoforTX  Willie Nelson laughs at conservatives who are upset with him. URL\\n', '#HIAC  Damn Matt Hardy and Randy Orton put on one hell in a cell match!! Woooo!!! I hope he is okay!!\\n'], 'label_a': tensor([0, 0]), 'label_b': tensor([0, 0]), 'label_c': tensor([0, 0])}\n",
            "{'text': [\"@USER School shootings aren't controversial. Wanting gun control is.\\n\", '\"@USER @USER Put DeLauro in a police lineup identifying the bag lady\"\" - she would be picked everytime! She has to be proof either Conn voters are incompetent to vote or she is part of a vast voter fraud conspiracy! No one votes for a woman that gross!\"\"\"\\n'], 'label_a': tensor([0, 1]), 'label_b': tensor([0, 1]), 'label_c': tensor([0, 1])}\n",
            "{'text': ['@USER *coffee spit* Spartacus moment?  He never saw the film...\\n', '@ ALL FAMILY/FRIENDS , do not tell me  bad shit that your bf/gf did to you just to go right back to them!!!\\n'], 'label_a': tensor([0, 1]), 'label_b': tensor([0, 1]), 'label_c': tensor([0, 2])}\n",
            "{'text': ['#ChristineBlaseyFord is your #Kavanaugh accuser... #Liberals try this EVERY time... #ConfirmJudgeKavanaugh URL\\n', \"@USER 'Fellow Democrats don't want @USER 🦅🇺🇸 @USER to do well.. it's not about what's best for America. It's purely politics' - Dov Hikind, Democratic NY Assemblyman URL\\n\"], 'label_a': tensor([1, 0]), 'label_b': tensor([1, 0]), 'label_c': tensor([1, 0])}\n",
            "{'text': ['#osho #quotes via @USER Listen to your being. It is continuously giving you hints. It is a still, small voice. It does not shout at you, that is true. And if you are a little silent you will start feeling your way. Be the person you are. Never try… URL URL\\n', '#YYC @USER  looking hockey players of all ages/abilities for our Humboldt Tribute game Sunday 9/16. Arrive 2pm, dress, participate in our opening ceremony. Contact lindsay.clothier@USER if you are interested! #WePlayForThem #HumboldtStrong #HockeyIsFamily #GoNucks\\n'], 'label_a': tensor([0, 0]), 'label_b': tensor([0, 0]), 'label_c': tensor([0, 0])}\n",
            "{'text': ['#Conservatives #Brexit putting #Britain last.  Sending a chill down the spine of the #UK.\\n', '#Gamers go follow @USER on #Twitter and #twitch He is playing with @USER on #BlackOps4 #Blackout Please help and support them both on Twitter and twitch. Remember all #SupportForSupport and #SupportAllStreamers URL\\n'], 'label_a': tensor([0, 0]), 'label_b': tensor([0, 0]), 'label_c': tensor([0, 0])}\n",
            "{'text': ['#QuickTip: Find people already working in a company, or within the industry that you are interested in.  We know a lot of people! Send us your resume to info@USER or message us RIGHT NOW URL URL\\n', '#LiberalLogic If #Liberals get their way..... URL\\n'], 'label_a': tensor([0, 0]), 'label_b': tensor([0, 0]), 'label_c': tensor([0, 0])}\n",
            "{'text': [\"#ArianaAsesina? Is that serious?! Holy shit, please your fucking assholes, don't blame someone for the death of other one. She is sad enough for today, don't you see? It isn't fault of none, he had an overdose and died. End. Stop wanting someone to blame, fuckers.\\n\", '@USER How is she hiding her ugly personality. She is the worst.\\n'], 'label_a': tensor([1, 1]), 'label_b': tensor([1, 1]), 'label_c': tensor([1, 1])}\n",
            "{'text': ['......bitch what URL\\n', '\"#Georgetown Classmate Says #Left Accuser is Absolutely NUTS\"\"  URL \"\"Judge Kavanaugh\"\"@USER @USER @USER #ABC #CBS #Democrats #Liberals #women #MondayMotivation #MondayMorning #veterans #law #MAGA #GOP #CNN #MSNBC #NBC #Moms #BlackWomen #BET\"\"\"\\n'], 'label_a': tensor([1, 0]), 'label_b': tensor([2, 0]), 'label_c': tensor([0, 0])}\n",
            "{'text': ['@USER @USER @USER Are you referring to how they lollygag with gun control as their kids get slaughtered in schools?\\n', '@USER @USER @USER @USER @USER @USER @USER @USER @USER I’m shocked to learn human traffickers had guns.  Some probably illegal too.  CA needs more gun control.  But don’t worry about the actual crime.  The pic of black guns is worse.\\n'], 'label_a': tensor([0, 1]), 'label_b': tensor([0, 1]), 'label_c': tensor([0, 2])}\n",
            "{'text': ['#WELOVESEUNGCHEOL @USER   I am happy and proud of the work you have done to train seventeen along with the other members. I see you and you are wonderful and incredible. I really love u ㅠㅠ 💕. URL\\n', '#Chequers is a violation of democracy !!  #StandUp4Brexit  @USER @USER @USER  The will of the people must be respected URL\\n'], 'label_a': tensor([0, 0]), 'label_b': tensor([0, 0]), 'label_c': tensor([0, 0])}\n",
            "{'text': ['#Sessions Tells #Chicago: “If You Want More #Shootings, More #Death, Listen To #ACLU, #Antifa, #BlackLivesMatter” URL\\n', \"#Conservatives @USER - You're  a clown!  URL\\n\"], 'label_a': tensor([0, 1]), 'label_b': tensor([0, 1]), 'label_c': tensor([0, 1])}\n",
            "{'text': ['*voice in my head while I transfer money to my credit card* “bullshit that I bought and have to pay for”\\n', \"Levi Strauss has “never been afraid to take an unpopular stand to support a greater good.” '  What about when they shut down all manufacturing in America?  That wasn't even a news story when it happened. Maybe they're right; it wasn't unpopular.  URL\\n\"], 'label_a': tensor([1, 0]), 'label_b': tensor([2, 0]), 'label_c': tensor([0, 0])}\n",
            "{'text': [\"@USER $500,000 for her wedding. Clinton's always know what's best.\\n\", '#Kids Beating #Paraplegic #Trump #Boy!  #Left Teach Their #Children Hate Violence!  #schools #teachers #Democrats #Liberals #WalkAway #Moms #Mother #NEA #teachthemyoung #Christian #Catholic #Jews #Evangelicals #family #BlackWomen #BlackTwitter #Blacks #News #Media #Disabled #MAGA URL\\n'], 'label_a': tensor([0, 1]), 'label_b': tensor([0, 1]), 'label_c': tensor([0, 2])}\n",
            "{'text': ['0-9 : B-1, J-1, R-1, B-2, Q-2, B-3, BX-3, B-4, RB-4, Z-4, B-5, Q-5, B-6, H-6, B-7, H-7, UT-7, B-8 (20:59:36)\\n', '#AskAlly I only say that I adore you and you are a great person, please take care of yourself always❤️\\n'], 'label_a': tensor([0, 0]), 'label_b': tensor([0, 0]), 'label_c': tensor([0, 0])}\n",
            "{'text': ['\"#DOJ employee resisters\"\" r looking up conservatives’ license plates, home addresses, legal details in LexisNexis 2give to Dem Socialists/Antifa-project Veritas.But don\\'t worry, no govt in history has ever made political opponent lists and oppressed them🙄 URL\"\\n', '#Kelly McParland: Latest floor-crosser is telling truths the Liberals don’t like hearing - URL URL\\n'], 'label_a': tensor([0, 0]), 'label_b': tensor([0, 0]), 'label_c': tensor([0, 0])}\n",
            "{'text': ['#GreatAwakening #QAnon #PatriotsUnited #WWG1WGA #AreYouAwake  WHEN YOU ARE AWAKE YOU SEE CLEARLY ❤️🧡💛💚  Check out this video URL URL\\n', '#BoycottLevis Since the late 1990s, Levi’s has used its name and resources to attack gun rights. In 1999, the company gave $100,000 to gun control group PAX, followed by a $250,000 donation in 2000 and another $100,000 in 2001. URL\\n'], 'label_a': tensor([0, 0]), 'label_b': tensor([0, 0]), 'label_c': tensor([0, 0])}\n",
            "{'text': ['Are you fucking serious?   URL\\n', '*gets all the bitches*\\n'], 'label_a': tensor([0, 1]), 'label_b': tensor([0, 1]), 'label_c': tensor([0, 3])}\n",
            "{'text': ['@USER @USER @USER I got in a pretty deep debate with my friend and she told me that latinos for Trump and blacks for Trump were paid supporters 😂 then I said you mean antifa are paid domestic terrorist and she said No they are  anti-fascist then I said they are the fascist are you kidding me?!\\n', '#Antifa: Take note of how to protest with civility.   This is why socialism (aka communism) will never win. It is inherently evil and unsustainable. URL\\n'], 'label_a': tensor([0, 1]), 'label_b': tensor([0, 1]), 'label_c': tensor([0, 2])}\n",
            "{'text': ['#gmm #roastmycat hi @USER  this is Fiona. She is about 10 weeks old. She falls asleep in weird places URL\\n', '@USER omg is he for real ?!?!!??????) this happened in peru like 40 years ago and the Inti devaluated so fucking much that they had to comoletely change the coin system because our money was worthless i-\\n'], 'label_a': tensor([0, 1]), 'label_b': tensor([0, 1]), 'label_c': tensor([0, 1])}\n",
            "{'text': [\"#Conservatism101   It's not about our disagreements with #Conservatives. Its that Conservatives can't debate honestly, and they have no integrity. Whatever gets them thru today, is all that matters to them. They're fundamentally dishonest people. URL\\n\", '#Halloween Sign If You Are Reading This #CreepingUp Behind You Wood Wall Decoration #tmtinsta #cwsigns  URL via @USER\\n'], 'label_a': tensor([1, 0]), 'label_b': tensor([1, 0]), 'label_c': tensor([2, 0])}\n",
            "{'text': ['#huniachiweek No matter what you are going through today or in the past few days, your situation is never permanent. God is going to change your life for good. Trust and Believe that He is able to. Please, Read... URL\\n', \"@USER My only point of contention is this.  He decided to keep this group which has top end talent and also decided to hire hot trash Mike McCoy. Wilks hasn't even been able to get his defense to line up correctly. He is in over his head.\\n\"], 'label_a': tensor([0, 0]), 'label_b': tensor([0, 0]), 'label_c': tensor([0, 0])}\n",
            "{'text': ['And yet everyone seems to lack it URL\\n', '#MAGA   Expect more censorship URL\\n'], 'label_a': tensor([0, 0]), 'label_b': tensor([0, 0]), 'label_c': tensor([0, 0])}\n",
            "{'text': [\"And apparently I'm committed to going to a new level since I used the key.  Well FUCK.  Curiosity killed the Cat(hy)\\n\", \"#NE need to check out a dentist and find out if she is has a perfect work record? What about a child care facility? Now you can check online for all kinds of licensed professionals and it's free @ URL\\n\"], 'label_a': tensor([1, 0]), 'label_b': tensor([2, 0]), 'label_c': tensor([0, 0])}\n",
            "{'text': ['@USER @USER @USER @USER Then why aren’t there so many shootings in Virginia?  Jacksonville shooter got his guns IN MARYLAND!! Among the poster children for gun control!  What good did that do?!  You’re full of crap.\\n', '#Amnesty_International: US is in violation of international human rights law by not passing stronger #gun_control URL via @USER URL\\n'], 'label_a': tensor([1, 0]), 'label_b': tensor([1, 0]), 'label_c': tensor([2, 0])}\n",
            "{'text': [\"@USER Well she is Chuck Schumer's cousin or niece or something so she is obviously part of the DNC conspiracy against Nixon. Or part of the Deep State. Or a Zionist plot. Or 'Big comedy'. Or whatever the hell today's conspiracy theory is.\\n\", \"#GodsPraiseroom God keeps you even in the storms that may rock your boat - Let's all submit to His will after all he is the only one who really knows the end from the beginning URL\\n\"], 'label_a': tensor([0, 0]), 'label_b': tensor([0, 0]), 'label_c': tensor([0, 0])}\n",
            "{'text': ['#Spaldo is my guy.  He is my godson\\n', '#ANTIFA are bedfellows with The Democratic Socialists of America (DSA) who #JamesOKeefe has exposed as being inserted throughout government, attempting to bring down #America  #Trump #MAGA🇺🇸 #DeepState  URL\\n'], 'label_a': tensor([0, 1]), 'label_b': tensor([0, 1]), 'label_c': tensor([0, 3])}\n",
            "{'text': [\"#CNN ruthlessly continues #Fakenews onslot. Where's the honest analysis? Right here!  URL #tcot #CNN #NRA #massshooting #CNNISFAKENEWS #Conservatives #FakeNewsMedia #FakeNews #PBA #FakeNewsCNN\\n\", '#Brexit Barometer: Labour fails to capitalise as Conservatives fail to please; Kantar: nearly two thirds of the UK believe the government is handling Brexit negotations poorly.  URL\\n'], 'label_a': tensor([0, 0]), 'label_b': tensor([0, 0]), 'label_c': tensor([0, 0])}\n",
            "{'text': [\"@USER Antifa has TS level influence. It's scary.\\n\", \"@USER I have three accounts. Two quasi-anonymous, and one completely anon. And if twitter ever bans one of the quasi-anon, I'll make two anon accounts and tweet the most insane shit. I will drown twitter in bullshit. If one of those is banned, I'll make even more.\\n\"], 'label_a': tensor([1, 1]), 'label_b': tensor([1, 1]), 'label_c': tensor([3, 1])}\n",
            "{'text': [\"#MAGA Alert : Joe Biden on #Trump Supporters: 'The Dregs Of Society' (VIDEO) URL via @USER\\n\", \"$CERC is now Boyd's #1 stock. And he is the sole holder of the stock among hedge funds we track. URL\\n\"], 'label_a': tensor([0, 0]), 'label_b': tensor([0, 0]), 'label_c': tensor([0, 0])}\n",
            "{'text': ['\"@USER @USER @USER @USER @USER @USER @USER @USER @USER @USER @USER @USER @USER @USER City of Chicago, Democrat run with some of the strictest gun control in the nation.\"\"  😂 What\\'s your point, #NotThatBright? URL\"\\n', '#Liberals are so pathetic!  INNOCENT UNTIL PROVEN GUILTY mean much?  #Democrats should look at their own party if they need a rapist to hang!  #KavanaughIsInnocent #WalkAwayFromDemocrats. #LiberalLies are straight from the Pitts of HELL 🔥 URL\\n'], 'label_a': tensor([0, 1]), 'label_b': tensor([0, 1]), 'label_c': tensor([0, 2])}\n",
            "{'text': ['#Trump may be many things, but he is entertaining!!!! Thanks #twitter URL\\n', '$10 Million reallocated from FEMA to ICE. This guy gives zero shits about anyone not named Trump. If you’re in the mid Atlantic, get out. Now. URL\\n'], 'label_a': tensor([0, 1]), 'label_b': tensor([0, 1]), 'label_c': tensor([0, 1])}\n",
            "{'text': ['#FortniteBattleRoyale #XboxShare @USER   Please ban this cheating scum.  he is literally invisible URL\\n', '#I once read about the man who invented bulbs, he saw failure differently, it was 5000 new wayz of doing it differently..Now he is a genius#\\n'], 'label_a': tensor([1, 0]), 'label_b': tensor([1, 0]), 'label_c': tensor([1, 0])}\n",
            "{'text': ['#2AUnfettered Repeal all gun control laws. If the government can use it then the people should be able to as well. URL\\n', '.. Good thing it was responsible US Marines..  I’m pretty sure a group of Antifa members wouldn’t be running that fast in that direction to help anyone let alone elder seniors..  Thank you @USER ..  We salute You❗️  @USER @USER  @USER URL\\n'], 'label_a': tensor([0, 0]), 'label_b': tensor([0, 0]), 'label_c': tensor([0, 0])}\n",
            "{'text': ['#FordTheatre  Right on Cue, a GoFundMe acct has been set up for this person, the new #Liberals  mode of bribery and payoffs! @USER  Really should  investigate these GoFundMe as a  New outlet for  slush funds! #Comey, #McCabe, #Strzok\\n', '#Christian If Twitter and Facebook can silence conservatives, Christians we are next. Once censored, the darkness takes over. Help us grow in by living your faith aloud. Where we go one we go all. Prayer warriors, please help us grow this movement. URL\\n'], 'label_a': tensor([0, 0]), 'label_b': tensor([0, 0]), 'label_c': tensor([0, 0])}\n",
            "{'text': ['6ix9ine aus den speakern, fick deine political correctness\\n', '#fall #fashion #trending #coats #colors URL We have What You are looking for! #airdrie #calgary #lethbridge #toronto #vancouver #princegeorge URL\\n'], 'label_a': tensor([0, 0]), 'label_b': tensor([0, 0]), 'label_c': tensor([0, 0])}\n",
            "{'text': ['#republicans put WALLin budget..you are going to loose Pres.Trump followers. He is why U R there, so support him URL\\n', '#gmm #roastmycat hi @USER  this is Fiona. She is about 10 weeks old. She falls asleep in weird places URL\\n'], 'label_a': tensor([0, 0]), 'label_b': tensor([0, 0]), 'label_c': tensor([0, 0])}\n",
            "{'text': [\"#SesameStreet #BertandErnie the conversation about this is so unattractive. The creator says he didn't create a character gay and he is being attacked.\\n\", '#SerenaWilliams is so full of herself...she is just as painful to watch as to listen to...\\n'], 'label_a': tensor([1, 1]), 'label_b': tensor([1, 1]), 'label_c': tensor([2, 1])}\n",
            "{'text': ['#ColinKapernaeck has done nothing but sit on his ass and complain. It’s time black people and die hard white liberals, who think they are down with the cause aka @USER to wake the heck up or STFU! Colin is not a Civil Rights hero or martyr. No where near it.\\n', '#DanganronpaV3 ... here he is, claiming to be the mastermind, yet I still don’t believe him. I don’t think he’s the mastermind. There is evidence that suggests he is, but then there’s evidence that suggests he’s not...\\n'], 'label_a': tensor([1, 0]), 'label_b': tensor([1, 0]), 'label_c': tensor([1, 0])}\n",
            "{'text': ['#MonbebeSelcaDay she is beautiful URL\\n', '#LockHimUpNow #MAGA #QAnon @USER best President ever URL\\n'], 'label_a': tensor([0, 0]), 'label_b': tensor([0, 0]), 'label_c': tensor([0, 0])}\n",
            "{'text': ['@USER #GoodbyeNFL 👋 It was great before your players became Marxists! I’ll keep nixing any sports league that displays such support of the BS ‘oppression’ narrative. #GoodbyeNIKE\\n', \"#Liberals #Left #Democrats #Resist #Resistance #Antifa #BlueWave #BlueWave2018 It's 👌 to #WalkAway 👍😆 🇺🇸 🇺🇸 🇺🇸 #MAGA 🇺🇸 🇺🇸 🇺🇸   URL\\n\"], 'label_a': tensor([0, 0]), 'label_b': tensor([0, 0]), 'label_c': tensor([0, 0])}\n",
            "{'text': [\"#EmailMarketing #sales I will teach you how to create your own exclusive, online 'traffic economy' so you are never short of leads and sales again URL URL\\n\", '. JEFF SESSIONS: ‘LISTEN TO THE ACLU, ANTIFA, BLACK LIVES MATTER’ IF YOU WANT MORE CHICAGO SHOOTINGS  . URL\\n'], 'label_a': tensor([0, 1]), 'label_b': tensor([0, 1]), 'label_c': tensor([0, 3])}\n",
            "{'text': ['Amazon will ship live Christmas trees to your door — but will they stay and put on the damn lights? URL\\n', '@USER How sweet! Congratulations. Once he is house broken it will get better\\n'], 'label_a': tensor([1, 0]), 'label_b': tensor([1, 0]), 'label_c': tensor([3, 0])}\n",
            "{'text': ['@USER I BET she is a lot safer when she has sex now tho ? Or she wouldn’t have just one but a few kids . Why cant moms get dicked down too ?\\n', '#i2 This speaks for itself (NSFW) URL\\n'], 'label_a': tensor([1, 0]), 'label_b': tensor([1, 0]), 'label_c': tensor([1, 0])}\n",
            "{'text': [\"#JameyComey has been so silent these last few weeks, because he knows he's going to be indicted. 13:35  #FBI #DOJ  #Strzok #Page #TextMessages  #QAnon  #PatriotsFight  ty .@USER  #MAGA  URL\\n\", '#SupernaturalTNT #TheManWhoWouldBeKing OMG!  @USER You are amazing! @USER Crowley and Cas are always great together and I miss it!\\n'], 'label_a': tensor([0, 0]), 'label_b': tensor([0, 0]), 'label_c': tensor([0, 0])}\n",
            "{'text': ['*Available for Adoption* Lincoln County, NC Roger #A001257 SEX: MALE/NEUTERED  AGE: 13 weeks old INTAKE: 08/28/18 URL\\n', \"#Conservatives Govt ' @USER made my life hell': whistleblowers say they were threatened by regulator; I thought this Govt promised to protect whistleblowers?  URL\\n\"], 'label_a': tensor([0, 1]), 'label_b': tensor([0, 1]), 'label_c': tensor([0, 3])}\n",
            "{'text': ['Apple live keynote #AppleEvents   URL\\n', '@USER #Zuckerberg lies.\\n'], 'label_a': tensor([0, 0]), 'label_b': tensor([0, 0]), 'label_c': tensor([0, 0])}\n",
            "{'text': ['#lilduval “When you know u ain’t going to work tomorrow” #HappyFriday #SmileBitch #LivingMyBestLife❤ #HittemWithDaShoulders URL\\n', '#AntifaHorst - whuuuuut?! 😂  #antifa #maassen #seehofer URL\\n'], 'label_a': tensor([0, 0]), 'label_b': tensor([0, 0]), 'label_c': tensor([0, 0])}\n",
            "{'text': ['#NoteToMyStalker n his empire: Trust me, if my penance of a life n career are true, Nature will leave no stone unturned in getting you.  You will be left with nothing.  Every one of you.  No matter how powerful you are.\\n', \"#FreeLeahShaibu  Negotiate her release! She is someone's daughter! ! @USER @USER\\n\"], 'label_a': tensor([0, 0]), 'label_b': tensor([0, 0]), 'label_c': tensor([0, 0])}\n",
            "{'text': [\"#SerenaWilliams Serena was caught cheating with her coach but because it's collaborative she thinks she is not a thief. In her mind the real thief is the umpire who spotted what was going on and called it out. It's like a couple of bank robbers blaming a guard for calling police\\n\", '#Antifa ........  Retweet if you can’t stop watching this...   URL\\n'], 'label_a': tensor([0, 0]), 'label_b': tensor([0, 0]), 'label_c': tensor([0, 0])}\n",
            "{'text': ['#100NotOut Thank You for following!!  🔷 #Leicester 🔹@USER #VoteForChange #LocalElections2019 🔹 #VoteTory #VoteConservative 🔷 #CutCrime #CutRedTape #CutTaxes #CutGrass 🇬🇧#BetterServicesLowerTaxes 🇬🇧🔵\\n', \"#ThingsYouShouldNeverAssume when someone says she/he is okay or smile, maybe he/she doesn't wanna worry you.\\n\"], 'label_a': tensor([0, 0]), 'label_b': tensor([0, 0]), 'label_c': tensor([0, 0])}\n",
            "{'text': ['#Repost @USER with get_repost ・・・ Those who love you are not fooled by mistakes you have made, or by dark images you hold about yourself. They remember your beauty when you feel… URL\\n', '#1 Nick Gehlfuss stan just watched Friends! and she is not going to stop #tvtime URL\\n'], 'label_a': tensor([0, 0]), 'label_b': tensor([0, 0]), 'label_c': tensor([0, 0])}\n",
            "{'text': [\"#SEO #Tips: You are the master of your own fate online, so be wise and don't expect pity. If you screw up, nobody else is to blame.\\n\", '#FortniteBattleRoyale #XboxShare @USER   Please ban this cheating scum.  he is literally invisible URL\\n'], 'label_a': tensor([0, 1]), 'label_b': tensor([0, 1]), 'label_c': tensor([0, 1])}\n",
            "{'text': [\"#MAGA #Qanon #GreatAwakening #inners #WWG1WGA #NowComesThePain #WalkAway #GoodbyeDemocrats   Ellison Accuser Says She's Been Sidelined By Her Own Party URL\\n\", \"#Truth I will show you how to build your own personal, online 'traffic economy' so you are never in short supply of qualified prospects and sales again URL URL\\n\"], 'label_a': tensor([1, 0]), 'label_b': tensor([1, 0]), 'label_c': tensor([1, 0])}\n",
            "{'text': [\"@USER Gun control? I'm wondering who was in control of all those bodies that got suicided because of you. You need to be controlled.  24/7/365 #GITMO THE PAIN IS COMING. #MAGA #QAnon #Benghazi  Hope they televise your demise.\\n\", '#Antifa has a new cause URL\\n'], 'label_a': tensor([0, 0]), 'label_b': tensor([0, 0]), 'label_c': tensor([0, 0])}\n",
            "{'text': ['#Balkan Conservatives Unite at #Family Congress in #Moldova URL\\n', '#BoycottNFL .@USER You are dead to me. @USER @USER URL\\n'], 'label_a': tensor([0, 1]), 'label_b': tensor([0, 1]), 'label_c': tensor([0, 1])}\n",
            "{'text': [\"@USER #WalkAwayFromAllDemocrats  Michelle was there 8 years and we sure don't need any more bad advice from her now. We have a new Sheriff in Town, who's  #MAGA.  Get out and VOTE - ALL COLORS, ALL GENDERS (AKA) ALL AMERICANS!!! URL\\n\", '#ConstitutionDay Enforce U.S #Immigration laws Not One Set of laws for Illegal Aliens and one Set of laws for Citizens !  #Trump #MAGA #RedNationRising  #NoDACA URL\\n'], 'label_a': tensor([1, 0]), 'label_b': tensor([1, 0]), 'label_c': tensor([1, 0])}\n",
            "{'text': ['#BlaseyFord It’s so comical that liberals always want it both ways first women need to be treated as equals but when it comes to Ford testifying they say it’s unfair to have more men asking her questions. Which is it Dems are women equal or should we receive special treatment?\\n', '#2A GUN CONTROL KILLS PEOPLE, THIS IS WHY WE NEED CONCEALED CARRY URL\\n'], 'label_a': tensor([1, 0]), 'label_b': tensor([1, 0]), 'label_c': tensor([2, 0])}\n",
            "{'text': ['#Ted always has a feel for the most appropriate public behavior. But, often, he is unable to control himself. #GOPDysfunction URL\\n', \"#FollowTheWhiteRabbit #QAnon #GreatAwakening #SpyGate #WalkAway QAnon #QArmy #MAGA #Google #MAGA Poland #FISADeclassification #DearProfessorFord URL  Dem US Senator Corey Booker molesting a 15 year old in the 80's surfaces URL\\n\"], 'label_a': tensor([1, 0]), 'label_b': tensor([1, 0]), 'label_c': tensor([1, 0])}\n",
            "{'text': [\"@USER  Stick to Comedy ... You weren't that funny yo start with, but that political commentary of yours is pathetic !!!\\n\", '@USER #Holder needed to be impeached\\n'], 'label_a': tensor([1, 1]), 'label_b': tensor([1, 1]), 'label_c': tensor([1, 1])}\n",
            "{'text': ['#WeAreBRONCOS This little guy loves the Broncos!!!! He is one of their biggest fan!!! #beon9 @USER URL\\n', '#BBCNews - Cleverly: There have been no cuts to the #NHS James Cleverly on #Conservatives and coalition health spending URL\\n'], 'label_a': tensor([0, 0]), 'label_b': tensor([0, 0]), 'label_c': tensor([0, 0])}\n",
            "{'text': ['2011 me was cute as hell and I love that 2015 me looks like an Antifa protestor (when really I was freezing cold in the Hunter). And I need to dye my hair again OMG I loved being a redhead. URL\\n', \"#BelieveAllWomen just when I think things can't get dumber.. this happens.. liberals probably don't realize this because they are children but this isn't equality. How about we treat women an men the same.. pretty sure that'll have better results for culture\\n\"], 'label_a': tensor([0, 1]), 'label_b': tensor([0, 1]), 'label_c': tensor([0, 2])}\n",
            "{'text': ['\"#Today The two most important days in your life are the day you are born and the day you find out why.\"\" Mark Twain\"\"\"\\n', '#TheLadyBam has spoken! ❤ She is simply the BEST! 🙏🏼 #SpreadMaryLove 👠💃 #Onward URL\\n'], 'label_a': tensor([0, 0]), 'label_b': tensor([0, 0]), 'label_c': tensor([0, 0])}\n",
            "{'text': ['#media #credentials If you are POC and had a problem with @USER  please send DM me do not like this tweet\\n', '#ALERT   A win for the Progressive Conservatives.   The Ontario Court of Appeal has granted a stay of #Bill5,  which is to cut the number of Toronto city councillors from 47 to 25.\\n'], 'label_a': tensor([0, 0]), 'label_b': tensor([0, 0]), 'label_c': tensor([0, 0])}\n",
            "{'text': ['#SierraBurgessIsALoser  She is me when my phone dings 😂\\n', '@USER #metoo are all racist!\\n'], 'label_a': tensor([1, 1]), 'label_b': tensor([1, 1]), 'label_c': tensor([1, 2])}\n",
            "{'text': ['#GOP still acting like the wimps they are.. What!? they haven’t yet realized that Liberals will hate them regardless of their sentiments.. Either Republicans are just too stupid to get out of their own way or they’re just tilted to far left.. #ConfirmKavanaughNow\\n', \"#SerenaWilliams is NOT the first mother to be on the women's tour.  She is embarrassingly entitled and a bully.  Yes, that is Kim Clijsters winning a Major a year after having a baby.   @USER @USER @USER URL\\n\"], 'label_a': tensor([1, 0]), 'label_b': tensor([1, 0]), 'label_c': tensor([2, 0])}\n",
            "{'text': ['\"#TheArchers I want to be brilliant at Karate so I can kick the shit out of everyone\"\"\"\"\"\\n', '5. FED Agency - Hijaked with info on FED Agency by extremist group secretly funded - Antifa,BLM,Soros,CIA\\n'], 'label_a': tensor([1, 0]), 'label_b': tensor([2, 0]), 'label_c': tensor([0, 0])}\n",
            "{'text': ['#BaldwinFundraises at K Street Firm Working Pro-Bono for Gun Control Lobby #law #TammyBaldwin #fundraiser... URL URL\\n', '#AafiaSiddiqui is a convicted #terrorist but she is widely hailed as the Daughter of #Pakistan. URL\\n'], 'label_a': tensor([0, 0]), 'label_b': tensor([0, 0]), 'label_c': tensor([0, 0])}\n",
            "{'text': ['#DregsOfSociety  ??? #Deplorables   Liberals usually dehumanize those they want to exterminate later URL\\n', '#ALDUBLoveAndBeyond when you rise in life, your friends know who you are, when you fall down, you know who your friends are..\\n'], 'label_a': tensor([1, 0]), 'label_b': tensor([1, 0]), 'label_c': tensor([2, 0])}\n",
            "{'text': ['#Gemini woman: if she cannot change her scene, then she is liable to change the cast.\\n', '#WCE To my favorite girl! Hope your day is as awesome as you are! URL\\n'], 'label_a': tensor([0, 0]), 'label_b': tensor([0, 0]), 'label_c': tensor([0, 0])}\n",
            "{'text': ['#EmmyAwards2018 - Ratings tank as expected.  Who can possibly stand to watch so many liberals in one place at one time.\\n', \"@USER 'Cult like' caps.  Hmm where else do we see cult like caps #MAGA  🤯🤯\\n\"], 'label_a': tensor([1, 0]), 'label_b': tensor([1, 0]), 'label_c': tensor([2, 0])}\n",
            "{'text': [\"#Eagles are setting up a workout with Jeremy Maclin according to @USER It can't be this week though because he is still hurting.\\n\", '\"@USER Let\\'s just be friends and have a civil discussion.\"\"  So it\\'s totally fine if he is told to his face that his life is sinful. But criticize him ever so lightly and that is not civil anymore, which deserves a block!\"\"\"\\n'], 'label_a': tensor([0, 0]), 'label_b': tensor([0, 0]), 'label_c': tensor([0, 0])}\n",
            "{'text': ['@USER #Gutierrez has always been nothing more than a #racebaiter\\n', '#DISARMTHEM #ANTIFA  Give Jack here a participation trophy! URL\\n'], 'label_a': tensor([1, 0]), 'label_b': tensor([1, 0]), 'label_c': tensor([1, 0])}\n",
            "{'text': ['#CognitiveDissonanceChallenge2018  This one will be painful for conservatives. Proceed with caution. URL\\n', \"#Chequers crashes and burns in #Strasbourg along with #May's hopes of clinging to power...…..her support ebbing away in the @USER Party, in #Parliament and in the Country.  It is time for her to load the Webley.....\\n\"], 'label_a': tensor([0, 0]), 'label_b': tensor([0, 0]), 'label_c': tensor([0, 0])}\n",
            "{'text': [\"#John_Fund: Kavanaugh and Ford controversy – It's 1991 all over again and even some honest liberals are upset URL via @USER URL\\n\", \"#Elitist #Actors #NBC #Liberals of #Dems in #Hollywood at the #Emmy Awards a 'toothless' #NBC self-promotion onslaught peppered with #MeToo cracks but it was planned, staged and okay because they are #Democrats #Socialist #Liberals of the #Left #WALKAWAY ! URL\\n\"], 'label_a': tensor([0, 1]), 'label_b': tensor([0, 1]), 'label_c': tensor([0, 1])}\n",
            "{'text': ['@USER Kellerman knows only 1 thing more then the average man Boxing! He is a Brady hater. I will say Rodgers is maybe a better thrower ie. Dan Marino but a better QB then Brady. Jut look at his playoff record.\\n', '#DrFord  #DearProfessorFord  Is a FRAUD Female @USER group paid for and organized by #GeorgeSoros URL\\n'], 'label_a': tensor([0, 1]), 'label_b': tensor([0, 1]), 'label_c': tensor([0, 1])}\n",
            "{'text': [\"#Osaka says the crowd was noisy and i really didn't c what was going on. i had to focus cuz she is such a great champ and was confused when the score went to 5-3.\\n\", '#BlueWave #DumpTrump …give my love 2, or cooperate/compromise w/, conservatives/Trump supporters who constantly vilify marginalized groups, who constantly attack women’s rights 2 make choices about their own bodies,…\\n'], 'label_a': tensor([0, 1]), 'label_b': tensor([0, 1]), 'label_c': tensor([0, 2])}\n",
            "{'text': ['.@USER takes the season opener on Saturday. Highlights: URL\\n', '@USER @USER @USER Ummmm fascism actually started with Mussolini in Italy and Antifa is not a part of Anonymous. Anonymous does not censor like Antifa. They are not related as Anonymous is anti censorship URL\\n'], 'label_a': tensor([0, 0]), 'label_b': tensor([0, 0]), 'label_c': tensor([0, 0])}\n",
            "{'text': [\"#NightMayor 's DT cycle track can easily open Antifa tennis courts inside Crescent Heights until we are able to trash Nenshi’s communist vape shop!\\n\", '\"#MPLSpotlight: Have you met Stefanie? She\\'s our newest Adult Services Librarian. She has been putting in a lot of hours cleaning up our collections. Here she is with her favorite find, a book on unique homes. If you see her, be sure to say hi!\"\" #MonroLib URL\"\\n'], 'label_a': tensor([1, 0]), 'label_b': tensor([1, 0]), 'label_c': tensor([1, 0])}\n",
            "{'text': ['#ArunJaitleyStepDown He is most shameless #FM in history of India and audacity and shamelessness with which is lies in public is disgrace to post.\\n', \"#Canada's Liberal government rejects @USER recommendation that political parties comply with #privacy laws after #Facebook / #CambridgeAnalytica scandal URL\\n\"], 'label_a': tensor([1, 0]), 'label_b': tensor([1, 0]), 'label_c': tensor([2, 0])}\n",
            "{'text': ['\"Will you marry me please..\"\"  { #RogueBot }\"\"\"\\n', '\"#Conservatives £2 bn Housing on-trick @USER -  What a crock of sh#te\"\"! @USER #HousingCrisis  URL\"\\n'], 'label_a': tensor([0, 1]), 'label_b': tensor([0, 1]), 'label_c': tensor([0, 1])}\n",
            "{'text': [\"2 weeks of resp done and I still don't know shit my ass still on vacation mode 😪\\n\", \"(NAB)JESUS WON'T REJECT U-COME TO HIM -HOMEWARD BOUND TOWARDS HEAVENS KINGDOM HE IS OPEN DOOR TO ONLY-\\n\"], 'label_a': tensor([1, 0]), 'label_b': tensor([2, 0]), 'label_c': tensor([0, 0])}\n",
            "{'text': [\"#Nickelodeon @USER #KallysMashup She has an Angel's👼Heart,💘the Force🌐of Character⚡of a Goddess💝and its Light💫Shines🌠as much like that of a Star.🌟She is... @USER #MaiaReficco URL\\n\", '#Coupdetat of #Spain in #Catalona. #Spain is a  #fakedemocracy @USER @USER @USER @USER @USER @USER @USER @USER @USER @USER @USER @USER @USER @USER @USER #cddr #shameonSpain #WakeupEurope @USER @USER URL\\n'], 'label_a': tensor([0, 1]), 'label_b': tensor([0, 1]), 'label_c': tensor([0, 2])}\n",
            "{'text': ['\"#Analysis: Supporters of the People\\'s Party of Canada would likely bristle at being called liberal,\"\" but its beliefs fit the classic definition. URL @USER\"\\n', '#BarbieDreamsVIDEO I saw the genius interview , thank you for loving us so much , just the way we love you Barbie , you are beauty with brains ♥️♥️\\n'], 'label_a': tensor([0, 0]), 'label_b': tensor([0, 0]), 'label_c': tensor([0, 0])}\n",
            "{'text': ['#JusticeForSoniasFather @USER @USER @USER @USER @USER @USER @USER @USER Plz help Sonia. She is in pain. Why PTI officials not responding her. She is also getting trouble from PMLN goons. Some1, plz help her. Thanks\\n', \"#1A #2A  Ok,@USER , @USER  This is Eric Holder talking about gun control. This has been pulled down 6 times now. I'm going to keep reposting it everytime it gets taken down!! URL\\n\"], 'label_a': tensor([0, 0]), 'label_b': tensor([0, 0]), 'label_c': tensor([0, 0])}\n",
            "{'text': ['#Conservatives today... URL\\n', '#Liberals and #Democrats use this as their first step of food preparation ... URL\\n'], 'label_a': tensor([0, 0]), 'label_b': tensor([0, 0]), 'label_c': tensor([0, 0])}\n",
            "{'text': ['#Liberalismisamentaldisorder, but it is also a danger to our country. #Liberals are showing themselves to be utterly hateful. They do not CARE about TRUTH, they only care about POWER.\\n', \"#Florencehurricane 72 HOURS OF SUSTAINED LETHAL CYCLONIC FORCES, ONLY TO A FEW HOURS TO IMPACT TO  #NorthCarolina #SouthCarolina, AND #Georgia... DON'T BE STUPID... GET AWAY FROM THESE AREAS... @USER @USER #Florence Sep 12 12:13 PM #Nyc #Miami #Houston #Chicago #Nj #Ca #La URL\\n\"], 'label_a': tensor([1, 0]), 'label_b': tensor([1, 0]), 'label_c': tensor([3, 0])}\n",
            "{'text': ['#Antifa #UKLabour, #FBPE, #SUTR  Pay Attention!  This is what #ForBritain is fighting against - you? URL\\n', '@USER He is a expert on NI now &amp; blocks anyone that challenges his views--he just wants his view heard-he has obsessive love for EU-\\n'], 'label_a': tensor([0, 0]), 'label_b': tensor([0, 0]), 'label_c': tensor([0, 0])}\n",
            "{'text': ['#Antifa demo in memory of #KillahP. #Greece URL\\n', '@USER These are all  coranated attacks from idiot loons! They will get worse much worse before the election! Can u imagine idiots who want to get rid of the economy and their 401 along with interest rates just because he is not a polished politician? Idiots!\\n'], 'label_a': tensor([0, 1]), 'label_b': tensor([0, 1]), 'label_c': tensor([0, 2])}\n",
            "{'text': ['@USER @USER Awwww she is so stinking cute! How old is she now?\\n', \"#Benghazi  #Haiti  #UraniumOne  #SethRich What more does the justice department need? No double standards! Just because you're Rich and Powerful doesn't mean you can rob, seal and murder! #DrainTheSwamp  #HillaryForPrison  #VoteRed #MAGA URL\\n\"], 'label_a': tensor([1, 1]), 'label_b': tensor([1, 2]), 'label_c': tensor([1, 0])}\n",
            "{'text': [\"#Black_Eyed_Peas Tackle Gun Control, Social Justice on New Song ‘Big Love’: Single highlights group's first album in eight years, 'Masters of the Sun' URL URL\\n\", '#Censorship  Awake yet?  Ask yourself why these conservatives are being censored? #WalkAway URL\\n'], 'label_a': tensor([0, 0]), 'label_b': tensor([0, 0]), 'label_c': tensor([0, 0])}\n",
            "{'text': ['\"You didnt have to beat him up like that... all he said was you are looking so delicious.\"\" You say as you clean up his bruised knuckles. \"\"Nobody talks to my woman that way...except me.\"\" He pulls you on to his lap.  \"\"Do you want me to kiss it and make it feel better?\"\" You tease.+ URL\"\\n', '#JoinTheFight    Join the fight against American Communists... Democrats  and  Liberals have taken this crap to the edge and there is no coming back. They are  openly promoting the Destruction of  AMERICA.  #JoinTheFightAgainstCommunism URL\\n'], 'label_a': tensor([0, 1]), 'label_b': tensor([0, 1]), 'label_c': tensor([0, 2])}\n",
            "{'text': ['#Art #ArtistsOnTwitter #Soul #GoodBusiness #Entrepreneur #Success #Excellence #WomanInBusiness #MindBlowing #Quotestoliveby “Be gentle with yourself. You are a child of the universe no less than the trees and the stars; you       have a right to be here.” by Max Ehrmann URL\\n', '#ICYMI: Welcome Anna Grey Barbour to our Women’s Volleyball Team! Anna is a 2018 Terry Sanford High School graduate. She is studying dental hygiene at our college. We’re proud to make you a Trojan, Anna. Good luck this season! #BlackNGold #Trojans 🏐🖤💛 URL\\n'], 'label_a': tensor([0, 0]), 'label_b': tensor([0, 0]), 'label_c': tensor([0, 0])}\n",
            "{'text': ['#BiggBossTamil #BiggBossTamil2 #BiggBoss2Tamil intha #Aishwarya va kuda manichirlam ana intha #Yashika 😡😡 The biggest reason for every fight in BB house. Yet our foolish people support her just because she is doing Tasks. URL\\n', \"#TOTALLYBLOGGING - Want to know how to keep your focus when you are blogging? It's easier said than done at the start so take a look at what you can do to stop quitting! URL #ukbloggers #fbloggers #bbloggers #lbloggers URL\\n\"], 'label_a': tensor([0, 0]), 'label_b': tensor([0, 0]), 'label_c': tensor([0, 0])}\n",
            "{'text': ['@USER @USER has stated that any talk of Zionist involvement in 9/11 is metaphysical masturbation because he is a disinformation agent taking advantage of people of lesser intellect. He should be ashamed of himself but he’s not because he’s #Zionel\\n', \"#UPDATE: New projections state Hurricane #Florence may now travel down the coastline with the entire NC/SC coast possibly suffering #Florence's deadly storm surge greatly increasing the seriousness of the rain/wind in South Carolina and surrounding areas, even possibly Georgia URL\\n\"], 'label_a': tensor([1, 0]), 'label_b': tensor([1, 0]), 'label_c': tensor([3, 0])}\n",
            "{'text': ['\"#Liberals are like, Economics? I don\\'t even know what gender I am.\"\"\"\"\"\\n', '#Khaleesi kinda watching #HIAC ! Wtf does she think she is, a person? Pffft pathetic URL\\n'], 'label_a': tensor([0, 1]), 'label_b': tensor([0, 1]), 'label_c': tensor([0, 1])}\n",
            "{'text': ['And🤷🏽\\u200d♂️ females b on the same shit URL\\n', '#Brexit #UKLabour #Labour #Conservatives #PlaidCymru #Greens #Politics #EU URL  - POLL\\n'], 'label_a': tensor([1, 0]), 'label_b': tensor([1, 0]), 'label_c': tensor([2, 0])}\n",
            "{'text': ['#BreakingNews, via NYT The New York Times URL\\n', '#HCHottestCeleb   Round of 32 Match 12  Scarlett Johansson   V.S  Emma Stone   POLL BELOW URL\\n'], 'label_a': tensor([0, 0]), 'label_b': tensor([0, 0]), 'label_c': tensor([0, 0])}\n",
            "{'text': ['#Sugardaddy Retweet if you are under 30 and you want 400$ daily USA,Canada and UK only #sugarbabyneeded #sugarbabywanted #findom #sugarbaby #Canada\\n', '#DeclassifyDocuments I love watching liberals like Maria squirm. #Outnumbered\\n'], 'label_a': tensor([0, 1]), 'label_b': tensor([0, 1]), 'label_c': tensor([0, 2])}\n",
            "{'text': ['#PoliticsInFocus Look Donald! You are only a duck, stop patronizing me! URL\\n', '#naturephotography. #nature. #birds #wild in #Wisconsin #photography. #picoftheday. #pics #fridaymotivation. #fridayfeeling. #instagramers. I hope you are having an #amazing day URL\\n'], 'label_a': tensor([1, 0]), 'label_b': tensor([1, 0]), 'label_c': tensor([1, 0])}\n",
            "{'text': ['#CarolineForbes You are needed to help with the posted SL. DM me to Audition.\\n', '#WCW to @USER   I mean hey, she is a great friend and I am more than happy to help with missions and anything else she might need!\\n'], 'label_a': tensor([0, 0]), 'label_b': tensor([0, 0]), 'label_c': tensor([0, 0])}\n",
            "{'text': ['@USER @USER that would have just offbalanced him   he did exactly what was smart, basic grappling: it might have been all instinct but the antifa used basic grappling:  Cross side collar to snap down, then stepping out of his weak single leg  attempt\\n', '\"#Cancer  Hate crime isn\\'t an actual crime. If there\\'s a victim, then it\\'s just called crime. (Malum in se)  Hate\"\" crime is socially engineered programming to control people\\'s behavior, just like gun control.  #ChangeMyMind URL\"\\n'], 'label_a': tensor([0, 0]), 'label_b': tensor([0, 0]), 'label_c': tensor([0, 0])}\n",
            "{'text': ['#CarbonTax works and will put tons more money BACK INTO Canadian pockets.  .@USER  .@USER  .@USER .@USER  Part of why Trudeau won in 2015 was campaigning on a national carbon tax. Conservatives died then. They want another death in 2019...we will oblige. URL\\n', 'Antonia Evans was either sex trafficked or cremated.\\n'], 'label_a': tensor([1, 1]), 'label_b': tensor([1, 1]), 'label_c': tensor([3, 1])}\n",
            "{'text': ['#Repost thesavoyshow with get_repost ・・・ #MarkKnight Says he is not a racist after drawing a racist picture of #SerenaWilliams .. Do y’all believe him or nah?⤵️ URL\\n', '@USER The worrying thing is that she is teaching our young adults.\\n'], 'label_a': tensor([0, 0]), 'label_b': tensor([0, 0]), 'label_c': tensor([0, 0])}\n",
            "{'text': ['#WalkAway #DemocratSocialists #Socialists #Socialism #Resist #Communists #Antifa #Cult #Crazy #Insane #mentalillness #EmptyHeaded #BernieSanders #Venezuela 42 TRILLION in NEW TAXES #AlexandriaOcasioCortez #OcasioCortez #EndorsementFail #MissVenezuala2018 Alexandria Ocasio Cortez URL\\n', '#TheView stormy was in trapped by a dollar bill in her face poor pornstar but no worries the Democratic Party she is the leader of\\n'], 'label_a': tensor([0, 1]), 'label_b': tensor([0, 1]), 'label_c': tensor([0, 1])}\n",
            "{'text': [\"#ProudAlumnus Keep up the great work, @USER Don't forget you are under GREAT leadership, so take some time to soak in the skills they aim to teach. URL\\n\", '#WILDCARDWEDNESDAY #MAXDRIVEWILDCARDWEDNESDAY You Are #OnAirWithShine #NP HAPPIER  - @USER FT @USER  On The #MaxDrive w.@USER the #RadioENCHANTRESS\\n'], 'label_a': tensor([0, 0]), 'label_b': tensor([0, 0]), 'label_c': tensor([0, 0])}\n",
            "{'text': ['@USER He is off the deep end. This calls for an intervention\\n', \"#CNBC what's go talk about the gender gap in silicon valley but won't talk about the gap between conservatives and #emocrats and the #bias\\n\"], 'label_a': tensor([0, 0]), 'label_b': tensor([0, 0]), 'label_c': tensor([0, 0])}\n",
            "{'text': ['$500 Million Funding Competition for US cities That’s nice. \\u2066@USER  URL\\n', '@USER She Is A ChiCom Spy..... #ClubGITMO\\n'], 'label_a': tensor([0, 0]), 'label_b': tensor([0, 0]), 'label_c': tensor([0, 0])}\n",
            "{'text': ['#Repost @USER ・・・ We can’t forget to give props to Naomi Osaka!! 🏆🎾 She played against her idol and won. In someways the win has been overshadowed, but she is so humbled in her… URL\\n', 'And these entertainment agencies just gonna have to be an ass about it. URL\\n'], 'label_a': tensor([0, 1]), 'label_b': tensor([0, 1]), 'label_c': tensor([0, 3])}\n",
            "{'text': ['@USER He is obviously getting suspended. He is not an asset for anyone\\n', '#Trump Really, everything Trump does is another piece of evidence for obstruction of justice. He is a talking crime machine.\\n'], 'label_a': tensor([0, 1]), 'label_b': tensor([0, 1]), 'label_c': tensor([0, 1])}\n",
            "{'text': ['#Canada - EXCLUSIVE: #Trudeau #Liberals leave $372M meant to help veterans unspent since taking office URL\\n', '@USER @USER ...than why did you show us how hot she is ?\\n'], 'label_a': tensor([0, 0]), 'label_b': tensor([0, 0]), 'label_c': tensor([0, 0])}\n",
            "{'text': ['@USER @USER @USER You have yet to answer what *realistically enforceable* gun control law would *prevent* the tragedies without violating Due Process and HIPAA...\\n', \"#DisarmThem? This goes to show how moronic Antifa types are, because this is a good way to encourage some dumbass to rightfully get speedrocked. Open carry users practice weapon retention. Gun grabs will go very badly for you if you try. You will get shot, so don't do it. #2A URL\\n\"], 'label_a': tensor([0, 1]), 'label_b': tensor([0, 1]), 'label_c': tensor([0, 2])}\n",
            "{'text': ['#MAGA  ... got any ideas how she could have done it? URL\\n', \"#ChristineBFord #LiberalsAreDesperate @USER every time liberals don't get there way they cry racism or sexual assault. Hard to believe\\n\"], 'label_a': tensor([0, 1]), 'label_b': tensor([0, 1]), 'label_c': tensor([0, 2])}\n",
            "{'text': ['\"(URL You can\\'t summarize the rankings of a game mode in just one picture\"\" URL\"\\n', '#Learn from it and become #better instead of remaining #stuck in it and become #bitter. #CLifeClearly #CLifeThryve #AboutThatLife #CLifeMacon\\n'], 'label_a': tensor([0, 0]), 'label_b': tensor([0, 0]), 'label_c': tensor([0, 0])}\n",
            "{'text': ['#KamalaHarris may run for President in 2020, but will never be #POTUS. Sadly, she is guaranteed a leadership role in politics, much like #DianneFeinstein, that’s reality in liberal California. Ask #NancyPelosi! #ChuckSchumer #CNN #MSNBC\\n', \"Levi Strauss has “never been afraid to take an unpopular stand to support a greater good.” '  What about when they shut down all manufacturing in America?  That wasn't even a news story when it happened. Maybe they're right; it wasn't unpopular.  URL\\n\"], 'label_a': tensor([0, 0]), 'label_b': tensor([0, 0]), 'label_c': tensor([0, 0])}\n",
            "{'text': ['#repost @USER is giving a word with this jacket. #preach #saynotofuckboys #dontgiveyourmagictomuggles URL\\n', '#Emmys sooo lovely I love the dress colour and the design looks like fairy tales and she is very tender 🌬 URL\\n'], 'label_a': tensor([0, 0]), 'label_b': tensor([0, 0]), 'label_c': tensor([0, 0])}\n",
            "{'text': ['\"#CHANGE  I remember past administrations chant was change\"\".  There was no change carried the same baton and did nothing.  This POTUS is making the changes.  He does what he says.  So far for the better.   I like.  But swampies, liberals, lefties just hatin. Don\\'t be hatin\"\"\"\\n', 'An open letter to Mac Miller URL\\n'], 'label_a': tensor([0, 0]), 'label_b': tensor([0, 0]), 'label_c': tensor([0, 0])}\n",
            "{'text': ['#CincinnatiEnquirer steps into #Gun Control FINALLY. Took a #MassShhoting on their damn door step for their #editors to wake up, but better late than never. URL\\n', '!!!!bitch i’m fucking coming back URL\\n'], 'label_a': tensor([1, 1]), 'label_b': tensor([1, 1]), 'label_c': tensor([3, 1])}\n",
            "{'text': ['#Liberals Are Reaching Peak Desperation To Call On #PhillipRuddock To Talk With #Turnbull To Convince Him To Help with #WentworthVotes 18 Sept 2018  @USER #Auspol #LNP #NSWpol @USER  @USER @USER #LNPMemes URL\\n', '@USER Most of them in Chicago where there is STRICTER gun control. IT DOESNT WORK!\\n'], 'label_a': tensor([1, 0]), 'label_b': tensor([1, 0]), 'label_c': tensor([2, 0])}\n",
            "{'text': ['$uicideboy$ ON HALLOWEEN its aboout to get sooooo FUCKING spooky\\n', \"@USER He does. And I'm glad he always goes out on something reckless to show who he is going out and coming back everytime! Jeff is the best!!!\\n\"], 'label_a': tensor([1, 0]), 'label_b': tensor([2, 0]), 'label_c': tensor([0, 0])}\n",
            "{'text': ['#Democrat controlled city with strict gun control laws and @USER wants to blame the #GOP Um, isn’t it you rich #Democrats trying to keep the blacks in poverty? #WalkAway URL\\n', \"@USER Got to love that the people making the laws tend to know nothing about the subject they're making the law for. You should hear some of the gun control laws people try to pass here in the states.\\n\"], 'label_a': tensor([1, 1]), 'label_b': tensor([1, 1]), 'label_c': tensor([2, 2])}\n",
            "{'text': [\"@USER @USER @USER @USER @USER Same here😢😢. I can't hear what she is saying\\n\", '@USER @USER @USER @USER Penny believes that she is so intelligent that she just knows he will.....I think she may be the smartest Canadian.....ever. Canadians are fun to watch. They have to get on Twitter in the US to find anyone with an opinion. I like RUSH...and hockey\\n'], 'label_a': tensor([0, 0]), 'label_b': tensor([0, 0]), 'label_c': tensor([0, 0])}\n",
            "{'text': ['#SandraOh...OH how I love that you brought your parents...they (and you) are the epitome of grace and beauty!\\n', '#HealingYourself is connected with #healingothers.\\n'], 'label_a': tensor([0, 0]), 'label_b': tensor([0, 0]), 'label_c': tensor([0, 0])}\n",
            "{'text': [\"#ChristineBlaseyFord needs to testify under oath before anything. The claims should be investigated as far as any of these claims can be investigated. If/ when it comes down to her word vs. #Kavanaugh's he should be approved as soon as possible. Full stop.  #MAGA #QAnon\\n\", '#Maga @USER   Antifa website instructing how to hurt multiple police officers and how to cross border.  URL URL\\n'], 'label_a': tensor([0, 0]), 'label_b': tensor([0, 0]), 'label_c': tensor([0, 0])}\n",
            "{'text': ['#NationalDayofEncouragement #EncouragementDare Therefore #encourage one another and build each other up, just as in fact you are doing!! #Thessalonians #scripture #verse To donate, go to our website(link in bio!), call 404-478-9794 or email donate@USER #community URL\\n', \"94-year-old Bletchley Park veteran: I helped defeat the Nazis in 1941 and I'm ready to fight fascism again now URL\\n\"], 'label_a': tensor([0, 0]), 'label_b': tensor([0, 0]), 'label_c': tensor([0, 0])}\n",
            "{'text': ['@USER #WalkAWayFromCatholicism it is a corrupt to the core and become a giant autocratic pedophile ring.\\n', '#CALIFORNIA PATRIOTS... especially those in #CA21  Obama/Soros are attempting to take this House seat to get control of Congress.  Say no to TJ Cox.  He is a shill Candidate fronted by the dastardly duo.  Please get out and vote David Valadao for House, Dist 21! Follow @USER URL\\n'], 'label_a': tensor([1, 1]), 'label_b': tensor([1, 1]), 'label_c': tensor([3, 1])}\n",
            "{'text': ['#noshadenotea but like if you are in community college and your parents still have to pick you up and drop you off. You need to get your life together omg\\n', '- When she takes her nigga name out her bio. URL\\n'], 'label_a': tensor([0, 1]), 'label_b': tensor([0, 1]), 'label_c': tensor([0, 3])}\n",
            "{'text': ['@USER Exactly it’s bc slick woods has that unconventional look that she’s who she is yea she ain’t attractive to most of us but that shit don’t matter @ all lol\\n', '#ArrestGeorgeSoros He Funds #DomesticTerrorists #Antifa URL\\n'], 'label_a': tensor([0, 1]), 'label_b': tensor([0, 1]), 'label_c': tensor([0, 1])}\n",
            "{'text': ['#Interesting  Has she gone through any kind of background check similar to the 6 #FBI background checks that #JudgeKavanaugh has? URL\\n', '#Conservatives Govt have run up debt in spite of austerity cuts while the rich have doubled their wealth. #inequality  URL via @USER\\n'], 'label_a': tensor([0, 1]), 'label_b': tensor([0, 1]), 'label_c': tensor([0, 2])}\n",
            "{'text': ['#CrowderConfronts continues to expose that the SJW bullies are paper tigers when conservatives fight back with truth and facts. #dontbeafraid #confrontwithtruth URL\\n', \"2x the fun y'all URL\\n\"], 'label_a': tensor([1, 0]), 'label_b': tensor([1, 0]), 'label_c': tensor([3, 0])}\n",
            "{'text': ['\"... Antifa comrades miss the nuance of (a lot don\\'t, but still, people, you know):  It\\'s not that 45 is a white nationalist,\"\" as that\\'s a very specific community. It\\'s that he uses the same white supremacist rhetoric employed by WNs, which gives him dangerous company with them..\"\"\"\\n', \"#BeckyLynch is beautiful one of the few women in wrestling that absolutely need no work done at all. She's absolutely beautiful just the way she is. Doesn't need giant boobs or a fake booty. @USER is just simply amazing #HIAC\\n\"], 'label_a': tensor([0, 0]), 'label_b': tensor([0, 0]), 'label_c': tensor([0, 0])}\n",
            "{'text': ['@USER @USER @USER Gun Control is nothing but people control. The left wants gun control ONLY because they do NOT want us little guys armed &amp; able to defend ourselves. Makes it harder to get us behind barbed-wire fences as they saw in North Korea.\\n', '#ALERT  A win for the Progressive Conservatives.   The Ontario Court of Appeal has granted a stay of #Bill5,  which is to cut the number of Toronto city councillors from 47 to 25.\\n'], 'label_a': tensor([0, 0]), 'label_b': tensor([0, 0]), 'label_c': tensor([0, 0])}\n",
            "{'text': ['$25 Amazon/PP-1-WW-Murder and Food Porn: A Northwest Cozy Mystery #8-Dianne Harman-Ends 10/2 URL\\n', '#WCW #WCE @USER  It’s your special day of the week again. I really miss you and I’m looking forward to see you soon. Don’t forget that I love you. I love you with all my heart because you are my heart! ❤️ URL\\n'], 'label_a': tensor([0, 0]), 'label_b': tensor([0, 0]), 'label_c': tensor([0, 0])}\n",
            "{'text': [\"#BarbieDreamsVIDEO @USER   I love you❤ But i fux with you even more as roman i feel like...you are roman just actin' like nicki!😍  Dimelo papi papi!\\n\", '#Martina #Navratilova: What #SerenaWilliams Got Wrong   via @USER Be always really liked and respected Martina and here she is the voice of reason. URL\\n'], 'label_a': tensor([0, 0]), 'label_b': tensor([0, 0]), 'label_c': tensor([0, 0])}\n",
            "{'text': [\"#Bodyguard far fetched if she is alive but not impossible. I think Budd is his own worse enemy as signs of split personality, but uncertain as today's episode was all over the place!\\n\", '\"#bookreviewer Meet Ronaldo! He is a second-year student at the Reindeer Flying Academy. He is on his way to breaking the speed record in the flying contest but stumbles upon a mystery that perplexes his thoughts.\"\"  Thanks @USER  URL   #t4us #mglit URL\"\\n'], 'label_a': tensor([0, 0]), 'label_b': tensor([0, 0]), 'label_c': tensor([0, 0])}\n",
            "{'text': ['#Backto60 #OneVoice #1950swomen #1950sbornwomen   @USER TOOK SIX YEARS OF OUR PENSIONS  We all agree. WE NEED OUR PENSIONS BACK! URL\\n', '#Maine you need to face facts @USER doesn’t really represent you anymore as she is playing a game where she says she is undecided on Kavanaugh but we all know she is going to vote to confirm him.  Time to DUMP Susan Collins.\\n'], 'label_a': tensor([0, 0]), 'label_b': tensor([0, 0]), 'label_c': tensor([0, 0])}\n",
            "{'text': ['#Twitter. Stop what you are doing right now and head over to #Twitch and listen to my AMAZING friend Grendy as he plays #HatofulBoyfriend. #VoiceActor in the making! URL #supportsmallstreamers URL\\n', '#BiggBossTelugu2 how many of you #KaushalArmy cum @USER fans... URL\\n'], 'label_a': tensor([0, 1]), 'label_b': tensor([0, 1]), 'label_c': tensor([0, 2])}\n",
            "{'text': [\"#Conservatives @USER  'tells Philip Hammond' to slash taxes, (for the rich and corporations?)  and regulations - so less workers and environmental protection -  if there's a no-deal #Brexit | Tory #BrexitShambles #SmallState  URL via @USER\\n\", \"#YehUnDinonKiBaatHai Naina talks about educating a girl and making her responsible and also make them play sports. Bang on girl!!! 💯👏🏼  PS:- SHOE'S JEALOUS FACE THOUGH😂😂😂😂 SHE IS BURNING🤣😜\\n\"], 'label_a': tensor([0, 0]), 'label_b': tensor([0, 0]), 'label_c': tensor([0, 0])}\n",
            "{'text': ['#1000daysofsoloharry So glad that to be a fan of someone who’s trying to change the world by being kind to people, being an ally,stands up for women’s rights, donates for different causes, stands for gun control and someone who’s successful but still continues to be humble URL\\n', \"#CastingCallShow was fantastic!! At first I didn't think I was going to like any of the finalists' shows, but ended up loving all 3. I ultimately voted for An Amazing Business Opportunity by Anna Ladd. She is so funny and I really want to hear more.\\n\"], 'label_a': tensor([0, 0]), 'label_b': tensor([0, 0]), 'label_c': tensor([0, 0])}\n",
            "{'text': ['#BrexitShambles #ThursdayThoughts #eu #NEWS Lets avoid a future of #BorderControl queues... #givepeasachance @USER @USER URL\\n', \"#Democrats..2) we have yet to hear one of these righteous Democrats 'attack and insist' that Ellison resign after 'he' was accused of assault nor have we heard them call for Cory 'Spartacus' Booker to resign after he 'admitted' to sexual assault in 1992..the 'stink' of liberals.\\n\"], 'label_a': tensor([0, 0]), 'label_b': tensor([0, 0]), 'label_c': tensor([0, 0])}\n",
            "{'text': ['#Obasrants   If you are in a band and you don’t do covers, you are missing out on good quality audience engagement!   Look @USER  with @USER   Link below   URL URL\\n', '#LisaxMichaelKors she is sooo talented, love hr too much URL\\n'], 'label_a': tensor([0, 0]), 'label_b': tensor([0, 0]), 'label_c': tensor([0, 0])}\n",
            "{'text': ['#HurricaneFlorence ... not good, she is sporting a pinhole eye while strengthening... URL\\n', '#1 son,  knockin it out the fuckin park...... URL\\n'], 'label_a': tensor([0, 1]), 'label_b': tensor([0, 2]), 'label_c': tensor([0, 0])}\n",
            "{'text': ['@USER @USER @USER Okay and? Anybody can go to Eredivise and score 15+ goals. Shit league. Bundesliga teams are competitive in euro competitions. Mexico hasn’t produced any talent like Pulisic in a long time. It’s okay, maybe you guys will one day.\\n', '#Kalyani is a very stupid teenager. I totally despise her for the atrocities she is doing towards Aunty Anupriya. She blames her for her mom’s death. She should stop and listen to Anupriya side of the story before she makes vile accusation   #TujhseHaiRaabta #ZeeTVSerials\\n'], 'label_a': tensor([1, 1]), 'label_b': tensor([1, 1]), 'label_c': tensor([3, 1])}\n",
            "{'text': ['#Kalyani is a very stupid teenager. I totally despise her for the atrocities she is doing towards Aunty Anupriya. She blames her for her mom’s death. She should stop and listen to Anupriya side of the story before she makes vile accusation   #TujhseHaiRaabta #ZeeTVSerials\\n', \"@USER what? seems to me that's a terrorist attack probably IS/antifa. still Id look at who wants to get strawberries into the market before completing the form\\n\"], 'label_a': tensor([1, 0]), 'label_b': tensor([1, 0]), 'label_c': tensor([1, 0])}\n",
            "{'text': ['#Christian #America – If we go by #Trump’s example, where liberals support open borders, I guess conservatives support school shootings.   Please explain how this makes America great again.\\n', '@USER @USER @USER She is the most disingenuous person in the Senate. If she was my Senator I would hide in shame after her despicable behavior in the SCOTUS hearings.\\n'], 'label_a': tensor([1, 1]), 'label_b': tensor([1, 1]), 'label_c': tensor([2, 1])}\n",
            "{'text': ['#Democrats #Liberals you are being #threatened by #Armed #Nazis and you talk about #disarmament of yourselves and of #Disconnection from the #Military #Lifestyle ?  You should #broadcast your #Armory and #killSkills #RightFuckingNOW URL\\n', '699. Just wanted to tell you you should Hang Out With Me More. i think it’ll be fun! Also, lmao dick for a tongue? So people can easily suck me off. HAHA kidding aside, i aint want a tongue as my dick that looks hella weird.. but my choice was weird to but WHATEVER\\n'], 'label_a': tensor([1, 1]), 'label_b': tensor([1, 1]), 'label_c': tensor([2, 1])}\n",
            "{'text': ['#parikshitsolutions Security incidents rarely emerge fully formed with flashing lights to alert you. See if you’re prepared by testing your skills in the following scenario. URL URL\\n', '@USER #NBC #MSNBC when will @USER be held accountable for his inflammatory remakes calling for the leftist to fight.\\n'], 'label_a': tensor([0, 0]), 'label_b': tensor([0, 0]), 'label_c': tensor([0, 0])}\n",
            "{'text': [\"@USER It's a proven fact that gun control doesn't work.. look at Chicago...  Don't worry about others records. Let's talk about  Selling uranium to Russia.. 400 million from Russia..\\n\", '#BoycottLeviStrauss  Levi Strauss teams up with gun control group: ‘We simply cannot stand by silently’  URL\\n'], 'label_a': tensor([0, 0]), 'label_b': tensor([0, 0]), 'label_c': tensor([0, 0])}\n",
            "{'text': ['\"#Analysis: Supporters of the People\\'s Party of Canada would likely bristle at being called liberal,\"\" but its beliefs fit the classic definition. URL don_pittis\"\"\"\\n', '3,000 is definitely a tad high Puerto Rico. How about you DemocRATS provide proof? Providing names,  locations, and next of kin shouldn’t be that hard.  I hope you don’t mind, but I will not be holding my breath. URL via @USER URL\\n'], 'label_a': tensor([0, 0]), 'label_b': tensor([0, 0]), 'label_c': tensor([0, 0])}\n",
            "{'text': ['\"#Pickett has #individual needs but is part of the #team! . He’s a bit of a #loner within the family of #Bowtruckles, feels a bit #bullied, has #attachment issues. He is also incredibly #agile and of great #value.\"\" . #teachers #parents #Atypical @USER @USER URL\"\\n', \"#AVALANCHE I'm sorry! I see you! I love you! I was an asshole! You know how we are #maga\\n\"], 'label_a': tensor([0, 1]), 'label_b': tensor([0, 1]), 'label_c': tensor([0, 1])}\n",
            "{'text': ['#FF @USER he is an alien from the future 🙌🏻👽🌃 URL\\n', \"#Creampuffs #HollsteinForever  Just a quick reminder that I'm doing a GIVEAWAY for anyone attending #clexaconlondon. If you are interested in attending Natasha's Improv workshop just DM me or reply and I will put you in the draw for a free ticket. Entries close midnight 30/09 GMT\\n\"], 'label_a': tensor([1, 0]), 'label_b': tensor([1, 0]), 'label_c': tensor([2, 0])}\n",
            "{'text': ['\"#FamiliarWife JH-OMG, she is crazy WJ-Wait!....yes, I am interested in assistant manager Cha BH-You guys look like a good pair VO-Are you having some\"\"? Just sit over here JH-Don\\'t do it! WJ-Lets live our own life. Lets do it News-Collision on hwy, there is congestion JH-Woo-jin~ URL\"\\n', '\"#Broncos HC Vance Joseph on Phillip Lindsay: He is a good football player, not only as a running back ...\"\"\"\"\"\\n'], 'label_a': tensor([1, 0]), 'label_b': tensor([1, 0]), 'label_c': tensor([1, 0])}\n",
            "{'text': ['*17. Celine_SwittinS Follback Erza_Jullian #OpenfolbackCeline_SwittinS\\n', '#RestoreHumanity #AntiFa • September 22: Stop the fascist NVU in #Amsterdam: URL   HT @USER\\n'], 'label_a': tensor([0, 0]), 'label_b': tensor([0, 0]), 'label_c': tensor([0, 0])}\n",
            "{'text': ['#BroncoNation #broncos #BroncosVsSeahawks #BroncosCountry Crue was excited for the win she is enjoying her cupcake Go Broncos URL\\n', \"#ThingsDarthVaderWouldNeverSay yup , white mask privilege at it's finest. Always trying to keep a black mask down #BlackLivesMatter #Qanon #Antifa #AlexJones #Infowars #StarWars #maytheforcebewithyou #thirdshiftzombies #Podcast #radio #WhiteSupremacy URL\\n\"], 'label_a': tensor([0, 1]), 'label_b': tensor([0, 1]), 'label_c': tensor([0, 2])}\n",
            "{'text': ['And why is my hair pink now 😂😂😂😂 URL\\n', 'All I’m saying if we cool and you feel any type of way about me.. speak the fuck up.\\n'], 'label_a': tensor([0, 1]), 'label_b': tensor([0, 1]), 'label_c': tensor([0, 1])}\n",
            "{'text': ['#Cuckservative Traitors Are Worse Than Fortnite Players URL #Conservatives #TriggerWarningRadio\\n', \"#Barbara Boxer If LIBERALS Want to Use RAPE as a Political Tactic! THEY Had Better Have Some HARD EVIDENCE! Her Word Isn't Evidence!!! Its Called HEARSAY . On that note, I Could Say ' YOU  ' Cornered Me In A Bathroom, And put YOUR Hands All Over Me' 35 Years Ago. PROVE ME WRONG URL\\n\"], 'label_a': tensor([1, 1]), 'label_b': tensor([1, 1]), 'label_c': tensor([2, 1])}\n",
            "{'text': [\"@USER @USER @USER @USER @USER @USER @USER @USER @USER @USER Gun control doesn't stop kids and people getting murdered by guns. Chicago has had gun control for decades and it has multiple shootings every week.\\n\", '#SelfCareSeptember You are making a difference! @USER @USER @USER @USER @USER @USER @USER @USER @USER URL\\n'], 'label_a': tensor([0, 0]), 'label_b': tensor([0, 0]), 'label_c': tensor([0, 0])}\n",
            "{'text': ['#FauxProgressives I’ve been done with these #CorruptDemocrats for years now and here’s more proof!                Ocasio-Cortez Endorses Cuomo As Cuomo Flips Off Progressives URL via @USER @USER #Liberals #CoryBooker #OcasioCortez\\n', \"#ConstitutionDay It's very odd for the alt right conservatives to say that we are ruining the constitution just because we want #GunControlNow but they are the ones ruining the constitution getting upset because foreigners are coming to this land who are not White wanting to live\\n\"], 'label_a': tensor([0, 1]), 'label_b': tensor([0, 1]), 'label_c': tensor([0, 2])}\n",
            "{'text': [\"#coercedintoxication is staring to be my favorite, I'm feeling the effects of it now. I feel so vulnerable #forcedintox #coercedintox #femdom #findom\\n\", '#AndrewScheer wants support from #CanadianCoalitionforFirearmsRights, seeking weakened #guncontrol. #CPC compromised Canadians’ safety enough for these votes by diluting controls. How many lives lost before #Conservatives care? #cdnpoli /via @USER URL\\n'], 'label_a': tensor([0, 0]), 'label_b': tensor([0, 0]), 'label_c': tensor([0, 0])}\n",
            "{'text': ['Are we all ready to sit and watch Indakurate Passcott play football?\\n', '#Eric STALL-WELL, DEMOCRAT FROM CALI.should worry about fixing his own state, instead of trying to muster up sympathy, for the LIAR, PROF. HUNT!  On FOX NEWS! See liberals FOX IS BALANCED, AND GIVES BOTH SIDES.\\n'], 'label_a': tensor([0, 0]), 'label_b': tensor([0, 0]), 'label_c': tensor([0, 0])}\n",
            "{'text': ['#SukhDuaSamaj_ThePrayingHands The SC also added that if a person surgically changes his/her sex, then he or she is entitled to her changed sex and cannot be discriminated.\\n', '#Florence List:  URL  Hurricane Florence feeds ..  #Trump #MAGA central #VA    |@USER Great summary of impacts by the Blacksburg National Weather Service. The severity goes up overnight. .. #vawx URL |\\n'], 'label_a': tensor([0, 0]), 'label_b': tensor([0, 0]), 'label_c': tensor([0, 0])}\n",
            "{'text': ['And dicks. URL\\n', \"#LiberalLogic  #Kavanaugh looks predatory. Therefore he's guilty.  #Liberals are DANGEROUS people who should not govern anyone or anything. URL\\n\"], 'label_a': tensor([0, 1]), 'label_b': tensor([0, 1]), 'label_c': tensor([0, 2])}\n",
            "{'text': ['#Ishqbaaaz   Let Her join the cast..  She is not there.. must have shot those scenes in a jiffy before going to vacay  nothing to do with Groupbaazi or #Shivika not being on Focus  Groupbaazi consists of 3 Couples which is not there..  And Shivika scenes toh clip mein nehi thi..\\n', '#Children now Mixed Up ..  Over #GenderStudies crap and #Socialism .. yeah like I did not see this one coming!  #MEGA #MBGA #MAGA #MCGA #Conservatives #Patriots #ProtectChildren URL\\n'], 'label_a': tensor([0, 0]), 'label_b': tensor([0, 0]), 'label_c': tensor([0, 0])}\n",
            "{'text': ['#LockThemAllUp #Strzok #McCabe caught destroying evidence before leaving the FBI!! #DrainTheSwamp #DrainTheDeepState #MAGA 🇺🇸❤ URL\\n', '#BREAKING. #Greece: Molotov cocktails fly after protest honouring killed antifa arti... URL via @USER URL\\n'], 'label_a': tensor([0, 1]), 'label_b': tensor([0, 2]), 'label_c': tensor([0, 0])}\n",
            "{'text': ['#OrrinHatch I can’t believe this sexist , clueless, old fart gets to weigh in on another woman’s charges against a Supreme Court nominee. And he is spouting the same old nasty shit he spewed 20+ years ago against Anita Hill. His time’s up! Good riddance Neanderthal!\\n', '#BrettKavanaugh   .... social issues being one for Justice Kennedy, but there were other areas where there was growing daylight between him and conservatives, for example in the area of the administrative state, incl. the EPA....\\n'], 'label_a': tensor([1, 0]), 'label_b': tensor([1, 0]), 'label_c': tensor([1, 0])}\n",
            "{'text': ['#CHICAGO is a #DEMOCRATIC_PARTY_STRONGHOLD with a #HIGHLY_DIVERSE_POPULATION, #GUN_CONTROL_LAWS and a large #RADICAL_LEFT_ESTABLISHMENT. This is #OBAMAs continental USA base and he lived there for many years.  Think about this while you are horrified at the news, URL\\n', '#NowPlaying Arise (You Are Good) - William Murphy on URL  or  URL #ChroniclesChristianRadio #ccradioco\\n'], 'label_a': tensor([0, 0]), 'label_b': tensor([0, 0]), 'label_c': tensor([0, 0])}\n",
            "{'text': ['30. By people disguised as good guys, wearing all black, no concern of bystanders being shot - FBI, Antifa, Vegas shooting\\n', \"4. (Part 2) Didn't have to think too hard to come up with Gabriel. They're a lizard themed, glitter bombing, antifa mech pilot using their superhero powers to take down corrupt logging companies. They're a buff lesbian with hearts on their uniform. Literally what's not to love?\\n\"], 'label_a': tensor([0, 1]), 'label_b': tensor([0, 1]), 'label_c': tensor([0, 2])}\n",
            "{'text': ['#SayNoToShiaSunniFight I am Muslim You are a Muslim Than why shia and sunni\\n', 'Anybody else wake up so tired that they put cologne on their toothbrush in the morning?\\n'], 'label_a': tensor([0, 0]), 'label_b': tensor([0, 0]), 'label_c': tensor([0, 0])}\n",
            "{'text': ['#AIATravelTips Always monitor your luggage at the airport. Do not leave your luggage unattended and do not accept unopened packages.  ---- #Tips #Travel #Explore #AIA #Aircraft #Airport #Caribbean #Destination #Travelling #Connect #TravelTheWorld #Adventure #Adventures #Luggage URL\\n', 'Always a good day when I get a new member on my site URL\\n'], 'label_a': tensor([0, 0]), 'label_b': tensor([0, 0]), 'label_c': tensor([0, 0])}\n",
            "{'text': ['#Repost theleadersmindset • • • 📍Hola Leaders!🔥 ✔️Type “READY” if you are ready to follow this steps. - “ Set goals, stay quiet about them, smash the shit out of them, clap for your damn… URL\\n', '6 ANTIFA ATTACKED COPS, ARRESTED AT RALLY IN DENVER, MEDIA BLACKOUT  URL\\n'], 'label_a': tensor([1, 0]), 'label_b': tensor([2, 0]), 'label_c': tensor([0, 0])}\n",
            "{'text': ['Always down to bond over the dani minogue target pants\\n', \"21st Century Hit:  Don't Cha by  The Pussycat Dolls Feat. Busta Rhymes.  URL\\n\"], 'label_a': tensor([0, 0]), 'label_b': tensor([0, 0]), 'label_c': tensor([0, 0])}\n",
            "{'text': ['#RealSmart Answer: This is step #1 on your #RealSmart journey! This course is only offered through UBC on behalf of the Real Estate Council of BC by correspondence. Once registered, you are all set to take our #realsmart course! URL\\n', '#VT200: @USER is back at @USER for the first time since the year 2000. He is on the pole for the $10,000 to win Vermont 200.  Updates at @USER URL\\n'], 'label_a': tensor([0, 0]), 'label_b': tensor([0, 0]), 'label_c': tensor([0, 0])}\n",
            "{'text': ['Another one bite the dust... URL\\n', '#Liberals / #Democrats THIS is what you stand for. If not, then #WalkAway URL\\n'], 'label_a': tensor([0, 1]), 'label_b': tensor([0, 1]), 'label_c': tensor([0, 2])}\n",
            "{'text': ['#Beeto Just Demonstrated How To Lose An Election In #Texas   URL #MAGA @USER #rkba @USER #DVC\\n', 'And have a bitch thinking you niggas have money and you tf don’t.\\n'], 'label_a': tensor([1, 1]), 'label_b': tensor([1, 1]), 'label_c': tensor([1, 2])}\n",
            "{'text': ['*Extremely* back on my bullshit. URL\\n', '#killshot Easily shows ya why he is a a Rap God All Hail @USER\\n'], 'label_a': tensor([1, 0]), 'label_b': tensor([2, 0]), 'label_c': tensor([0, 0])}\n",
            "{'text': ['#CNN Analyst to Dems Seeking Another FBI Investigation: ‘I Don’t Want Politicians Telling Investigators What to Do’ URL #sitroom #TheLead #outfront #AC360 #NPR #PBSnews #PBSnewshour #tcot #tlot #maga #sgp #nyc #boston #baltimore #cleveland #chicago #milwaukee\\n', '#Democrat Baldwin Fundraises at K Street Firm Working Pro-Bono for Gun Control Lobby  #2A #WalkAway via @USER URL\\n'], 'label_a': tensor([0, 0]), 'label_b': tensor([0, 0]), 'label_c': tensor([0, 0])}\n",
            "{'text': ['7 fucking years. #MyTwitterAnniversary URL\\n', '#Dems are disgusting. They only believe women who accuse conservatives of abuse crimes. When liberals are accused, they ignore the accusations. URL\\n'], 'label_a': tensor([1, 1]), 'label_b': tensor([2, 1]), 'label_c': tensor([0, 2])}\n",
            "{'text': ['#NP ID/PSA - Leaving Commercial | #HearFDR | URL\\n', '\"#CREW is an eminence front. It\\'s a put-on. #MSM falls for fake issue and props up #political #hacktivists as experts.\"\" URL #tcot #Emoluments #conservatives #emolumentsclause #Law #lawyer #MediaWatch #FakeNewsAlert #FakeNews #MediaBias\"\"\"\\n'], 'label_a': tensor([0, 0]), 'label_b': tensor([0, 0]), 'label_c': tensor([0, 0])}\n",
            "{'text': [\"#AuthorConfession Day 14: Which tree is your MC's favorite?   I tried to ask Lisette, and she responded with any tree that has flowers. I don't know what to do with her, she won't give me a straight answer. Usually, she's not this difficult, so I suspect she is teasing me. 😅💞 URL\\n\", '#Nattyanplaying AOZORA TRAIN - SiSH(She is so high)\\n'], 'label_a': tensor([0, 0]), 'label_b': tensor([0, 0]), 'label_c': tensor([0, 0])}\n",
            "{'text': ['#ChristineBlaseyFord is only being harassed by members of the Antifa the radical arm of the Democratic Party funded by George Soros.  #VoteRedToSaveAmerica\\n', '#Antifa excellent idea URL\\n'], 'label_a': tensor([1, 0]), 'label_b': tensor([1, 0]), 'label_c': tensor([2, 0])}\n",
            "{'text': [\"#IOU project has demonstrated a quality Whitepaper. If you are an ICO-investor, I'm strongly recommend that you explore it, at any rate you will please it. #ico #Crypto #tokensale URL URL\\n\", '#BlockTwitterAds until Twitter stops shadow banning conservatives.\\n'], 'label_a': tensor([0, 0]), 'label_b': tensor([0, 0]), 'label_c': tensor([0, 0])}\n",
            "{'text': ['#KavanaughConfirmationHearings #TuesdayThoughts  the women who support #Kavenaugh should fill the hearing gallery. PACK it full so the disruptive liberals cant get in STAND in unison while Kavanaugh testifies *** SOLIDARITY !  cc: @USER @USER\\n', \"@USER Not sure what you guys call 'authoritarian left' does that include Gun Control groups or are they just the left?\\n\"], 'label_a': tensor([0, 0]), 'label_b': tensor([0, 0]), 'label_c': tensor([0, 0])}\n",
            "{'text': ['#백현 #BAEKHYUN EXO x MLB 2018 F/W  @USER  🔗URL 🔗URL 🔗URL 🔗URL URL\\n', '\"50 Cent Calls Out Joe Budden\\'s Bullshit\"\" On Instagram URL URL\"\\n'], 'label_a': tensor([0, 1]), 'label_b': tensor([0, 1]), 'label_c': tensor([0, 1])}\n",
            "{'text': ['#POTUS #realdonaldtrump #GOP #LPnational #thedemocrats #QAnon #blacklivesmatter #Antifa #ISIS #DAVOS #California #FOXNEWS #CNN #WSJ #NYSE #WAKEUPAMERICA #MAGA #mypatriotsupply  You need this... 1/2   URL\\n', '#NaomiOsaka folks. #USOpen The future is here and she is so adorable just as she is talented\\n'], 'label_a': tensor([0, 0]), 'label_b': tensor([0, 0]), 'label_c': tensor([0, 0])}\n",
            "{'text': ['\"@USER @USER @USER @USER @USER @USER @USER @USER @USER @USER @USER @USER @USER @USER City of Chicago, Democrat run with some of the strictest gun control in the nation.\"\"  😏\\xa0All the white supremacists running for office in 2018 as REPUBLICANS URL via @USER\"\\n', \"#CallTheVoteAlready To the Democrats, this is a game. To the Conservatives, it's a fight for our way of life. End the game. Game over. Sessions, please do your job. We should all be ashamed of what we have allowed to happen. Pray like never before.\\n\"], 'label_a': tensor([0, 0]), 'label_b': tensor([0, 0]), 'label_c': tensor([0, 0])}\n",
            "{'text': ['#MAGA  .... sounds fair. URL\\n', '#jiyoonfact  She is a huge fan of Beyonce and she wants to sing as well as her. She sang If I Were a Boy predebut.\\n'], 'label_a': tensor([0, 0]), 'label_b': tensor([0, 0]), 'label_c': tensor([0, 0])}\n",
            "{'text': [\"#Conservatives you now know everything @USER has is being rejected by the #eu and the British people, Tory MP's need to step up because she's failed on #Brexit and the domestic agenda #MayMustGo #ChuckChequers URL\\n\", '#MuskokaLakes mayoralty candidate Terry Ledger says she is running her mayoral campaign via social media only. We say this speaks volumes to the kind of behind-closed-doors mayor she plans to be. What do you say Muskoka? Give us your opinion. URL\\n'], 'label_a': tensor([0, 0]), 'label_b': tensor([0, 0]), 'label_c': tensor([0, 0])}\n",
            "{'text': ['#GreatAwakening #QAnon #PatriotsUnited #WWG1WGA #AreYouAwake  WHEN YOU ARE AWAKE YOU SEE CLEARLY ❤️🧡💛💚  Check out this video URL URL\\n', '@USER $6 million buyout and she could easily go to cable news if that’s she path she chooses . Good for her!\\n'], 'label_a': tensor([0, 0]), 'label_b': tensor([0, 0]), 'label_c': tensor([0, 0])}\n",
            "{'text': ['#bb20 actually question why do people want Jc to win more than Angela? He has been way meaner, says the n word repeatly, makes fun of eating disorders, and sexually harasses houseguests.She is just as much as an underdog to win so dont use that excuse. #bb20  #tangela\\n', '#NewVideo 🍆🍑💦 Sex Toys, Anyone?  URL URL\\n'], 'label_a': tensor([1, 0]), 'label_b': tensor([1, 0]), 'label_c': tensor([1, 0])}\n",
            "{'text': ['#BestWayToAWomansHeart DO NOT WAKE HER UP IF SHE IS NAPPING\\n', '2018 not surprised it starts from the top!!!  Karma a bitch watch!!!! URL\\n'], 'label_a': tensor([0, 1]), 'label_b': tensor([0, 2]), 'label_c': tensor([0, 0])}\n",
            "{'text': [\"@USER Be sure to send out the left's antifa thugs.\\n\", '#NoteToMyStalker n his empire: Remember one thing, you may own the incumbent central govt of India, but you do NOT own Nature.  If the life I, my ancestors and parents have lived is true, Nature will get you.  If you are trapping me or Nature is trapping you, only time will tell!\\n'], 'label_a': tensor([0, 0]), 'label_b': tensor([0, 0]), 'label_c': tensor([0, 0])}\n",
            "{'text': ['Alright let me get right with God bc Mother Nature is like fuck humans URL\\n', '@USER #Farticus maybe\\n'], 'label_a': tensor([1, 0]), 'label_b': tensor([1, 0]), 'label_c': tensor([2, 0])}\n",
            "{'text': ['#Hillary and @ least 16 other #AngryDemocrats #WorldWarQ #WWG1WGA #MAGA #RedTsunami #AmericaFirst #WalkAway #Truth URL\\n', '#CodetrainQueens Rachel joined Codetrain in 2017 and helped to organize the Codetrain App Developer Bootcamp and trained as a front end developer. Currently the community manager, she is an ardent advocate for digital skills for youth, especially women. Keep shining, Rachel! URL\\n'], 'label_a': tensor([1, 0]), 'label_b': tensor([1, 0]), 'label_c': tensor([3, 0])}\n",
            "{'text': ['#MovieFightsLive @USER @USER your all thinking it... you KNOW you are... URL\\n', '#BoycottLeviStrauss for supporting leftist gun control orgs. URL\\n'], 'label_a': tensor([0, 0]), 'label_b': tensor([0, 0]), 'label_c': tensor([0, 0])}\n",
            "{'text': [\"#YouAreMyIDOL  because you are my Idols boi's 💜😍 That'll NEVER change...you've taught me alot and continue to teach me things that help the most difficult little and big things in my life 👌👼 thank-you BBS!   @USER URL\\n\", '#Antifa is recruiting for a designated #terrorist organization URL\\n'], 'label_a': tensor([0, 1]), 'label_b': tensor([0, 1]), 'label_c': tensor([0, 3])}\n",
            "{'text': ['#Hypocrites #DemocratsHateAmerica #LiberalismIsAMentalDisorder EVERYTHING LIBERALS TOUCH TURNS TO ABSOLUTE SHIT... URL\\n', '#NationalDayofEncouragement  #TwitterFamily  You’re amazing just the way you are 💟☮️ URL\\n'], 'label_a': tensor([1, 0]), 'label_b': tensor([1, 0]), 'label_c': tensor([2, 0])}\n",
            "{'text': ['#HappyRMday I bought pizza and chocolates, but I did not have enough money for a cake I plan to make a tradition, buy pizza on the birthday of my loved ones .. even if we are not acquainted and will never meet, you are still a close person to mе thank you i luv u 생일 축하합니다 URL\\n', '#republicans put WALLin budget..you are going to loose Pres.Trump followers. He is why U R there, so support him URL\\n'], 'label_a': tensor([0, 0]), 'label_b': tensor([0, 0]), 'label_c': tensor([0, 0])}\n",
            "{'text': ['#Liberals are pushing a #gayagenda and #republicans are pushing a #zionistagenda\\n', '#VaquitaMarina #SaveTheVaquita @USER  @USER  There are less than 12 #Vaquitas left!!!! She is extinguishing!!! Please help!!! Be their voice!l! URL\\n'], 'label_a': tensor([0, 0]), 'label_b': tensor([0, 0]), 'label_c': tensor([0, 0])}\n",
            "{'text': ['@USER @USER As I have said the media and money Soros with dip shit Waters is creating a civil war.\\n', '#Liberals Dept of #Agriculture paid $100,000 for this presenter to shoot a bio security video  #Auspol #LNP #NSWpol #Springst #Qldpol @USER @USER @USER #LNPMemes #LNPWaste URL\\n'], 'label_a': tensor([1, 0]), 'label_b': tensor([1, 0]), 'label_c': tensor([1, 0])}\n",
            "{'text': ['#Texas Ted Cruz campaign is sending people solicitations disguised as official looking county summons. Elderly residents have been confused by the notice to appear. He is so skeezy.    URL\\n', \"#Success #Health I will show you the best way to create your own exclusive, online 'traffic economy' so you are never short of qualified prospects and sales again URL URL\\n\"], 'label_a': tensor([1, 0]), 'label_b': tensor([1, 0]), 'label_c': tensor([1, 0])}\n",
            "{'text': ['@USER @USER lemme guess? gun control. didn’t anyone talk to you about this? I’m Canadian and even i know this #whyme\\n', \"@USER @USER @USER @USER @USER @USER @USER @USER @USER @USER I really don't care that she's married to a black man - he is just as clueless as she is about real problems that black people are facing in America today.\\n\"], 'label_a': tensor([0, 0]), 'label_b': tensor([0, 0]), 'label_c': tensor([0, 0])}\n",
            "{'text': ['1 tf. He saw that shit. URL\\n', '@USER #FakeNewsMedia is the #EnemyOfThePeople!  They want to control YOUR minds by controlling what information you get and do not get.  The #1stAmendment may protect #elitist #propaganda but it does not legitimize it or make it palatable to an engaged public. URL\\n'], 'label_a': tensor([1, 0]), 'label_b': tensor([2, 0]), 'label_c': tensor([0, 0])}\n",
            "{'text': [\"Anyone who finds M*neta's behavior funny can fuck off and die\\n\", '#GoodMorningAmerica  #TuesdayMotivation #Thankyou #FatherGod the #Americanpeople will begin to see the #truth about our #governmentcorruption @USER @USER @USER #mediaCorruption #NoRedaction #DeclassifyFISA #Declassification completely #Obama #HillaryClinton #Lies #Leakers #liberals URL\\n'], 'label_a': tensor([1, 1]), 'label_b': tensor([1, 1]), 'label_c': tensor([2, 3])}\n",
            "{'text': ['\"#StopTheBias #RedCensorship  My account was suspended for apparently promoting Hate Speech\"\" , yet #Antifa Terrorist Organizations are actively up and running.  Since your Customer Service refuses to reply to my emails, care to explain how this makes sense?  @USER URL\"\\n', '#bepannaah  1- Bepannaah –  Hands down, Bepannaah tops the list because an adhiyal Aditya trying to convince a ziddi Zoya that she is in love with him is giving us lots of... URL\\n'], 'label_a': tensor([0, 0]), 'label_b': tensor([0, 0]), 'label_c': tensor([0, 0])}\n",
            "{'text': [\"@USER The difference between you and I as I stated before, and this inane asinine comment have solidified is I bring facts and truth, while all you have is lies and bullshit. Present a single shred of credible evidence to support a single thing you've just said. Lies is all you've got.\\n\", '@USER Damn I felt this shit. Why you so loud lol\\n'], 'label_a': tensor([1, 1]), 'label_b': tensor([1, 1]), 'label_c': tensor([1, 1])}\n",
            "{'text': ['#MyProtege, a #k12 #Master #Teacher was very excited to report she is the proud owner and supporter of products made by @USER @USER #Bravo! #USOpen\\n', '-tsk stays.... Drop foto HAN JISUNG dong, please.... 😥\\n'], 'label_a': tensor([0, 0]), 'label_b': tensor([0, 0]), 'label_c': tensor([0, 0])}\n",
            "{'text': ['10 years ago today, Taylor Swift released her smash hit ‘Love Story’. Quote this tweet telling the moment you first heard the song #10YearsOfLoveStory URL\\n', '#MSNBC #Hardball @USER Bingo you are absolutely correct he cannot bring President Obama down. He can’t get over how President Obama humiliated him at the White House correspondents dinner and I can guarantee you that is a definite driver of his hate for President Obama\\n'], 'label_a': tensor([0, 1]), 'label_b': tensor([0, 1]), 'label_c': tensor([0, 1])}\n",
            "{'text': ['\"@USER Yes, we are supposed to believe that Kavanaugh, who seemed to be a heavy drinker in high school, has perfect memory of everything he did, while she is mixed up.\"\" Blame the victim.   He has been equivocating/misrepresenting himself, but he should be believed. Not! #StopKavanaugh\"\"\"\\n', '#CnnIsFakeNews @USER @USER you wonder why your ratings suck... #cnnisajoke #FakeNews #MAGA URL\\n'], 'label_a': tensor([0, 1]), 'label_b': tensor([0, 1]), 'label_c': tensor([0, 3])}\n",
            "{'text': ['#Liberals Lying - Nothing new here Claim we’re on track to meet #emissions targets is false  URL  #Auspol #LNP #NSWpol #Springst #Qldpol #WApol @USER @USER @USER #LNPMemes URL\\n', '#Chefs, are you in need of some new pans? Find what you are looking for at URL We stock top brands such as Beka Chef, Mauviel and Woll. 🍳🥘🍲 #chef #restaurants URL\\n'], 'label_a': tensor([0, 0]), 'label_b': tensor([0, 0]), 'label_c': tensor([0, 0])}\n",
            "{'text': ['@USER #BoycottTheNFL particularly the @USER\\n', '$b album definitely worth the fucking wait\\n'], 'label_a': tensor([0, 1]), 'label_b': tensor([0, 2]), 'label_c': tensor([0, 0])}\n",
            "{'text': ['3 days before BBC Radio 2’s Festival in a Day, they decide to tell us that their headline act isn’t coming anymore. Thanks a lot, now I’ve paid a fortune to see a tonne of acts who are shit and who are of no interest to me 😑👍🏻\\n', '\"#JoeScarborough is a vile excuse for a journalist\"\". Here he is criticizing #Trump yet refuses to come clean about the death of an intern in his office. Stop talking about everyone else and start talking about YOUR INVOLVEMENT WITH #LORIKLAUSUTIS. @USER\"\\n'], 'label_a': tensor([0, 1]), 'label_b': tensor([0, 1]), 'label_c': tensor([0, 1])}\n",
            "{'text': ['@USER HIS FANS ARE HAPPY. HE SPREADS LOVE AND BECAUSE OF HIM I LEARNED TO APPRECIATE AND SUPPORT THE LGBTQ. I LOVE HIM  BECAUSE HE NEVER FAILED TO MAKE ME HAPPY. I LOVE HIM BECAUSE HE IS HARRY STYLES AND HARRY STYLES IS THE BEST.\\n', 'Ain’t nobody shit if you ask me... including myself.\\n'], 'label_a': tensor([0, 1]), 'label_b': tensor([0, 2]), 'label_c': tensor([0, 0])}\n",
            "{'text': ['#POWER #LESSONS  - There are certain testimonies that comes then rest comes and the strength of the wicked is removed. - When there is major vacuum in your life whether you are aware of it or not, its attracting the mockery.   #SEPTEMBER TO #REMEMBER #DAY2 URL\\n', '@USER - so long Jamule.\\n'], 'label_a': tensor([0, 0]), 'label_b': tensor([0, 0]), 'label_c': tensor([0, 0])}\n",
            "{'text': ['#MISSING: Imelda Algiers was last seen at about 3 p.m. Sunday.  She is about 5’04” tall, weighs about 110 pounds, and has white hair. It is unknown what Imelda was wearing. Imelda is diagnosed with Alzheimer’s Disease.  #WestBend URL\\n', '#MyUniqueHeritage I Get My Irish From My Dad Side Of the Family Since my Last Name is Irish Cause I’m Very Proud Of Being Irish☘️💚 URL\\n'], 'label_a': tensor([0, 0]), 'label_b': tensor([0, 0]), 'label_c': tensor([0, 0])}\n",
            "{'text': ['#Travel #Movies and Unix #Fortune combined  Visit #Salisbury, see the sights, but wherever you go there you are, the same old you, why not travel as an international spy? Find yourself at the centre of a vast international conspiracy when you return home.   Recall Recall Recall.\\n', \"#SaveShadowhunters #MalecForever Read Mansikka's latest cause she is awesome. URL\\n\"], 'label_a': tensor([0, 0]), 'label_b': tensor([0, 0]), 'label_c': tensor([0, 0])}\n",
            "{'text': ['@USER $$$ well spent...panthers..Douch\\n', '\"The Dregs of Society\"\"... more LABELINGand DEHUMANIZING Conservatives.I suggest,WE, Conservatives keep OUR ammo dry and OUR guns loaded..If the Fascist Liberal Left THINK Conservatives WILL go quietly into internment camps or slaughtered in the streets they NEED a REALITY check. URL\"\\n'], 'label_a': tensor([0, 1]), 'label_b': tensor([0, 1]), 'label_c': tensor([0, 3])}\n",
            "{'text': ['#Sonntagsfrühstück in #Deutschland! #🇩🇪 Hand Drawn World teapots are the perfect addition to any breakfast table...#☕️ 🍞🥒No matter where in the world you are! 🙃✏️🌍💙 URL\\n', '#4theManyNotthefew we need a country that recognises everyone in society not pick the few and sod the rest like @USER Austeritity was only for the Working Class the very people you need to rely on the rich got richer off the backs of the poor DONT let the tories carry on\\n'], 'label_a': tensor([0, 0]), 'label_b': tensor([0, 0]), 'label_c': tensor([0, 0])}\n",
            "{'text': ['@USER Killary how does stricter gun control work. Looking at Chicago which has some of the strictest gun control laws in the country seems to have problems with shootings nearly everyday. Please explain that!\\n', \"#Brexit is dead. Not because the other EU states won't cooperate, but because the Conservatives have no viable plan to keep it alive. We must have a new vote to carry on playing a central role in the EU, or be buried with Brexit. URL\\n\"], 'label_a': tensor([0, 0]), 'label_b': tensor([0, 0]), 'label_c': tensor([0, 0])}\n",
            "{'text': ['#Feinstein you cant say anything truthful.  You are a loers and liar. URL\\n', \"#BoycottLeviStrauss Levi Strauss took a public stance against the Second Amendment and singled out pro-2A customers.  Read more about Levi's anti-gun initiatives here: URL URL\\n\"], 'label_a': tensor([1, 0]), 'label_b': tensor([1, 0]), 'label_c': tensor([1, 0])}\n",
            "{'text': ['#LifeIsButepu when you have sex anytime you want but you are single\\n', '#WFMMC A very talented team because you are such a prestigious project. An excellent project to promote big market projects. #WFMMC #IcO #Ekolong #Sripuptruzman\\n'], 'label_a': tensor([1, 0]), 'label_b': tensor([2, 0]), 'label_c': tensor([0, 0])}\n",
            "{'text': ['#Celebrations are off in #Germany for the #Germans ..  Yeah kind of expected this to happen across the western world over #SecurityFears  #MAGA #MEGA #MBGA #MCGA #Conservatives #Patriots URL\\n', \"#Clinton #Monsanto☠️#Bayer #BigPharma #Roundup #glyphosate #GMOs  '... in an age where progressives demand full transparency on all the issues that matter to them most — immigration, gay marriage, gun control and so on — Hillary ... on the wrong side....'URL\\n\"], 'label_a': tensor([0, 0]), 'label_b': tensor([0, 0]), 'label_c': tensor([0, 0])}\n",
            "{'text': [\"#6, Sheriff Wayne Ivey. CSPOA? - Yes, it seems he's in as well. URL\\n\", '#CCOT is one of the leading conservative hashtags. Get your tweet read, add #CCOT! Christian Conservatives On Twitter #Christians #Conservatives #Libertarians #Evangelicals #Catholics #Charismatics #Nondenominatinal #SpiritFilled #tlot #tcot #Hannity  #TeaParty #MAGA #TrumpTrain URL\\n'], 'label_a': tensor([0, 0]), 'label_b': tensor([0, 0]), 'label_c': tensor([0, 0])}\n",
            "{'text': [\"#Nigeria #Naija #9ja 'You are the most incompetent leader in Nigeria’s history' – Atiku blasts Buhari URL By championnewsng Via URL\\n\", '#nowplaying Death Cab For Cutie / You Are A Tourist / Codes And Keys [@USER ♫  URL\\n'], 'label_a': tensor([1, 0]), 'label_b': tensor([1, 0]), 'label_c': tensor([1, 0])}\n",
            "{'text': ['#Emmys  Well, most of those ex-crackheads are liberals and Democrats; so ...\\n', '\"#Conservatives Are #Outraged\"\" Because #TheyKnowNothing, Especially About @USER URL\"\\n'], 'label_a': tensor([1, 0]), 'label_b': tensor([1, 0]), 'label_c': tensor([2, 0])}\n",
            "{'text': ['@USER this girl is so talented and she is my best friend because you and Ethan brought us together. Please notice this talent. @USER @USER @USER  please💜🧡💜🧡💜🧡💜🧡💜🧡💜🧡💜🧡💜🧡 URL\\n', '9/9/2018 7:00 PM Temp 65.4  Dew Pt 51.1 Barometer 29.997 inches Rain 0.00 Wind 1.8 mph Hi 69.0 at 2:35 PM Low 59.8 at 7:20 AM\\n'], 'label_a': tensor([0, 0]), 'label_b': tensor([0, 0]), 'label_c': tensor([0, 0])}\n",
            "{'text': ['#Conservatives VOTE VOTE VOTE, TAKE TWO FRIENDS TO POLLS to MIDTERMS in Nov. #NoComplacency‼️‼️ URL\\n', '@USER #Diversity only works when those joining the new group want to be a part of the team.   #Islam hates every non-Muslim   #Fail  #Unicorns\\n'], 'label_a': tensor([0, 1]), 'label_b': tensor([0, 1]), 'label_c': tensor([0, 2])}\n",
            "{'text': [\"@USER [Being set down makes her realize how much taller he is. Again. She can't reach.]  Kissss her.\\n\", '\"...if you want more shootings and more death, then listen to the ACLU, Black Lives Matter, or Antifa. If you want public safety, then listen to the police professionals who have been studying this for 35 years.\"\" -AG Jeff Sessions  URL\"\\n'], 'label_a': tensor([0, 0]), 'label_b': tensor([0, 0]), 'label_c': tensor([0, 0])}\n",
            "{'text': ['// SO WANT TO KICK TWITTERFUCK ASS.\\n', '#MenfessWGLCA To: @USER You are the dremiest dream come true that ever was. From: Me\\n'], 'label_a': tensor([1, 0]), 'label_b': tensor([1, 0]), 'label_c': tensor([3, 0])}\n",
            "{'text': [\"#FailedDemFeinstein should have quit decades ago. She is a disgrace.  Feinstein blames GOP after Kavanaugh accuser stays mum, admits 'I can't say everything's truthful'  URL\\n\", '#CheeringTheChutiyapa just because she is a woman.....LOL URL\\n'], 'label_a': tensor([1, 0]), 'label_b': tensor([1, 0]), 'label_c': tensor([1, 0])}\n",
            "{'text': [\"@USER @USER @USER @USER @USER @USER Really? The GOP hasn't even seen the letter yet. This sham is as subtle as a banana on a pool table and you won't, cant, see it. DiFi throws a hail Mary @ the 13th hour,  and you cry foul. At elast Ford won't have antifa coming to burn her house down. Dems are going down, hard.\\n\", '@USER @USER @USER Fascism was also against liberals as is Antifa according to your meme.\\n'], 'label_a': tensor([0, 1]), 'label_b': tensor([0, 1]), 'label_c': tensor([0, 2])}\n",
            "{'text': ['#RIPMacMiller you are loved. 💚 URL\\n', \"#creagboy running around McDonald's urgently telling other kids that he is NOT from the future.\\n\"], 'label_a': tensor([0, 0]), 'label_b': tensor([0, 0]), 'label_c': tensor([0, 0])}\n",
            "{'text': [\"#EnglishPashto Though I'm not pakhtoon  English : He is a cute kid Pashto: Da marra khasta bacha dey\\n\", '#JPNA2 @USER @USER vasay, Ahmed butt, Sohail sahab what a performance, loved the movie to the core, 1st #PMJG now #JPNA2 Humayun is our Shaan now, Fahad you are grace, class pakistan cinema in safe hands\\n'], 'label_a': tensor([0, 0]), 'label_b': tensor([0, 0]), 'label_c': tensor([0, 0])}\n",
            "{'text': ['@USER fuck\\n', '.@USER Why keep going back to the well with Charlottesville?  You realize there were good people there and bad people there, on both sides.  ANTIFA caused quite a bit of violence and damage too.  There were people there just watching, people there against statues removed\\n'], 'label_a': tensor([1, 0]), 'label_b': tensor([2, 0]), 'label_c': tensor([0, 0])}\n",
            "{'text': [\"#Cancers 'rising around the world' URL @USER @USER\\n\", '. a grown ass woman, probably 10 years older than me is currently spreading rumors rather than talking to me about it, nice work you got there satan ❤️\\n'], 'label_a': tensor([0, 1]), 'label_b': tensor([0, 1]), 'label_c': tensor([0, 1])}\n",
            "{'text': ['@USER Someone knows how to dress! He is rocking those shoes as well.\\n', '#Antifa #Philly: Keystone United Exposed Part 2: Robert and Melissa Gaus URL\\n'], 'label_a': tensor([0, 0]), 'label_b': tensor([0, 0]), 'label_c': tensor([0, 0])}\n",
            "{'text': ['#Conservatives don’t care what you post..it’s @USER propaganda.. URL\\n', '#IDIOTS Is there nothing beneath them? Lol. What fools Liberals are! #MAGA #KAG 🇺🇸🇺🇸🇺🇸🇺🇸🇺🇸 URL\\n'], 'label_a': tensor([1, 1]), 'label_b': tensor([1, 1]), 'label_c': tensor([3, 2])}\n",
            "{'text': ['#SHE!🌿 #MOSADI!🌿 #SHE can discern her season #SHE is a wise builder #SHE is a team player #SHE is full of fire and full of the Holy spirit Thanks to @USER and Dr Chantal for such an inspiring event💎 Thank you @USER 💎 URL\\n', '@USER #Impeach #Maxine #Waters. The tide flows both ways.\\n'], 'label_a': tensor([0, 0]), 'label_b': tensor([0, 0]), 'label_c': tensor([0, 0])}\n",
            "{'text': ['#PiperThePup sends her love to everyone who might be affected by the unwelcome #HurricaneFlorence this week. She is looking forward to trying some @USER (or at least the crust) when she gets to Delaware. URL\\n', '#DISARMTHEM  #ANTIFA   GOOD LUCK SWEETHEARTS URL\\n'], 'label_a': tensor([0, 0]), 'label_b': tensor([0, 0]), 'label_c': tensor([0, 0])}\n",
            "{'text': ['#AGJeffSessions: “Listen To The ACLU, Antifa, Black Lives Matter’ If You Want More Chicago Shootings!!” @USER @USER  #2AShallNotBeInfringed  Thank You @USER  URL via @USER\\n', \"2/ Did all the Democrats just give in to a vocal minority and become Socialists? I think not. I think most are in shock at what they see are confused by their own Party's Official rhetoric that is at odds with what hey see and experience. The Antifa thugs and the true violence...\\n\"], 'label_a': tensor([0, 0]), 'label_b': tensor([0, 0]), 'label_c': tensor([0, 0])}\n",
            "{'text': [\"@USER The kindest explanation is that he is tone-deaf.  It's hard to feel kind when he and his ilk do this repeatedly.\\n\", '#AmazonPets Etta can be tricky to photograph because of her colouring, but she is BEAUTIFUL and she knows it. She is in charge, has first dibs on treats, and will shout for our attention whenever she comes in the house. She kills wild rabbits but hangs out in the hutch with ours. URL\\n'], 'label_a': tensor([1, 1]), 'label_b': tensor([1, 1]), 'label_c': tensor([1, 1])}\n",
            "{'text': ['#Germany: What happens when you try to intimidate the wrong guy!  #MAGA  URL\\n', '#SugarDaddy Retweet if you are under 30 and would like share memes with each other and we can talk about dumb shit. Cuz baby I’m broke as shit but this love rich URL\\n'], 'label_a': tensor([0, 1]), 'label_b': tensor([0, 2]), 'label_c': tensor([0, 0])}\n",
            "{'text': [\"@USER Sam's being sam ...she is resting now it's adorable\\n\", '#GeoffreyOwens niggas don’t really understand...levels to career pursuits\\n'], 'label_a': tensor([0, 1]), 'label_b': tensor([0, 1]), 'label_c': tensor([0, 1])}\n",
            "{'text': [\"#FridayNightFun!!   With Halloween events starting in just a week, we of course have to find out what events you are looking forward to most this year.   Obviously, this isn't all of them. There are SO many out there now. URL\\n\", '...what about death _metal_? I want more death METAL... Tell me, you hateful Keebler Elf, WHERE CAN I HAVE MORE DEATH METAL???? URL\\n'], 'label_a': tensor([0, 1]), 'label_b': tensor([0, 1]), 'label_c': tensor([0, 1])}\n",
            "{'text': ['#SayNoToShiaSunniFight On the day of judgment you will not be asked whether you are Shia or Sunni. You will just asked what were your deeds.\\n', \"#Kavanaugh is a disciple of Anthony Kennedy, who 🎁ed liberals w/3 unconstitutional opinions! He's Trump's con to con conservatives to 🤔ing #SCOTUS is moving right! Were @USER smart, they'd do everything to get BK the 🏁. But they won't! Idiots! #TuesdayThoughts URL\\n\"], 'label_a': tensor([0, 1]), 'label_b': tensor([0, 1]), 'label_c': tensor([0, 2])}\n",
            "{'text': ['#America  ... tear down that #Wall! URL #tcot #partisanship #Trump #thewall #Borderwall #liberty #civilsociety #think #Conservatives #Democrats #Progressives #liberals #Independent #libertarians #GOP #DNC #CriticalThinking\\n', \"#1A #2A   This makes 7 times its been pulled down, @USER , @USER  8th time I've posted it. You pull it down,  I'll repost.  Eric Holder on gun control.  URL\\n\"], 'label_a': tensor([1, 0]), 'label_b': tensor([1, 0]), 'label_c': tensor([2, 0])}\n",
            "{'text': ['$2,000 iPhone — gulp. Tech Reporter Josh McConnell breaks down the features and price points of Apple’s new line URL @USER URL\\n', 'Am I a dickhead ???? Probably yes\\n'], 'label_a': tensor([0, 1]), 'label_b': tensor([0, 1]), 'label_c': tensor([0, 1])}\n",
            "{'text': ['#Trump #MAGA| @USER @USER on #ElizabethSmart captor’s early release: “That time when she was in the mental hospital, unfortunately, is nearly six years that she is getting credit for, which really is bringing her out of the system much earlier.” URL\\n', '#SpiderManPS4 is everything I expected so far. Gameplay is fun and the suits to gadgets is pretty unique to use. It feels like playin a mixture of the Batman Arkham and Uncharted series, Spidey beats both of them. Cant wait to keep playing more of it, thx again @USER !\\n'], 'label_a': tensor([0, 0]), 'label_b': tensor([0, 0]), 'label_c': tensor([0, 0])}\n",
            "{'text': ['#Conservatives You cannot ride this one out‼️🇺🇸#VoteRed2018 #VoteAmericaFirst #VoteDemsOut #AmericaFirst 🇺🇸 URL\\n', '#Conservatives #JoinUKIP #VoteUKIP 2018. This is where we are now! URL\\n'], 'label_a': tensor([0, 0]), 'label_b': tensor([0, 0]), 'label_c': tensor([0, 0])}\n",
            "{'text': ['7E91EB04 :Battle ID I need backup! Lvl 75 Celeste Omega URL\\n', \"#Conservatives don't value gender equality. They value the way (they think) things have always been. They quote the #Bible to support men's dominion over women. That's why many #Republicans are justifying #Kavanaugh's rape of a 17 year old as normal male behavior.\\n\"], 'label_a': tensor([0, 0]), 'label_b': tensor([0, 0]), 'label_c': tensor([0, 0])}\n",
            "{'text': ['60% of the world’s population will live in #cities by 2030. Finding solutions to help people move freely and sustainably should be a global priority. #electricscooters have a key role to play. #ClimateAction #Airquality #Mobility.  Read our study: URL\\n', '@USER She is beyond famous. She is Lalisa Manoban 😎 URL\\n'], 'label_a': tensor([0, 0]), 'label_b': tensor([0, 0]), 'label_c': tensor([0, 0])}\n",
            "{'text': ['#SukhDuaSamaj_ThePrayingHands Saint Dr. MSG Insan renamed eunuchs’ society with a respectable name i.e. SukhDua Samaj and connected them to the mainstream society by providing them equal opportunity for education, employment and status as third gender URL\\n', '@USER Obvious why he is doing it quietly\\n'], 'label_a': tensor([0, 0]), 'label_b': tensor([0, 0]), 'label_c': tensor([0, 0])}\n",
            "{'text': ['(cr1tikal voice) smef my ass cheeks\\n', '#jiyoonfact  She is a huge fan of Beyonce and she wants to sing as well as her. She sang If I Were a Boy predebut.\\n'], 'label_a': tensor([1, 0]), 'label_b': tensor([2, 0]), 'label_c': tensor([0, 0])}\n",
            "{'text': ['#Investment #Leadership #Preparation thx @USER for sharing yr #InfrastructureReportCard  and guidance at  @USER URL #MAGA or watch it rust away... URL\\n', '#Colorado: Boy, 13, Arrested, Cuffed and Dragged From School Over —wait for it— #MeToo allegations from feminist classmates   URL #teens #feminism #parenting #kids #ccot #MAGA #homeschool\\n'], 'label_a': tensor([0, 0]), 'label_b': tensor([0, 0]), 'label_c': tensor([0, 0])}\n",
            "{'text': ['#GreatestThingsAboutThe90s Liberals loved @USER\\n', \"@USER 'cause everyone knows a real leader falls into a van like a sack of potatoes.....\\n\"], 'label_a': tensor([0, 1]), 'label_b': tensor([0, 1]), 'label_c': tensor([0, 1])}\n",
            "{'text': [\"#MarketingTips #ListBuilding I'm going to show you how to build your own private, online 'traffic economy' so you are never short of prospects and sales again URL URL\\n\", '\"#BoycottNike campaign must continue and grow  Paying overseas staff $0.20 an hour is not okay because your staff is over there\"\".   You are exploiting poor women/men in the world.  This is more than Americans can stand. URL\"\\n'], 'label_a': tensor([0, 1]), 'label_b': tensor([0, 1]), 'label_c': tensor([0, 3])}\n",
            "{'text': ['\"#Conservatives Poison Everything They Touch\"\" URL #tories #conservative #labour #labourparty #libdems #ukip #snp #gop #uk #america #canada #europe #politics #ukpolitics #cdnpoli #pnpcbc #auspol #polcan #socialchange #eupol #uspoli  URL\"\\n', '#Preach #BadCompany Don’t you know that you are a shooting star, don’t you know 🎵🌟 URL\\n'], 'label_a': tensor([0, 0]), 'label_b': tensor([0, 0]), 'label_c': tensor([0, 0])}\n",
            "{'text': ['@USER I somewhat know how thats like. Some of my best friends stopped talking to me over a gun control issue -_-\\n', '#bb20 I say lets flip it and have a gitls alliance! Jc out then Tyler since he thinks he is the mastermind! Th@USER Ultimate blindside! Three girls in the final three and Kaycee for the win!\\n'], 'label_a': tensor([0, 0]), 'label_b': tensor([0, 0]), 'label_c': tensor([0, 0])}\n",
            "{'text': ['#Believe When you have a fat belly then you are insulin resistant and can remedy it without medicine by fasting... info is here URL URL\\n', '#nowplaying March of the Antifa - Sickboy - Shake Hands With a Clenched Fist URL\\n'], 'label_a': tensor([0, 0]), 'label_b': tensor([0, 0]), 'label_c': tensor([0, 0])}\n",
            "{'text': ['#Conservatives #DWP ’s secret benefit deaths reviews: Investigations into deaths double in two years. #crimesofDWP  URL via @USER\\n', '#EmmyAwards2018 let the liberals pat themselves on the back, pushing socialism while making millions pretending to be REAL hard working people on TV shows.\\n'], 'label_a': tensor([0, 0]), 'label_b': tensor([0, 0]), 'label_c': tensor([0, 0])}\n",
            "{'text': ['@USER #DuckDuckGo!!F Google!\\n', '#California Pushing 8 New #Gun Control #Laws – The Legal Brief ~ VIDEO! URL (via @USER )\\n'], 'label_a': tensor([0, 0]), 'label_b': tensor([0, 0]), 'label_c': tensor([0, 0])}\n",
            "{'text': ['\"*ICYMI* This is the reason Fascists have been desperately trying to find Anti Fascists in Tennessee. *This is what they don\\'t want you to see* Including all League Of The South Members\"\" organizing groups etc. SHARE WIDELY URL\"\\n', \"#Art #Culture BoJack Horseman Recap: The Apology Tour: Episodes of BoJack Horseman have taken on social issues before. Last season's gun control episode stands out as a shining example, and the show has always had the ability.. via URL URL\\n\"], 'label_a': tensor([0, 0]), 'label_b': tensor([0, 0]), 'label_c': tensor([0, 0])}\n",
            "{'text': ['#As I watch the #Kavanaugh #shenanigans unfold in DC, I’m reminded of one simple truth: these people don’t care about us. The all-inclusive us. They don’t care about conservatives or progressives, people of color or otherwise, Christians, women, LGBTQ, none of us. (Thread)\\n', \"#Charlottesvile speech #Trump should've given. URL #tcot #cville #Conservatives #CharlottesvilleKKK #Liberty #GOP\\n\"], 'label_a': tensor([0, 0]), 'label_b': tensor([0, 0]), 'label_c': tensor([0, 0])}\n",
            "{'text': ['#Conservatives left #frustrated as #Congress passes big spending bills...  #tcot URL\\n', '\"#NEWS Jeff Sessions: If you want more death, \\'listen to the ACLU, Antifa, Black Lives Matter\\'\"\" URL #CNBC\"\"\"\\n'], 'label_a': tensor([0, 1]), 'label_b': tensor([0, 1]), 'label_c': tensor([0, 3])}\n",
            "{'text': ['@USER She is better than you.\\n', '#HappyBdayPMModi One may hate him. But u should agree that he is the most hard working PM India has ever witnessed.😊 URL\\n'], 'label_a': tensor([0, 0]), 'label_b': tensor([0, 0]), 'label_c': tensor([0, 0])}\n",
            "{'text': ['\"#RobertPoeti wants an explanation\"\" why the Auditor General of #Quebec is conflicted in this #AMF investigation! Perhaps he can\\'t read and can\\'t follow the trail of evidence that proves she is conflicted URL #sad. #CORRUPTION, #NathalieGDrouin, #PENNYSTOCKS\"\"\"\\n', '#Rimmy4antifa @USER is calling for the death to the Bourgeoisie, a good man @USER  @USER\\n'], 'label_a': tensor([0, 0]), 'label_b': tensor([0, 0]), 'label_c': tensor([0, 0])}\n",
            "{'text': ['#David #Miliband #DavidMiliband flew away  in #NewYork to be with the #US #Liberals #Democrats - had to flee #Corbynists hatred of Jews\\n', 'Anyway this game sucks :)\\n'], 'label_a': tensor([1, 1]), 'label_b': tensor([1, 1]), 'label_c': tensor([2, 3])}\n",
            "{'text': ['\"Do not take someone\\'s silence as his pride, perhaps he is busy fighting with his self\"\". ~ Ali-Ibn-Abitalib (R.A) 💜\"\"\"\\n', '#Nintendo #AnimalCrossing #SmashBrosUltimate  a little late... But she is just so adorable! I do love Isabelle URL\\n'], 'label_a': tensor([0, 0]), 'label_b': tensor([0, 0]), 'label_c': tensor([0, 0])}\n",
            "{'text': ['\"#NowPlaying Kierra Kiki\"\" Sheard - You Are on URL\"\\n', '#ibelieveblaseyford is liar she is fat ugly libreal #snowflake she sold her  herself to get some cash !! From dems and Iran  ! Why she spoke after  #JohnKerryIranMeeting ?\\n'], 'label_a': tensor([0, 1]), 'label_b': tensor([0, 1]), 'label_c': tensor([0, 1])}\n",
            "{'text': ['#CharityTuesday  Join with us as we take from the Disabled and Women over the age of 60 #votetory @USER @USER @USER @USER #r4today URL\\n', '#MAGA   Dems are using false allegation of Kavanaugh sexual assault as a bargaining chip against the release of classified docs by President Trump.\\n'], 'label_a': tensor([0, 0]), 'label_b': tensor([0, 0]), 'label_c': tensor([0, 0])}\n",
            "{'text': [\"@USER I've been watching it....She is on our TEAM now. She has some insight into this President that's for sure.\\n\", '@USER #NFL (Not For Long) 😀 URL\\n'], 'label_a': tensor([0, 0]), 'label_b': tensor([0, 0]), 'label_c': tensor([0, 0])}\n",
            "{'text': ['#LIDC01f18 i believe Julieanna Godard is a leader because of her work in many digitally driven industries. She is a leader because she has established a network of creatives as a team while influencing and promoting the businesses of many young entrepreneurs as well. @USER\\n', '#2A #ArT #1A #KAG #MAGA #PATRiOT OUR ALFA WARiOR LiON ROARiNG iN WH! #SUPER #HERO #TRUMP  WE #VOTE ❤️ RED 2BE MOST ViKTORiUS WARiOR EVER DEFEATiNG OUR ENEMY W/iN! #Liars #LiberaLs #PoLiTicians #nWo #Congress  NOW OUR US Gov iN DEEP UNiTY W/ DjT45 BY WE GUTSY GT iNTeL PpL US URL\\n'], 'label_a': tensor([0, 0]), 'label_b': tensor([0, 0]), 'label_c': tensor([0, 0])}\n",
            "{'text': ['#Conservatives do NOT represent all Canadians.   They are Authoritarian scum.   #cdnpoli #onpoli URL\\n', '\"#Ford\\'s attorney says she\\'s receiving death threats and has had to move her family to safety\"\". Where\\'s the proof that #Democrats #Antifa are not doing this to promote this circus?\"\"\"\\n'], 'label_a': tensor([1, 1]), 'label_b': tensor([1, 1]), 'label_c': tensor([3, 2])}\n",
            "{'text': ['#MAGA #KAG2018 U.S. becomes EU’s top supplier of soybeans, strengthening President Trump’s trade deal - URL\\n', '#scottgimple ruined #TheWalkingDead and now he is doing the same to #FearTWD . Hope the checks cash forever because he should never get another job. #AMC\\n'], 'label_a': tensor([0, 1]), 'label_b': tensor([0, 1]), 'label_c': tensor([0, 1])}\n",
            "{'text': ['#PNP. Results are not out yet for the PNP Vice Presidential race. Those supporting Damion Crawford feel comfotable that he is in.\\n', '#BetoORourke Continues Attack on @USER Pushes for #GunControl @USER URL\\n'], 'label_a': tensor([0, 0]), 'label_b': tensor([0, 0]), 'label_c': tensor([0, 0])}\n",
            "{'text': ['Another season for Tom Brady to give it to these niggas\\n', '#WCW goes to my beautiful and sexy @USER Without you I would be lost, you have brought me from the dark and into the light and you are my world. Love you so much. URL\\n'], 'label_a': tensor([1, 0]), 'label_b': tensor([1, 0]), 'label_c': tensor([2, 0])}\n",
            "{'text': ['#WeLoveShawnBecause he is the reason we the whole #MendesArmy smile everyday and just seeing him happy makes millions of us happier\\n', ',,,just giving #Antifa what they asked for. So what is the problem? URL\\n'], 'label_a': tensor([0, 0]), 'label_b': tensor([0, 0]), 'label_c': tensor([0, 0])}\n",
            "{'text': ['#Chequers is chuckers. A reminder to @USER @USER 👇  EEA/EFTA (Norway) are ruled out. Move to CETA+++ (Canada) URL\\n', \"@USER This is one of my favorite quotes on the internet. He is so confident that he bends maths to his will.  That's hardcore.\\n\"], 'label_a': tensor([0, 0]), 'label_b': tensor([0, 0]), 'label_c': tensor([0, 0])}\n",
            "{'text': ['26. Biggest accomplishment? school\\n', '\"#LifeIsButepu when you are black and can say the word nigga\"\". Feel me my niggas??? URL\"\\n'], 'label_a': tensor([0, 1]), 'label_b': tensor([0, 1]), 'label_c': tensor([0, 2])}\n",
            "{'text': ['#Emmys host #MichaelChe says that #OnlyWhitePeople #ThankJesus at award shows are #Republicans, #ExCrackheads ! #Liberals which one is the #Pope ~ #Republican or #ExCrackheads ? #EmmyAwards2018 roasted 4 mocking Middle America, ratings hit all-time low! URL\\n', \"#StaffPick: 'A human rights crisis': US accused of failing to protect citizens from gun violence URL\\n\"], 'label_a': tensor([0, 0]), 'label_b': tensor([0, 0]), 'label_c': tensor([0, 0])}\n",
            "{'text': ['#BenJones, Assistant Director of @USER at @USER Republican Party, Conservatives, and the Future of Capital Punishment. URL @USER @USER @USER @USER @USER #deathpenalty\\n', '\"#BREAKING: #ChristineBlasey Ford Published Eight studies about #Abortion Pill\"\" and Works for Company that Produces It  URL   #CorceptTherapeutics Inc.  $CORT #RU486 #Liberals  #Kavanaugh v #CORT #RoevWade #KavanaughConfirmation  @USER @USER URL\"\\n'], 'label_a': tensor([0, 0]), 'label_b': tensor([0, 0]), 'label_c': tensor([0, 0])}\n",
            "{'text': ['#Austerity Low pay #TuitionFees  Lack of housing Wages falling #UniversalCredit Unaffordable rents #NHS crisis Crap railways Empty shops #Brexit No deal exit from EU #Windrush #Grenfell   In just 8 short years the @USER have completely fucked the UK\\n', '#YehUnDinonKiBaatHai i have a special corner for people who define simplicity is the real beauty and after a long time, there is @USER among so many actresses who is personifying this in true sense.   She is just so stunning naturally.❤️💕 URL\\n'], 'label_a': tensor([1, 0]), 'label_b': tensor([1, 0]), 'label_c': tensor([1, 0])}\n",
            "{'text': ['10 minutes in to Instinct and I love it #AlanCummings #Instinct #Intriguing\\n', '@USER #ThoseThatAreTheLoudest are afraid, JUSTICE is coming #Bono is a scam just like the #ClintonFoundation #PedoWood #Haiti URL\\n'], 'label_a': tensor([0, 1]), 'label_b': tensor([0, 1]), 'label_c': tensor([0, 2])}\n",
            "{'text': ['@USER @USER @USER @USER @USER Look no further than Chicago or Baltimore as examples of strict gun control laws NOT being effective.\\n', '#WeLoveSergioBecause he is a angel and is so pure and so sweet and loves and supports us as much as we love and support him not to mention he is the dancing KING in irl. Love you seg 💓 @USER URL\\n'], 'label_a': tensor([0, 0]), 'label_b': tensor([0, 0]), 'label_c': tensor([0, 0])}\n",
            "{'text': [\"#Republican #DevinNunes Says Liberals, Antifa Are ‘Causing All of These Riots’ Because ‘We're Winning’ - Newsweek URL\\n\", '3 days before BBC Radio 2’s Festival in a Day, they decide to tell us that their headline act isn’t coming anymore. Thanks a lot, now I’ve paid a fortune to see a tonne of acts who are shit and who are of no interest to me 😑👍🏻\\n'], 'label_a': tensor([0, 1]), 'label_b': tensor([0, 1]), 'label_c': tensor([0, 3])}\n",
            "{'text': ['#tytlive Trump needs to go because he is a danger to the country and the world.  Any way we can get rid of him is good\\n', '#ConstitutionalDecay isn’t an abstraction. It manifests in every debate where words written in 1787 fall short of providing a useful or relevant framework in 2018. It’s at the root of issues as diverse as gun control, abortion, data privacy, and healthcare. For instance, 8/\\n'], 'label_a': tensor([1, 0]), 'label_b': tensor([1, 0]), 'label_c': tensor([1, 0])}\n",
            "{'text': [\"@USER #DavidHogg, you're nobody.\\n\", '@USER And she is a sweetheart.  I hope she gets well soon. Be patient and strong Mr. Capullo.\\n'], 'label_a': tensor([1, 0]), 'label_b': tensor([1, 0]), 'label_c': tensor([1, 0])}\n",
            "{'text': ['#BBCbias   #wato   Conservatives built more than twice as much council housing as Labour, who wrecked the economy and almost bankrupted the country ! URL\\n', \"@USER Chicago's gun control is so effective it's eliminated crime completely.  Not.\\n\"], 'label_a': tensor([0, 0]), 'label_b': tensor([0, 0]), 'label_c': tensor([0, 0])}\n",
            "{'text': ['11:11 @USER follows me!\\n', '#Room25 is actually incredible, Noname is the shit, always has been,  and I’m seein her in like 5 days in Melbourne. Life is good. Have a nice day.\\n'], 'label_a': tensor([0, 0]), 'label_b': tensor([0, 0]), 'label_c': tensor([0, 0])}\n",
            "{'text': [\"#CNN irrationally argues 4 legalising #abortion in #Ireland based on the murder of an infant in 1984. #Liberals can't think #Savethe8th #8thAmendment #8thref #ccot #PJNET #tcot URL #BlueWave #conservatives #teaparty #LovethemBoth Don't #Repealthe8th URL\\n\", '28, 27, 25 and 21 but like,, it’s still really miserable and unpleasant for us?? And like they even told me how they weren’t happy and would have got divorced before I was even born so I’m like cool cool I was literally born into hatred that’s awesome no wonder I’m such a fuckup\\n'], 'label_a': tensor([0, 1]), 'label_b': tensor([0, 2]), 'label_c': tensor([0, 0])}\n",
            "{'text': ['#RosieRules #FanClub  Rosie: “Never fails. No matter where I go or where Mom takes me, the fan club starts to follow. Mom pets and talks to all of them so they think she is pretty cool. Wait til they figure out it is Dad who has mints in his pockets 😂” URL\\n', '@USER @USER Awe cute he is cute\\n'], 'label_a': tensor([0, 0]), 'label_b': tensor([0, 0]), 'label_c': tensor([0, 0])}\n",
            "{'text': ['#VaginalDavis is a radical performer, educator, and artist who embraces life at the margins of multiple identities. She is an intersex “terrorist drag” queen of Black Creole, Mexican, and German Jewish roots born in Los Angeles, CA sometime around the 60s!\\n', '@USER @USER She is literally everything 👏🏼👏🏼👏🏼👏🏼👏🏼👏🏼\\n'], 'label_a': tensor([0, 0]), 'label_b': tensor([0, 0]), 'label_c': tensor([0, 0])}\n",
            "{'text': [\"@USER Ah it's a she and she is called George 🐅🐅🐅🐅🐅🐅\\n\", '#MyUniqueHeritage  I have a separate family tree just for personalities, but I haven’t made it past my mom yet.\\n'], 'label_a': tensor([0, 0]), 'label_b': tensor([0, 0]), 'label_c': tensor([0, 0])}\n",
            "{'text': ['#WednesdayWisdom #loveLibraries #Lovetoread Share with us, what you are reading this Wednesday? URL\\n', '#DeSantis=DeRacist, as bad a choice as he is, he “distanced” himself from the Prez’s comments today questioning any deaths in Puerto Rico from Hurricane Maria @USER @USER #whataputz\\n'], 'label_a': tensor([0, 1]), 'label_b': tensor([0, 1]), 'label_c': tensor([0, 1])}\n",
            "{'text': ['@USER #Google is awesome\\n', \"#Kavanaugh #ProfessorChristineFord This started a story he said, she said. Now it's become Liberals vs Conservatives URL\\n\"], 'label_a': tensor([0, 0]), 'label_b': tensor([0, 0]), 'label_c': tensor([0, 0])}\n",
            "{'text': ['#Groomhaircuts : Hmmn hm, nutten nuh change, but the #Weather..    #LastLeg..#WaveCuts #YouthCuts #StraightRazors #Snip💇🤵🏿🤵🏼🤵🏿🤵🏽💆🔥🔥 #Groom🇯🇲📲 #7sBarbershop #SouthOrangeVillage URL\\n', '0-1 lost my acca on the first fucking fight cba\\n'], 'label_a': tensor([0, 1]), 'label_b': tensor([0, 2]), 'label_c': tensor([0, 0])}\n",
            "{'text': [\"@USER @USER I'll use that one the next time im in a gun control debate or in a debate about free speech or taxes. Yes you can choose to be irresponsible or choose not to be. I argue responsible. Whats wrong with that? Don't justify murder by saying it was never alive or its my right.\\n\", '@USER @USER Who the hell does he think he is?\\n'], 'label_a': tensor([1, 1]), 'label_b': tensor([1, 1]), 'label_c': tensor([2, 1])}\n",
            "{'text': ['@USER @USER @USER She is just nasty\\n', '#LiberalismIsAMentalDisorder #Hypocrites #DemocratsHateAmerica #DemocratsAreDangerous EVERYTHING LIBERALS TOUCH TURNS TO ABSOLUTE SHIT. URL\\n'], 'label_a': tensor([0, 1]), 'label_b': tensor([0, 1]), 'label_c': tensor([0, 2])}\n",
            "{'text': ['#WednesdayWisdom Extreme weather and road conditions make driving dangerous and stressful.  Please be safe if you are effected by the #HurricaneFlorerence #SafetyFirst\\n', '...veer left by the old church...\\n'], 'label_a': tensor([0, 0]), 'label_b': tensor([0, 0]), 'label_c': tensor([0, 0])}\n",
            "{'text': ['#HurricanceFlorence she is on her way... #praywithoutceasing\\n', '#ANTIFA grueling training! Goes much better in the video game.🤣 URL\\n'], 'label_a': tensor([0, 0]), 'label_b': tensor([0, 0]), 'label_c': tensor([0, 0])}\n",
            "{'text': ['$69.64 - Best Price Asmodee Board Game, Various  URL\\n', '#NICKIDAGOAT😤❤️❤️❤️ she is!!!\\n'], 'label_a': tensor([0, 0]), 'label_b': tensor([0, 0]), 'label_c': tensor([0, 0])}\n",
            "{'text': ['@USER He is good at getting to the truth.\\n', '#NOWPLAYING Interview with Monique Rochon she is starring in “Pulpit Secrets” on September 22 at Landis Theater in Vineland Listen at URL #TheLounge\\n'], 'label_a': tensor([0, 0]), 'label_b': tensor([0, 0]), 'label_c': tensor([0, 0])}\n",
            "{'text': ['#NBA2KFreeAgent We are looking for a 3rd member for our Crew. We don’t have good records but only reason is due to having random teammates. Hmu if you are interested. 86 Pure Slasher PG and a 85 Pure Sharp SG.\\n', \"#shugurrgiveaway here is craig, he is wearing a swag PARTY HAT. Thank you shugurr for being such an inspiration to me and helping me realize I LOVE art. You're the best!\\n\"], 'label_a': tensor([0, 0]), 'label_b': tensor([0, 0]), 'label_c': tensor([0, 0])}\n",
            "{'text': ['\"#Hollywood #Liberals have been threatening this since Reagan, Bush, W. Bush and now Trump. But none of you have made the move. #EmptyThreats Michael Moore says he\\'ll move to #Canada if new film leads to trouble\"\" URL\"\\n', '88% of these niggas have podcasts and YouTube channels dedicated to this and shit ain’t getting solved so URL\\n'], 'label_a': tensor([0, 1]), 'label_b': tensor([0, 1]), 'label_c': tensor([0, 2])}\n",
            "{'text': ['*smexy was at the beach in a long chair asleep with a cigarette and wine in his hands* #openRp\\n', '@USER He is only pandering to the HRC crowd, BLM, and ANTIFA. Yeah, that’s really who Texas needs in office. God bless Texas! #VoteRedNov6\\n'], 'label_a': tensor([0, 0]), 'label_b': tensor([0, 0]), 'label_c': tensor([0, 0])}\n",
            "{'text': ['Anytime I randomly bust out laughing it’s because I remembered some dumb shit Albria said 😭😭\\n', \"#ClimatChange ticks conservatives off. It is hard on their belief system. A rain of toadstools or locusts, no problem. This much Actual rain, unbelievable. Good article full of quotes. It's not my words. URL via @USER URL\\n\"], 'label_a': tensor([1, 0]), 'label_b': tensor([1, 0]), 'label_c': tensor([1, 0])}\n",
            "{'text': ['@USER @USER 😂 You do not like the Jewish people because you ALL claims they are holding all the money. Sound familiar? Your left wing libtard  family is the family of the KKK. You do not hate Jews? That’s funny. Gun control; even funnier. Good luck\\n', '#MAGA  READ: George Conway Calls Out Donald Trump’s ‘Ceaseless, Shameless, and Witless Prevarication on Virtually All Topics’ URL via @USER      @USER\\n'], 'label_a': tensor([1, 0]), 'label_b': tensor([1, 0]), 'label_c': tensor([2, 0])}\n",
            "{'text': ['@USER @USER there she is\\n', '5k Bitches 🎉💙\\n'], 'label_a': tensor([0, 1]), 'label_b': tensor([0, 2]), 'label_c': tensor([0, 0])}\n",
            "{'text': ['#Liberals always up to dirty tricks to get their way. 👇👇 URL\\n', '#Conservatives are more upset about #bertenernie being #gay than having a #sexualpredator in the @USER a hooker as @USER and a #rapist as #supremecourtjustice\\n'], 'label_a': tensor([1, 1]), 'label_b': tensor([1, 1]), 'label_c': tensor([2, 2])}\n",
            "{'text': ['#Antifa protest in #Athens for the 5 years after the murder of Pavlos Fyssas by Golden Dawn.  Their voters are complicit to their crimes. #KillahP URL\\n', '#I #am #being #abused. #Sit #here, #wait #here, #maybe #we #will #change #your #future, #you #are #not #going #to #get #a #ticket, #but #we #were #evaluating #it. Date, 11.09.18. What I was writing on when my account was disabled by Instagram. The whole text is in comment field. URL\\n'], 'label_a': tensor([1, 0]), 'label_b': tensor([1, 0]), 'label_c': tensor([2, 0])}\n",
            "{'text': [\"#Kavanaugh  John Fund: Kavanaugh and Ford controversy – It's 1991 all over again and even some honest liberals are upset   URL\\n\", '@USER Gun control takes guns out of law abiding citizens that’s it\\n'], 'label_a': tensor([0, 0]), 'label_b': tensor([0, 0]), 'label_c': tensor([0, 0])}\n",
            "{'text': ['#antifa #Resist.. Trump is trying to bring world peace, not obstruct like the democrats..  is this good for you also? or haters gonna hate? URL\\n', '@USER @USER She is an advocate and model for natural beauty.\\n'], 'label_a': tensor([0, 0]), 'label_b': tensor([0, 0]), 'label_c': tensor([0, 0])}\n",
            "{'text': ['#MAGA #KavanaughConfirmationHearings postponing votes WELL LETS DO THE SAME OPEN THE HUSH FUND BOOKS NOW URL\\n', '#TickTock If she is not formally charged for mishandling sensitive material we will have no choice but to release proof that she is guilty of high treason against the United States for selling patented military secrets to the Saudi Arabian government. URL\\n'], 'label_a': tensor([0, 0]), 'label_b': tensor([0, 0]), 'label_c': tensor([0, 0])}\n",
            "{'text': ['#BacktheBlue.  Jeff Sessions: ‘Listen To The ACLU, Antifa, Black Lives Matter’ If You Want More Chicago Shootings URL via @USER\\n', \"#Conservatives just like old #Garbage bags blowing in the wind, here's an old garbage bag now... URL\\n\"], 'label_a': tensor([0, 1]), 'label_b': tensor([0, 1]), 'label_c': tensor([0, 3])}\n",
            "{'text': [\"#TipOfTheDay If you are giving #coffee as a gift / part of a gift, make sure to ask for an airtight container or valve-sealed bag. The tin-ties are cute but won't preserve the coffee past a week.  Join our mailing list for more tips, facts, and coffee news URL URL\\n\", '#Arizona #Tennessee  #Alaska #SC  As soon as these RINOS (aka liberals) are up for reelection vote them out!   #DrainTheSwamp 💥 URL\\n'], 'label_a': tensor([0, 0]), 'label_b': tensor([0, 0]), 'label_c': tensor([0, 0])}\n",
            "{'text': ['#Affirmativeaction to #Affirmativehate. #Altleft wants Law prof fired for pointing out poor performance of unqualified admits. URL #tcot #Conservatives #Law #Lawyers #Lawdean #LawProf #UPenn #AltLeft #Highered #ABA #HigherEducation #AcademicTwitter\\n', '#LisaxMichaelKors  she is soo beautifull\\n'], 'label_a': tensor([0, 0]), 'label_b': tensor([0, 0]), 'label_c': tensor([0, 0])}\n",
            "{'text': ['#BREAKING ITS OFFICIAL! @USER music video for #GTFO has just reached 2 MILLION views on YouTube AND she is still #1 on the US itunes Music Video Charts! Keep streaming #lambs 🦋 URL\\n', '#VijayMallyaCase @USER you are usually good credible anchor but I heard you interpreting malliyas statement on your s and others too he said i met and talk of settlement only while you said maliya said he is leaving for london please contact in on live tv\\n'], 'label_a': tensor([0, 0]), 'label_b': tensor([0, 0]), 'label_c': tensor([0, 0])}\n",
            "{'text': ['#Aurora #IL #KaneCty please keep looking for and sharing this sweetheart named Rosey.  She is a little White and Tan Chihuahua that is terribly missed.  If you see her call 630-360-7325 right away! URL\\n', '#Bakersfield is why we need gun control! Sorry for the victims other than the gunman himself I hope he rots in hell!\\n'], 'label_a': tensor([0, 1]), 'label_b': tensor([0, 1]), 'label_c': tensor([0, 1])}\n",
            "{'text': [\"#Believe I'm going to teach you ways to create your own exclusive, online 'traffic economy' so you are never in short supply of qualified prospects and sales again URL URL\\n\", '\"#Trump is going to visit victims of #HurricaneFlorence. #Antifa is planning a rally. In the meantime, they will party. Boats and Bros\"\"  #antifascist #MAGA #KAG #WWG1WGA #GreatAwakening #QAnon #QArmy #FlorenceAftermath #FlorenceNC #NorthCarolina URL\"\\n'], 'label_a': tensor([0, 0]), 'label_b': tensor([0, 0]), 'label_c': tensor([0, 0])}\n",
            "{'text': [\"#Denver's venues are STACKED with epic shows this #fall 🎶🍁 We have put together a Fall Music Guide on URL   to help you pick all the shows you are going to hit this season - Check it out! URL\\n\", '#SundayFunday 😁👌🏼 Go check out my girl thecanncierge because she takes bomb photos and drops a hell of a lot of #cannabis knowledge! She is the canncierge after all 😉 I’m just a pot stock… URL\\n'], 'label_a': tensor([0, 0]), 'label_b': tensor([0, 0]), 'label_c': tensor([0, 0])}\n",
            "{'text': ['4chan is Hunting Antifa URL via @USER\\n', '#HonourSacrificeBoycottMatch I hope d human rights rats r happy!hope Sidhu is happy!  I hope d liberals r happy! Let’s play cricket wth thm let’s thank thm 4 wht they r doing 2our soldiers Let’s celebrate our impotence funny a piddly little nation like pak is taking us 4 a ride\\n'], 'label_a': tensor([0, 1]), 'label_b': tensor([0, 1]), 'label_c': tensor([0, 2])}\n",
            "{'text': ['#WomenWednesday: Meet multiple-award-winning designer @USER BFA 82. She is the in-demand @USER grad is behind @USER recent redesign: URL    Lacava, centre, is pictured with classmates at #Concordia in 1981. #CUalumni URL\\n', '#ConfirmKavanaugh ✅ #Kavanaugh #SCOTUS #POTUS45 #PresidentTrump #AmericaFirst #MAGA#KAG 🚫Anti #Trump liberal activist Accuser  #Ford makes accusation but  not willing to be subject 2 B question? Suffer the consequence of filing a false charge #LockHerUp  URL\\n'], 'label_a': tensor([0, 1]), 'label_b': tensor([0, 1]), 'label_c': tensor([0, 1])}\n",
            "{'text': ['Anal stimulation URL\\n', '#Resist traitors caught on video breaking our laws to further their #Communist #Socialism ways and slow down the #Trump agenda. They are the DC Chapter of Democrat Socialists of America. Forget anTifa, that is a distraction from the real Resistance. #MAGA  URL\\n'], 'label_a': tensor([0, 1]), 'label_b': tensor([0, 1]), 'label_c': tensor([0, 2])}\n",
            "{'text': ['#NuevaFotoDePerfil Pic by: @USER  You are awesome! URL\\n', '#SerenaWilliams making that 0-2 start to this 1st set look like ancient history with how she is  playing now..#USOpen\\n'], 'label_a': tensor([0, 0]), 'label_b': tensor([0, 0]), 'label_c': tensor([0, 0])}\n",
            "{'text': [\"#WCE is the love of my life, she is the best thing that has ever happened to me she's not only my girlfriend but she's also my best friend i know you had alot of heart breaks baby but i won't break your heart. @USER P.S Yes i cropped R-Truth out. 😂 URL\\n\", '#Celebrities Bekah Martinez Is Pregnant! The Bachelor Star Expecting First Child with Boyfriend Grayston: Bekah Martinez has a whole new reality\\xa0— she is going to be a mom! The Bachelor contestant, 23, .. via URL URL URL\\n'], 'label_a': tensor([0, 0]), 'label_b': tensor([0, 0]), 'label_c': tensor([0, 0])}\n",
            "{'text': ['#GreatAwakening #QAnon #PatriotsUnited #WWG1WGA #AreYouAwake  WHEN YOU ARE AWAKE YOU SEE CLEARLY ❤️🧡💛💚  Check out this video URL URL\\n', '#Florence looks like she is getting ready to explode. Notice the eye starting to reappear. URL\\n'], 'label_a': tensor([0, 0]), 'label_b': tensor([0, 0]), 'label_c': tensor([0, 0])}\n",
            "{'text': ['Alex Jones be smokin be dicks out here but mans really got supporters out here 😂\\n', '#bbnaija when we told u she is a child of grace we meant it we are busy no time to famz anybody #teamceec URL\\n'], 'label_a': tensor([0, 0]), 'label_b': tensor([0, 0]), 'label_c': tensor([0, 0])}\n",
            "{'text': ['#ChristineBlaseyFord was grinding #Kavanaugh at a party almost 40yrs ago.....You gotta love the age, of this ridiculous #MeToo movement   Just swear #Kavanaugh in already and get this over with, before #liberals have an anxiety attack like 11/8/16 URL\\n', '#ChooseCruz  let CA and NY  have the LIBERALS  #DontCAmyTEXAS URL\\n'], 'label_a': tensor([1, 0]), 'label_b': tensor([1, 0]), 'label_c': tensor([3, 0])}\n",
            "{'text': ['*109. Celine_SwittinS Follback Erza_Jullian #OpenfolbackCeline_SwittinS\\n', '#CoryBooker is not a hero, he is an American traitor and should be treated as such. Arrest, prosecute, and  carry out sentence. #KavanaughConfirmation URL via @USER\\n'], 'label_a': tensor([0, 1]), 'label_b': tensor([0, 1]), 'label_c': tensor([0, 1])}\n",
            "{'text': ['#Conservatives thanks to Tory doctrinaire policies we are all going back in time and losing hard one benefits and prosperity. Go forward with our EU partners URL\\n', '100 Round Goon Bitch Is You Kiddin Me🤣\\n'], 'label_a': tensor([0, 1]), 'label_b': tensor([0, 1]), 'label_c': tensor([0, 1])}\n",
            "{'text': ['#HurricaneFlorence is producing up to 40in of RAIN. Please be safe. URL\\n', '@USER @USER @USER Scott Gottlieb doesn’t know what’s an opiod and what’s not. He’s definitely not an expert on anything. However he is a expert at reading bank statements and counting money.\\n'], 'label_a': tensor([0, 0]), 'label_b': tensor([0, 0]), 'label_c': tensor([0, 0])}\n",
            "{'text': ['Angels now have 6 runs. Five of them have come courtesy Mike Trout homers. Trout connects on a 3-2 pitch with runners on second and third\\n', '#California leads the way in gun safety. URL\\n'], 'label_a': tensor([0, 0]), 'label_b': tensor([0, 0]), 'label_c': tensor([0, 0])}\n",
            "{'text': [\"#CommunistNewsNetWork's rented lips @USER why are you never ever seen protesting and demanding Gun Control on the streets of Chicago?    #LiberalsHateAmerica URL\\n\", \"@USER   This blow hard was going to push this for his votes. Bad enough his names on it, it will always be the Tappanzee  Bridge to us NYrs who had no say in it. I hope they investigate why this was going to be opened and risk lives and no one knew it wasn't ready.💩 URL\\n\"], 'label_a': tensor([0, 0]), 'label_b': tensor([0, 0]), 'label_c': tensor([0, 0])}\n",
            "{'text': ['#PatriotsUnited #PatriotsEffectingChange #Patriot #MAGA #Trump #TrumpsSuperElites #thestorm #GreatAwakeningWorldwide #QANON #WWG1WGA   Law abiding citizens. We have a right to defend ourselves. Fight fire 🔥 with fire 🔥  Antifa article shows us how. Read 👇 URL\\n', \"#SundayShoutOuts to @USER because.... Because she is amazing and has my boundless support and endless appreciation for her support in return, it's just a loop of love and respect… URL\\n\"], 'label_a': tensor([0, 0]), 'label_b': tensor([0, 0]), 'label_c': tensor([0, 0])}\n",
            "{'text': ['@USER #MoreBS = MORE #BARRYSOETOROBULLSHIT\\n', '#tytlive OMG how can a Latino faith based woman think that Trump is Christian.  Wow, he is the poster child for immorality and hating Latinos\\n'], 'label_a': tensor([1, 1]), 'label_b': tensor([1, 1]), 'label_c': tensor([1, 1])}\n",
            "{'text': ['#2A. The stuff some of these people say amazes me. They do not get we already have gun control. Take a look at what happens to all the people arrested on gun charges each weekend in Chicago. Most of them are given a slap on the wrist. #NRA URL\\n', '#Conservatives are always revolting URL\\n'], 'label_a': tensor([0, 0]), 'label_b': tensor([0, 0]), 'label_c': tensor([0, 0])}\n",
            "{'text': [\"@USER @USER @USER @USER @USER @USER That's not what I said. The vast majority of US leftists support gun control. But it's not inherently a left wing policy. Many revolutionary socialists and anarchists don't support aggressive gun control because they believe the working class should be armed for self-defense.\\n\", '#Democrats and #Liberals accuse #BrettKavanaugh and have no proof!! Meanwhile they supported #TedKennedy in his run for @USER and called him the lion of the Senate and he killed a woman. #wednesdaywisdom #news #trump URL\\n'], 'label_a': tensor([0, 0]), 'label_b': tensor([0, 0]), 'label_c': tensor([0, 0])}\n",
            "{'text': ['@USER #Google as a fellow Goggler I must say election night 2016 was one of the greatest nights of my life! Watching libs and Hillary supporters especially media still has me laughing! You alls pain and tears brought me great joy! #ThankYou\\n', '#BESTPOTUSEVER #LOVEMYPRESIDENT #MAGA #BRILLIANT #WINNING #MASTERNEGOTIATOR @USER thank you! URL\\n'], 'label_a': tensor([0, 0]), 'label_b': tensor([0, 0]), 'label_c': tensor([0, 0])}\n",
            "{'text': ['@USER #Carrey is a #pervert himself!\\n', '#Angel_Dad: If Lawmakers Really Cared About Citizens, They Would Secure the Border URL via @USER URL\\n'], 'label_a': tensor([1, 0]), 'label_b': tensor([1, 0]), 'label_c': tensor([1, 0])}\n",
            "{'text': ['An American Tail really is one of the most underrated animations ever ever ever. Fuck I cried in this scene\\n', '@USER nigga are you stupid your trash dont play with him play with your bitch 😂\\n'], 'label_a': tensor([0, 1]), 'label_b': tensor([0, 1]), 'label_c': tensor([0, 1])}\n",
            "{'text': [\"#NoOneAskMe But here's my opinion #offset keeping this beef up between #cardiB and @USER he know Cardi slow and believe everything he says.. She is his meal ticket. I just think #offset need to sit his ugly ass down.\\n\", \"#ICYMI - Liberals' Favorite Myth That Obama Was a Law Professor Is Now Destroyed?! URL\\n\"], 'label_a': tensor([1, 1]), 'label_b': tensor([1, 1]), 'label_c': tensor([1, 1])}\n",
            "{'text': ['#JoyfulGlitz#Younique#Blessed#MomLife URL\\n', '#HaveYourSay: If you live in #Garston, Jane wants to hear your views on the location of a new Community Police Station. She is proposing to open a new accessible community base in the South Liverpool NHS Treatment Centre on Church Road. What do you think?  URL URL\\n'], 'label_a': tensor([0, 0]), 'label_b': tensor([0, 0]), 'label_c': tensor([0, 0])}\n",
            "{'text': ['#Seek the LORD while you can find Him  Call on Him now while He is near  Isaiah 55:6  #God #waiting for you to come into His Kingdom  #JesusIsCalling to give you new #life  #repentance for #forgiveness #salvation from sin #Satan #EuropaAfricaUs #pray #TrustGod #believe\\n', '#Repost @USER with get_repost ・・・ Happy 34th to the one and only Prince Harry, The Duke of Sussex. 🥂 He is such a grounded, compassionate guy, taking after his mother, and I’m… URL\\n'], 'label_a': tensor([0, 0]), 'label_b': tensor([0, 0]), 'label_c': tensor([0, 0])}\n",
            "{'text': ['\"@USER is as complete of a person as I\\'ve ever met. I don\\'t know what will happen after pro football, but he can do a lot of special things in life. He is what you want a Duke football player to be, no if, ands or buts about it,\"\" @USER URL\"\\n', \"#Spending. Don't speed all of your money. If you are not saving atlest 15%  of what you earn,  start today.  Look at your income and expenses, find out where you can start to cut back and get 15% you save.\\n\"], 'label_a': tensor([0, 0]), 'label_b': tensor([0, 0]), 'label_c': tensor([0, 0])}\n",
            "{'text': ['#Jenelle wants the world to know she is in a bikini. Oh, and to pray for NC. 😒 URL\\n', '@USER To demonstrate how wholly incapable of carrying a thought to its logical conclusion she is?\\n'], 'label_a': tensor([0, 1]), 'label_b': tensor([0, 1]), 'label_c': tensor([0, 1])}\n",
            "{'text': [\"#UglyIsTheNewPretty 💜💜💜 Don't let ppl tell you how to look or how to be! The ultimate power is projecting yourself and laughing at the projections of others YOU ARE AN ACTOR IN THE PLAY OF LIFE ITS JUST A RIDE WHAT ARE YOU SO AFRAID OF?🤔 URL\\n\", '@USER #MAGA who cares about the farm.  He had no reason to commit murder. End of story.\\n'], 'label_a': tensor([0, 0]), 'label_b': tensor([0, 0]), 'label_c': tensor([0, 0])}\n",
            "{'text': [\"@USER @USER @USER @USER Go with @USER Jeans. I've been wearing Wranglers over 25 yrs now. Ever since I found Levis contributed  heavily to Gun Control Groups &amp; Gun Grabbing Politicians back in the 1990s.\\n\", '#FeelsGoodGirl @USER @USER  you should be proud at her she is amazing in gambit URL\\n'], 'label_a': tensor([0, 0]), 'label_b': tensor([0, 0]), 'label_c': tensor([0, 0])}\n",
            "{'text': ['@USER I guess that’s where swamp ass originated\\n', '#MAGA #Qanon #GreatAwakening #inners #WWG1WGA #NowComesThePain #WalkAway #GoodbyeDemocrats   McCabe and Strzok Caught Destroying Evidence During Final Days at FBI; “Huber is Running a Grand Jury” URL\\n'], 'label_a': tensor([0, 0]), 'label_b': tensor([0, 0]), 'label_c': tensor([0, 0])}\n",
            "{'text': ['#Conservatives aren’t #afraid of #AnitaHill #redux: They know #power matters more than #truth: #Republicans aren’t worried the #Kavanaugh #hearing will #backfire, because in 2018 the #facts almost don’t matter URL #news #GOP #Trump #Liars #PostTruth #SOCTUS\\n', '#Brexit Deal Has Been Reached with #EU?!  Hold onto your hats!  #HardBrexit #BrexitDeal #ChequersDeal #ChuckChequers #MBGA #MEGA #MCGA #MAGA #Conservatives #Patriots #MayOut #MayMustGo URL\\n'], 'label_a': tensor([0, 0]), 'label_b': tensor([0, 0]), 'label_c': tensor([0, 0])}\n",
            "{'text': [\"*a reminder that david harcourt's 1972 classic EVERYONE WANTS TO BE FUEHRER: A HISTORY OF NATIONAL SOCIALISM IN AUSTRALIA AND NEW ZEALAND is avail as a pdf: #antifa #auspol #FCKNZS URL\\n\", '@USER @USER Titty.\\n'], 'label_a': tensor([0, 0]), 'label_b': tensor([0, 0]), 'label_c': tensor([0, 0])}\n",
            "{'text': ['*soc OC dom manapun, up for a plot? foto hanya penanda faceclaim. URL\\n', '#TEXAS  Wake up! A Socialist is mesmerizing the weak-minded in your state!  YOU ARE **TEXAS** FOR CRYING OUT LOUD!  Of all the places that embody the American Spirit of Individual Freedom, TEXAS IS THE STANDARD BEARER  Make a damn stand for your GREAT Senator @USER  #SaveTexas URL\\n'], 'label_a': tensor([0, 0]), 'label_b': tensor([0, 0]), 'label_c': tensor([0, 0])}\n",
            "{'text': [\"#pastramicity I'm so sad that I hadn't found Sky sooner now he is doing music which is still amazing\\n\", '#WCW my Zamalek.Zamo!Mapholoba!She was my first friend in Uni upto today she is still my muntu!I love you Pholobs! 8 years strong! @USER   ❤️❤️❤️ URL\\n'], 'label_a': tensor([0, 0]), 'label_b': tensor([0, 0]), 'label_c': tensor([0, 0])}\n",
            "{'text': ['#ProudFathersWithRTG He / she is on the way cnt wait...hope God will mke it hppn.....\\n', '\"@USER ...and how very irrelevant.   But if they didn\\'t find weed, they would have dug up an 8th grade picture of him wearing a hoodie and talk about what a thug\"\" he is.\"\"\"\\n'], 'label_a': tensor([0, 0]), 'label_b': tensor([0, 0]), 'label_c': tensor([0, 0])}\n",
            "{'text': ['#Chequers is dead. D.e.a.d. Time to move on. #SuperCanada has been offered and we should take it.  Time for the @USER to face the fact, retire Mrs May and appoint a new leader, probably @USER\\n', '#Auspol Flawed though they were in many ways as individuals , Our  Labor PMs have always battled on and achieved a lot for the nation. Recently, apart from gun control, what have the LNP actually done _for_ the nation??  Go on, make a list. URL\\n'], 'label_a': tensor([0, 0]), 'label_b': tensor([0, 0]), 'label_c': tensor([0, 0])}\n",
            "{'text': ['And she has a pet??? Fucking disgusting URL\\n', \"#MAGA  BREAKING NEWS:  The DNC stole their playbook from George Costanza on Seinfeld.  Now at least we know what we're up against.  DNC Rule #1:  It's not a lie, if you believe it.  WATCH: URL\\n\"], 'label_a': tensor([1, 0]), 'label_b': tensor([1, 0]), 'label_c': tensor([1, 0])}\n",
            "{'text': ['\"#LiberalHypocrisy #TacoBell When Liberals ask why your against illegal immigration? Taco Bell Employee: No Habla Ingles!\"\" URL\"\\n', '5 years ago Antifa rapper Pavlos Fyssas surrounded by  fascists of the Golden Dawn Party in Keratsini, Athens, and stabbed to death.   Five years later WE DO NOT FORGET WE DO NOT FORGIVE  URL URL\\n'], 'label_a': tensor([1, 0]), 'label_b': tensor([1, 0]), 'label_c': tensor([1, 0])}\n",
            "{'text': ['\"#CollegeFootball  2021 6\\'7 285 DT/OL Gallatin, TN URL \"\"just turned 15 yrs old Aug 1st 2018\"\" \"\"Above average movement\"\" \"\"He is a Dog\"\" #SEC #PAC12 #BIG12 #BIG10 URL\"\\n', \"@USER @USER Then we agree. Common ground.  And I don't like the Bushes.  Particularly HW.  URL\\n\"], 'label_a': tensor([0, 0]), 'label_b': tensor([0, 0]), 'label_c': tensor([0, 0])}\n",
            "{'text': ['#BlackInkCrewCHI lily they don’t hate you....you Hate you. You are your own worst enemy cause you let your anger get in the way I legit feel like Shes one of the kids I Work with at my job\\n', '#JusticeForSoniasFather  Mr Usman buzdar sb! please respond to Sonia Iqbal daughter of PTI counsellor from okara whose father was killed during elections by nawaz league killers. She is saying she will commit suicide in front of media. Where is justice?\\n'], 'label_a': tensor([1, 1]), 'label_b': tensor([1, 1]), 'label_c': tensor([1, 3])}\n",
            "{'text': ['.@USER ‘Listen To The #ACLU, #Antifa, #BlackLivesMatter’ If You Want More Chicago Shootings URL via @USER  #Sessions\\n', '@USER (((ruth porat))) another coincidence? these are NOT good people.  And now people like her are shapping the narrative by censoring search results 😡\\n'], 'label_a': tensor([0, 0]), 'label_b': tensor([0, 0]), 'label_c': tensor([0, 0])}\n",
            "{'text': ['@USER - WORST POTUS.  EVER!\\n', '#Conservatives have no genetic ability to understand #hypocrisy or #irony. Right wing ideology gets ya all twisted in knots. #onpoli  #Ontario  #PartyOfYesteryear  @USER  #FraudNation URL\\n'], 'label_a': tensor([1, 1]), 'label_b': tensor([1, 1]), 'label_c': tensor([1, 2])}\n",
            "{'text': ['(6) he got angry with me for stating I had checked the drawer and that I don’t see why he is making the argument that it could still be my fault in this particular instance. #ohreally\\n', '#ALDUB165thWeeksary 😘 @USER @USER @USER @USER @USER @USER @USER @USER  Be thankful for what you are NOW, and keep fighting for what you want to be tomorrow.\\n'], 'label_a': tensor([0, 0]), 'label_b': tensor([0, 0]), 'label_c': tensor([0, 0])}\n",
            "{'text': ['#OITNB. She is the worst public defender. Trailing her pen uner the words.\\n', '#Trademark Attorney Daniela Paull will be in Paris next week attending the 32nd Annual @USER conference - do get in touch if you are also attending and would like to set up a meeting URL #IP\\n'], 'label_a': tensor([1, 0]), 'label_b': tensor([2, 0]), 'label_c': tensor([0, 0])}\n",
            "{'text': ['#TIMETRAVELTHURSDAY #MAXDRIVETIMETRAVELTHURSDAY You Are #OnAirWithShine #NP Home with you  - @USER  On The #MaxDrive w.@USER the  #RadioENCHANTRESS\\n', 'And never regretted it .. not even during our hardest times !! URL\\n'], 'label_a': tensor([0, 0]), 'label_b': tensor([0, 0]), 'label_c': tensor([0, 0])}\n",
            "{'text': [\"#TheView #BothamJean I don't believe #AmyGuyger she is a lying pos! I live near a police station..I hope and pray a cop doesn't bust up in my house thinking it's his/hers and kills me..my God..we/people of color are police prey..we're always in police cross-hairs..no matter what\\n\", '#Antifa, September 22: Stop the fascist NVU in #Amsterdam! URL\\n'], 'label_a': tensor([1, 1]), 'label_b': tensor([1, 1]), 'label_c': tensor([1, 2])}\n",
            "{'text': ['#BecauseOfTories we have the lowest youth unemployment since records began 👏🏼  URL\\n', 'And that’s why you were at NYFW cause your such a class act.. getcho wack ass outta here URL\\n'], 'label_a': tensor([0, 1]), 'label_b': tensor([0, 1]), 'label_c': tensor([0, 1])}\n",
            "{'text': [\"#MAGA #Kavanaugh #DrainTheDeepState @USER   I'd like to see @USER interviewed again. In his book ALL OUT WAR he laid out a lot that is happening today. ✓DC Secret Resistance Society ✓ANTIFA ✓ A White House meeting. Be interesting to hear him 2 yrs after Bk. URL\\n\", \"#SandraOh is dressed like the queen she is tonight! We salute you, you Canadian Goddess! Let's hope you win for #KillingEve. #EmmyAwards URL\\n\"], 'label_a': tensor([0, 0]), 'label_b': tensor([0, 0]), 'label_c': tensor([0, 0])}\n",
            "{'text': ['@USER WWE considers Raw the bigger show and having Ronda later in the PPV shows she is a bigger nane\\n', '#GreatestThingsAboutThe90s liberals weren’t unhinged\\n'], 'label_a': tensor([0, 1]), 'label_b': tensor([0, 1]), 'label_c': tensor([0, 2])}\n",
            "{'text': ['#StayOnYourPath #HealthQuote If you are wishing to loose fat, get back your wellbeing and slow down or reverse the aging process then check this super powerful natural method URL URL\\n', '#SomethingIsAboutToHappen And here goes his bottle on the floor, with water dripping from it.  She just snapped as he was trying to cool her down. She is pissed at something for sure.  Stay tuned.\\n'], 'label_a': tensor([0, 0]), 'label_b': tensor([0, 0]), 'label_c': tensor([0, 0])}\n",
            "{'text': ['#FakeNews like @USER and @USER will gloss over this today thanks to the #ChristineBlaseyFord circus act. #ConfirmJudgeKavanaughNow so we can get back to triggering liberals by talking about @USER ‘s success. 🙌🏻 URL\\n', '\"#Capitalism may be undermined by the displacement of menial laborers by #AI   should conservatives therefore inoculate themselves against knee-jerk reactionism against the notion of the living wage\"\"?  #economics #marxism #marx #robotics #communism #socialism #socialismkills\"\"\"\\n'], 'label_a': tensor([0, 0]), 'label_b': tensor([0, 0]), 'label_c': tensor([0, 0])}\n",
            "{'text': ['#California Tries New Tack on #Gun #Violence : #Bullet #control - The New York Times #activist \\u2066@USER \\u2066@USER \\u2066@USER \\u2066@USER \\u2066@USER  URL\\n', \"#eminem he could've gone harder but he didn't have to reason  why he is the RapGod he is one of the best lyricist in the game. Lot of people talk smack about him because they will never be him.  @USER URL\\n\"], 'label_a': tensor([0, 0]), 'label_b': tensor([0, 0]), 'label_c': tensor([0, 0])}\n",
            "{'text': ['#Conservatives We mus pray for liberals. They trooly kno knot watt they do. I was brot up socialist democrat, by my wonderful, but, ignorant parents. I served inda military. I learnd I can serve Christ, too. Eye reel -eyesed CONSERVATIVISM was more closely aligned w God.\\n', '#deplorabledregofsociety says she is joe Biden’s girlfriend. #lol #maga #redtidalwave onward #dregs URL\\n'], 'label_a': tensor([1, 0]), 'label_b': tensor([1, 0]), 'label_c': tensor([1, 0])}\n",
            "{'text': ['#disarmthem #antifa Please NO ONE be stupid enough to do this. Most of us DO NOT open carry, most of us carry concealed. Anyone stupid enough to do this, that is considered an act of aggression and you will be shot We also carry more than one weapon. We shoot to kill, not maim.\\n', '@USER * Puerto Rico is destroyed; more than 3,000 die * Trump visits, and throws paper rolls at people * 11 months later, Puerto Rico is still waiting for help * Trump says everything is fine, and his visit was a great success  🤔\\n'], 'label_a': tensor([1, 1]), 'label_b': tensor([1, 1]), 'label_c': tensor([2, 1])}\n",
            "{'text': [\"#Beto O'Rourke talks gun control at Houston campaign events URL via @USER\\n\", 'All these sick ass ppl from school gave me something and now I have to chug down this nasty drink so it can go away🙃\\n'], 'label_a': tensor([0, 1]), 'label_b': tensor([0, 1]), 'label_c': tensor([0, 3])}\n",
            "{'text': ['Anyone want to bet it costs more than that $50k election referendum? URL\\n', '#Conservatives are going to make hay out of #Trudeau’s answer but the truth is there’s criminals everywhere and people who will commit heinous acts of violence. Whether they’re from Syria and have brownskin or are white Canadian born it’s tragic all around. URL\\n'], 'label_a': tensor([0, 0]), 'label_b': tensor([0, 0]), 'label_c': tensor([0, 0])}\n",
            "{'text': [\"..While reading this, I feel like I am hearing Cardi B's voice rapping.😂 URL\\n\", '#Conservatives are #dumberthandogshit is the central point of my tweet\\n'], 'label_a': tensor([0, 1]), 'label_b': tensor([0, 1]), 'label_c': tensor([0, 3])}\n",
            "{'text': ['#Season2 #scary Er while we are on the subject do you condemn Antifa and those who take Soros money? URL\\n', '#Charlotte could see anywhere from 6 to 10” of rainfall from #HurricaneFlorence (#FlorenceNC).   Florence is NOTHING to mess around with, she is a very powerful and life-threatening major hurricane, bringing a lot... URL\\n'], 'label_a': tensor([0, 0]), 'label_b': tensor([0, 0]), 'label_c': tensor([0, 0])}\n",
            "{'text': ['@USER #Rosie makes me nauseous!🤮 URL\\n', '#FemiNazis are Liberals so #MeToo only counts when they blame a non-Liberal man. #Bizarro  #KAG2018 ❤️🇺🇸 URL\\n'], 'label_a': tensor([1, 1]), 'label_b': tensor([1, 1]), 'label_c': tensor([1, 2])}\n",
            "{'text': [\"#Conservatives Don't like #Liberals, Because The Definition of Liberty is Different for both, For the #Conservatives Freedom means The #Freedom to #Obstruct #Impede and #Prevent #Progress in #HumanRights #CivilRights and #Society in General. To the #Liberals Freedom comes with\\n\", '@USER Watch ielts liz .. she is amazing\\n'], 'label_a': tensor([0, 0]), 'label_b': tensor([0, 0]), 'label_c': tensor([0, 0])}\n",
            "{'text': ['#BREXIT deal HAS been reached - and will be unveiled at special summit in NOVEMBER, Has @USER sold out the #UK to the eu??? She better have not or the @USER are finished!! @USER URL\\n', '#BlackEyedPeas Tackle Gun Control, Social Justice on New Song ‘Big Love’ URL URL\\n'], 'label_a': tensor([1, 0]), 'label_b': tensor([1, 0]), 'label_c': tensor([3, 0])}\n",
            "{'text': ['@USER #Google appears to be a completely testosterone-free work environment.  #SoyBoys  #Fairyland  #HurricaneFlorence\\n', '#WednesdayMotivation when you are a #startup #Entrepreneur | #Boss and you and you want to salute all the other start-up Entrepreneurs doing their thing. Especially ones who lack the true insight in doing tasks that need to be done because of the law URL\\n'], 'label_a': tensor([0, 0]), 'label_b': tensor([0, 0]), 'label_c': tensor([0, 0])}\n",
            "{'text': ['#crazyredhead in very #angry at the #orange #cheeto  Who claims to be our #president .  She will never accept it.  Denying all the lives lost in Puerto Rico? He is a #monster #… URL\\n', \"@USER @USER Bull crap. You know she doesn't care.  She is trying to get attention for her Presidential run.  Do you see any other Senator giving nonsense?  Nope.\\n\"], 'label_a': tensor([1, 0]), 'label_b': tensor([1, 0]), 'label_c': tensor([1, 0])}\n",
            "{'text': ['#Congratulations Erika Ikizake who won a 7-Day MARTA Pass courtesy of MARTA and Campus Services! Keep following us for more prizes. #Staytuned #TheStateWay #GoPanthers  @USER @USER URL\\n', '#HurricanceFlorence God bless President Donald J Trump . Thank you for your service you are a saint.  The haters are going to hate but keep up the great work.\\n'], 'label_a': tensor([0, 0]), 'label_b': tensor([0, 0]), 'label_c': tensor([0, 0])}\n",
            "{'text': [\"#EuropaLeague Song the EU, cash your remaining chips in and p*ss off 👍 You've played all your cards and liberals in the U.S too.  Brexiteers and Trump takes it all so be nice eh and life'll be better for everyone.  URL\\n\", '69. he managed it... URL\\n'], 'label_a': tensor([1, 0]), 'label_b': tensor([1, 0]), 'label_c': tensor([2, 0])}\n",
            "{'text': ['@USER   God help us all\\n', \"@USER Hillary Clinton talking about gun control. I'm sure this thread will be full of well-reasoned and data driven responses.    Oh.  Well.  Maybe not.\\n\"], 'label_a': tensor([0, 0]), 'label_b': tensor([0, 0]), 'label_c': tensor([0, 0])}\n",
            "{'text': ['#Democrat last ditch effort to STOP #KavanaughConfirmation and to smear his good Name #Liberals trying to protect Abortions😢 #Boycott36 URL\\n', '$1500 for a phone. You all are fucking dumb.\\n'], 'label_a': tensor([0, 1]), 'label_b': tensor([0, 1]), 'label_c': tensor([0, 2])}\n",
            "{'text': ['#KendallJenner looks amazing!!! Who cares if she is nude! Not everyone likes nudity for sexual desire. Some like it for the artistry in it. #me @USER Every woman on the planet has the same parts. She is just comfortable with hers. #YouGotThis\\n', \"#Scorpio's are sure to be committed partners. Keep them satisfied in bed and you are all set.\\n\"], 'label_a': tensor([0, 0]), 'label_b': tensor([0, 0]), 'label_c': tensor([0, 0])}\n",
            "{'text': [\"#Wisdom #Wellness I will teach you the right way to build your own private, online 'traffic economy' so you are never short of prospects and sales again URL URL\\n\", '#8months and she is standing, talking , and climbing now ! URL\\n'], 'label_a': tensor([0, 0]), 'label_b': tensor([0, 0]), 'label_c': tensor([0, 0])}\n",
            "{'text': ['#CreepyPornPresident  I WANT THIS TRENDING UNTIL HE IS OUT OF OFFICE URL\\n', \"#HowToGetPeopleOutOfYourHome  Tell them that you're a vampire...then threaten to eat them if they don't get their asses out.  *shrugs*  What?  Problem?\\n\"], 'label_a': tensor([0, 1]), 'label_b': tensor([0, 2]), 'label_c': tensor([0, 0])}\n",
            "{'text': ['@USER Fact: he lost the popular vote Fact: he and the GOP have gone their own way and ignored Democrats Conclusion: he never spoke for all America and he is the GOP and the GOP is Trumpism.  #MAGA #LiveWithIt\\n', \"@USER @USER @USER I'm Mexican by the way and I support the gun control already in place if it means people like you don't ever touch a gun.What you are saying has nothing to do with this.\\n\"], 'label_a': tensor([0, 0]), 'label_b': tensor([0, 0]), 'label_c': tensor([0, 0])}\n",
            "{'text': ['#Kavanaugh The moment #BlaseyFord is exposed as a fraud, expect a new accuser to surface. Liberals are a one trick pony. #LiberalismIsAMentalDisorder\\n', '0-8 En Taller : S-2, M-5, BX-6 (20:59:35)\\n'], 'label_a': tensor([1, 0]), 'label_b': tensor([1, 0]), 'label_c': tensor([2, 0])}\n",
            "{'text': ['#HIAC: Why is it this match too with Becky vs Charlotte kinda sucky so far? They are taking shots back and forth and stumbling around like a drunk version of Final Fantasy or something.\\n', '@USER Gul Bukhari is Gul Bukhari bcoz she is her own! Iron Lady! More Power to you 👊👍👌\\n'], 'label_a': tensor([0, 0]), 'label_b': tensor([0, 0]), 'label_c': tensor([0, 0])}\n",
            "{'text': [\"Aparently my computer doesn't want to operate at the moment. So I will upload the episodes  Individually.  Sorry for the inconvenience.\\n\", '\"#ChristineBlaseyFord / Democrats condemn conservatives for having made up their minds\"\"  while at the same time \"\"having made up their minds\"\" to condemn Kavanaugh without question AND to vote no on Kavanaugh before the hearings URL\"\\n'], 'label_a': tensor([0, 0]), 'label_b': tensor([0, 0]), 'label_c': tensor([0, 0])}\n",
            "{'text': ['@USER I see your point but the school shootings are extremely controversial with bickering over gun control vs gun rights. Just that the Nike controversy is the current one\\n', '#NunsProtest sad nobody supporting the “Sisters” the “mother Superior” of Christian community...is it so difficult to stand by the victim whether she is nun or ordinary victim\\n'], 'label_a': tensor([0, 0]), 'label_b': tensor([0, 0]), 'label_c': tensor([0, 0])}\n",
            "{'text': ['9) Pornhub, the thoughtful people they are, are taking suggestions of more category of underserved communities and they are _____\\n', '@USER @USER I agree with you. Read the first paragraph and struggled to get past the condescension. She is a lawyer with an educated opinion. There are other lawyers with differing educated opinions.\\n'], 'label_a': tensor([0, 0]), 'label_b': tensor([0, 0]), 'label_c': tensor([0, 0])}\n",
            "{'text': ['#BCOG @USER she is cool, confident, cocky, and she kicks ass!!! @USER @USER @USER URL\\n', \"#ProudFathersWithRTG bafethu i love how good y'all look with your kids, i hope you are supportive to them and their moms... Im truly inspired to be the best father once im a father (if i ever become one)\\n\"], 'label_a': tensor([1, 0]), 'label_b': tensor([1, 0]), 'label_c': tensor([1, 0])}\n",
            "{'text': ['(P2) because Hussain a.s message  is not for only the Muslims he is for the entire  Humanity . Really great message for the entire world . URL\\n', '#ChequersPlan What an absolute farce Brexit is. The conservatives have no idea at all and May is now totally discredited. Time for an election #ForTheMany\\n'], 'label_a': tensor([0, 0]), 'label_b': tensor([0, 0]), 'label_c': tensor([0, 0])}\n",
            "{'text': ['@USER oh fuck off 😂😂\\n', '#LifeIsButepu when your friends dont know you are using their pics as memes on twitter... URL\\n'], 'label_a': tensor([1, 0]), 'label_b': tensor([1, 0]), 'label_c': tensor([1, 0])}\n",
            "{'text': [\"#TheNunMovie was just as scary as I thought it would be 😳 Clearly the critics don't think she is terrifyingly creepy. I like how it ties in with #TheConjuring series.\\n\", '#BreakingNews:  #Trump issues a statement about Christine Blasey Ford.  See it now!  Visit URL #BlueWave2018 #BlueTsunami2018 #MAGA #Democrats #Liberals #SCOTUS @USER #Crypto URL\\n'], 'label_a': tensor([0, 0]), 'label_b': tensor([0, 0]), 'label_c': tensor([0, 0])}\n",
            "{'text': [\"#LiberalHypocrisy #criminal #democrat #evidence #ellison #liberals #Hypocrites Keith Ellison domestic violence accuser says Democratic party doesn't believe her story  URL\\n\", '#Wotd - Isaiah 58:11 “The Lord will guide you continually, giving you water when you are dry and restoring your strength. You will be like a well-watered garden, like an ever-flowing… URL\\n'], 'label_a': tensor([1, 0]), 'label_b': tensor([1, 0]), 'label_c': tensor([2, 0])}\n",
            "{'text': ['\"#GreatAwakening  #QAnon #Resist #ImpeachTrump #Mueller #MuellerTime  liberals who liked/retweeted my post and don\\'t know what exculpatory\"\" means. lol. It\\'s a testament to their lack of interest in details.  Thanks guys!! URL\"\\n', '\"#TRUMP:  I\\'d be a real good witness! #JOHNDowd:  \"\"You are #not a good witness.  Mr. President, I\\'m afraid I just can\\'t help you!\"\"   The day following those remarks, Attorney Dowd quit!  EVERYBODY... URL\"\\n'], 'label_a': tensor([0, 0]), 'label_b': tensor([0, 0]), 'label_c': tensor([0, 0])}\n",
            "{'text': ['#Repost @USER with get_repost ・・・ #MOTTO “PR IS IN YOUR CAR!” (or wherever you are) Do you aspire break into the #entertainment #industry or start your own #PR #business? Do you need… URL\\n', \"#DemocratPartyOfDomesticTerrorists #Fascist #Antifa #FemiNazi   Don't Just #WalkAway RUN! URL\\n\"], 'label_a': tensor([0, 1]), 'label_b': tensor([0, 1]), 'label_c': tensor([0, 2])}\n",
            "{'text': ['@USER if he is im getting turnt with the holo keef regardless\\n', '.@USER talks about @USER #Vyvx #Cloud Connect now offering secure and reliable connectivity to @USER Direct Connect via @USER @USER  URL URL\\n'], 'label_a': tensor([0, 0]), 'label_b': tensor([0, 0]), 'label_c': tensor([0, 0])}\n",
            "{'text': [\"#auspol  I don't know why he is still in his job. Seriously. URL\\n\", '#MAGA Tell me ONE good thing #trump has done as #president. I dare you! He is the worst president in history.\\n'], 'label_a': tensor([1, 1]), 'label_b': tensor([1, 1]), 'label_c': tensor([1, 1])}\n",
            "{'text': ['#100DaysofCode  day 10: React and Redux with @USER Montreal URL\\n', '#Chequers is a violation of democracy !!  #StandUp4Brexit  @USER @USER @USER  The will of the people must be respected URL\\n'], 'label_a': tensor([0, 0]), 'label_b': tensor([0, 0]), 'label_c': tensor([0, 0])}\n",
            "{'text': ['#ARSYoungjaeDay HAPPY BIRTHDAY CHOI YOUNGJAE 😭😭😭 with vocals of a god and a contagious laughter, he is the most beautiful man!!! i could never feel sad whenever i see an img of him or just a snippet of him in a video, he always brightens my day. the last img is me when i saw URL\\n', \"? Tickets for #htafc's away match against #WatfordFC will go on sale to supporters with 270+ Priority Points on Monday 2… URL\\n\"], 'label_a': tensor([0, 0]), 'label_b': tensor([0, 0]), 'label_c': tensor([0, 0])}\n",
            "{'text': ['@USER u put a privileged NFL player in ur ad for 30th anniv that has sacrificed nothing he is still rich &amp;  has his life. Tom Burnett a passenger on doom flight 93 told his wife WE CAN DO IT. He &amp; others sacrificed everything! Gave their life to save others! That is everything\\n', '#ConfirmKavanugh now, stall tactics are DC cronies only recourse. No more delays.  #VoteRed to end this madness and to #MAGA\\n'], 'label_a': tensor([0, 1]), 'label_b': tensor([0, 1]), 'label_c': tensor([0, 2])}\n",
            "{'text': [\"@USER @USER @USER @USER Beats the hell NJ out of me lol. Dude already made the assumption that I'm antifa. He even ignored all the evidence to make that assumption.\\n\", '#StopEtchecopar? Fuck you all 🖕🖕🖕🖕🖕 Que florezcan mil Baby Etchecopar 🌻🌻🌻\\n'], 'label_a': tensor([1, 1]), 'label_b': tensor([1, 1]), 'label_c': tensor([1, 1])}\n",
            "{'text': ['#Antifa invaded a memorial in recognition of Kate Steinle in Austin, Texas, and tried to comfort him it looked like when it was struggling, but has returned to the Southern District of New York, is recused from the Michael Cohen raid, Trump has my full support. Moving on .\\n', '@USER Laws are for the law abiding citizens. We have the second amendment. We don’t need more gun control. Criminals don’t care they will use guns until the end of time! Figure out how to stop them from using guns!\\n'], 'label_a': tensor([0, 0]), 'label_b': tensor([0, 0]), 'label_c': tensor([0, 0])}\n",
            "{'text': ['#OnAirNow Jon Bellion - He Is The Same URL #1RSIDANCE URL\\n', '#Immigration Public Charge Rule has been law for 109 years U.S social safety net was designed to support U.S Citizens Not to finance foreigners lives in he U.S  #Trump #MAGA . URL via @USER\\n'], 'label_a': tensor([0, 0]), 'label_b': tensor([0, 0]), 'label_c': tensor([0, 0])}\n",
            "{'text': ['#Florence List:  URL  Hurricane Florence feeds ..  #Trump #MAGA central #VA    | @USER ..close-up view..excessive rainfall outlook for today through 8 a.m. Monday. Purple areas are in the highest risk. #vawx #ncwx #nrv #rke URL |\\n', '\"#Feckless I encourage liberals and Democrats not to waste a lot of time expending the energy on trying to convince a Trump voter. We don’t need them. We’re the majority.\"\" URL via @USER\"\\n'], 'label_a': tensor([0, 0]), 'label_b': tensor([0, 0]), 'label_c': tensor([0, 0])}\n",
            "{'text': ['#Antifa are mentally unstable cowards, pretending to be relevant. URL\\n', '#Emmys2018 Sanda Ho is not Asia America she is Canadian this description was on @USER\\n'], 'label_a': tensor([1, 0]), 'label_b': tensor([1, 0]), 'label_c': tensor([2, 0])}\n",
            "{'text': [\"#WeLoveSergioBecause he is the sweetest guy ever! He loves us so much and I'm so happy to be his fan! URL\\n\", \"@USER @USER I'm in NC. Thursday's I work at a nursing home doing hair. Around 10:15 I heard all of the Tv's do the alert. Then afterwards, tests on a few TV'S. I went to lunch and at 11:50, one was on the radio. It was so strange. I keep saying that, but it was unusual\\n\"], 'label_a': tensor([0, 0]), 'label_b': tensor([0, 0]), 'label_c': tensor([0, 0])}\n",
            "{'text': ['\"I\\'am so sleepy.. { Bot cuddles up to  you }  { #RogueBot }\"\"\"\\n', '@USER @USER And Browning looked like dog shit against the same FCS school. What’s your point?\\n'], 'label_a': tensor([0, 1]), 'label_b': tensor([0, 1]), 'label_c': tensor([0, 1])}\n",
            "{'text': ['#WCW - @USER does it again with her live coverage and YouTube videos for #textureontherunway! She is the official natural hair media company of NYC, Emmy award winner and so fierce!… URL\\n', \"#CTRiders Hope you are enjoying your Friday! If you're looking for a way to enjoy this nice weather this weekend, September is #ReadANewBookMonth and there is nothing like reading a new book on a patio with a nice cup of coffee :) Anyone ready anything interesting this month? URL\\n\"], 'label_a': tensor([0, 0]), 'label_b': tensor([0, 0]), 'label_c': tensor([0, 0])}\n",
            "{'text': [\"1) Wow, safe sex! That's hot! We love a butch top who also receives! URL\\n\", '\"...ANTIFA men\"\" get themselves riled up before a big Anti Trump rally by playing the theme song from the Wonder Woman movie on repeat. Or was it Power ⚡️Rangers?! 🤔 URL\"\\n'], 'label_a': tensor([0, 0]), 'label_b': tensor([0, 0]), 'label_c': tensor([0, 0])}\n",
            "{'text': ['#BrettKavanaugh   ... but anyway, there is the matter of a replacement for Justice Kennedy here, but the bigger one is of conservatives fortifying the SCOTUS majority for decades to come against libs who are no longer hiding desire to directly attack the Bill of Rights....\\n', 'All two of them taste like ass. URL\\n'], 'label_a': tensor([0, 1]), 'label_b': tensor([0, 1]), 'label_c': tensor([0, 2])}\n",
            "{'text': ['#TEAM4THEBEEZ PLEASE SHARE THIS PUP DID NOTHING EXCEPT HIS OWNER DIED AND HE WAS #DUMPED2DIE AT SHELTER HE IS IN GRIEF FOR HIS OWNER AND TERRIFIED IN NOISY SHELTER PLEASE #NOKILLSHELTERNATION IS WHAT WE NEED BUT LETS FIND THIS POOR PUP A #HEROES2ANIMALS URL\\n', '#DespicableDems lie again about rifles. Dem Distorted the Law to Push Gun-Control at Kavanaugh Confirmation URL via @USER\\n'], 'label_a': tensor([0, 1]), 'label_b': tensor([0, 1]), 'label_c': tensor([0, 2])}\n",
            "{'text': ['#MeetTheSpeakers 🙌 @USER will present in our event OIW 2018: Finpact - Global Impact through Financial Technologies. She is Senior Advisor Group Sustainable Finance and worked on green energy and climate risk. Join us to meet Thina URL #oiw2018 URL\\n', \"3 people just unfollowed me for talking about merlin sorry y'all im still up covinsky's ass im just waiting for a psisly sequel announcement ive run out of witty and funny tweets about tatbilb i am drained\\n\"], 'label_a': tensor([0, 1]), 'label_b': tensor([0, 2]), 'label_c': tensor([0, 0])}\n",
            "{'text': ['#WednesdayWisdom Antifa calls the right fascist when, in all reality, they and the left are following the same scenario as the Third Reich: indoctrination of our youth, trying to control minorities and a total lack of understanding or knowledge of history.  #WalkAway\\n', '#Kavanaugh typical #liberals , #Democrats URL\\n'], 'label_a': tensor([0, 0]), 'label_b': tensor([0, 0]), 'label_c': tensor([0, 0])}\n"
          ]
        }
      ],
      "source": [
        "for batch in DataLoader(test_dataset, batch_size=2):\n",
        "    print(batch)"
      ]
    },
    {
      "cell_type": "markdown",
      "id": "oxEXetnGKVj2",
      "metadata": {
        "id": "oxEXetnGKVj2"
      },
      "source": [
        "The following code let's you play around with our ``train_dataset`` object."
      ]
    },
    {
      "cell_type": "code",
      "execution_count": 27,
      "id": "1Q2VvuoaKFXB",
      "metadata": {
        "id": "1Q2VvuoaKFXB"
      },
      "outputs": [
        {
          "name": "stdout",
          "output_type": "stream",
          "text": [
            "{'input_ids': tensor([[  101,   137,  1646,  9637,  1153,  1431,  2367,   170,  1374,  2900,\n",
            "          4038,  1184,  1147,  1321,  1113,  1142,  1110,   119,   102,     0,\n",
            "             0,     0,     0,     0,     0,     0,     0,     0,     0,     0,\n",
            "             0,     0,     0,     0,     0,     0,     0,     0,     0,     0,\n",
            "             0,     0,     0,     0,     0,     0,     0,     0],\n",
            "        [  101,   137,  1646,  9637,   137,  1646,  9637,  3414,  1313,  1128,\n",
            "           787,  1231,  6882,   106,   106,   106,   137,  1646,  9637,   108,\n",
            "          9960, 10583,   108,  8499, 10973, 10973,   100,   158, 20550,   102,\n",
            "             0,     0,     0,     0,     0,     0,     0,     0,     0,     0,\n",
            "             0,     0,     0,     0,     0,     0,     0,     0],\n",
            "        [  101,  9786,  1110, 11950,  1922,  4570,  1150,  1132,  4147,  4422,\n",
            "          2233,  1106,  1503,   118,  1710, 18275,  1116,  1702,  1111,  1126,\n",
            "          2652,  1107,  1103,  6591, 24210,   119,   158, 20550,   108,  9786,\n",
            "           108,  9960, 10583,   108,   148, 22689,   108, 24890, 11607,  1592,\n",
            "           108,   157, 15678,  1942,   102,     0,     0,     0],\n",
            "        [  101,   107,   137,  1646,  9637,  6518,  1431,   112,  1396,  1942,\n",
            "          9899,  1179,   107,   107,  1142,  2727,  1104,  4170,  1106,   170,\n",
            "         15406,   119,   100,   107,   107,   107,   102,     0,     0,     0,\n",
            "             0,     0,     0,     0,     0,     0,     0,     0,     0,     0,\n",
            "             0,     0,     0,     0,     0,     0,     0,     0],\n",
            "        [  101,   137,  1646,  9637,   137,  1646,  9637,  7661,  1458,  7691,\n",
            "          1116,   111,  1821,  1643,   132,  5696,  1116,  1106,  1815,  1154,\n",
            "          1894,  2231,   102,     0,     0,     0,     0,     0,     0,     0,\n",
            "             0,     0,     0,     0,     0,     0,     0,     0,     0,     0,\n",
            "             0,     0,     0,     0,     0,     0,     0,     0],\n",
            "        [  101,   137,  1646,  9637, 16951,  1132,  1155, 19892, 26793,  1186,\n",
            "           106,   106,   106,   102,     0,     0,     0,     0,     0,     0,\n",
            "             0,     0,     0,     0,     0,     0,     0,     0,     0,     0,\n",
            "             0,     0,     0,     0,     0,     0,     0,     0,     0,     0,\n",
            "             0,     0,     0,     0,     0,     0,     0,     0],\n",
            "        [  101,   137,  1646,  9637,   137,  1646,  9637,  2048,  1185,  1279,\n",
            "           106,  1706,  6289,  4170,   119,   102,     0,     0,     0,     0,\n",
            "             0,     0,     0,     0,     0,     0,     0,     0,     0,     0,\n",
            "             0,     0,     0,     0,     0,     0,     0,     0,     0,     0,\n",
            "             0,     0,     0,     0,     0,     0,     0,     0],\n",
            "        [  101,   137,  1646,  9637,  1108,  6290,  1198,  2520,  1164,  1142,\n",
            "         25338,  1233,  1155,  3367,  4598,  1116,  1176,  1115,  1138,  1151,\n",
            "          1383, 12534,   119,  1122,   787,   188, 11516,  1215,  1106, 13330,\n",
            "          1366,  1113,  1558,  2492,  1176,  2560,  1654,  1105, 12010,   102,\n",
            "             0,     0,     0,     0,     0,     0,     0,     0],\n",
            "        [  101,   137,  1646,  9637, 26123,  1167,  2854, 13782,  2312,   106,\n",
            "           106,   106,   102,     0,     0,     0,     0,     0,     0,     0,\n",
            "             0,     0,     0,     0,     0,     0,     0,     0,     0,     0,\n",
            "             0,     0,     0,     0,     0,     0,     0,     0,     0,     0,\n",
            "             0,     0,     0,     0,     0,     0,     0,     0],\n",
            "        [  101,   137,  1646,  9637,  1803,  2144,   787,   189,  1444,  1330,\n",
            "           140, 21986,  2428,   106,  1284,  1640,  1138,  1536,   108, 10605,\n",
            "         18066,  2162, 11470,  1204,   108, 16951,   175,   115,   115,  2226,\n",
            "          1146,  1412,  1632,  1583,   106,   108,   154, 20324,  1116,   108,\n",
            "           157, 25980,  8221,  2107,  8954,  2349,  1186,   102]]), 'token_type_ids': tensor([[0, 0, 0, 0, 0, 0, 0, 0, 0, 0, 0, 0, 0, 0, 0, 0, 0, 0, 0, 0, 0, 0, 0, 0,\n",
            "         0, 0, 0, 0, 0, 0, 0, 0, 0, 0, 0, 0, 0, 0, 0, 0, 0, 0, 0, 0, 0, 0, 0, 0],\n",
            "        [0, 0, 0, 0, 0, 0, 0, 0, 0, 0, 0, 0, 0, 0, 0, 0, 0, 0, 0, 0, 0, 0, 0, 0,\n",
            "         0, 0, 0, 0, 0, 0, 0, 0, 0, 0, 0, 0, 0, 0, 0, 0, 0, 0, 0, 0, 0, 0, 0, 0],\n",
            "        [0, 0, 0, 0, 0, 0, 0, 0, 0, 0, 0, 0, 0, 0, 0, 0, 0, 0, 0, 0, 0, 0, 0, 0,\n",
            "         0, 0, 0, 0, 0, 0, 0, 0, 0, 0, 0, 0, 0, 0, 0, 0, 0, 0, 0, 0, 0, 0, 0, 0],\n",
            "        [0, 0, 0, 0, 0, 0, 0, 0, 0, 0, 0, 0, 0, 0, 0, 0, 0, 0, 0, 0, 0, 0, 0, 0,\n",
            "         0, 0, 0, 0, 0, 0, 0, 0, 0, 0, 0, 0, 0, 0, 0, 0, 0, 0, 0, 0, 0, 0, 0, 0],\n",
            "        [0, 0, 0, 0, 0, 0, 0, 0, 0, 0, 0, 0, 0, 0, 0, 0, 0, 0, 0, 0, 0, 0, 0, 0,\n",
            "         0, 0, 0, 0, 0, 0, 0, 0, 0, 0, 0, 0, 0, 0, 0, 0, 0, 0, 0, 0, 0, 0, 0, 0],\n",
            "        [0, 0, 0, 0, 0, 0, 0, 0, 0, 0, 0, 0, 0, 0, 0, 0, 0, 0, 0, 0, 0, 0, 0, 0,\n",
            "         0, 0, 0, 0, 0, 0, 0, 0, 0, 0, 0, 0, 0, 0, 0, 0, 0, 0, 0, 0, 0, 0, 0, 0],\n",
            "        [0, 0, 0, 0, 0, 0, 0, 0, 0, 0, 0, 0, 0, 0, 0, 0, 0, 0, 0, 0, 0, 0, 0, 0,\n",
            "         0, 0, 0, 0, 0, 0, 0, 0, 0, 0, 0, 0, 0, 0, 0, 0, 0, 0, 0, 0, 0, 0, 0, 0],\n",
            "        [0, 0, 0, 0, 0, 0, 0, 0, 0, 0, 0, 0, 0, 0, 0, 0, 0, 0, 0, 0, 0, 0, 0, 0,\n",
            "         0, 0, 0, 0, 0, 0, 0, 0, 0, 0, 0, 0, 0, 0, 0, 0, 0, 0, 0, 0, 0, 0, 0, 0],\n",
            "        [0, 0, 0, 0, 0, 0, 0, 0, 0, 0, 0, 0, 0, 0, 0, 0, 0, 0, 0, 0, 0, 0, 0, 0,\n",
            "         0, 0, 0, 0, 0, 0, 0, 0, 0, 0, 0, 0, 0, 0, 0, 0, 0, 0, 0, 0, 0, 0, 0, 0],\n",
            "        [0, 0, 0, 0, 0, 0, 0, 0, 0, 0, 0, 0, 0, 0, 0, 0, 0, 0, 0, 0, 0, 0, 0, 0,\n",
            "         0, 0, 0, 0, 0, 0, 0, 0, 0, 0, 0, 0, 0, 0, 0, 0, 0, 0, 0, 0, 0, 0, 0, 0]]), 'attention_mask': tensor([[1, 1, 1, 1, 1, 1, 1, 1, 1, 1, 1, 1, 1, 1, 1, 1, 1, 1, 1, 0, 0, 0, 0, 0,\n",
            "         0, 0, 0, 0, 0, 0, 0, 0, 0, 0, 0, 0, 0, 0, 0, 0, 0, 0, 0, 0, 0, 0, 0, 0],\n",
            "        [1, 1, 1, 1, 1, 1, 1, 1, 1, 1, 1, 1, 1, 1, 1, 1, 1, 1, 1, 1, 1, 1, 1, 1,\n",
            "         1, 1, 1, 1, 1, 1, 0, 0, 0, 0, 0, 0, 0, 0, 0, 0, 0, 0, 0, 0, 0, 0, 0, 0],\n",
            "        [1, 1, 1, 1, 1, 1, 1, 1, 1, 1, 1, 1, 1, 1, 1, 1, 1, 1, 1, 1, 1, 1, 1, 1,\n",
            "         1, 1, 1, 1, 1, 1, 1, 1, 1, 1, 1, 1, 1, 1, 1, 1, 1, 1, 1, 1, 1, 0, 0, 0],\n",
            "        [1, 1, 1, 1, 1, 1, 1, 1, 1, 1, 1, 1, 1, 1, 1, 1, 1, 1, 1, 1, 1, 1, 1, 1,\n",
            "         1, 1, 1, 0, 0, 0, 0, 0, 0, 0, 0, 0, 0, 0, 0, 0, 0, 0, 0, 0, 0, 0, 0, 0],\n",
            "        [1, 1, 1, 1, 1, 1, 1, 1, 1, 1, 1, 1, 1, 1, 1, 1, 1, 1, 1, 1, 1, 1, 1, 0,\n",
            "         0, 0, 0, 0, 0, 0, 0, 0, 0, 0, 0, 0, 0, 0, 0, 0, 0, 0, 0, 0, 0, 0, 0, 0],\n",
            "        [1, 1, 1, 1, 1, 1, 1, 1, 1, 1, 1, 1, 1, 1, 0, 0, 0, 0, 0, 0, 0, 0, 0, 0,\n",
            "         0, 0, 0, 0, 0, 0, 0, 0, 0, 0, 0, 0, 0, 0, 0, 0, 0, 0, 0, 0, 0, 0, 0, 0],\n",
            "        [1, 1, 1, 1, 1, 1, 1, 1, 1, 1, 1, 1, 1, 1, 1, 1, 0, 0, 0, 0, 0, 0, 0, 0,\n",
            "         0, 0, 0, 0, 0, 0, 0, 0, 0, 0, 0, 0, 0, 0, 0, 0, 0, 0, 0, 0, 0, 0, 0, 0],\n",
            "        [1, 1, 1, 1, 1, 1, 1, 1, 1, 1, 1, 1, 1, 1, 1, 1, 1, 1, 1, 1, 1, 1, 1, 1,\n",
            "         1, 1, 1, 1, 1, 1, 1, 1, 1, 1, 1, 1, 1, 1, 1, 1, 0, 0, 0, 0, 0, 0, 0, 0],\n",
            "        [1, 1, 1, 1, 1, 1, 1, 1, 1, 1, 1, 1, 1, 0, 0, 0, 0, 0, 0, 0, 0, 0, 0, 0,\n",
            "         0, 0, 0, 0, 0, 0, 0, 0, 0, 0, 0, 0, 0, 0, 0, 0, 0, 0, 0, 0, 0, 0, 0, 0],\n",
            "        [1, 1, 1, 1, 1, 1, 1, 1, 1, 1, 1, 1, 1, 1, 1, 1, 1, 1, 1, 1, 1, 1, 1, 1,\n",
            "         1, 1, 1, 1, 1, 1, 1, 1, 1, 1, 1, 1, 1, 1, 1, 1, 1, 1, 1, 1, 1, 1, 1, 1]])}\n"
          ]
        },
        {
          "ename": "AssertionError",
          "evalue": "",
          "output_type": "error",
          "traceback": [
            "\u001b[0;31m---------------------------------------------------------------------------\u001b[0m",
            "\u001b[0;31mAssertionError\u001b[0m                            Traceback (most recent call last)",
            "Cell \u001b[0;32mIn[27], line 7\u001b[0m\n\u001b[1;32m      1\u001b[0m \u001b[38;5;66;03m#returns first item as dictionnary\u001b[39;00m\n\u001b[1;32m      2\u001b[0m \u001b[38;5;66;03m#print(train_dataset[0])\u001b[39;00m\n\u001b[1;32m      3\u001b[0m \n\u001b[1;32m      4\u001b[0m \u001b[38;5;66;03m# put all train set into one batch for the collate_fn function\u001b[39;00m\n\u001b[1;32m      5\u001b[0m batch \u001b[38;5;241m=\u001b[39m [sample \u001b[38;5;28;01mfor\u001b[39;00m sample \u001b[38;5;129;01min\u001b[39;00m train_dataset]\n\u001b[0;32m----> 7\u001b[0m encodings \u001b[38;5;241m=\u001b[39m \u001b[43mtrain_dataset\u001b[49m\u001b[38;5;241;43m.\u001b[39;49m\u001b[43mcollate_fn\u001b[49m\u001b[43m(\u001b[49m\u001b[43mbatch\u001b[49m\u001b[43m[\u001b[49m\u001b[43m:\u001b[49m\u001b[38;5;241;43m10\u001b[39;49m\u001b[43m]\u001b[49m\u001b[43m)\u001b[49m\n\u001b[1;32m      9\u001b[0m \u001b[38;5;28;01mfor\u001b[39;00m key, value \u001b[38;5;129;01min\u001b[39;00m encodings\u001b[38;5;241m.\u001b[39mitems():\n\u001b[1;32m     10\u001b[0m   \u001b[38;5;28mprint\u001b[39m(\u001b[38;5;124mf\u001b[39m\u001b[38;5;124m\"\u001b[39m\u001b[38;5;132;01m{\u001b[39;00mkey\u001b[38;5;132;01m}\u001b[39;00m\u001b[38;5;124m: \u001b[39m\u001b[38;5;132;01m{\u001b[39;00mvalue\u001b[38;5;241m.\u001b[39mnumpy()\u001b[38;5;241m.\u001b[39mtolist()\u001b[38;5;132;01m}\u001b[39;00m\u001b[38;5;124m\"\u001b[39m)\n",
            "Cell \u001b[0;32mIn[25], line 26\u001b[0m, in \u001b[0;36mOlidDataset.collate_fn\u001b[0;34m(self, batch)\u001b[0m\n\u001b[1;32m     23\u001b[0m encodings \u001b[38;5;241m=\u001b[39m \u001b[38;5;28mself\u001b[39m\u001b[38;5;241m.\u001b[39mtokenizer(texts, return_tensors\u001b[38;5;241m=\u001b[39m\u001b[38;5;124m'\u001b[39m\u001b[38;5;124mpt\u001b[39m\u001b[38;5;124m'\u001b[39m, padding\u001b[38;5;241m=\u001b[39m\u001b[38;5;28;01mTrue\u001b[39;00m, truncation\u001b[38;5;241m=\u001b[39m\u001b[38;5;28;01mTrue\u001b[39;00m, max_length\u001b[38;5;241m=\u001b[39m\u001b[38;5;241m128\u001b[39m)\n\u001b[1;32m     25\u001b[0m \u001b[38;5;28mprint\u001b[39m(encodings)\n\u001b[0;32m---> 26\u001b[0m \u001b[38;5;28;01massert\u001b[39;00m \u001b[38;5;241m2\u001b[39m \u001b[38;5;241m==\u001b[39m \u001b[38;5;241m1\u001b[39m\n\u001b[1;32m     28\u001b[0m labels \u001b[38;5;241m=\u001b[39m {}\n\u001b[1;32m     29\u001b[0m encodings[\u001b[38;5;124m'\u001b[39m\u001b[38;5;124mlabel_a\u001b[39m\u001b[38;5;124m'\u001b[39m] \u001b[38;5;241m=\u001b[39m  torch\u001b[38;5;241m.\u001b[39mtensor(labels_a)\n",
            "\u001b[0;31mAssertionError\u001b[0m: "
          ]
        }
      ],
      "source": [
        "#returns first item as dictionary\n",
        "#print(train_dataset[0])\n",
        "\n",
        "# put all train set into one batch for the collate_fn function\n",
        "batch = [sample for sample in train_dataset]\n",
        "\n",
        "encodings = train_dataset.collate_fn(batch[:10])\n",
        "\n",
        "for key, value in encodings.items():\n",
        "  print(f\"{key}: {value.numpy().tolist()}\")\n",
        "\n"
      ]
    },
    {
      "cell_type": "markdown",
      "id": "opponent-closure",
      "metadata": {
        "id": "opponent-closure"
      },
      "source": [
        "### Finetuning a pre-trained BERT model"
      ]
    },
    {
      "cell_type": "markdown",
      "id": "dpaMPoB5cNwt",
      "metadata": {
        "id": "dpaMPoB5cNwt"
      },
      "source": [
        "\n",
        "As you can recall from the lecture, BERT is a model trained on Masked language Modeling(MLM) and Next Sentence Prediction(NSP), however is not trained to do to do sentence classification. We then need to adapt it for hate speech classification and finetune the pre-trained model on our dataset.\n",
        "\n",
        "\n"
      ]
    },
    {
      "cell_type": "markdown",
      "id": "n2zPF-H3nHDH",
      "metadata": {
        "id": "n2zPF-H3nHDH"
      },
      "source": [
        "Let's have a look at ``bert_base-uncased`` summary."
      ]
    },
    {
      "cell_type": "code",
      "execution_count": null,
      "id": "pk_QEpoGnZhL",
      "metadata": {
        "id": "pk_QEpoGnZhL"
      },
      "outputs": [],
      "source": [
        "model = BertModel.from_pretrained(\"bert-base-cased\")\n",
        "\n",
        "#180 M\n",
        "print(f\"Model size: {model.num_parameters()}\")\n",
        "\n",
        "#model summary\n",
        "model"
      ]
    },
    {
      "cell_type": "markdown",
      "id": "GBOHvhd-n00L",
      "metadata": {
        "id": "GBOHvhd-n00L"
      },
      "source": [
        "Note that the model has only encoder layers."
      ]
    },
    {
      "cell_type": "markdown",
      "id": "ESBsGVb_e2QT",
      "metadata": {
        "id": "ESBsGVb_e2QT"
      },
      "source": [
        "#### BERT Model\n",
        "\n",
        "To define our model, we will build on top of a Huggingface pre-trained model and adapt it to our task. We will use ``BertModel`` to extract embeddings and add a ``Linear`` layer to classify samples. Hugging face implementation of BERT can handle different variations of the model, which we define and pass its parameter values via``config``.\n"
      ]
    },
    {
      "cell_type": "markdown",
      "id": "feb9AN0YFWDe",
      "metadata": {
        "id": "feb9AN0YFWDe"
      },
      "source": [
        "The code below defines a model adapted to classify tweets on Level A, Offensive Language Detection. We will implement Task B and C later.\n",
        "\n"
      ]
    },
    {
      "cell_type": "code",
      "execution_count": null,
      "id": "bottom-tribute",
      "metadata": {
        "id": "bottom-tribute"
      },
      "outputs": [],
      "source": [
        "class BERT_hate_speech(BertPreTrainedModel):\n",
        "\n",
        "    def __init__(self, config):\n",
        "        super().__init__(config)\n",
        "\n",
        "        # BERT Model\n",
        "        self.bert = BertModel(config)\n",
        "\n",
        "        # Task A\n",
        "        self.projection_a = torch.nn.Sequential(torch.nn.Dropout(0.2),\n",
        "                                                torch.nn.Linear(config.hidden_size, 2))\n",
        "\n",
        "        # Task B\n",
        "        # TBA\n",
        "\n",
        "        # Task C\n",
        "        # TBA\n",
        "\n",
        "        self.init_weights()\n",
        "\n",
        "    def forward(\n",
        "        self,\n",
        "        input_ids=None,\n",
        "        attention_mask=None,\n",
        "        token_type_ids=None,\n",
        "        position_ids=None,\n",
        "        head_mask=None,\n",
        "        inputs_embeds=None,\n",
        "        labels=None,\n",
        "        output_attentions=None,\n",
        "        output_hidden_states=None,\n",
        "        return_dict=None):\n",
        "\n",
        "        outputs = self.bert(\n",
        "            input_ids,\n",
        "            attention_mask=attention_mask,\n",
        "            token_type_ids=token_type_ids,\n",
        "            position_ids=position_ids,\n",
        "            head_mask=head_mask,\n",
        "            inputs_embeds=inputs_embeds,\n",
        "            output_attentions=output_attentions,\n",
        "            output_hidden_states=output_hidden_states,\n",
        "            return_dict=return_dict,\n",
        "        )\n",
        "\n",
        "        # Logits A\n",
        "        logits_a = self.projection_a(outputs[1])\n",
        "\n",
        "        return logits_a\n"
      ]
    },
    {
      "cell_type": "markdown",
      "id": "yMyL5gGKfECs",
      "metadata": {
        "id": "yMyL5gGKfECs"
      },
      "source": [
        "#### Finetuning"
      ]
    },
    {
      "cell_type": "markdown",
      "id": "QaKWwqYMlCVX",
      "metadata": {
        "id": "QaKWwqYMlCVX"
      },
      "source": [
        "Finally, we should define our training loop. Fortunately, the ``transformers`` package provides us with a [``Trainer``](https://huggingface.co/transformers/main_classes/trainer.html#transformers.Trainer) class wich takes care of the training of transformers models.\n"
      ]
    },
    {
      "cell_type": "markdown",
      "id": "MjljHz4nlAbJ",
      "metadata": {
        "id": "MjljHz4nlAbJ"
      },
      "source": [
        "We build our custom ``Trainer`` class to incorporate our own ``compute_loss`` function over the three labels."
      ]
    },
    {
      "cell_type": "code",
      "execution_count": null,
      "id": "engaged-perspective",
      "metadata": {
        "id": "engaged-perspective"
      },
      "outputs": [],
      "source": [
        "\n",
        "class Trainer_hate_speech(Trainer):\n",
        "    def compute_loss(self, model, inputs):\n",
        "        labels = {}\n",
        "        labels['label_a'] = inputs.pop('label_a')\n",
        "        labels['label_b'] = inputs.pop('label_b')\n",
        "        labels['label_c'] = inputs.pop('label_c')\n",
        "\n",
        "        outputs = model(**inputs)\n",
        "\n",
        "        # TASK A\n",
        "        loss_task_a = nn.CrossEntropyLoss()\n",
        "        labels_a = labels['label_a']\n",
        "        loss_a = loss_task_a(outputs.view(-1, 2), labels_a.view(-1))\n",
        "\n",
        "        loss = loss_a\n",
        "\n",
        "        return loss"
      ]
    },
    {
      "cell_type": "markdown",
      "id": "p0WDX456F4YB",
      "metadata": {
        "id": "p0WDX456F4YB"
      },
      "source": [
        "\n",
        "Now let's finetune the pretrained model on our ``OlidDataset``.\n",
        "\n",
        "In our function ``main_hate_speech`` we define the arguments for the ``Trainer`` object and launch the training with ``trainer.train``.\n"
      ]
    },
    {
      "cell_type": "code",
      "execution_count": null,
      "id": "killing-population",
      "metadata": {
        "id": "killing-population"
      },
      "outputs": [],
      "source": [
        "def main_hate_speech():\n",
        "\n",
        "    #call our custom BERT model and pass as parameter the name of an available pretrained model\n",
        "    model = BERT_hate_speech.from_pretrained(\"bert-base-cased\")\n",
        "\n",
        "    training_args = TrainingArguments(\n",
        "        output_dir='./experiment/hate_speech',\n",
        "        learning_rate = 0.0001,\n",
        "        logging_steps= 100,\n",
        "        per_device_train_batch_size=32,\n",
        "        num_train_epochs = 3,\n",
        "        remove_unused_columns=False # This argument prevents the collator to drop data from our batch when customizing the data collator\n",
        "    )\n",
        "    trainer = Trainer_hate_speech(\n",
        "        model=model,\n",
        "        args=training_args,\n",
        "        train_dataset=train_dataset,\n",
        "        data_collator=train_dataset.collate_fn,\n",
        "    )\n",
        "\n",
        "    trainer.train()\n",
        "\n",
        "    trainer.save_model('./models/ht_bert_finetuned/')\n",
        "\n"
      ]
    },
    {
      "cell_type": "markdown",
      "id": "OanfT22IduY6",
      "metadata": {
        "id": "OanfT22IduY6"
      },
      "source": [
        "Let's run it."
      ]
    },
    {
      "cell_type": "code",
      "execution_count": null,
      "id": "looking-escape",
      "metadata": {
        "id": "looking-escape"
      },
      "outputs": [],
      "source": [
        "main_hate_speech()"
      ]
    },
    {
      "cell_type": "markdown",
      "id": "6Q0sYQeoM90U",
      "metadata": {
        "id": "6Q0sYQeoM90U"
      },
      "source": [
        "#### Evaluation\n",
        "Once we trained our model, we can evaluate it on our test set."
      ]
    },
    {
      "cell_type": "markdown",
      "id": "tt8KRJs2OSo1",
      "metadata": {
        "id": "tt8KRJs2OSo1"
      },
      "source": [
        "Let's define a helper function ``predict_hatespeech`` that will extract the predicted label."
      ]
    },
    {
      "cell_type": "code",
      "execution_count": null,
      "id": "leJGKWvXGDf7",
      "metadata": {
        "id": "leJGKWvXGDf7"
      },
      "outputs": [],
      "source": [
        "def predict_hatespeech(input, tokenizer, model):\n",
        "  model.eval()\n",
        "  encodings = tokenizer(input, return_tensors='pt', padding=True, truncation=True, max_length=128)\n",
        "\n",
        "  output = model(**encodings)\n",
        "  preds = torch.max(output, 1)\n",
        "\n",
        "  return {'prediction':preds[1], 'confidence':preds[0]}"
      ]
    },
    {
      "cell_type": "markdown",
      "id": "_y2mgB3-PQpI",
      "metadata": {
        "id": "_y2mgB3-PQpI"
      },
      "source": [
        "Now let's define a function that will evaluate our model on the test set we prepared."
      ]
    },
    {
      "cell_type": "code",
      "execution_count": null,
      "id": "2olq7egUHYnH",
      "metadata": {
        "id": "2olq7egUHYnH"
      },
      "outputs": [],
      "source": [
        "def evaluate(model, tokenizer, data_loader):\n",
        "\n",
        "  total_count = 0\n",
        "  correct_count = 0\n",
        "\n",
        "  preds = []\n",
        "  tot_labels = []\n",
        "\n",
        "  with torch.no_grad():\n",
        "    for data in tqdm(data_loader):\n",
        "\n",
        "      labels = {}\n",
        "      labels['label_a'] = data['label_a']\n",
        "\n",
        "      tweets = data['text']\n",
        "\n",
        "      pred = predict_hatespeech(tweets, tokenizer, model)\n",
        "\n",
        "      preds.append(pred['prediction'].tolist())\n",
        "      tot_labels.append(labels['label_a'].tolist())\n",
        "\n",
        "  # with the saved predictions and labels we can compute accuracy, precision, recall and f1-score\n",
        "  report = classification_report(tot_labels, preds, target_names=[\"Not offensive\",\"Offensive\"], output_dict= True)\n",
        "\n",
        "  return report"
      ]
    },
    {
      "cell_type": "code",
      "execution_count": null,
      "id": "Sps-kXvWeNoO",
      "metadata": {
        "id": "Sps-kXvWeNoO"
      },
      "outputs": [],
      "source": [
        "tokenizer = BertTokenizer.from_pretrained('bert-base-cased')\n",
        "\n",
        "#your saved model name here\n",
        "model_name = './models/ht_bert_finetuned/'\n",
        "model = BERT_hate_speech.from_pretrained(model_name)\n",
        "\n",
        "# we don't batch our test set unless it's too big\n",
        "test_loader = DataLoader(test_dataset)\n",
        "\n",
        "report = evaluate(model, tokenizer, test_loader)\n",
        "\n",
        "print(report)\n",
        "\n",
        "print(report['accuracy'])\n",
        "print(report['Not offensive']['f1-score'])\n",
        "print(report['Offensive']['f1-score'])"
      ]
    },
    {
      "cell_type": "markdown",
      "id": "g9eJi1IaOGZ6",
      "metadata": {
        "id": "g9eJi1IaOGZ6"
      },
      "source": [
        "Let's test our model on a few sentences to get an intuition. Feel free to play around."
      ]
    },
    {
      "cell_type": "code",
      "execution_count": null,
      "id": "49umxeBiK3Ec",
      "metadata": {
        "id": "49umxeBiK3Ec"
      },
      "outputs": [],
      "source": [
        "tokenizer = BertTokenizer.from_pretrained('bert-base-cased')\n",
        "model = BERT_hate_speech.from_pretrained('./models/ht_bert_finetuned/')\n",
        "\n",
        "print(predict_hatespeech(\"I go see pinguins at the zoo.\", tokenizer, model))\n",
        "print(predict_hatespeech(\"Bananas are stupid\", tokenizer, model))"
      ]
    },
    {
      "cell_type": "markdown",
      "id": "JaD0CmXMhEmA",
      "metadata": {
        "id": "JaD0CmXMhEmA"
      },
      "source": [
        "### Pre-training and finetuning BERT\n",
        "\n",
        "In this section, we will implement our own masked language modeling (MLM) training."
      ]
    },
    {
      "cell_type": "markdown",
      "id": "KmT9ztohfiW3",
      "metadata": {
        "id": "KmT9ztohfiW3"
      },
      "source": [
        "#### Pre-training"
      ]
    },
    {
      "cell_type": "markdown",
      "id": "9-mAsIUYZ7Ex",
      "metadata": {
        "id": "9-mAsIUYZ7Ex"
      },
      "source": [
        "**Question 1: Add MLM head for pretraining**\n",
        "Your task is to fill in the following classes to implement MLM training:\n",
        "\n",
        "* ``PretrainDataset()``\n",
        "* ``Trainer_MLM()``\n",
        "* ``BERT_pretrain()``\n",
        "* ``main_pretrain()``"
      ]
    },
    {
      "cell_type": "markdown",
      "id": "C-3Jvmryw-ko",
      "metadata": {
        "id": "C-3Jvmryw-ko"
      },
      "source": [
        "To train our model in a MLM fashion, we need to make some adjustment to our ``Dataset`` class. We want to train BERT to predict an X% of tokens (in the original paper it is 15%) of which 80% will be replaced by a ``[MASK]`` token, 10% with a random token and 10% remain the same token.\n",
        "\n",
        "We introduce the function ``mask_tokens`` that will take care of that."
      ]
    },
    {
      "cell_type": "code",
      "execution_count": null,
      "id": "differential-ordinary",
      "metadata": {
        "id": "differential-ordinary"
      },
      "outputs": [],
      "source": [
        "class PretrainDataset(torch.utils.data.Dataset):\n",
        "\n",
        "    def __init__(self, tokenizer, input_file):\n",
        "\n",
        "        self.tokenizer = tokenizer\n",
        "\n",
        "        self.texts = self.read_text(input_file)\n",
        "\n",
        "        self.mlm_probability = 0.15\n",
        "\n",
        "    def read_text(self, input_file):\n",
        "\n",
        "        ## Question 1 ##\n",
        "\n",
        "        fin = open(input_file)\n",
        "        return fin.readlines()\n",
        "\n",
        "    def collate_fn(self, batch):\n",
        "\n",
        "        ## Question 1 ##\n",
        "\n",
        "        batch = self.tokenizer(batch, return_tensors='pt', padding=True, truncation=True, max_length=128)\n",
        "\n",
        "        inputs, labels = self.mask_tokens(batch[\"input_ids\"])\n",
        "        return {\"input_ids\": inputs, \"labels\": labels}\n",
        "\n",
        "    def mask_tokens(self, inputs):\n",
        "        \"\"\"\n",
        "        Prepare masked tokens inputs/labels for masked language modeling: 80% MASK, 10% random, 10% original.\n",
        "        \"\"\"\n",
        "        if self.tokenizer.mask_token is None:\n",
        "            raise ValueError(\n",
        "                \"This tokenizer does not have a mask token which is necessary for masked language modeling. Remove the --mlm flag if you want to use this tokenizer.\"\n",
        "            )\n",
        "        labels = inputs.clone()\n",
        "\n",
        "        # We sample a few tokens in each sequence for masked-LM training (with probability args.mlm_probability defaults to 0.15 in Bert/RoBERTa)\n",
        "        probability_matrix = torch.full(labels.shape, self.mlm_probability)\n",
        "        special_tokens_mask = [\n",
        "            self.tokenizer.get_special_tokens_mask(val, already_has_special_tokens=True) for val in labels.tolist()\n",
        "        ]\n",
        "        probability_matrix.masked_fill_(torch.tensor(special_tokens_mask, dtype=torch.bool), value=0.0)\n",
        "\n",
        "        if self.tokenizer._pad_token is not None:\n",
        "            padding_mask = labels.eq(self.tokenizer.pad_token_id)\n",
        "            probability_matrix.masked_fill_(padding_mask, value=0.0)\n",
        "        masked_indices = torch.bernoulli(probability_matrix).bool()\n",
        "        labels[~masked_indices] = -100  # We only compute loss on masked tokens\n",
        "\n",
        "        # 80% of the time, we replace masked input tokens with tokenizer.mask_token ([MASK])\n",
        "        indices_replaced = torch.bernoulli(torch.full(labels.shape, 0.8)).bool() & masked_indices\n",
        "        inputs[indices_replaced] = self.tokenizer.convert_tokens_to_ids(self.tokenizer.mask_token)\n",
        "\n",
        "        # 10% of the time, we replace masked input tokens with random word\n",
        "        indices_random = torch.bernoulli(torch.full(labels.shape, 0.5)).bool() & masked_indices & ~indices_replaced\n",
        "        random_words = torch.randint(len(self.tokenizer), labels.shape, dtype=torch.long)\n",
        "        inputs[indices_random] = random_words[indices_random]\n",
        "\n",
        "        # The rest of the time (10% of the time) we keep the masked input tokens unchanged\n",
        "        return inputs, labels\n",
        "\n",
        "    def __len__(self):\n",
        "\n",
        "        ## Question 1 ##\n",
        "\n",
        "        return len(self.texts)\n",
        "\n",
        "    def __getitem__(self, idx):\n",
        "\n",
        "        ## Question 1 ##\n",
        "\n",
        "        text = self.texts[idx]\n",
        "        return text"
      ]
    },
    {
      "cell_type": "markdown",
      "id": "-4yxeOG1Z94H",
      "metadata": {
        "id": "-4yxeOG1Z94H"
      },
      "source": [
        "The next step is to add a MLM head to our model.\n",
        "Use the ``BertOnlyMLMHead`` to add a MLM classifier to BERT."
      ]
    },
    {
      "cell_type": "code",
      "execution_count": null,
      "id": "beginning-fluid",
      "metadata": {
        "id": "beginning-fluid"
      },
      "outputs": [],
      "source": [
        "from transformers.models.bert.modeling_bert import BertOnlyMLMHead\n",
        "\n",
        "class BERT_pretrain(BertPreTrainedModel):\n",
        "\n",
        "    def __init__(self, config):\n",
        "        super().__init__(config)\n",
        "        self.config = config\n",
        "\n",
        "        ## Question 1 ##\n",
        "        # BERT Model\n",
        "        self.bert = BertModel(config)\n",
        "\n",
        "\n",
        "        ## Question 1 ##\n",
        "        # MLM head\n",
        "        self.cls = BertOnlyMLMHead(config)\n",
        "\n",
        "\n",
        "\n",
        "        self.init_weights()\n",
        "\n",
        "    def forward(\n",
        "        self,\n",
        "        input_ids=None,\n",
        "        attention_mask=None,\n",
        "        token_type_ids=None,\n",
        "        position_ids=None,\n",
        "        head_mask=None,\n",
        "        inputs_embeds=None,\n",
        "        labels=None,\n",
        "        output_attentions=None,\n",
        "        output_hidden_states=None,\n",
        "        return_dict=None):\n",
        "\n",
        "        outputs = self.bert(\n",
        "            input_ids,\n",
        "            attention_mask=attention_mask,\n",
        "            token_type_ids=token_type_ids,\n",
        "            position_ids=position_ids,\n",
        "            head_mask=head_mask,\n",
        "            inputs_embeds=inputs_embeds,\n",
        "            output_attentions=output_attentions,\n",
        "            output_hidden_states=output_hidden_states,\n",
        "            return_dict=return_dict,\n",
        "        )\n",
        "\n",
        "        ## Question 1 ##\n",
        "\n",
        "        # MLM output\n",
        "        prediction_scores = self.cls(outputs[0])\n",
        "\n",
        "        return prediction_scores"
      ]
    },
    {
      "cell_type": "markdown",
      "id": "46_QOzQfLgME",
      "metadata": {
        "id": "46_QOzQfLgME"
      },
      "source": [
        "We will define a new Trainer class for pre-training.\n",
        "\n",
        "**Note:** We could use the standard ``Trainer`` class to train our model. Then we would need to make ``BERT_pretrain`` output  ``loss`` and BERT ``outputs`` as a tuple``(loss, outputs)``.\n",
        "\n",
        "\n"
      ]
    },
    {
      "cell_type": "code",
      "execution_count": null,
      "id": "xoG-AvUdzyqt",
      "metadata": {
        "id": "xoG-AvUdzyqt"
      },
      "outputs": [],
      "source": [
        "class Trainer_MLM(Trainer):\n",
        "    def compute_loss(self, model, inputs):\n",
        "\n",
        "        labels = inputs['labels']\n",
        "\n",
        "        outputs = model(**inputs)\n",
        "\n",
        "        # MLM loss\n",
        "        lm_loss = nn.CrossEntropyLoss()\n",
        "\n",
        "        loss_mlm = lm_loss(outputs.view(-1, model.config.vocab_size), labels.view(-1))\n",
        "\n",
        "        loss = loss_mlm\n",
        "\n",
        "        return loss"
      ]
    },
    {
      "cell_type": "markdown",
      "id": "q3xGoHTSh-Yu",
      "metadata": {
        "id": "q3xGoHTSh-Yu"
      },
      "source": [
        "Finally, put everything together in the ``main_pretrain()`` class.\n",
        "\n",
        "In the code below, write code to pre-train your custom MLM model on ``pretrain.txt`` file found in the ``data`` folder.\n",
        "\n",
        "\n",
        "\n"
      ]
    },
    {
      "cell_type": "code",
      "execution_count": null,
      "id": "familiar-singles",
      "metadata": {
        "id": "familiar-singles"
      },
      "outputs": [],
      "source": [
        "def main_pretrain():\n",
        "\n",
        "    ## Question 1 ##\n",
        "\n",
        "    model = BERT_pretrain.from_pretrained(\"bert-base-cased\")\n",
        "\n",
        "    tokenizer = BertTokenizer.from_pretrained('bert-base-cased')\n",
        "    pretrain_dataset = PretrainDataset(tokenizer, 'data/pretrain.txt')\n",
        "\n",
        "    training_args = TrainingArguments(\n",
        "        output_dir='./experiment/pretrain',\n",
        "        learning_rate = 0.00005,\n",
        "        num_train_epochs =1,\n",
        "        save_steps = 10000,  #saves a checkpoint file every 10000 iterations\n",
        "        per_device_train_batch_size=64,\n",
        "        remove_unused_columns=False\n",
        "    )\n",
        "    trainer = Trainer_MLM(\n",
        "        model=model,\n",
        "        args=training_args,\n",
        "        train_dataset=pretrain_dataset,\n",
        "        data_collator=pretrain_dataset.collate_fn\n",
        "    )\n",
        "\n",
        "    trainer.train()\n",
        "\n",
        "    trainer.save_model('./models/ht_bert_pretrained/')\n"
      ]
    },
    {
      "cell_type": "markdown",
      "id": "4-tsbImSJvyf",
      "metadata": {
        "id": "4-tsbImSJvyf"
      },
      "source": [
        "Running the pretraining will take ~ 2 hours with one epoch."
      ]
    },
    {
      "cell_type": "code",
      "execution_count": null,
      "id": "greenhouse-signal",
      "metadata": {
        "id": "greenhouse-signal"
      },
      "outputs": [],
      "source": [
        " main_pretrain()"
      ]
    },
    {
      "cell_type": "markdown",
      "id": "incorporated-sleep",
      "metadata": {
        "id": "incorporated-sleep"
      },
      "source": [
        "#### Finetuning\n",
        "\n",
        "**Question 2: Load the pretrained model for finetuning**\n",
        "\n",
        "In the code below modify the ``main_hate_speech`` function from earlier to import the model we just trained, and finetune it on our ``OlidDataset`` train sets.\n",
        "\n",
        "**Note**: Your pre-trained model is saved as checkpoint files in your ``output_dir`` folder."
      ]
    },
    {
      "cell_type": "code",
      "execution_count": null,
      "id": "metropolitan-cliff",
      "metadata": {
        "id": "metropolitan-cliff"
      },
      "outputs": [],
      "source": [
        "def main_hate_speech():\n",
        "\n",
        "    ## Question 2 ##\n",
        "\n",
        "    model = BERT_hate_speech.from_pretrained(\"./models/ht_bert_pretrained/\")\n",
        "\n",
        "    training_args = TrainingArguments(\n",
        "        output_dir='./experiment/hate_speech',\n",
        "        learning_rate = 0.0001,\n",
        "        logging_steps= 500,\n",
        "        per_device_train_batch_size=32,\n",
        "        num_train_epochs = 1,\n",
        "        remove_unused_columns=False\n",
        "    )\n",
        "    \n",
        "    trainer = Trainer_hate_speech(\n",
        "        model=model,\n",
        "        args=training_args,\n",
        "        train_dataset=train_dataset,\n",
        "        eval_dataset=test_dataset,\n",
        "        data_collator=train_dataset.collate_fn\n",
        "    )\n",
        "\n",
        "    trainer.train()\n",
        "\n",
        "    trainer.save_model('./models/ht_bert_pretrained_finetuned/')\n"
      ]
    },
    {
      "cell_type": "code",
      "execution_count": null,
      "id": "simplified-exemption",
      "metadata": {
        "id": "simplified-exemption"
      },
      "outputs": [],
      "source": [
        "main_hate_speech()"
      ]
    },
    {
      "cell_type": "markdown",
      "id": "8eqtu-ECSaUO",
      "metadata": {
        "id": "8eqtu-ECSaUO"
      },
      "source": [
        "#### Evaluation"
      ]
    },
    {
      "cell_type": "code",
      "execution_count": null,
      "id": "qCC3iV37M7np",
      "metadata": {
        "id": "qCC3iV37M7np"
      },
      "outputs": [],
      "source": [
        "tokenizer = BertTokenizer.from_pretrained('bert-base-cased')\n",
        "\n",
        "#your saved model name here\n",
        "model_name = './models/ht_bert_pretrained_finetuned/'\n",
        "model = BERT_hate_speech.from_pretrained(model_name)\n",
        "\n",
        "test_loader = DataLoader(test_dataset)\n",
        "\n",
        "report = evaluate(model, tokenizer, test_loader)\n",
        "print(report)\n",
        "print(report['accuracy'])\n",
        "print(report['Not offensive']['f1-score'])\n",
        "print(report['Offensive']['f1-score'])"
      ]
    },
    {
      "cell_type": "markdown",
      "id": "existing-courtesy",
      "metadata": {
        "id": "existing-courtesy"
      },
      "source": [
        "## Multi-task Hate Speech Classification\n",
        "\n",
        "It's time to add the two other tasks to our implementation of ``BERT_hate_speech()``.\n",
        "\n",
        "**Question 3: Add multi-heads (task b, task c) for multi-task hatespeech classification**\n",
        "\n",
        "Fill in the missing code from the following classes:\n",
        "\n",
        "* ``BERT_hate_speech_multitask()``\n",
        "* `` Trainer_hate_speech_multitask()``\n",
        "* ``main_hate_speech_multitask()``"
      ]
    },
    {
      "cell_type": "markdown",
      "id": "9ogHc8w4Kyew",
      "metadata": {
        "id": "9ogHc8w4Kyew"
      },
      "source": [
        "### Multi-task Model"
      ]
    },
    {
      "cell_type": "code",
      "execution_count": null,
      "id": "personalized-teddy",
      "metadata": {
        "id": "personalized-teddy"
      },
      "outputs": [],
      "source": [
        "\n",
        "class BERT_hate_speech_multitask(BertPreTrainedModel):\n",
        "\n",
        "    def __init__(self, config):\n",
        "        super().__init__(config)\n",
        "\n",
        "        # BERT Model\n",
        "        self.bert = BertModel(config)\n",
        "\n",
        "        # Task A\n",
        "        self.projection_a = torch.nn.Sequential(torch.nn.Dropout(0.2),\n",
        "                                                torch.nn.Linear(config.hidden_size, 2))\n",
        "\n",
        "        ##  Question 3 ##\n",
        "\n",
        "        # Task B\n",
        "        self.projection_b = torch.nn.Sequential(torch.nn.Dropout(0.2),\n",
        "                                                torch.nn.Linear(config.hidden_size, 3))\n",
        "\n",
        "        # Task C\n",
        "        self.projection_c = torch.nn.Sequential(torch.nn.Dropout(0.2),\n",
        "                                                torch.nn.Linear(config.hidden_size, 4))\n",
        "\n",
        "        self.init_weights()\n",
        "\n",
        "    def forward(\n",
        "        self,\n",
        "        input_ids=None,\n",
        "        attention_mask=None,\n",
        "        token_type_ids=None,\n",
        "        position_ids=None,\n",
        "        head_mask=None,\n",
        "        inputs_embeds=None,\n",
        "        labels=None,\n",
        "        output_attentions=None,\n",
        "        output_hidden_states=None,\n",
        "        return_dict=None):\n",
        "\n",
        "        outputs = self.bert(\n",
        "            input_ids,\n",
        "            attention_mask=attention_mask,\n",
        "            token_type_ids=token_type_ids,\n",
        "            position_ids=position_ids,\n",
        "            head_mask=head_mask,\n",
        "            inputs_embeds=inputs_embeds,\n",
        "            output_attentions=output_attentions,\n",
        "            output_hidden_states=output_hidden_states,\n",
        "            return_dict=return_dict,\n",
        "        )\n",
        "\n",
        "        # Task A\n",
        "        logits_a = self.projection_a(outputs[1])\n",
        "\n",
        "        ##  Question 3 ##\n",
        "\n",
        "        # Task B\n",
        "        logits_b = self.projection_b(outputs[1])\n",
        "\n",
        "        # Task C\n",
        "        logits_c = self.projection_c(outputs[1])\n",
        "\n",
        "        return (logits_a, logits_b, logits_c)"
      ]
    },
    {
      "cell_type": "code",
      "execution_count": null,
      "id": "lwCad-uo1pnP",
      "metadata": {
        "id": "lwCad-uo1pnP"
      },
      "outputs": [],
      "source": [
        "class Trainer_hate_speech_multitask(Trainer):\n",
        "    def compute_loss(self, model, inputs):\n",
        "        labels = {}\n",
        "        labels['label_a'] = inputs.pop('label_a')\n",
        "        labels['label_b'] = inputs.pop('label_b')\n",
        "        labels['label_c'] = inputs.pop('label_c')\n",
        "\n",
        "        (out_a, out_b, out_c) = model(**inputs)\n",
        "\n",
        "        # LOSS A\n",
        "        loss_task_a = nn.CrossEntropyLoss()\n",
        "        labels_a = labels['label_a']\n",
        "        loss_a = loss_task_a(out_a.view(-1, 2), labels_a.view(-1))\n",
        "\n",
        "        ## QUESTION 3 ##\n",
        "        # LOSS B\n",
        "        loss_task_b = nn.CrossEntropyLoss()\n",
        "        labels_b = labels['label_b']\n",
        "        loss_b = loss_task_b(out_b.view(-1, 3), labels_b.view(-1))\n",
        "\n",
        "        # LOSS C\n",
        "        loss_task_c = nn.CrossEntropyLoss()\n",
        "        labels_c = labels['label_c']\n",
        "        loss_c = loss_task_c(out_c.view(-1, 4), labels_c.view(-1))\n",
        "\n",
        "        loss = loss_a + loss_b + loss_c\n",
        "\n",
        "        return loss"
      ]
    },
    {
      "cell_type": "markdown",
      "id": "LSA-HdbWjpAl",
      "metadata": {
        "id": "LSA-HdbWjpAl"
      },
      "source": [
        "Just as in the finetuning task, instantiate a ``BERT_hate_speech_multitask`` model from an pre-trained model and finetune it on our ``train_dataset``."
      ]
    },
    {
      "cell_type": "code",
      "execution_count": null,
      "id": "satisfied-short",
      "metadata": {
        "id": "satisfied-short"
      },
      "outputs": [],
      "source": [
        "def main_hate_speech_multitask():\n",
        "    ##  Question 3 ##\n",
        "\n",
        "    model = BERT_hate_speech_multitask.from_pretrained(\"bert-base-cased\")\n",
        "\n",
        "    training_args = TrainingArguments(\n",
        "        output_dir='./experiment/hate_speech_multitask',\n",
        "        learning_rate = 0.0001,\n",
        "        logging_steps= 100,\n",
        "        num_train_epochs = 3,\n",
        "        per_device_train_batch_size=64,\n",
        "        remove_unused_columns=False\n",
        "    )\n",
        "    trainer = Trainer_hate_speech_multitask(\n",
        "        model=model,\n",
        "        args=training_args,\n",
        "        train_dataset=train_dataset,\n",
        "        data_collator=train_dataset.collate_fn\n",
        "    )\n",
        "    trainer.train()\n",
        "\n",
        "    trainer.save_model('./models/ht_bert_multi_finetuned/')"
      ]
    },
    {
      "cell_type": "markdown",
      "id": "-P1ekYHaqPwR",
      "metadata": {
        "id": "-P1ekYHaqPwR"
      },
      "source": [
        "Running the code below should take ~10 min for 3 epochs."
      ]
    },
    {
      "cell_type": "code",
      "execution_count": null,
      "id": "wrapped-trading",
      "metadata": {
        "id": "wrapped-trading"
      },
      "outputs": [],
      "source": [
        "main_hate_speech_multitask()"
      ]
    },
    {
      "cell_type": "markdown",
      "id": "p2EFyb3rKtVB",
      "metadata": {
        "id": "p2EFyb3rKtVB"
      },
      "source": [
        "### Evaluation"
      ]
    },
    {
      "cell_type": "code",
      "execution_count": null,
      "id": "8EtaoYYGJ6J2",
      "metadata": {
        "id": "8EtaoYYGJ6J2"
      },
      "outputs": [],
      "source": [
        "def predict_hatespeech_multitask(input, tokenizer, model):\n",
        "  model.eval()\n",
        "  encodings = tokenizer(input, return_tensors='pt', padding=True, truncation=True, max_length=128)\n",
        "\n",
        "  (out1, out2, out3) = model(**encodings)\n",
        "\n",
        "  preds_a = torch.max(out1, 1)\n",
        "  preds_b = torch.max(out2, 1)\n",
        "  preds_c = torch.max(out3, 1)\n",
        "\n",
        "  preds = (preds_a[1], preds_b[1], preds_c[1])\n",
        "  scores = (preds_a[0], preds_b[0], preds_c[0])\n",
        "\n",
        "  return {'predictions':preds, 'confidences':scores}"
      ]
    },
    {
      "cell_type": "code",
      "execution_count": null,
      "id": "z5pIqvWoLbDy",
      "metadata": {
        "id": "z5pIqvWoLbDy"
      },
      "outputs": [],
      "source": [
        "def evaluate_multitask(model, tokenizer, data_loader):\n",
        "\n",
        "  task_num = 3\n",
        "  total_count = 0\n",
        "  correct_count = [0] * task_num\n",
        "  accuracies = [0] * task_num\n",
        "\n",
        "  batch_size = data_loader.batch_size\n",
        "\n",
        "  with torch.no_grad():\n",
        "    for data in tqdm(data_loader):\n",
        "\n",
        "      labels = {}\n",
        "      labels['label_a'] = data['label_a']\n",
        "      labels['label_b'] = data['label_b']\n",
        "      labels['label_c'] = data['label_c']\n",
        "\n",
        "      tweets = data['text']\n",
        "\n",
        "      pred = predict_hatespeech_multitask(tweets, tokenizer, model)\n",
        "\n",
        "      preds = pred['predictions']\n",
        "\n",
        "      for i, label in enumerate(labels):\n",
        "        correct_count[i]+= torch.mean((preds[i] == labels[label]).float())\n",
        "\n",
        "      total_count += batch_size\n",
        "\n",
        "    for i, label in enumerate(labels):\n",
        "      accuracies[i] = (correct_count[i]/total_count)\n",
        "\n",
        "\n",
        "  return accuracies"
      ]
    },
    {
      "cell_type": "code",
      "execution_count": null,
      "id": "P24QVnAULiMd",
      "metadata": {
        "id": "P24QVnAULiMd"
      },
      "outputs": [],
      "source": [
        "\n",
        "model = BERT_hate_speech_multitask.from_pretrained(\"./models/ht_bert_multi_finetuned/\")\n",
        "tokenizer = BertTokenizer.from_pretrained('bert-base-cased')\n",
        "\n",
        "test_loader = DataLoader(test_dataset)\n",
        "\n",
        "accuracies = evaluate_multitask(model, tokenizer, test_loader)\n"
      ]
    },
    {
      "cell_type": "code",
      "execution_count": null,
      "id": "-h8pw9i8L8NJ",
      "metadata": {
        "id": "-h8pw9i8L8NJ"
      },
      "outputs": [],
      "source": [
        "for i in range(3):\n",
        "    print('Task %d accuracy: %2.2f %%' % (i, 100.0*accuracies[i]))\n"
      ]
    },
    {
      "cell_type": "code",
      "execution_count": null,
      "id": "yA_vw43f-UX4",
      "metadata": {
        "id": "yA_vw43f-UX4"
      },
      "outputs": [],
      "source": [
        "print(predict_hatespeech_multitask(\"I go see pinguins at the zoo.\", tokenizer, model)['predictions'])\n",
        "print(predict_hatespeech_multitask(\"Bananas are so stupid \", tokenizer, model)['predictions'])"
      ]
    }
  ],
  "metadata": {
    "accelerator": "GPU",
    "colab": {
      "name": "Lab 06: Bert - Solutions.ipynb",
      "provenance": [],
      "toc_visible": true
    },
    "kernelspec": {
      "display_name": "Python 3.8.16 64-bit ('py38_pytorch')",
      "language": "python",
      "name": "python3"
    },
    "language_info": {
      "codemirror_mode": {
        "name": "ipython",
        "version": 3
      },
      "file_extension": ".py",
      "mimetype": "text/x-python",
      "name": "python",
      "nbconvert_exporter": "python",
      "pygments_lexer": "ipython3",
      "version": "3.10.12"
    },
    "vscode": {
      "interpreter": {
        "hash": "ff27035c8dc0a26468b79942def09685664b2e815f4bca7e9395dcaceb48c986"
      }
    }
  },
  "nbformat": 4,
  "nbformat_minor": 5
}
